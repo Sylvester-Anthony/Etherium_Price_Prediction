{
  "nbformat": 4,
  "nbformat_minor": 0,
  "metadata": {
    "colab": {
      "name": "Etherium_Price_Prediction.ipynb",
      "provenance": [],
      "collapsed_sections": []
    },
    "kernelspec": {
      "name": "python3",
      "display_name": "Python 3"
    },
    "language_info": {
      "name": "python"
    },
    "accelerator": "GPU"
  },
  "cells": [
    {
      "cell_type": "markdown",
      "source": [
        "Loading the required libraries"
      ],
      "metadata": {
        "id": "f5fs-Ef7ztFy"
      }
    },
    {
      "cell_type": "code",
      "source": [
        "import numpy as np\n",
        "import pandas as pd\n",
        "import matplotlib.pyplot as plt\n",
        "import seaborn as sns\n",
        "import seaborn as sns\n",
        "import plotly.express as px\n",
        "import plotly.graph_objects as go"
      ],
      "metadata": {
        "id": "EgCt4D2_om0p"
      },
      "execution_count": null,
      "outputs": []
    },
    {
      "cell_type": "markdown",
      "source": [
        "\n",
        "\n",
        "Read a train.csv file and store data as dataframes in train_df variable for further process.\n",
        "To verify data is successfully stored in train_df variable printed the top 10 data using head() function\n",
        "\n",
        "\n"
      ],
      "metadata": {
        "id": "qnXCIM_DCt1a"
      }
    },
    {
      "cell_type": "code",
      "source": [
        "train_df = pd.read_csv('/content/train/train.csv')\n",
        "train_df.head(10)"
      ],
      "metadata": {
        "colab": {
          "base_uri": "https://localhost:8080/",
          "height": 363
        },
        "outputId": "d0cb29f9-72c9-4bf1-8e98-e92b472c37ac",
        "id": "keU9ducwRhFN"
      },
      "execution_count": null,
      "outputs": [
        {
          "output_type": "execute_result",
          "data": {
            "text/html": [
              "\n",
              "  <div id=\"df-82c61234-9b81-4a07-86f0-5fe124c76948\">\n",
              "    <div class=\"colab-df-container\">\n",
              "      <div>\n",
              "<style scoped>\n",
              "    .dataframe tbody tr th:only-of-type {\n",
              "        vertical-align: middle;\n",
              "    }\n",
              "\n",
              "    .dataframe tbody tr th {\n",
              "        vertical-align: top;\n",
              "    }\n",
              "\n",
              "    .dataframe thead th {\n",
              "        text-align: right;\n",
              "    }\n",
              "</style>\n",
              "<table border=\"1\" class=\"dataframe\">\n",
              "  <thead>\n",
              "    <tr style=\"text-align: right;\">\n",
              "      <th></th>\n",
              "      <th>timestamp</th>\n",
              "      <th>Asset_ID</th>\n",
              "      <th>Count</th>\n",
              "      <th>Open</th>\n",
              "      <th>High</th>\n",
              "      <th>Low</th>\n",
              "      <th>Close</th>\n",
              "      <th>Volume</th>\n",
              "      <th>VWAP</th>\n",
              "      <th>Target</th>\n",
              "    </tr>\n",
              "  </thead>\n",
              "  <tbody>\n",
              "    <tr>\n",
              "      <th>0</th>\n",
              "      <td>1514764860</td>\n",
              "      <td>2</td>\n",
              "      <td>40.0</td>\n",
              "      <td>2376.580000</td>\n",
              "      <td>2399.5000</td>\n",
              "      <td>2357.1400</td>\n",
              "      <td>2374.590000</td>\n",
              "      <td>19.233005</td>\n",
              "      <td>2373.116392</td>\n",
              "      <td>-0.004218</td>\n",
              "    </tr>\n",
              "    <tr>\n",
              "      <th>1</th>\n",
              "      <td>1514764860</td>\n",
              "      <td>0</td>\n",
              "      <td>5.0</td>\n",
              "      <td>8.530000</td>\n",
              "      <td>8.5300</td>\n",
              "      <td>8.5300</td>\n",
              "      <td>8.530000</td>\n",
              "      <td>78.380000</td>\n",
              "      <td>8.530000</td>\n",
              "      <td>-0.014399</td>\n",
              "    </tr>\n",
              "    <tr>\n",
              "      <th>2</th>\n",
              "      <td>1514764860</td>\n",
              "      <td>1</td>\n",
              "      <td>229.0</td>\n",
              "      <td>13835.194000</td>\n",
              "      <td>14013.8000</td>\n",
              "      <td>13666.1100</td>\n",
              "      <td>13850.176000</td>\n",
              "      <td>31.550062</td>\n",
              "      <td>13827.062093</td>\n",
              "      <td>-0.014643</td>\n",
              "    </tr>\n",
              "    <tr>\n",
              "      <th>3</th>\n",
              "      <td>1514764860</td>\n",
              "      <td>5</td>\n",
              "      <td>32.0</td>\n",
              "      <td>7.659600</td>\n",
              "      <td>7.6596</td>\n",
              "      <td>7.6567</td>\n",
              "      <td>7.657600</td>\n",
              "      <td>6626.713370</td>\n",
              "      <td>7.657713</td>\n",
              "      <td>-0.013922</td>\n",
              "    </tr>\n",
              "    <tr>\n",
              "      <th>4</th>\n",
              "      <td>1514764860</td>\n",
              "      <td>7</td>\n",
              "      <td>5.0</td>\n",
              "      <td>25.920000</td>\n",
              "      <td>25.9200</td>\n",
              "      <td>25.8740</td>\n",
              "      <td>25.877000</td>\n",
              "      <td>121.087310</td>\n",
              "      <td>25.891363</td>\n",
              "      <td>-0.008264</td>\n",
              "    </tr>\n",
              "    <tr>\n",
              "      <th>5</th>\n",
              "      <td>1514764860</td>\n",
              "      <td>6</td>\n",
              "      <td>173.0</td>\n",
              "      <td>738.302500</td>\n",
              "      <td>746.0000</td>\n",
              "      <td>732.5100</td>\n",
              "      <td>738.507500</td>\n",
              "      <td>335.987856</td>\n",
              "      <td>738.839291</td>\n",
              "      <td>-0.004809</td>\n",
              "    </tr>\n",
              "    <tr>\n",
              "      <th>6</th>\n",
              "      <td>1514764860</td>\n",
              "      <td>9</td>\n",
              "      <td>167.0</td>\n",
              "      <td>225.330000</td>\n",
              "      <td>227.7800</td>\n",
              "      <td>222.9800</td>\n",
              "      <td>225.206667</td>\n",
              "      <td>411.896642</td>\n",
              "      <td>225.197944</td>\n",
              "      <td>-0.009791</td>\n",
              "    </tr>\n",
              "    <tr>\n",
              "      <th>7</th>\n",
              "      <td>1514764860</td>\n",
              "      <td>11</td>\n",
              "      <td>7.0</td>\n",
              "      <td>329.090000</td>\n",
              "      <td>329.8800</td>\n",
              "      <td>329.0900</td>\n",
              "      <td>329.460000</td>\n",
              "      <td>6.635710</td>\n",
              "      <td>329.454118</td>\n",
              "      <td>NaN</td>\n",
              "    </tr>\n",
              "    <tr>\n",
              "      <th>8</th>\n",
              "      <td>1514764920</td>\n",
              "      <td>2</td>\n",
              "      <td>53.0</td>\n",
              "      <td>2374.553333</td>\n",
              "      <td>2400.9000</td>\n",
              "      <td>2354.2000</td>\n",
              "      <td>2372.286667</td>\n",
              "      <td>24.050259</td>\n",
              "      <td>2371.434498</td>\n",
              "      <td>-0.004079</td>\n",
              "    </tr>\n",
              "    <tr>\n",
              "      <th>9</th>\n",
              "      <td>1514764920</td>\n",
              "      <td>0</td>\n",
              "      <td>7.0</td>\n",
              "      <td>8.530000</td>\n",
              "      <td>8.5300</td>\n",
              "      <td>8.5145</td>\n",
              "      <td>8.514500</td>\n",
              "      <td>71.390000</td>\n",
              "      <td>8.520215</td>\n",
              "      <td>-0.015875</td>\n",
              "    </tr>\n",
              "  </tbody>\n",
              "</table>\n",
              "</div>\n",
              "      <button class=\"colab-df-convert\" onclick=\"convertToInteractive('df-82c61234-9b81-4a07-86f0-5fe124c76948')\"\n",
              "              title=\"Convert this dataframe to an interactive table.\"\n",
              "              style=\"display:none;\">\n",
              "        \n",
              "  <svg xmlns=\"http://www.w3.org/2000/svg\" height=\"24px\"viewBox=\"0 0 24 24\"\n",
              "       width=\"24px\">\n",
              "    <path d=\"M0 0h24v24H0V0z\" fill=\"none\"/>\n",
              "    <path d=\"M18.56 5.44l.94 2.06.94-2.06 2.06-.94-2.06-.94-.94-2.06-.94 2.06-2.06.94zm-11 1L8.5 8.5l.94-2.06 2.06-.94-2.06-.94L8.5 2.5l-.94 2.06-2.06.94zm10 10l.94 2.06.94-2.06 2.06-.94-2.06-.94-.94-2.06-.94 2.06-2.06.94z\"/><path d=\"M17.41 7.96l-1.37-1.37c-.4-.4-.92-.59-1.43-.59-.52 0-1.04.2-1.43.59L10.3 9.45l-7.72 7.72c-.78.78-.78 2.05 0 2.83L4 21.41c.39.39.9.59 1.41.59.51 0 1.02-.2 1.41-.59l7.78-7.78 2.81-2.81c.8-.78.8-2.07 0-2.86zM5.41 20L4 18.59l7.72-7.72 1.47 1.35L5.41 20z\"/>\n",
              "  </svg>\n",
              "      </button>\n",
              "      \n",
              "  <style>\n",
              "    .colab-df-container {\n",
              "      display:flex;\n",
              "      flex-wrap:wrap;\n",
              "      gap: 12px;\n",
              "    }\n",
              "\n",
              "    .colab-df-convert {\n",
              "      background-color: #E8F0FE;\n",
              "      border: none;\n",
              "      border-radius: 50%;\n",
              "      cursor: pointer;\n",
              "      display: none;\n",
              "      fill: #1967D2;\n",
              "      height: 32px;\n",
              "      padding: 0 0 0 0;\n",
              "      width: 32px;\n",
              "    }\n",
              "\n",
              "    .colab-df-convert:hover {\n",
              "      background-color: #E2EBFA;\n",
              "      box-shadow: 0px 1px 2px rgba(60, 64, 67, 0.3), 0px 1px 3px 1px rgba(60, 64, 67, 0.15);\n",
              "      fill: #174EA6;\n",
              "    }\n",
              "\n",
              "    [theme=dark] .colab-df-convert {\n",
              "      background-color: #3B4455;\n",
              "      fill: #D2E3FC;\n",
              "    }\n",
              "\n",
              "    [theme=dark] .colab-df-convert:hover {\n",
              "      background-color: #434B5C;\n",
              "      box-shadow: 0px 1px 3px 1px rgba(0, 0, 0, 0.15);\n",
              "      filter: drop-shadow(0px 1px 2px rgba(0, 0, 0, 0.3));\n",
              "      fill: #FFFFFF;\n",
              "    }\n",
              "  </style>\n",
              "\n",
              "      <script>\n",
              "        const buttonEl =\n",
              "          document.querySelector('#df-82c61234-9b81-4a07-86f0-5fe124c76948 button.colab-df-convert');\n",
              "        buttonEl.style.display =\n",
              "          google.colab.kernel.accessAllowed ? 'block' : 'none';\n",
              "\n",
              "        async function convertToInteractive(key) {\n",
              "          const element = document.querySelector('#df-82c61234-9b81-4a07-86f0-5fe124c76948');\n",
              "          const dataTable =\n",
              "            await google.colab.kernel.invokeFunction('convertToInteractive',\n",
              "                                                     [key], {});\n",
              "          if (!dataTable) return;\n",
              "\n",
              "          const docLinkHtml = 'Like what you see? Visit the ' +\n",
              "            '<a target=\"_blank\" href=https://colab.research.google.com/notebooks/data_table.ipynb>data table notebook</a>'\n",
              "            + ' to learn more about interactive tables.';\n",
              "          element.innerHTML = '';\n",
              "          dataTable['output_type'] = 'display_data';\n",
              "          await google.colab.output.renderOutput(dataTable, element);\n",
              "          const docLink = document.createElement('div');\n",
              "          docLink.innerHTML = docLinkHtml;\n",
              "          element.appendChild(docLink);\n",
              "        }\n",
              "      </script>\n",
              "    </div>\n",
              "  </div>\n",
              "  "
            ],
            "text/plain": [
              "    timestamp  Asset_ID  Count  ...       Volume          VWAP    Target\n",
              "0  1514764860         2   40.0  ...    19.233005   2373.116392 -0.004218\n",
              "1  1514764860         0    5.0  ...    78.380000      8.530000 -0.014399\n",
              "2  1514764860         1  229.0  ...    31.550062  13827.062093 -0.014643\n",
              "3  1514764860         5   32.0  ...  6626.713370      7.657713 -0.013922\n",
              "4  1514764860         7    5.0  ...   121.087310     25.891363 -0.008264\n",
              "5  1514764860         6  173.0  ...   335.987856    738.839291 -0.004809\n",
              "6  1514764860         9  167.0  ...   411.896642    225.197944 -0.009791\n",
              "7  1514764860        11    7.0  ...     6.635710    329.454118       NaN\n",
              "8  1514764920         2   53.0  ...    24.050259   2371.434498 -0.004079\n",
              "9  1514764920         0    7.0  ...    71.390000      8.520215 -0.015875\n",
              "\n",
              "[10 rows x 10 columns]"
            ]
          },
          "metadata": {},
          "execution_count": 4
        }
      ]
    },
    {
      "cell_type": "markdown",
      "source": [
        "Creating a copy is a good practice as it stores the original data securely. So crating a copy of train_df.\n",
        "\n"
      ],
      "metadata": {
        "id": "0-uWrk1nzzBW"
      }
    },
    {
      "cell_type": "code",
      "source": [
        "crypto_data_train = train_df.copy()"
      ],
      "metadata": {
        "id": "uhfBEevj67A5"
      },
      "execution_count": null,
      "outputs": []
    },
    {
      "cell_type": "markdown",
      "source": [
        "Read a asset_details.csv file and store data as dataframes in asset_details variable for further process.\n",
        "To verify data is successfully stored in train_df variable printed the data."
      ],
      "metadata": {
        "id": "nz4QLtDLEx6c"
      }
    },
    {
      "cell_type": "code",
      "source": [
        "asset_details = pd.read_csv('/content/asset_details.csv')\n",
        "asset_details"
      ],
      "metadata": {
        "colab": {
          "base_uri": "https://localhost:8080/",
          "height": 488
        },
        "id": "hEGjK_Nd7I7B",
        "outputId": "46c1bae8-e1be-4d5b-dbfa-babc793e7191"
      },
      "execution_count": null,
      "outputs": [
        {
          "output_type": "execute_result",
          "data": {
            "text/html": [
              "\n",
              "  <div id=\"df-4af5dc3a-d54c-4ad0-8d63-75c1887c7cfa\">\n",
              "    <div class=\"colab-df-container\">\n",
              "      <div>\n",
              "<style scoped>\n",
              "    .dataframe tbody tr th:only-of-type {\n",
              "        vertical-align: middle;\n",
              "    }\n",
              "\n",
              "    .dataframe tbody tr th {\n",
              "        vertical-align: top;\n",
              "    }\n",
              "\n",
              "    .dataframe thead th {\n",
              "        text-align: right;\n",
              "    }\n",
              "</style>\n",
              "<table border=\"1\" class=\"dataframe\">\n",
              "  <thead>\n",
              "    <tr style=\"text-align: right;\">\n",
              "      <th></th>\n",
              "      <th>Asset_ID</th>\n",
              "      <th>Weight</th>\n",
              "      <th>Asset_Name</th>\n",
              "    </tr>\n",
              "  </thead>\n",
              "  <tbody>\n",
              "    <tr>\n",
              "      <th>0</th>\n",
              "      <td>2</td>\n",
              "      <td>2.397895</td>\n",
              "      <td>Bitcoin Cash</td>\n",
              "    </tr>\n",
              "    <tr>\n",
              "      <th>1</th>\n",
              "      <td>0</td>\n",
              "      <td>4.304065</td>\n",
              "      <td>Binance Coin</td>\n",
              "    </tr>\n",
              "    <tr>\n",
              "      <th>2</th>\n",
              "      <td>1</td>\n",
              "      <td>6.779922</td>\n",
              "      <td>Bitcoin</td>\n",
              "    </tr>\n",
              "    <tr>\n",
              "      <th>3</th>\n",
              "      <td>5</td>\n",
              "      <td>1.386294</td>\n",
              "      <td>EOS.IO</td>\n",
              "    </tr>\n",
              "    <tr>\n",
              "      <th>4</th>\n",
              "      <td>7</td>\n",
              "      <td>2.079442</td>\n",
              "      <td>Ethereum Classic</td>\n",
              "    </tr>\n",
              "    <tr>\n",
              "      <th>5</th>\n",
              "      <td>6</td>\n",
              "      <td>5.894403</td>\n",
              "      <td>Ethereum</td>\n",
              "    </tr>\n",
              "    <tr>\n",
              "      <th>6</th>\n",
              "      <td>9</td>\n",
              "      <td>2.397895</td>\n",
              "      <td>Litecoin</td>\n",
              "    </tr>\n",
              "    <tr>\n",
              "      <th>7</th>\n",
              "      <td>11</td>\n",
              "      <td>1.609438</td>\n",
              "      <td>Monero</td>\n",
              "    </tr>\n",
              "    <tr>\n",
              "      <th>8</th>\n",
              "      <td>13</td>\n",
              "      <td>1.791759</td>\n",
              "      <td>TRON</td>\n",
              "    </tr>\n",
              "    <tr>\n",
              "      <th>9</th>\n",
              "      <td>12</td>\n",
              "      <td>2.079442</td>\n",
              "      <td>Stellar</td>\n",
              "    </tr>\n",
              "    <tr>\n",
              "      <th>10</th>\n",
              "      <td>3</td>\n",
              "      <td>4.406719</td>\n",
              "      <td>Cardano</td>\n",
              "    </tr>\n",
              "    <tr>\n",
              "      <th>11</th>\n",
              "      <td>8</td>\n",
              "      <td>1.098612</td>\n",
              "      <td>IOTA</td>\n",
              "    </tr>\n",
              "    <tr>\n",
              "      <th>12</th>\n",
              "      <td>10</td>\n",
              "      <td>1.098612</td>\n",
              "      <td>Maker</td>\n",
              "    </tr>\n",
              "    <tr>\n",
              "      <th>13</th>\n",
              "      <td>4</td>\n",
              "      <td>3.555348</td>\n",
              "      <td>Dogecoin</td>\n",
              "    </tr>\n",
              "  </tbody>\n",
              "</table>\n",
              "</div>\n",
              "      <button class=\"colab-df-convert\" onclick=\"convertToInteractive('df-4af5dc3a-d54c-4ad0-8d63-75c1887c7cfa')\"\n",
              "              title=\"Convert this dataframe to an interactive table.\"\n",
              "              style=\"display:none;\">\n",
              "        \n",
              "  <svg xmlns=\"http://www.w3.org/2000/svg\" height=\"24px\"viewBox=\"0 0 24 24\"\n",
              "       width=\"24px\">\n",
              "    <path d=\"M0 0h24v24H0V0z\" fill=\"none\"/>\n",
              "    <path d=\"M18.56 5.44l.94 2.06.94-2.06 2.06-.94-2.06-.94-.94-2.06-.94 2.06-2.06.94zm-11 1L8.5 8.5l.94-2.06 2.06-.94-2.06-.94L8.5 2.5l-.94 2.06-2.06.94zm10 10l.94 2.06.94-2.06 2.06-.94-2.06-.94-.94-2.06-.94 2.06-2.06.94z\"/><path d=\"M17.41 7.96l-1.37-1.37c-.4-.4-.92-.59-1.43-.59-.52 0-1.04.2-1.43.59L10.3 9.45l-7.72 7.72c-.78.78-.78 2.05 0 2.83L4 21.41c.39.39.9.59 1.41.59.51 0 1.02-.2 1.41-.59l7.78-7.78 2.81-2.81c.8-.78.8-2.07 0-2.86zM5.41 20L4 18.59l7.72-7.72 1.47 1.35L5.41 20z\"/>\n",
              "  </svg>\n",
              "      </button>\n",
              "      \n",
              "  <style>\n",
              "    .colab-df-container {\n",
              "      display:flex;\n",
              "      flex-wrap:wrap;\n",
              "      gap: 12px;\n",
              "    }\n",
              "\n",
              "    .colab-df-convert {\n",
              "      background-color: #E8F0FE;\n",
              "      border: none;\n",
              "      border-radius: 50%;\n",
              "      cursor: pointer;\n",
              "      display: none;\n",
              "      fill: #1967D2;\n",
              "      height: 32px;\n",
              "      padding: 0 0 0 0;\n",
              "      width: 32px;\n",
              "    }\n",
              "\n",
              "    .colab-df-convert:hover {\n",
              "      background-color: #E2EBFA;\n",
              "      box-shadow: 0px 1px 2px rgba(60, 64, 67, 0.3), 0px 1px 3px 1px rgba(60, 64, 67, 0.15);\n",
              "      fill: #174EA6;\n",
              "    }\n",
              "\n",
              "    [theme=dark] .colab-df-convert {\n",
              "      background-color: #3B4455;\n",
              "      fill: #D2E3FC;\n",
              "    }\n",
              "\n",
              "    [theme=dark] .colab-df-convert:hover {\n",
              "      background-color: #434B5C;\n",
              "      box-shadow: 0px 1px 3px 1px rgba(0, 0, 0, 0.15);\n",
              "      filter: drop-shadow(0px 1px 2px rgba(0, 0, 0, 0.3));\n",
              "      fill: #FFFFFF;\n",
              "    }\n",
              "  </style>\n",
              "\n",
              "      <script>\n",
              "        const buttonEl =\n",
              "          document.querySelector('#df-4af5dc3a-d54c-4ad0-8d63-75c1887c7cfa button.colab-df-convert');\n",
              "        buttonEl.style.display =\n",
              "          google.colab.kernel.accessAllowed ? 'block' : 'none';\n",
              "\n",
              "        async function convertToInteractive(key) {\n",
              "          const element = document.querySelector('#df-4af5dc3a-d54c-4ad0-8d63-75c1887c7cfa');\n",
              "          const dataTable =\n",
              "            await google.colab.kernel.invokeFunction('convertToInteractive',\n",
              "                                                     [key], {});\n",
              "          if (!dataTable) return;\n",
              "\n",
              "          const docLinkHtml = 'Like what you see? Visit the ' +\n",
              "            '<a target=\"_blank\" href=https://colab.research.google.com/notebooks/data_table.ipynb>data table notebook</a>'\n",
              "            + ' to learn more about interactive tables.';\n",
              "          element.innerHTML = '';\n",
              "          dataTable['output_type'] = 'display_data';\n",
              "          await google.colab.output.renderOutput(dataTable, element);\n",
              "          const docLink = document.createElement('div');\n",
              "          docLink.innerHTML = docLinkHtml;\n",
              "          element.appendChild(docLink);\n",
              "        }\n",
              "      </script>\n",
              "    </div>\n",
              "  </div>\n",
              "  "
            ],
            "text/plain": [
              "    Asset_ID    Weight        Asset_Name\n",
              "0          2  2.397895      Bitcoin Cash\n",
              "1          0  4.304065      Binance Coin\n",
              "2          1  6.779922           Bitcoin\n",
              "3          5  1.386294            EOS.IO\n",
              "4          7  2.079442  Ethereum Classic\n",
              "5          6  5.894403          Ethereum\n",
              "6          9  2.397895          Litecoin\n",
              "7         11  1.609438            Monero\n",
              "8         13  1.791759              TRON\n",
              "9         12  2.079442           Stellar\n",
              "10         3  4.406719           Cardano\n",
              "11         8  1.098612              IOTA\n",
              "12        10  1.098612             Maker\n",
              "13         4  3.555348          Dogecoin"
            ]
          },
          "metadata": {},
          "execution_count": 10
        }
      ]
    },
    {
      "cell_type": "markdown",
      "source": [
        "# <center>Exploratory data analysis</center> "
      ],
      "metadata": {
        "id": "DLaxN_ASWRjm"
      }
    },
    {
      "cell_type": "markdown",
      "source": [
        "## Column Description\n",
        "*   **timestamp**: All timestamps are returned as second Unix timestamps (the number of seconds elapsed since 1970-01-01 00:00:00.000 UTC). Timestamps in this dataset are multiple of 60, indicating minute-by-minute data.\n",
        "*   **Asset_ID**: The asset ID corresponding to one of the crytocurrencies (e.g. `Asset_ID = 1` for Bitcoin). The mapping from `Asset_ID` to crypto asset is contained in `asset_details.csv`.\n",
        "*   **Count**: Total number of trades in the time interval (last minute).\n",
        "*   **Open**:\tOpening price of the time interval (in USD).\n",
        "*   **High**:\tHighest price reached during time interval (in USD).\n",
        "*   **Low**: Lowest price reached during time interval (in USD).\n",
        "*   **Close**:\tClosing price of the time interval (in USD).\n",
        "*   **Volume**:\tThe number of cryptoasset units traded during the minute.\n",
        "*   **VWAP**: The average price of the asset over the time interval, weighted by volume. VWAP is an aggregated form of trade data.\n",
        "*   **Target**: Residual log-returns for the asset over a 15 minute horizon. \n"
      ],
      "metadata": {
        "id": "wZLn8-c_A99K"
      }
    },
    {
      "cell_type": "code",
      "source": [
        "data.head() "
      ],
      "metadata": {
        "execution": {
          "iopub.status.busy": "2022-01-03T13:25:20.631872Z",
          "iopub.execute_input": "2022-01-03T13:25:20.632112Z",
          "iopub.status.idle": "2022-01-03T13:25:20.658363Z",
          "shell.execute_reply.started": "2022-01-03T13:25:20.632084Z",
          "shell.execute_reply": "2022-01-03T13:25:20.657564Z"
        },
        "trusted": true,
        "colab": {
          "base_uri": "https://localhost:8080/",
          "height": 206
        },
        "id": "CUWjii7tA99N",
        "outputId": "dae6baa2-5693-4b30-9aa0-be77a193d8bd"
      },
      "execution_count": null,
      "outputs": [
        {
          "output_type": "execute_result",
          "data": {
            "text/html": [
              "\n",
              "  <div id=\"df-22814d3b-dfd9-4122-9034-e00c49d0350a\">\n",
              "    <div class=\"colab-df-container\">\n",
              "      <div>\n",
              "<style scoped>\n",
              "    .dataframe tbody tr th:only-of-type {\n",
              "        vertical-align: middle;\n",
              "    }\n",
              "\n",
              "    .dataframe tbody tr th {\n",
              "        vertical-align: top;\n",
              "    }\n",
              "\n",
              "    .dataframe thead th {\n",
              "        text-align: right;\n",
              "    }\n",
              "</style>\n",
              "<table border=\"1\" class=\"dataframe\">\n",
              "  <thead>\n",
              "    <tr style=\"text-align: right;\">\n",
              "      <th></th>\n",
              "      <th>timestamp</th>\n",
              "      <th>Asset_ID</th>\n",
              "      <th>Count</th>\n",
              "      <th>Open</th>\n",
              "      <th>High</th>\n",
              "      <th>Low</th>\n",
              "      <th>Close</th>\n",
              "      <th>Volume</th>\n",
              "      <th>VWAP</th>\n",
              "      <th>Target</th>\n",
              "    </tr>\n",
              "  </thead>\n",
              "  <tbody>\n",
              "    <tr>\n",
              "      <th>0</th>\n",
              "      <td>1514764860</td>\n",
              "      <td>2</td>\n",
              "      <td>40.0</td>\n",
              "      <td>2376.5800</td>\n",
              "      <td>2399.5000</td>\n",
              "      <td>2357.1400</td>\n",
              "      <td>2374.5900</td>\n",
              "      <td>19.233005</td>\n",
              "      <td>2373.116392</td>\n",
              "      <td>-0.004218</td>\n",
              "    </tr>\n",
              "    <tr>\n",
              "      <th>1</th>\n",
              "      <td>1514764860</td>\n",
              "      <td>0</td>\n",
              "      <td>5.0</td>\n",
              "      <td>8.5300</td>\n",
              "      <td>8.5300</td>\n",
              "      <td>8.5300</td>\n",
              "      <td>8.5300</td>\n",
              "      <td>78.380000</td>\n",
              "      <td>8.530000</td>\n",
              "      <td>-0.014399</td>\n",
              "    </tr>\n",
              "    <tr>\n",
              "      <th>2</th>\n",
              "      <td>1514764860</td>\n",
              "      <td>1</td>\n",
              "      <td>229.0</td>\n",
              "      <td>13835.1940</td>\n",
              "      <td>14013.8000</td>\n",
              "      <td>13666.1100</td>\n",
              "      <td>13850.1760</td>\n",
              "      <td>31.550062</td>\n",
              "      <td>13827.062093</td>\n",
              "      <td>-0.014643</td>\n",
              "    </tr>\n",
              "    <tr>\n",
              "      <th>3</th>\n",
              "      <td>1514764860</td>\n",
              "      <td>5</td>\n",
              "      <td>32.0</td>\n",
              "      <td>7.6596</td>\n",
              "      <td>7.6596</td>\n",
              "      <td>7.6567</td>\n",
              "      <td>7.6576</td>\n",
              "      <td>6626.713370</td>\n",
              "      <td>7.657713</td>\n",
              "      <td>-0.013922</td>\n",
              "    </tr>\n",
              "    <tr>\n",
              "      <th>4</th>\n",
              "      <td>1514764860</td>\n",
              "      <td>7</td>\n",
              "      <td>5.0</td>\n",
              "      <td>25.9200</td>\n",
              "      <td>25.9200</td>\n",
              "      <td>25.8740</td>\n",
              "      <td>25.8770</td>\n",
              "      <td>121.087310</td>\n",
              "      <td>25.891363</td>\n",
              "      <td>-0.008264</td>\n",
              "    </tr>\n",
              "  </tbody>\n",
              "</table>\n",
              "</div>\n",
              "      <button class=\"colab-df-convert\" onclick=\"convertToInteractive('df-22814d3b-dfd9-4122-9034-e00c49d0350a')\"\n",
              "              title=\"Convert this dataframe to an interactive table.\"\n",
              "              style=\"display:none;\">\n",
              "        \n",
              "  <svg xmlns=\"http://www.w3.org/2000/svg\" height=\"24px\"viewBox=\"0 0 24 24\"\n",
              "       width=\"24px\">\n",
              "    <path d=\"M0 0h24v24H0V0z\" fill=\"none\"/>\n",
              "    <path d=\"M18.56 5.44l.94 2.06.94-2.06 2.06-.94-2.06-.94-.94-2.06-.94 2.06-2.06.94zm-11 1L8.5 8.5l.94-2.06 2.06-.94-2.06-.94L8.5 2.5l-.94 2.06-2.06.94zm10 10l.94 2.06.94-2.06 2.06-.94-2.06-.94-.94-2.06-.94 2.06-2.06.94z\"/><path d=\"M17.41 7.96l-1.37-1.37c-.4-.4-.92-.59-1.43-.59-.52 0-1.04.2-1.43.59L10.3 9.45l-7.72 7.72c-.78.78-.78 2.05 0 2.83L4 21.41c.39.39.9.59 1.41.59.51 0 1.02-.2 1.41-.59l7.78-7.78 2.81-2.81c.8-.78.8-2.07 0-2.86zM5.41 20L4 18.59l7.72-7.72 1.47 1.35L5.41 20z\"/>\n",
              "  </svg>\n",
              "      </button>\n",
              "      \n",
              "  <style>\n",
              "    .colab-df-container {\n",
              "      display:flex;\n",
              "      flex-wrap:wrap;\n",
              "      gap: 12px;\n",
              "    }\n",
              "\n",
              "    .colab-df-convert {\n",
              "      background-color: #E8F0FE;\n",
              "      border: none;\n",
              "      border-radius: 50%;\n",
              "      cursor: pointer;\n",
              "      display: none;\n",
              "      fill: #1967D2;\n",
              "      height: 32px;\n",
              "      padding: 0 0 0 0;\n",
              "      width: 32px;\n",
              "    }\n",
              "\n",
              "    .colab-df-convert:hover {\n",
              "      background-color: #E2EBFA;\n",
              "      box-shadow: 0px 1px 2px rgba(60, 64, 67, 0.3), 0px 1px 3px 1px rgba(60, 64, 67, 0.15);\n",
              "      fill: #174EA6;\n",
              "    }\n",
              "\n",
              "    [theme=dark] .colab-df-convert {\n",
              "      background-color: #3B4455;\n",
              "      fill: #D2E3FC;\n",
              "    }\n",
              "\n",
              "    [theme=dark] .colab-df-convert:hover {\n",
              "      background-color: #434B5C;\n",
              "      box-shadow: 0px 1px 3px 1px rgba(0, 0, 0, 0.15);\n",
              "      filter: drop-shadow(0px 1px 2px rgba(0, 0, 0, 0.3));\n",
              "      fill: #FFFFFF;\n",
              "    }\n",
              "  </style>\n",
              "\n",
              "      <script>\n",
              "        const buttonEl =\n",
              "          document.querySelector('#df-22814d3b-dfd9-4122-9034-e00c49d0350a button.colab-df-convert');\n",
              "        buttonEl.style.display =\n",
              "          google.colab.kernel.accessAllowed ? 'block' : 'none';\n",
              "\n",
              "        async function convertToInteractive(key) {\n",
              "          const element = document.querySelector('#df-22814d3b-dfd9-4122-9034-e00c49d0350a');\n",
              "          const dataTable =\n",
              "            await google.colab.kernel.invokeFunction('convertToInteractive',\n",
              "                                                     [key], {});\n",
              "          if (!dataTable) return;\n",
              "\n",
              "          const docLinkHtml = 'Like what you see? Visit the ' +\n",
              "            '<a target=\"_blank\" href=https://colab.research.google.com/notebooks/data_table.ipynb>data table notebook</a>'\n",
              "            + ' to learn more about interactive tables.';\n",
              "          element.innerHTML = '';\n",
              "          dataTable['output_type'] = 'display_data';\n",
              "          await google.colab.output.renderOutput(dataTable, element);\n",
              "          const docLink = document.createElement('div');\n",
              "          docLink.innerHTML = docLinkHtml;\n",
              "          element.appendChild(docLink);\n",
              "        }\n",
              "      </script>\n",
              "    </div>\n",
              "  </div>\n",
              "  "
            ],
            "text/plain": [
              "    timestamp  Asset_ID  Count  ...       Volume          VWAP    Target\n",
              "0  1514764860         2   40.0  ...    19.233005   2373.116392 -0.004218\n",
              "1  1514764860         0    5.0  ...    78.380000      8.530000 -0.014399\n",
              "2  1514764860         1  229.0  ...    31.550062  13827.062093 -0.014643\n",
              "3  1514764860         5   32.0  ...  6626.713370      7.657713 -0.013922\n",
              "4  1514764860         7    5.0  ...   121.087310     25.891363 -0.008264\n",
              "\n",
              "[5 rows x 10 columns]"
            ]
          },
          "metadata": {},
          "execution_count": 5
        }
      ]
    },
    {
      "cell_type": "markdown",
      "source": [
        "### Checking Null Rows"
      ],
      "metadata": {
        "id": "gyb06XVXA99Q"
      }
    },
    {
      "cell_type": "code",
      "source": [
        "data.isnull().sum()"
      ],
      "metadata": {
        "execution": {
          "iopub.status.busy": "2022-01-03T13:25:20.660935Z",
          "iopub.execute_input": "2022-01-03T13:25:20.661407Z",
          "iopub.status.idle": "2022-01-03T13:25:21.134402Z",
          "shell.execute_reply.started": "2022-01-03T13:25:20.661365Z",
          "shell.execute_reply": "2022-01-03T13:25:21.133524Z"
        },
        "trusted": true,
        "colab": {
          "base_uri": "https://localhost:8080/"
        },
        "id": "ufc6yNmyA99U",
        "outputId": "27dd0e07-fdda-459d-8363-82572b085490"
      },
      "execution_count": null,
      "outputs": [
        {
          "output_type": "execute_result",
          "data": {
            "text/plain": [
              "timestamp         0\n",
              "Asset_ID          0\n",
              "Count             0\n",
              "Open              0\n",
              "High              0\n",
              "Low               0\n",
              "Close             0\n",
              "Volume            0\n",
              "VWAP              9\n",
              "Target       750338\n",
              "dtype: int64"
            ]
          },
          "metadata": {},
          "execution_count": 6
        }
      ]
    },
    {
      "cell_type": "code",
      "source": [
        "print(\"Total Null Target Rows = \" ,data[\"Target\"].isnull().sum())\n",
        "print(\"Percentage of NUll rows in Training Data = {:.2f}%\".format(data[\"Target\"].isnull().sum()*100 / data.shape[0] ))"
      ],
      "metadata": {
        "_kg_hide-input": true,
        "execution": {
          "iopub.status.busy": "2022-01-03T13:27:13.286712Z",
          "iopub.execute_input": "2022-01-03T13:27:13.28699Z",
          "iopub.status.idle": "2022-01-03T13:27:13.385572Z",
          "shell.execute_reply.started": "2022-01-03T13:27:13.28696Z",
          "shell.execute_reply": "2022-01-03T13:27:13.384727Z"
        },
        "trusted": true,
        "colab": {
          "base_uri": "https://localhost:8080/"
        },
        "id": "6Y2CqpoNA99V",
        "outputId": "6020f5f7-532b-4cdd-a21b-00f74a398960"
      },
      "execution_count": null,
      "outputs": [
        {
          "output_type": "stream",
          "name": "stdout",
          "text": [
            "Total Null Target Rows =  750338\n",
            "Percentage of NUll rows in Training Data = 3.10%\n"
          ]
        }
      ]
    },
    {
      "cell_type": "markdown",
      "source": [
        "# <center>DATA DISTRIBUTION</center> "
      ],
      "metadata": {
        "id": "doTkqJKZA99X"
      }
    },
    {
      "cell_type": "markdown",
      "source": [
        "### Training Data Distribution among differnet Assets (Crypto Currencies)"
      ],
      "metadata": {
        "id": "G8ebKPO3A99Z"
      }
    },
    {
      "cell_type": "code",
      "source": [
        "asset_count= []\n",
        "for i in range(14):\n",
        "    count = (data[\"Asset_ID\"]==i).sum()\n",
        "    asset_count.append(count)\n",
        "fig = px.bar(x = asset_details.sort_values(\"Asset_ID\")[\"Asset_Name\"],\n",
        "             y = asset_count , \n",
        "             color = asset_count ,\n",
        "             color_continuous_scale=\"Emrld\") \n",
        "fig.update_xaxes(title=\"Assets\")\n",
        "fig.update_yaxes(title = \"Number of Rows\")\n",
        "fig.update_layout(showlegend = True,\n",
        "    title = {\n",
        "        'text': 'Data Distribution ',\n",
        "        'y':0.95,\n",
        "        'x':0.5,\n",
        "        'xanchor': 'center',\n",
        "        'yanchor': 'top'} ,\n",
        "        template=\"plotly_white\")\n",
        "fig.show()"
      ],
      "metadata": {
        "_kg_hide-input": true,
        "execution": {
          "iopub.status.busy": "2022-01-29T17:43:56.317322Z",
          "iopub.execute_input": "2022-01-29T17:43:56.317878Z",
          "iopub.status.idle": "2022-01-29T17:43:57.926296Z",
          "shell.execute_reply.started": "2022-01-29T17:43:56.317835Z",
          "shell.execute_reply": "2022-01-29T17:43:57.925483Z"
        },
        "trusted": true,
        "colab": {
          "base_uri": "https://localhost:8080/",
          "height": 542
        },
        "id": "VoPj3mULA99b",
        "outputId": "0371e10a-e5cb-4ce6-ae31-db73c58b3c7a"
      },
      "execution_count": null,
      "outputs": [
        {
          "output_type": "display_data",
          "data": {
            "text/html": [
              "<html>\n",
              "<head><meta charset=\"utf-8\" /></head>\n",
              "<body>\n",
              "    <div>            <script src=\"https://cdnjs.cloudflare.com/ajax/libs/mathjax/2.7.5/MathJax.js?config=TeX-AMS-MML_SVG\"></script><script type=\"text/javascript\">if (window.MathJax) {MathJax.Hub.Config({SVG: {font: \"STIX-Web\"}});}</script>                <script type=\"text/javascript\">window.PlotlyConfig = {MathJaxConfig: 'local'};</script>\n",
              "        <script src=\"https://cdn.plot.ly/plotly-2.8.3.min.js\"></script>                <div id=\"978b7836-c1d6-4020-93a5-c3a9c1aad326\" class=\"plotly-graph-div\" style=\"height:525px; width:100%;\"></div>            <script type=\"text/javascript\">                                    window.PLOTLYENV=window.PLOTLYENV || {};                                    if (document.getElementById(\"978b7836-c1d6-4020-93a5-c3a9c1aad326\")) {                    Plotly.newPlot(                        \"978b7836-c1d6-4020-93a5-c3a9c1aad326\",                        [{\"alignmentgroup\":\"True\",\"hovertemplate\":\"x=%{x}<br>y=%{y}<br>color=%{marker.color}<extra></extra>\",\"legendgroup\":\"\",\"marker\":{\"color\":[1942619,1956282,1953537,1791867,1156866,1955140,1956200,1951127,1592071,1956030,670497,1701261,1778749,1874560],\"coloraxis\":\"coloraxis\",\"pattern\":{\"shape\":\"\"}},\"name\":\"\",\"offsetgroup\":\"\",\"orientation\":\"v\",\"showlegend\":false,\"textposition\":\"auto\",\"x\":[\"Binance Coin\",\"Bitcoin\",\"Bitcoin Cash\",\"Cardano\",\"Dogecoin\",\"EOS.IO\",\"Ethereum\",\"Ethereum Classic\",\"IOTA\",\"Litecoin\",\"Maker\",\"Monero\",\"Stellar\",\"TRON\"],\"xaxis\":\"x\",\"y\":[1942619,1956282,1953537,1791867,1156866,1955140,1956200,1951127,1592071,1956030,670497,1701261,1778749,1874560],\"yaxis\":\"y\",\"type\":\"bar\"}],                        {\"template\":{\"data\":{\"barpolar\":[{\"marker\":{\"line\":{\"color\":\"white\",\"width\":0.5},\"pattern\":{\"fillmode\":\"overlay\",\"size\":10,\"solidity\":0.2}},\"type\":\"barpolar\"}],\"bar\":[{\"error_x\":{\"color\":\"#2a3f5f\"},\"error_y\":{\"color\":\"#2a3f5f\"},\"marker\":{\"line\":{\"color\":\"white\",\"width\":0.5},\"pattern\":{\"fillmode\":\"overlay\",\"size\":10,\"solidity\":0.2}},\"type\":\"bar\"}],\"carpet\":[{\"aaxis\":{\"endlinecolor\":\"#2a3f5f\",\"gridcolor\":\"#C8D4E3\",\"linecolor\":\"#C8D4E3\",\"minorgridcolor\":\"#C8D4E3\",\"startlinecolor\":\"#2a3f5f\"},\"baxis\":{\"endlinecolor\":\"#2a3f5f\",\"gridcolor\":\"#C8D4E3\",\"linecolor\":\"#C8D4E3\",\"minorgridcolor\":\"#C8D4E3\",\"startlinecolor\":\"#2a3f5f\"},\"type\":\"carpet\"}],\"choropleth\":[{\"colorbar\":{\"outlinewidth\":0,\"ticks\":\"\"},\"type\":\"choropleth\"}],\"contourcarpet\":[{\"colorbar\":{\"outlinewidth\":0,\"ticks\":\"\"},\"type\":\"contourcarpet\"}],\"contour\":[{\"colorbar\":{\"outlinewidth\":0,\"ticks\":\"\"},\"colorscale\":[[0.0,\"#0d0887\"],[0.1111111111111111,\"#46039f\"],[0.2222222222222222,\"#7201a8\"],[0.3333333333333333,\"#9c179e\"],[0.4444444444444444,\"#bd3786\"],[0.5555555555555556,\"#d8576b\"],[0.6666666666666666,\"#ed7953\"],[0.7777777777777778,\"#fb9f3a\"],[0.8888888888888888,\"#fdca26\"],[1.0,\"#f0f921\"]],\"type\":\"contour\"}],\"heatmapgl\":[{\"colorbar\":{\"outlinewidth\":0,\"ticks\":\"\"},\"colorscale\":[[0.0,\"#0d0887\"],[0.1111111111111111,\"#46039f\"],[0.2222222222222222,\"#7201a8\"],[0.3333333333333333,\"#9c179e\"],[0.4444444444444444,\"#bd3786\"],[0.5555555555555556,\"#d8576b\"],[0.6666666666666666,\"#ed7953\"],[0.7777777777777778,\"#fb9f3a\"],[0.8888888888888888,\"#fdca26\"],[1.0,\"#f0f921\"]],\"type\":\"heatmapgl\"}],\"heatmap\":[{\"colorbar\":{\"outlinewidth\":0,\"ticks\":\"\"},\"colorscale\":[[0.0,\"#0d0887\"],[0.1111111111111111,\"#46039f\"],[0.2222222222222222,\"#7201a8\"],[0.3333333333333333,\"#9c179e\"],[0.4444444444444444,\"#bd3786\"],[0.5555555555555556,\"#d8576b\"],[0.6666666666666666,\"#ed7953\"],[0.7777777777777778,\"#fb9f3a\"],[0.8888888888888888,\"#fdca26\"],[1.0,\"#f0f921\"]],\"type\":\"heatmap\"}],\"histogram2dcontour\":[{\"colorbar\":{\"outlinewidth\":0,\"ticks\":\"\"},\"colorscale\":[[0.0,\"#0d0887\"],[0.1111111111111111,\"#46039f\"],[0.2222222222222222,\"#7201a8\"],[0.3333333333333333,\"#9c179e\"],[0.4444444444444444,\"#bd3786\"],[0.5555555555555556,\"#d8576b\"],[0.6666666666666666,\"#ed7953\"],[0.7777777777777778,\"#fb9f3a\"],[0.8888888888888888,\"#fdca26\"],[1.0,\"#f0f921\"]],\"type\":\"histogram2dcontour\"}],\"histogram2d\":[{\"colorbar\":{\"outlinewidth\":0,\"ticks\":\"\"},\"colorscale\":[[0.0,\"#0d0887\"],[0.1111111111111111,\"#46039f\"],[0.2222222222222222,\"#7201a8\"],[0.3333333333333333,\"#9c179e\"],[0.4444444444444444,\"#bd3786\"],[0.5555555555555556,\"#d8576b\"],[0.6666666666666666,\"#ed7953\"],[0.7777777777777778,\"#fb9f3a\"],[0.8888888888888888,\"#fdca26\"],[1.0,\"#f0f921\"]],\"type\":\"histogram2d\"}],\"histogram\":[{\"marker\":{\"pattern\":{\"fillmode\":\"overlay\",\"size\":10,\"solidity\":0.2}},\"type\":\"histogram\"}],\"mesh3d\":[{\"colorbar\":{\"outlinewidth\":0,\"ticks\":\"\"},\"type\":\"mesh3d\"}],\"parcoords\":[{\"line\":{\"colorbar\":{\"outlinewidth\":0,\"ticks\":\"\"}},\"type\":\"parcoords\"}],\"pie\":[{\"automargin\":true,\"type\":\"pie\"}],\"scatter3d\":[{\"line\":{\"colorbar\":{\"outlinewidth\":0,\"ticks\":\"\"}},\"marker\":{\"colorbar\":{\"outlinewidth\":0,\"ticks\":\"\"}},\"type\":\"scatter3d\"}],\"scattercarpet\":[{\"marker\":{\"colorbar\":{\"outlinewidth\":0,\"ticks\":\"\"}},\"type\":\"scattercarpet\"}],\"scattergeo\":[{\"marker\":{\"colorbar\":{\"outlinewidth\":0,\"ticks\":\"\"}},\"type\":\"scattergeo\"}],\"scattergl\":[{\"marker\":{\"colorbar\":{\"outlinewidth\":0,\"ticks\":\"\"}},\"type\":\"scattergl\"}],\"scattermapbox\":[{\"marker\":{\"colorbar\":{\"outlinewidth\":0,\"ticks\":\"\"}},\"type\":\"scattermapbox\"}],\"scatterpolargl\":[{\"marker\":{\"colorbar\":{\"outlinewidth\":0,\"ticks\":\"\"}},\"type\":\"scatterpolargl\"}],\"scatterpolar\":[{\"marker\":{\"colorbar\":{\"outlinewidth\":0,\"ticks\":\"\"}},\"type\":\"scatterpolar\"}],\"scatter\":[{\"marker\":{\"colorbar\":{\"outlinewidth\":0,\"ticks\":\"\"}},\"type\":\"scatter\"}],\"scatterternary\":[{\"marker\":{\"colorbar\":{\"outlinewidth\":0,\"ticks\":\"\"}},\"type\":\"scatterternary\"}],\"surface\":[{\"colorbar\":{\"outlinewidth\":0,\"ticks\":\"\"},\"colorscale\":[[0.0,\"#0d0887\"],[0.1111111111111111,\"#46039f\"],[0.2222222222222222,\"#7201a8\"],[0.3333333333333333,\"#9c179e\"],[0.4444444444444444,\"#bd3786\"],[0.5555555555555556,\"#d8576b\"],[0.6666666666666666,\"#ed7953\"],[0.7777777777777778,\"#fb9f3a\"],[0.8888888888888888,\"#fdca26\"],[1.0,\"#f0f921\"]],\"type\":\"surface\"}],\"table\":[{\"cells\":{\"fill\":{\"color\":\"#EBF0F8\"},\"line\":{\"color\":\"white\"}},\"header\":{\"fill\":{\"color\":\"#C8D4E3\"},\"line\":{\"color\":\"white\"}},\"type\":\"table\"}]},\"layout\":{\"annotationdefaults\":{\"arrowcolor\":\"#2a3f5f\",\"arrowhead\":0,\"arrowwidth\":1},\"autotypenumbers\":\"strict\",\"coloraxis\":{\"colorbar\":{\"outlinewidth\":0,\"ticks\":\"\"}},\"colorscale\":{\"diverging\":[[0,\"#8e0152\"],[0.1,\"#c51b7d\"],[0.2,\"#de77ae\"],[0.3,\"#f1b6da\"],[0.4,\"#fde0ef\"],[0.5,\"#f7f7f7\"],[0.6,\"#e6f5d0\"],[0.7,\"#b8e186\"],[0.8,\"#7fbc41\"],[0.9,\"#4d9221\"],[1,\"#276419\"]],\"sequential\":[[0.0,\"#0d0887\"],[0.1111111111111111,\"#46039f\"],[0.2222222222222222,\"#7201a8\"],[0.3333333333333333,\"#9c179e\"],[0.4444444444444444,\"#bd3786\"],[0.5555555555555556,\"#d8576b\"],[0.6666666666666666,\"#ed7953\"],[0.7777777777777778,\"#fb9f3a\"],[0.8888888888888888,\"#fdca26\"],[1.0,\"#f0f921\"]],\"sequentialminus\":[[0.0,\"#0d0887\"],[0.1111111111111111,\"#46039f\"],[0.2222222222222222,\"#7201a8\"],[0.3333333333333333,\"#9c179e\"],[0.4444444444444444,\"#bd3786\"],[0.5555555555555556,\"#d8576b\"],[0.6666666666666666,\"#ed7953\"],[0.7777777777777778,\"#fb9f3a\"],[0.8888888888888888,\"#fdca26\"],[1.0,\"#f0f921\"]]},\"colorway\":[\"#636efa\",\"#EF553B\",\"#00cc96\",\"#ab63fa\",\"#FFA15A\",\"#19d3f3\",\"#FF6692\",\"#B6E880\",\"#FF97FF\",\"#FECB52\"],\"font\":{\"color\":\"#2a3f5f\"},\"geo\":{\"bgcolor\":\"white\",\"lakecolor\":\"white\",\"landcolor\":\"white\",\"showlakes\":true,\"showland\":true,\"subunitcolor\":\"#C8D4E3\"},\"hoverlabel\":{\"align\":\"left\"},\"hovermode\":\"closest\",\"mapbox\":{\"style\":\"light\"},\"paper_bgcolor\":\"white\",\"plot_bgcolor\":\"white\",\"polar\":{\"angularaxis\":{\"gridcolor\":\"#EBF0F8\",\"linecolor\":\"#EBF0F8\",\"ticks\":\"\"},\"bgcolor\":\"white\",\"radialaxis\":{\"gridcolor\":\"#EBF0F8\",\"linecolor\":\"#EBF0F8\",\"ticks\":\"\"}},\"scene\":{\"xaxis\":{\"backgroundcolor\":\"white\",\"gridcolor\":\"#DFE8F3\",\"gridwidth\":2,\"linecolor\":\"#EBF0F8\",\"showbackground\":true,\"ticks\":\"\",\"zerolinecolor\":\"#EBF0F8\"},\"yaxis\":{\"backgroundcolor\":\"white\",\"gridcolor\":\"#DFE8F3\",\"gridwidth\":2,\"linecolor\":\"#EBF0F8\",\"showbackground\":true,\"ticks\":\"\",\"zerolinecolor\":\"#EBF0F8\"},\"zaxis\":{\"backgroundcolor\":\"white\",\"gridcolor\":\"#DFE8F3\",\"gridwidth\":2,\"linecolor\":\"#EBF0F8\",\"showbackground\":true,\"ticks\":\"\",\"zerolinecolor\":\"#EBF0F8\"}},\"shapedefaults\":{\"line\":{\"color\":\"#2a3f5f\"}},\"ternary\":{\"aaxis\":{\"gridcolor\":\"#DFE8F3\",\"linecolor\":\"#A2B1C6\",\"ticks\":\"\"},\"baxis\":{\"gridcolor\":\"#DFE8F3\",\"linecolor\":\"#A2B1C6\",\"ticks\":\"\"},\"bgcolor\":\"white\",\"caxis\":{\"gridcolor\":\"#DFE8F3\",\"linecolor\":\"#A2B1C6\",\"ticks\":\"\"}},\"title\":{\"x\":0.05},\"xaxis\":{\"automargin\":true,\"gridcolor\":\"#EBF0F8\",\"linecolor\":\"#EBF0F8\",\"ticks\":\"\",\"title\":{\"standoff\":15},\"zerolinecolor\":\"#EBF0F8\",\"zerolinewidth\":2},\"yaxis\":{\"automargin\":true,\"gridcolor\":\"#EBF0F8\",\"linecolor\":\"#EBF0F8\",\"ticks\":\"\",\"title\":{\"standoff\":15},\"zerolinecolor\":\"#EBF0F8\",\"zerolinewidth\":2}}},\"xaxis\":{\"anchor\":\"y\",\"domain\":[0.0,1.0],\"title\":{\"text\":\"Assets\"}},\"yaxis\":{\"anchor\":\"x\",\"domain\":[0.0,1.0],\"title\":{\"text\":\"Number of Rows\"}},\"coloraxis\":{\"colorbar\":{\"title\":{\"text\":\"color\"}},\"colorscale\":[[0.0,\"rgb(211, 242, 163)\"],[0.16666666666666666,\"rgb(151, 225, 150)\"],[0.3333333333333333,\"rgb(108, 192, 139)\"],[0.5,\"rgb(76, 155, 130)\"],[0.6666666666666666,\"rgb(33, 122, 121)\"],[0.8333333333333334,\"rgb(16, 89, 101)\"],[1.0,\"rgb(7, 64, 80)\"]]},\"legend\":{\"tracegroupgap\":0},\"margin\":{\"t\":60},\"barmode\":\"relative\",\"title\":{\"text\":\"Data Distribution \",\"y\":0.95,\"x\":0.5,\"xanchor\":\"center\",\"yanchor\":\"top\"},\"showlegend\":true},                        {\"responsive\": true}                    ).then(function(){\n",
              "                            \n",
              "var gd = document.getElementById('978b7836-c1d6-4020-93a5-c3a9c1aad326');\n",
              "var x = new MutationObserver(function (mutations, observer) {{\n",
              "        var display = window.getComputedStyle(gd).display;\n",
              "        if (!display || display === 'none') {{\n",
              "            console.log([gd, 'removed!']);\n",
              "            Plotly.purge(gd);\n",
              "            observer.disconnect();\n",
              "        }}\n",
              "}});\n",
              "\n",
              "// Listen for the removal of the full notebook cells\n",
              "var notebookContainer = gd.closest('#notebook-container');\n",
              "if (notebookContainer) {{\n",
              "    x.observe(notebookContainer, {childList: true});\n",
              "}}\n",
              "\n",
              "// Listen for the clearing of the current output cell\n",
              "var outputEl = gd.closest('.output');\n",
              "if (outputEl) {{\n",
              "    x.observe(outputEl, {childList: true});\n",
              "}}\n",
              "\n",
              "                        })                };                            </script>        </div>\n",
              "</body>\n",
              "</html>"
            ]
          },
          "metadata": {}
        }
      ]
    },
    {
      "cell_type": "markdown",
      "source": [
        "# <center>CANDELSTICK CHARTS</center> "
      ],
      "metadata": {
        "id": "qc0MN0rlA99e"
      }
    },
    {
      "cell_type": "code",
      "source": [
        "def crypto_df(asset_id ,data= data ):\n",
        "    df = data[data[\"Asset_ID\"]==asset_id].reset_index(drop = True)\n",
        "    df['timestamp'] = pd.to_datetime(df['timestamp'], unit='s')\n",
        "    df = df.set_index('timestamp')\n",
        "    return df\n",
        "btc = crypto_df(asset_id = 1)\n",
        "eth = crypto_df (asset_id = 6 )\n",
        "mon = crypto_df(asset_id = 11 )\n",
        "dog = crypto_df(asset_id = 4 )\n",
        "bin = crypto_df(asset_id = 0 )"
      ],
      "metadata": {
        "_kg_hide-input": true,
        "execution": {
          "iopub.status.busy": "2022-01-29T17:44:09.027946Z",
          "iopub.execute_input": "2022-01-29T17:44:09.028521Z",
          "iopub.status.idle": "2022-01-29T17:44:10.331136Z",
          "shell.execute_reply.started": "2022-01-29T17:44:09.028481Z",
          "shell.execute_reply": "2022-01-29T17:44:10.330328Z"
        },
        "trusted": true,
        "id": "nRGAX_acA99f"
      },
      "execution_count": null,
      "outputs": []
    },
    {
      "cell_type": "code",
      "source": [
        "def candelstick_chart(data,title):\n",
        "    candlestick = go.Figure(data = [go.Candlestick(x =data.index, \n",
        "                                               open = data[('Open')], \n",
        "                                               high = data[('High')], \n",
        "                                               low = data[('Low')], \n",
        "                                               close = data[('Close')])])\n",
        "    candlestick.update_xaxes(title_text = 'Time',\n",
        "                             rangeslider_visible = True)\n",
        "\n",
        "    candlestick.update_layout(\n",
        "    title = {\n",
        "        'text': '{:} Candelstick Chart'.format(title),\n",
        "        'y':0.90,\n",
        "        'x':0.5,\n",
        "        'xanchor': 'center',\n",
        "        'yanchor': 'top'} , \n",
        "    template=\"plotly_white\")\n",
        "\n",
        "    candlestick.update_yaxes(title_text = 'Price in USD', ticksuffix = '$')\n",
        "    return candlestick"
      ],
      "metadata": {
        "_kg_hide-input": true,
        "execution": {
          "iopub.status.busy": "2022-01-29T17:44:13.096529Z",
          "iopub.execute_input": "2022-01-29T17:44:13.096794Z",
          "iopub.status.idle": "2022-01-29T17:44:13.104396Z",
          "shell.execute_reply.started": "2022-01-29T17:44:13.096766Z",
          "shell.execute_reply": "2022-01-29T17:44:13.103752Z"
        },
        "trusted": true,
        "id": "huaeIC8XA99i"
      },
      "execution_count": null,
      "outputs": []
    },
    {
      "cell_type": "markdown",
      "source": [
        "### Bitcoin, Etherreum, Monero, Dogecoin, Binance Coin Candelstick Chart for last few rows"
      ],
      "metadata": {
        "id": "0G5SduMoA99k"
      }
    },
    {
      "cell_type": "code",
      "source": [
        "btc_plot = candelstick_chart(btc[-100:],title = \"Bitcoin(BTC)\")\n",
        "btc_plot.show()\n",
        "\n",
        "eth_plot = candelstick_chart(eth[-250:],title = \"Ethereum(ETC)\")\n",
        "eth_plot.show()\n",
        "\n",
        "mon_plot = candelstick_chart(mon[-500:],title = \"Monero\")\n",
        "mon_plot.show()\n",
        "\n",
        "dog_plot = candelstick_chart(dog[-1100:],title = \"Dogecoin\")\n",
        "dog_plot.show()\n",
        "\n",
        "bin_plot = candelstick_chart(bin[-1200:],title = \"Binance Coin\")\n",
        "bin_plot.show()\n"
      ],
      "metadata": {
        "_kg_hide-input": true,
        "execution": {
          "iopub.status.busy": "2022-01-29T17:44:17.779652Z",
          "iopub.execute_input": "2022-01-29T17:44:17.780312Z",
          "iopub.status.idle": "2022-01-29T17:44:17.842133Z",
          "shell.execute_reply.started": "2022-01-29T17:44:17.780270Z",
          "shell.execute_reply": "2022-01-29T17:44:17.841312Z"
        },
        "trusted": true,
        "colab": {
          "base_uri": "https://localhost:8080/",
          "height": 1000
        },
        "id": "d01Enfc-A99l",
        "outputId": "2c4e450a-2eb4-4dba-b80c-40f4ab2a1b3d"
      },
      "execution_count": null,
      "outputs": [
        {
          "output_type": "display_data",
          "data": {
            "text/html": [
              "<html>\n",
              "<head><meta charset=\"utf-8\" /></head>\n",
              "<body>\n",
              "    <div>            <script src=\"https://cdnjs.cloudflare.com/ajax/libs/mathjax/2.7.5/MathJax.js?config=TeX-AMS-MML_SVG\"></script><script type=\"text/javascript\">if (window.MathJax) {MathJax.Hub.Config({SVG: {font: \"STIX-Web\"}});}</script>                <script type=\"text/javascript\">window.PlotlyConfig = {MathJaxConfig: 'local'};</script>\n",
              "        <script src=\"https://cdn.plot.ly/plotly-2.8.3.min.js\"></script>                <div id=\"a0a510e7-22ef-4c02-b588-424806f7f51e\" class=\"plotly-graph-div\" style=\"height:525px; width:100%;\"></div>            <script type=\"text/javascript\">                                    window.PLOTLYENV=window.PLOTLYENV || {};                                    if (document.getElementById(\"a0a510e7-22ef-4c02-b588-424806f7f51e\")) {                    Plotly.newPlot(                        \"a0a510e7-22ef-4c02-b588-424806f7f51e\",                        [{\"close\":[43770.66857142857,43799.1,43833.474285714285,43811.704285714295,43843.44,43832.01571428571,43786.38571428572,43769.188571428575,43774.467142857146,43796.19,43797.20571428572,43798.15714285714,43804.61142857144,43831.59142857143,43871.69625,43897.16857142858,43901.38285714285,43883.25895342144,43862.52,43894.77857142857,43866.73499999999,43845.84857142857,43823.298571428575,43752.76714285714,43703.374285714286,43669.07857142857,43642.77285714285,43615.38,43504.42428571429,43367.88571428572,43316.7225,43295.04428571429,43250.16571428572,43075.9025,43232.90125,43259.1575,43293.7075,43305.09857142857,43327.79,43356.28068103,43344.55857142858,43484.61375,43580.82375,43470.794999999984,43198.788571428566,43213.69,43269.54714285715,43239.26125,43114.23614144125,43067.63,43060.81,42991.2775,42989.62375,43219.33125,43140.19135458125,43198.24000000001,43110.797500000015,43157.72298172143,43099.1575,43051.08285714287,42966.91285714286,43009.43142857143,42880.67875,42822.040000000015,42699.178750000014,42778.885,42779.71,42700.44625,42659.58241635572,42600.39625,42624.279999999984,42577.0,42679.60625,42678.21816655625,42762.514285714286,42825.295,42736.6525,42769.39571428571,42637.115,42703.63625,42781.97057111125,42755.5925,42717.23428571428,42657.20249999999,42678.72142857143,42778.29125,42790.17571428571,42731.73142857143,42898.565,42939.64571428572,42927.167142857135,42979.83375,42960.60142857144,42985.48285714286,42985.21482412572,42899.01285714287,42860.00571428572,42827.02,43017.277142857136,43002.505],\"high\":[43867.04,43805.3,43861.08,43848.1,43860.78,43866.41,43840.14,43808.31,43800.0,43812.4,43818.6,43818.4,43821.1,43840.7,43910.99,43912.1,43940.0,43912.0,43908.5,43906.71,43906.73,43874.98,43851.4,43843.87,43782.1,43721.3,43699.8,43679.99,43633.3,43560.02,43417.91,43354.59,43359.44,43259.3,43281.0,43301.61947119,43320.02,43348.22,43366.0,43391.85,43376.0,43546.61,43640.0,43627.0,43455.0,43276.57,43366.0,43288.47,43287.5,43133.15,43099.98,43072.2,43069.67,43289.9,43350.5,43229.1,43247.5,43193.54,43172.9,43122.0,43082.02,43029.49,43015.0,42897.0,42884.85,42836.33,42811.0,42852.0,42719.98,42779.1,42703.01,42650.0,42705.0,42802.54,42862.0,42877.82,42846.0,42833.9,42841.99,42736.9,42819.38,42827.1,42811.3,42752.0,42715.99,42810.26,42828.0,42827.7,42937.31,42966.98,42971.95,43014.98,43005.65,43008.85,43006.54,43001.85084871,42932.0,42887.5,43042.16,43048.51],\"low\":[43741.3,43760.3,43788.96,43788.53,43780.41,43816.96,43762.7,43742.7,43750.0,43759.23,43766.7,43757.17,43782.18,43795.58,43823.74,43842.5,43875.72,43866.3,43847.0,43835.66,43850.16,43832.56,43813.11,43746.0,43687.0,43650.01,43627.29,43600.0,43499.99,43350.4,43295.74,43278.42,43221.04,43003.84,43067.0,43172.38,43172.0,43220.67,43261.3,43333.51,43283.1,43335.64,43441.56,43428.8,43172.9,43133.08,43209.9,43218.81,43062.9,43050.9,43019.49,42930.14,42967.33,42969.79,43106.01,43026.47,43092.88,43064.36,43058.56,43007.67,42898.8,42900.0,42801.0,42795.45,42659.29112887,42660.05,42651.4,42672.8,42640.0,42575.0,42579.4,42515.09,42548.09,42626.61,42660.7,42743.68,42688.55,42731.17,42600.0,42607.5,42690.84,42690.75,42694.37,42636.76,42630.17,42662.27,42742.36,42713.48,42713.48,42852.07,42899.1,42907.18,42929.74,42953.1,42958.06,42878.26,42840.16,42797.2,42818.1,42961.64],\"open\":[43813.72,43780.97162221715,43805.69142857142,43832.400000000016,43801.23428571429,43846.09142857143,43828.874285714286,43786.38571428572,43771.014285714286,43774.80714285715,43798.41857142857,43794.84032981571,43807.66285714285,43807.34428571429,43836.9875,43872.08714285714,43900.88857142856,43901.008571428574,43890.30857142857,43858.474285714285,43893.88166666668,43866.00571428572,43843.235714285714,43821.555714285714,43752.37,43704.62857142857,43671.72,43644.06142857143,43610.07408044428,43504.71428571428,43365.91375,43313.70812588,43296.055714285714,43239.0175,43092.85375,43251.94250000001,43264.50125,43307.44571428571,43296.88375,43341.862857142856,43353.12,43365.74875000001,43477.0875,43588.102500000015,43447.60285714286,43205.55625,43234.95285714286,43267.83,43229.50125,43106.66925542,43064.47714285714,43054.81000000001,43002.9225,42998.535,43227.1275,43122.16,43192.76624999999,43106.25997366144,43159.91625,43085.22049047715,43049.56714285714,42972.15714285714,42979.09125000001,42873.23000000002,42815.11375,42707.930000000015,42766.4325,42775.73125,42694.57285714285,42675.71750000001,42599.647142857146,42620.29375,42577.715,42683.24375,42673.72571428572,42768.39625000001,42819.91125,42750.58285714287,42760.10875,42632.465,42718.815,42772.92125,42762.29,42703.80250000001,42655.528483642855,42688.935,42790.287142857145,42792.855714285724,42745.15375,42896.17428571428,42937.78428571428,42933.25490686,42974.10869267286,42971.347142857136,42982.91571428572,42983.779999999984,42904.19714285714,42859.38571428572,42839.01280218857,43009.96125],\"x\":[\"2021-09-20T22:21:00\",\"2021-09-20T22:22:00\",\"2021-09-20T22:23:00\",\"2021-09-20T22:24:00\",\"2021-09-20T22:25:00\",\"2021-09-20T22:26:00\",\"2021-09-20T22:27:00\",\"2021-09-20T22:28:00\",\"2021-09-20T22:29:00\",\"2021-09-20T22:30:00\",\"2021-09-20T22:31:00\",\"2021-09-20T22:32:00\",\"2021-09-20T22:33:00\",\"2021-09-20T22:34:00\",\"2021-09-20T22:35:00\",\"2021-09-20T22:36:00\",\"2021-09-20T22:37:00\",\"2021-09-20T22:38:00\",\"2021-09-20T22:39:00\",\"2021-09-20T22:40:00\",\"2021-09-20T22:41:00\",\"2021-09-20T22:42:00\",\"2021-09-20T22:43:00\",\"2021-09-20T22:44:00\",\"2021-09-20T22:45:00\",\"2021-09-20T22:46:00\",\"2021-09-20T22:47:00\",\"2021-09-20T22:48:00\",\"2021-09-20T22:49:00\",\"2021-09-20T22:50:00\",\"2021-09-20T22:51:00\",\"2021-09-20T22:52:00\",\"2021-09-20T22:53:00\",\"2021-09-20T22:54:00\",\"2021-09-20T22:55:00\",\"2021-09-20T22:56:00\",\"2021-09-20T22:57:00\",\"2021-09-20T22:58:00\",\"2021-09-20T22:59:00\",\"2021-09-20T23:00:00\",\"2021-09-20T23:01:00\",\"2021-09-20T23:02:00\",\"2021-09-20T23:03:00\",\"2021-09-20T23:04:00\",\"2021-09-20T23:05:00\",\"2021-09-20T23:06:00\",\"2021-09-20T23:07:00\",\"2021-09-20T23:08:00\",\"2021-09-20T23:09:00\",\"2021-09-20T23:10:00\",\"2021-09-20T23:11:00\",\"2021-09-20T23:12:00\",\"2021-09-20T23:13:00\",\"2021-09-20T23:14:00\",\"2021-09-20T23:15:00\",\"2021-09-20T23:16:00\",\"2021-09-20T23:17:00\",\"2021-09-20T23:18:00\",\"2021-09-20T23:19:00\",\"2021-09-20T23:20:00\",\"2021-09-20T23:21:00\",\"2021-09-20T23:22:00\",\"2021-09-20T23:23:00\",\"2021-09-20T23:24:00\",\"2021-09-20T23:25:00\",\"2021-09-20T23:26:00\",\"2021-09-20T23:27:00\",\"2021-09-20T23:28:00\",\"2021-09-20T23:29:00\",\"2021-09-20T23:30:00\",\"2021-09-20T23:31:00\",\"2021-09-20T23:32:00\",\"2021-09-20T23:33:00\",\"2021-09-20T23:34:00\",\"2021-09-20T23:35:00\",\"2021-09-20T23:36:00\",\"2021-09-20T23:37:00\",\"2021-09-20T23:38:00\",\"2021-09-20T23:39:00\",\"2021-09-20T23:40:00\",\"2021-09-20T23:41:00\",\"2021-09-20T23:42:00\",\"2021-09-20T23:43:00\",\"2021-09-20T23:44:00\",\"2021-09-20T23:45:00\",\"2021-09-20T23:46:00\",\"2021-09-20T23:47:00\",\"2021-09-20T23:48:00\",\"2021-09-20T23:49:00\",\"2021-09-20T23:50:00\",\"2021-09-20T23:51:00\",\"2021-09-20T23:52:00\",\"2021-09-20T23:53:00\",\"2021-09-20T23:54:00\",\"2021-09-20T23:55:00\",\"2021-09-20T23:56:00\",\"2021-09-20T23:57:00\",\"2021-09-20T23:58:00\",\"2021-09-20T23:59:00\",\"2021-09-21T00:00:00\"],\"type\":\"candlestick\"}],                        {\"template\":{\"data\":{\"barpolar\":[{\"marker\":{\"line\":{\"color\":\"white\",\"width\":0.5},\"pattern\":{\"fillmode\":\"overlay\",\"size\":10,\"solidity\":0.2}},\"type\":\"barpolar\"}],\"bar\":[{\"error_x\":{\"color\":\"#2a3f5f\"},\"error_y\":{\"color\":\"#2a3f5f\"},\"marker\":{\"line\":{\"color\":\"white\",\"width\":0.5},\"pattern\":{\"fillmode\":\"overlay\",\"size\":10,\"solidity\":0.2}},\"type\":\"bar\"}],\"carpet\":[{\"aaxis\":{\"endlinecolor\":\"#2a3f5f\",\"gridcolor\":\"#C8D4E3\",\"linecolor\":\"#C8D4E3\",\"minorgridcolor\":\"#C8D4E3\",\"startlinecolor\":\"#2a3f5f\"},\"baxis\":{\"endlinecolor\":\"#2a3f5f\",\"gridcolor\":\"#C8D4E3\",\"linecolor\":\"#C8D4E3\",\"minorgridcolor\":\"#C8D4E3\",\"startlinecolor\":\"#2a3f5f\"},\"type\":\"carpet\"}],\"choropleth\":[{\"colorbar\":{\"outlinewidth\":0,\"ticks\":\"\"},\"type\":\"choropleth\"}],\"contourcarpet\":[{\"colorbar\":{\"outlinewidth\":0,\"ticks\":\"\"},\"type\":\"contourcarpet\"}],\"contour\":[{\"colorbar\":{\"outlinewidth\":0,\"ticks\":\"\"},\"colorscale\":[[0.0,\"#0d0887\"],[0.1111111111111111,\"#46039f\"],[0.2222222222222222,\"#7201a8\"],[0.3333333333333333,\"#9c179e\"],[0.4444444444444444,\"#bd3786\"],[0.5555555555555556,\"#d8576b\"],[0.6666666666666666,\"#ed7953\"],[0.7777777777777778,\"#fb9f3a\"],[0.8888888888888888,\"#fdca26\"],[1.0,\"#f0f921\"]],\"type\":\"contour\"}],\"heatmapgl\":[{\"colorbar\":{\"outlinewidth\":0,\"ticks\":\"\"},\"colorscale\":[[0.0,\"#0d0887\"],[0.1111111111111111,\"#46039f\"],[0.2222222222222222,\"#7201a8\"],[0.3333333333333333,\"#9c179e\"],[0.4444444444444444,\"#bd3786\"],[0.5555555555555556,\"#d8576b\"],[0.6666666666666666,\"#ed7953\"],[0.7777777777777778,\"#fb9f3a\"],[0.8888888888888888,\"#fdca26\"],[1.0,\"#f0f921\"]],\"type\":\"heatmapgl\"}],\"heatmap\":[{\"colorbar\":{\"outlinewidth\":0,\"ticks\":\"\"},\"colorscale\":[[0.0,\"#0d0887\"],[0.1111111111111111,\"#46039f\"],[0.2222222222222222,\"#7201a8\"],[0.3333333333333333,\"#9c179e\"],[0.4444444444444444,\"#bd3786\"],[0.5555555555555556,\"#d8576b\"],[0.6666666666666666,\"#ed7953\"],[0.7777777777777778,\"#fb9f3a\"],[0.8888888888888888,\"#fdca26\"],[1.0,\"#f0f921\"]],\"type\":\"heatmap\"}],\"histogram2dcontour\":[{\"colorbar\":{\"outlinewidth\":0,\"ticks\":\"\"},\"colorscale\":[[0.0,\"#0d0887\"],[0.1111111111111111,\"#46039f\"],[0.2222222222222222,\"#7201a8\"],[0.3333333333333333,\"#9c179e\"],[0.4444444444444444,\"#bd3786\"],[0.5555555555555556,\"#d8576b\"],[0.6666666666666666,\"#ed7953\"],[0.7777777777777778,\"#fb9f3a\"],[0.8888888888888888,\"#fdca26\"],[1.0,\"#f0f921\"]],\"type\":\"histogram2dcontour\"}],\"histogram2d\":[{\"colorbar\":{\"outlinewidth\":0,\"ticks\":\"\"},\"colorscale\":[[0.0,\"#0d0887\"],[0.1111111111111111,\"#46039f\"],[0.2222222222222222,\"#7201a8\"],[0.3333333333333333,\"#9c179e\"],[0.4444444444444444,\"#bd3786\"],[0.5555555555555556,\"#d8576b\"],[0.6666666666666666,\"#ed7953\"],[0.7777777777777778,\"#fb9f3a\"],[0.8888888888888888,\"#fdca26\"],[1.0,\"#f0f921\"]],\"type\":\"histogram2d\"}],\"histogram\":[{\"marker\":{\"pattern\":{\"fillmode\":\"overlay\",\"size\":10,\"solidity\":0.2}},\"type\":\"histogram\"}],\"mesh3d\":[{\"colorbar\":{\"outlinewidth\":0,\"ticks\":\"\"},\"type\":\"mesh3d\"}],\"parcoords\":[{\"line\":{\"colorbar\":{\"outlinewidth\":0,\"ticks\":\"\"}},\"type\":\"parcoords\"}],\"pie\":[{\"automargin\":true,\"type\":\"pie\"}],\"scatter3d\":[{\"line\":{\"colorbar\":{\"outlinewidth\":0,\"ticks\":\"\"}},\"marker\":{\"colorbar\":{\"outlinewidth\":0,\"ticks\":\"\"}},\"type\":\"scatter3d\"}],\"scattercarpet\":[{\"marker\":{\"colorbar\":{\"outlinewidth\":0,\"ticks\":\"\"}},\"type\":\"scattercarpet\"}],\"scattergeo\":[{\"marker\":{\"colorbar\":{\"outlinewidth\":0,\"ticks\":\"\"}},\"type\":\"scattergeo\"}],\"scattergl\":[{\"marker\":{\"colorbar\":{\"outlinewidth\":0,\"ticks\":\"\"}},\"type\":\"scattergl\"}],\"scattermapbox\":[{\"marker\":{\"colorbar\":{\"outlinewidth\":0,\"ticks\":\"\"}},\"type\":\"scattermapbox\"}],\"scatterpolargl\":[{\"marker\":{\"colorbar\":{\"outlinewidth\":0,\"ticks\":\"\"}},\"type\":\"scatterpolargl\"}],\"scatterpolar\":[{\"marker\":{\"colorbar\":{\"outlinewidth\":0,\"ticks\":\"\"}},\"type\":\"scatterpolar\"}],\"scatter\":[{\"marker\":{\"colorbar\":{\"outlinewidth\":0,\"ticks\":\"\"}},\"type\":\"scatter\"}],\"scatterternary\":[{\"marker\":{\"colorbar\":{\"outlinewidth\":0,\"ticks\":\"\"}},\"type\":\"scatterternary\"}],\"surface\":[{\"colorbar\":{\"outlinewidth\":0,\"ticks\":\"\"},\"colorscale\":[[0.0,\"#0d0887\"],[0.1111111111111111,\"#46039f\"],[0.2222222222222222,\"#7201a8\"],[0.3333333333333333,\"#9c179e\"],[0.4444444444444444,\"#bd3786\"],[0.5555555555555556,\"#d8576b\"],[0.6666666666666666,\"#ed7953\"],[0.7777777777777778,\"#fb9f3a\"],[0.8888888888888888,\"#fdca26\"],[1.0,\"#f0f921\"]],\"type\":\"surface\"}],\"table\":[{\"cells\":{\"fill\":{\"color\":\"#EBF0F8\"},\"line\":{\"color\":\"white\"}},\"header\":{\"fill\":{\"color\":\"#C8D4E3\"},\"line\":{\"color\":\"white\"}},\"type\":\"table\"}]},\"layout\":{\"annotationdefaults\":{\"arrowcolor\":\"#2a3f5f\",\"arrowhead\":0,\"arrowwidth\":1},\"autotypenumbers\":\"strict\",\"coloraxis\":{\"colorbar\":{\"outlinewidth\":0,\"ticks\":\"\"}},\"colorscale\":{\"diverging\":[[0,\"#8e0152\"],[0.1,\"#c51b7d\"],[0.2,\"#de77ae\"],[0.3,\"#f1b6da\"],[0.4,\"#fde0ef\"],[0.5,\"#f7f7f7\"],[0.6,\"#e6f5d0\"],[0.7,\"#b8e186\"],[0.8,\"#7fbc41\"],[0.9,\"#4d9221\"],[1,\"#276419\"]],\"sequential\":[[0.0,\"#0d0887\"],[0.1111111111111111,\"#46039f\"],[0.2222222222222222,\"#7201a8\"],[0.3333333333333333,\"#9c179e\"],[0.4444444444444444,\"#bd3786\"],[0.5555555555555556,\"#d8576b\"],[0.6666666666666666,\"#ed7953\"],[0.7777777777777778,\"#fb9f3a\"],[0.8888888888888888,\"#fdca26\"],[1.0,\"#f0f921\"]],\"sequentialminus\":[[0.0,\"#0d0887\"],[0.1111111111111111,\"#46039f\"],[0.2222222222222222,\"#7201a8\"],[0.3333333333333333,\"#9c179e\"],[0.4444444444444444,\"#bd3786\"],[0.5555555555555556,\"#d8576b\"],[0.6666666666666666,\"#ed7953\"],[0.7777777777777778,\"#fb9f3a\"],[0.8888888888888888,\"#fdca26\"],[1.0,\"#f0f921\"]]},\"colorway\":[\"#636efa\",\"#EF553B\",\"#00cc96\",\"#ab63fa\",\"#FFA15A\",\"#19d3f3\",\"#FF6692\",\"#B6E880\",\"#FF97FF\",\"#FECB52\"],\"font\":{\"color\":\"#2a3f5f\"},\"geo\":{\"bgcolor\":\"white\",\"lakecolor\":\"white\",\"landcolor\":\"white\",\"showlakes\":true,\"showland\":true,\"subunitcolor\":\"#C8D4E3\"},\"hoverlabel\":{\"align\":\"left\"},\"hovermode\":\"closest\",\"mapbox\":{\"style\":\"light\"},\"paper_bgcolor\":\"white\",\"plot_bgcolor\":\"white\",\"polar\":{\"angularaxis\":{\"gridcolor\":\"#EBF0F8\",\"linecolor\":\"#EBF0F8\",\"ticks\":\"\"},\"bgcolor\":\"white\",\"radialaxis\":{\"gridcolor\":\"#EBF0F8\",\"linecolor\":\"#EBF0F8\",\"ticks\":\"\"}},\"scene\":{\"xaxis\":{\"backgroundcolor\":\"white\",\"gridcolor\":\"#DFE8F3\",\"gridwidth\":2,\"linecolor\":\"#EBF0F8\",\"showbackground\":true,\"ticks\":\"\",\"zerolinecolor\":\"#EBF0F8\"},\"yaxis\":{\"backgroundcolor\":\"white\",\"gridcolor\":\"#DFE8F3\",\"gridwidth\":2,\"linecolor\":\"#EBF0F8\",\"showbackground\":true,\"ticks\":\"\",\"zerolinecolor\":\"#EBF0F8\"},\"zaxis\":{\"backgroundcolor\":\"white\",\"gridcolor\":\"#DFE8F3\",\"gridwidth\":2,\"linecolor\":\"#EBF0F8\",\"showbackground\":true,\"ticks\":\"\",\"zerolinecolor\":\"#EBF0F8\"}},\"shapedefaults\":{\"line\":{\"color\":\"#2a3f5f\"}},\"ternary\":{\"aaxis\":{\"gridcolor\":\"#DFE8F3\",\"linecolor\":\"#A2B1C6\",\"ticks\":\"\"},\"baxis\":{\"gridcolor\":\"#DFE8F3\",\"linecolor\":\"#A2B1C6\",\"ticks\":\"\"},\"bgcolor\":\"white\",\"caxis\":{\"gridcolor\":\"#DFE8F3\",\"linecolor\":\"#A2B1C6\",\"ticks\":\"\"}},\"title\":{\"x\":0.05},\"xaxis\":{\"automargin\":true,\"gridcolor\":\"#EBF0F8\",\"linecolor\":\"#EBF0F8\",\"ticks\":\"\",\"title\":{\"standoff\":15},\"zerolinecolor\":\"#EBF0F8\",\"zerolinewidth\":2},\"yaxis\":{\"automargin\":true,\"gridcolor\":\"#EBF0F8\",\"linecolor\":\"#EBF0F8\",\"ticks\":\"\",\"title\":{\"standoff\":15},\"zerolinecolor\":\"#EBF0F8\",\"zerolinewidth\":2}}},\"xaxis\":{\"title\":{\"text\":\"Time\"},\"rangeslider\":{\"visible\":true}},\"title\":{\"text\":\"Bitcoin(BTC) Candelstick Chart\",\"y\":0.9,\"x\":0.5,\"xanchor\":\"center\",\"yanchor\":\"top\"},\"yaxis\":{\"title\":{\"text\":\"Price in USD\"},\"ticksuffix\":\"$\"}},                        {\"responsive\": true}                    ).then(function(){\n",
              "                            \n",
              "var gd = document.getElementById('a0a510e7-22ef-4c02-b588-424806f7f51e');\n",
              "var x = new MutationObserver(function (mutations, observer) {{\n",
              "        var display = window.getComputedStyle(gd).display;\n",
              "        if (!display || display === 'none') {{\n",
              "            console.log([gd, 'removed!']);\n",
              "            Plotly.purge(gd);\n",
              "            observer.disconnect();\n",
              "        }}\n",
              "}});\n",
              "\n",
              "// Listen for the removal of the full notebook cells\n",
              "var notebookContainer = gd.closest('#notebook-container');\n",
              "if (notebookContainer) {{\n",
              "    x.observe(notebookContainer, {childList: true});\n",
              "}}\n",
              "\n",
              "// Listen for the clearing of the current output cell\n",
              "var outputEl = gd.closest('.output');\n",
              "if (outputEl) {{\n",
              "    x.observe(outputEl, {childList: true});\n",
              "}}\n",
              "\n",
              "                        })                };                            </script>        </div>\n",
              "</body>\n",
              "</html>"
            ]
          },
          "metadata": {}
        },
        {
          "output_type": "display_data",
          "data": {
            "text/html": [
              "<html>\n",
              "<head><meta charset=\"utf-8\" /></head>\n",
              "<body>\n",
              "    <div>            <script src=\"https://cdnjs.cloudflare.com/ajax/libs/mathjax/2.7.5/MathJax.js?config=TeX-AMS-MML_SVG\"></script><script type=\"text/javascript\">if (window.MathJax) {MathJax.Hub.Config({SVG: {font: \"STIX-Web\"}});}</script>                <script type=\"text/javascript\">window.PlotlyConfig = {MathJaxConfig: 'local'};</script>\n",
              "        <script src=\"https://cdn.plot.ly/plotly-2.8.3.min.js\"></script>                <div id=\"0a8b1237-78f1-48e9-8377-1c28a63ce793\" class=\"plotly-graph-div\" style=\"height:525px; width:100%;\"></div>            <script type=\"text/javascript\">                                    window.PLOTLYENV=window.PLOTLYENV || {};                                    if (document.getElementById(\"0a8b1237-78f1-48e9-8377-1c28a63ce793\")) {                    Plotly.newPlot(                        \"0a8b1237-78f1-48e9-8377-1c28a63ce793\",                        [{\"close\":[3048.0171428571434,3055.902857142857,3069.994285714285,3068.894285714285,3073.7114285714283,3071.707142857142,3074.728571428572,3070.582857142857,3073.3214285714284,3077.671428571429,3078.434285714285,3074.4,3071.797142857143,3072.562857142857,3067.35,3068.4842857142853,3059.8228571428576,3063.218571428571,3061.8314285714287,3066.401428571429,3060.547142857143,3061.911428571428,3057.875714285715,3059.394285714285,3058.94,3057.902857142857,3057.957142857142,3057.132857142857,3060.884285714286,3053.7200000000007,3052.665714285715,3046.505714285715,3046.824285714285,3042.457142857143,3046.354285714285,3046.21,3042.738571428571,3043.827142857143,3039.3457142857146,3041.2971428571423,3039.9450883642853,3039.5614285714287,3039.347142857143,3039.354285714286,3040.2528571428584,3040.808571428571,3041.792857142857,3041.61,3030.795714285713,3021.2828571428577,3010.6014285714286,3008.8637631742854,3004.612857142857,3010.888571428572,3003.307142857143,3006.071428571429,3000.741428571429,3005.244149767143,3000.0651961,2999.124285714286,2990.445714285714,2996.911428571429,2999.3857142857146,2999.397142857143,2998.755714285714,3004.738571428571,3009.2914285714287,3015.1600000000008,3018.515851722857,3037.188571428572,3030.354285714286,3023.3442857142863,3009.337142857143,3017.68,3012.8371428571418,3022.822857142857,3021.182857142857,3029.1,3028.881428571429,3035.354725822857,3032.938571428572,3038.241428571428,3030.587142857143,3029.025714285715,3027.3228571428576,3023.5371428571425,3023.890000000001,3034.668333333333,3038.7,3039.9886590657147,3033.9200000000005,3037.05,3037.911428571429,3038.068121018572,3038.581918151428,3034.662857142857,3039.891666666667,3040.213333333333,3040.718571428571,3040.697142857143,3034.8228571428576,3033.857142857143,3033.378571428572,3033.02,3030.40441334,3029.832857142857,3030.3857142857146,3032.0116666666668,3031.528571428571,3031.4233604257142,3031.644285714286,3034.441666666667,3037.104285714285,3039.8214285714284,3045.7571428571423,3043.490633111428,3044.089614203334,3036.217142857143,3035.2666666666664,3037.361428571429,3041.008571428571,3031.502857142857,3028.4000000000005,3030.0914285714284,3029.712857142857,3024.05,3022.312857142857,3017.306666666667,3017.298571428572,3028.084285714285,3027.9271428571424,3023.768571428572,3030.517629241428,3033.3071428571425,3022.3785714285714,3027.7342857142853,3031.4757142857147,3035.437142857143,3038.377142857142,3040.19,3042.672857142857,3038.4442857142853,3037.7714285714287,3039.06,3040.924285714286,3045.612857142857,3052.96,3055.615,3055.051428571429,3055.898571428572,3049.025714285715,3051.651428571429,3053.748571428572,3052.3,3053.867142857143,3054.7900000000004,3048.87715224,3045.9371428571435,3045.261428571429,3047.63,3047.28,3045.1714285714284,3046.8514285714286,3048.338571428572,3052.535714285714,3055.5042857142853,3055.9771428571435,3053.638571428572,3049.048571428571,3054.095714285714,3051.001666666667,3048.02,3044.043333333333,3036.238571428571,3031.844285714286,3027.99,3018.332857142857,3017.5614285714287,3008.387142857143,2996.458626465714,2992.7671428571434,2988.478571428572,2981.3514285714286,2967.982857142857,2982.665714285715,2983.8257142857133,2986.055714285714,2986.741428571429,2992.184285714286,2993.820451447143,2992.871428571428,3003.080000000001,3012.9842857142853,3004.64,2982.837142857143,2979.2771428571423,2980.617142857143,2978.592746214286,2968.914285714286,2966.3028571428576,2964.587142857143,2961.6314285714284,2959.2942857142853,2978.451428571429,2971.3214285714284,2978.464285714286,2971.51,2974.278571428571,2969.058587331429,2967.3814285714284,2959.3614285714284,2961.7542857142853,2954.5242857142857,2951.834285714285,2953.892007824285,2959.278571428572,2964.534600452857,2959.5528571428576,2955.925714285714,2952.297142857143,2950.262857142857,2948.182857142857,2956.465714285714,2956.7478496571425,2960.381428571429,2969.7771428571427,2966.0,2965.5242857142853,2955.498571428572,2959.727142857143,2965.9271428571424,2966.315714285714,2961.05,2955.7542857142853,2953.845739191428,2962.108571428572,2963.394285714285,2959.516104105715,2971.905714285714,2978.068663851428,2975.14,2977.1957142857145,2977.387142857143,2978.137142857143,2974.0271428571427,2964.7114285714283,2960.845714285714,2957.398571428572,2977.19,2972.603333333334],\"high\":[3052.88,3059.48,3074.98,3072.62,3076.77,3074.97,3075.97,3077.2,3076.73,3078.77,3083.24,3080.39,3075.67,3075.38,3073.5,3073.6,3069.1,3066.0,3064.1,3066.87,3066.9,3063.19,3064.06,3061.78,3062.97,3060.0,3061.21,3058.64,3063.8,3062.1,3054.63,3054.06,3048.58,3049.31,3048.5,3052.25,3048.36,3045.02,3044.86,3046.57,3042.2,3044.25,3040.69,3040.7,3041.79,3043.18,3043.32,3044.9,3041.98,3031.7,3023.17,3014.03,3010.94,3013.55,3014.33,3007.5,3007.6,3006.84,3006.22,3002.4,3000.6,3000.1,3001.22,3001.58,3001.85,3006.7,3012.18,3016.59,3022.53,3040.0,3039.8,3030.0,3024.46,3019.32,3022.46678372,3024.66,3023.81,3031.69,3031.69,3036.86,3037.19,3042.0,3039.0,3032.66,3032.28,3028.3,3026.26,3035.71,3039.89,3043.46,3040.8,3039.16,3041.0,3039.89,3040.41,3039.93,3041.46,3041.22,3042.29,3042.58,3041.0913911,3035.01969993,3035.0,3033.86,3033.5,3030.9,3031.13,3033.13,3032.77,3032.53,3032.58,3035.06,3038.16,3040.99,3047.96,3049.79,3046.4,3044.5898716999995,3036.3,3038.4,3042.67,3042.46,3033.3,3031.99,3030.66,3030.65,3025.42,3023.21,3018.4,3028.99,3033.3,3028.69,3034.37,3042.19570126,3033.55,3029.96,3033.31,3038.45,3040.0,3042.66,3044.27,3043.01,3042.61,3045.84,3043.8,3046.91,3055.6,3057.05,3056.85,3059.55,3061.5,3054.19,3057.5,3056.17,3055.83,3057.72,3055.64,3050.6,3049.12,3048.94,3049.52,3048.85,3048.6,3050.49,3056.06,3056.8,3060.0,3056.6,3054.72,3055.51,3055.87,3052.48,3049.12,3046.4,3039.84,3032.94,3030.46,3024.37,3017.8,3012.64,3002.45,2995.17,2993.59,2982.21,2986.86,2986.71,2989.27,2993.16,2993.93,2996.12,2996.14,3006.59,3015.81,3016.47,3005.8,2989.08,2988.63,2983.13,2982.2,2970.4,2967.8,2967.90990952,2967.77,2981.97,2986.84,2979.7,2983.1,2978.3,2977.36,2971.08,2970.57105798,2963.94,2962.6,2956.61,2957.97,2964.2,2965.99,2969.9,2961.12,2966.4,2959.09,2952.22,2957.84,2964.99,2967.62,2973.96,2972.23,2973.51,2971.08,2962.39,2968.7,2969.29,2971.11,2964.77,2960.23,2965.91,2966.19,2966.07,2974.1,2982.58,2979.21,2981.68,2980.08,2982.9,2979.0,2976.1,2967.95,2962.6,2978.71,2978.82],\"low\":[3045.36,3044.44,3054.49,3065.0,3067.77,3065.75,3068.7,3068.95,3067.42,3067.54,3075.42,3071.34,3065.82,3070.08,3066.56,3066.05,3058.06,3059.78,3059.47,3058.98,3059.2,3056.47,3056.17,3057.21,3057.29,3056.0,3054.15,3055.85,3056.5,3051.47,3051.35,3044.0,3041.22,3041.41,3041.47,3044.84,3041.42,3041.83,3037.13,3038.88,3037.75,3036.89,3037.0,3037.84,3037.56,3038.2,3038.48,3039.77,3028.28,3017.33,3005.35,3004.67,3002.34,3004.51,3000.0,2992.1,2996.7,2999.96,2997.02,2996.65,2989.34,2986.36,2994.97,2994.24,2996.7,2997.64,3001.92,3008.37,3012.06,3017.75,3025.69,3021.37,3006.83,3008.42,3009.93,3010.38,3013.25,3018.95,3027.16,3027.93,3031.1,3031.96,3029.42,3025.85,3024.89,3022.53,3018.99,3022.92,3032.49,3037.38,3031.9,3031.08,3035.99,3034.31,3036.65,3032.94,3033.64,3037.55,3038.03,3039.95,3033.07,3032.73,3032.0,3031.85,3028.64,3028.93,3029.34,3029.98,3030.0,3030.0,3030.01,3030.01,3033.69,3034.8,3039.77,3042.13,3042.02,3034.75,3033.37,3034.59,3036.16,3030.02,3027.1,3027.36,3027.98,3021.48,3020.71,3016.48,3016.29,3016.29,3024.99,3022.6,3021.8,3030.52,3020.3,3019.18,3025.35,3030.0,3034.89,3038.02,3039.13,3037.01,3036.92,3033.72,3034.99,3040.57,3043.92,3048.74,3050.18,3051.19,3045.87,3048.2,3049.81,3050.01,3049.25,3053.04,3047.8,3043.16,3043.89,3043.31,3045.95,3038.82,3044.45,3046.59,3046.81,3049.84,3054.04,3052.04,3048.21,3046.25,3049.47,3046.67,3042.99,3035.11,3030.93,3025.18,3017.05,3014.55,3007.24,2993.46,2991.15,2983.93,2977.46,2963.21,2967.77,2971.95,2973.82,2979.98,2981.04,2990.25,2987.48,2992.0,2998.95,3003.35,2981.07,2975.54,2975.27,2976.47,2967.0,2964.98,2960.0,2953.83,2957.65,2958.35,2969.49,2962.67,2969.53,2967.93,2967.05,2963.33,2952.0,2952.6,2947.62,2950.0,2947.24,2952.3,2953.82,2956.52,2953.49,2950.0,2948.86,2945.03,2945.0,2953.11,2954.09,2959.38,2963.03,2963.94,2952.65,2952.39,2958.39,2960.6,2959.22,2953.66,2952.0,2952.71,2962.21,2957.91,2958.09,2967.82,2971.34,2971.34,2973.57,2975.88,2967.13,2962.09,2958.05,2954.14,2956.75,2969.35],\"open\":[3049.525714285715,3047.478571428572,3056.6161744271435,3069.9757142857147,3069.828571428571,3072.758571428572,3071.551428571428,3074.4357142857148,3070.474285714285,3072.509624532857,3077.978571428572,3078.661428571428,3074.197142857143,3072.86,3072.032857142857,3067.204285714285,3068.28,3060.7671428571434,3062.388571428572,3061.7257142857147,3066.354285714285,3060.870000000001,3061.777588625714,3058.068571428572,3059.314285714285,3058.8414285714284,3057.714285714286,3057.92,3057.4728571428573,3060.467142857143,3053.442857142857,3052.7000000000007,3045.7871428571425,3046.847142857143,3042.447142857143,3047.422857142857,3045.8457142857146,3042.758571428571,3043.928571428572,3040.801428571428,3040.48,3040.122857142857,3039.328571428572,3039.3057142857133,3039.5071428571428,3040.553443715715,3040.7885714285712,3042.493668354286,3041.248571428572,3030.9471428571424,3022.0414285714287,3010.547142857143,3008.681002678571,3005.285714285714,3010.867142857143,3003.9300000000007,3006.192857142857,3000.871428571428,3005.317142857143,3000.405714285714,2998.4557142857147,2990.092857142857,2997.462857142857,2998.9614285714288,3000.678674422857,2999.125714285715,3004.978571428572,3009.584285714285,3015.561810472857,3019.434285714285,3037.312857142857,3028.384285714286,3022.817142857143,3010.412857142857,3017.648571428572,3013.7114285714288,3022.27,3021.388571428572,3029.33722242,3029.2771428571427,3035.5328571428577,3033.52,3037.628571428572,3029.928160967143,3029.13,3026.9757142857143,3023.17386884,3024.496666666668,3035.184285714286,3039.2314285714283,3039.465714285714,3033.5842857142857,3037.958571428572,3037.807142857143,3038.0333467228565,3038.706203865714,3035.345,3039.905,3040.0571428571416,3040.7000000000007,3040.524484442857,3033.991428571428,3033.9,3033.2457142857147,3033.022857142857,3030.142499438572,3029.917142857142,3030.595,3032.0509337771427,3031.380933777143,3031.5071428571428,3031.856666666666,3034.595714285714,3037.462857142857,3040.59,3046.5528571428576,3043.588333333333,3043.599981671429,3035.625,3035.689124085715,3037.795714285715,3041.354285714285,3031.5214285714287,3028.708527184285,3029.8,3029.735948247144,3024.2200000000007,3022.3416666666667,3017.1,3017.228571428572,3028.64,3027.371428571428,3023.684285714286,3032.534285714286,3032.0242857142853,3021.3642857142863,3029.167142857142,3032.305714285714,3036.171428571429,3039.545714285715,3039.404285714286,3041.872857142857,3038.661428571429,3036.6957142857136,3037.9128571428582,3042.574285714286,3046.2314285714288,3052.8716666666664,3055.39,3056.0371428571425,3057.447142857143,3050.1714285714284,3052.338571428572,3054.1014285714286,3051.762857142857,3054.844285714286,3053.622857142857,3048.8314379542853,3045.482857142857,3045.374285714286,3048.3310505685718,3047.352069631428,3046.611428571429,3047.491428571428,3048.2269611257148,3052.258571428572,3056.0571428571425,3054.811428571428,3052.9700000000007,3048.611428571429,3054.096666666667,3050.4757142857147,3047.9600000000005,3043.568571428572,3036.498571428572,3031.7157142857145,3027.299345192857,3018.4056356199994,3016.2671428571434,3008.641428571429,2997.348571428572,2993.18,2988.95,2980.6,2969.798571428572,2981.528571428572,2984.062857142857,2987.558571428572,2987.804285714286,2992.485714285714,2993.82811931,2993.2657142857147,3001.942857142857,3012.557142857143,3003.7771428571427,2983.167142857142,2979.474809408571,2980.2342857142853,2978.037142857143,2969.0071428571428,2966.178571428572,2963.625714285715,2962.242857142857,2960.618571428571,2977.661428571429,2970.2457142857147,2978.575714285714,2970.605714285715,2975.197142857143,2968.1800000000007,2967.0799999999995,2959.567142857143,2959.967142857143,2954.17,2951.82,2955.1771428571424,2959.782857142857,2964.384285714286,2959.088571428572,2957.0271428571427,2952.171912078572,2950.6542857142854,2948.182857142857,2956.870000000001,2956.57,2961.414285714286,2969.557142857143,2966.7157142857145,2965.647142857142,2955.097142857143,2960.612857142857,2965.741428571428,2967.775714285714,2961.5028571428584,2955.4257142857136,2954.9871428571428,2963.701428571429,2963.3071428571425,2959.8514285714286,2972.4614285714283,2977.4728571428573,2974.152857142857,2977.297142857143,2978.0328571428577,2977.782857142857,2973.728685914285,2965.461446438572,2960.3214285714284,2958.7714285714283,2976.8583333333336],\"x\":[\"2021-09-20T19:51:00\",\"2021-09-20T19:52:00\",\"2021-09-20T19:53:00\",\"2021-09-20T19:54:00\",\"2021-09-20T19:55:00\",\"2021-09-20T19:56:00\",\"2021-09-20T19:57:00\",\"2021-09-20T19:58:00\",\"2021-09-20T19:59:00\",\"2021-09-20T20:00:00\",\"2021-09-20T20:01:00\",\"2021-09-20T20:02:00\",\"2021-09-20T20:03:00\",\"2021-09-20T20:04:00\",\"2021-09-20T20:05:00\",\"2021-09-20T20:06:00\",\"2021-09-20T20:07:00\",\"2021-09-20T20:08:00\",\"2021-09-20T20:09:00\",\"2021-09-20T20:10:00\",\"2021-09-20T20:11:00\",\"2021-09-20T20:12:00\",\"2021-09-20T20:13:00\",\"2021-09-20T20:14:00\",\"2021-09-20T20:15:00\",\"2021-09-20T20:16:00\",\"2021-09-20T20:17:00\",\"2021-09-20T20:18:00\",\"2021-09-20T20:19:00\",\"2021-09-20T20:20:00\",\"2021-09-20T20:21:00\",\"2021-09-20T20:22:00\",\"2021-09-20T20:23:00\",\"2021-09-20T20:24:00\",\"2021-09-20T20:25:00\",\"2021-09-20T20:26:00\",\"2021-09-20T20:27:00\",\"2021-09-20T20:28:00\",\"2021-09-20T20:29:00\",\"2021-09-20T20:30:00\",\"2021-09-20T20:31:00\",\"2021-09-20T20:32:00\",\"2021-09-20T20:33:00\",\"2021-09-20T20:34:00\",\"2021-09-20T20:35:00\",\"2021-09-20T20:36:00\",\"2021-09-20T20:37:00\",\"2021-09-20T20:38:00\",\"2021-09-20T20:39:00\",\"2021-09-20T20:40:00\",\"2021-09-20T20:41:00\",\"2021-09-20T20:42:00\",\"2021-09-20T20:43:00\",\"2021-09-20T20:44:00\",\"2021-09-20T20:45:00\",\"2021-09-20T20:46:00\",\"2021-09-20T20:47:00\",\"2021-09-20T20:48:00\",\"2021-09-20T20:49:00\",\"2021-09-20T20:50:00\",\"2021-09-20T20:51:00\",\"2021-09-20T20:52:00\",\"2021-09-20T20:53:00\",\"2021-09-20T20:54:00\",\"2021-09-20T20:55:00\",\"2021-09-20T20:56:00\",\"2021-09-20T20:57:00\",\"2021-09-20T20:58:00\",\"2021-09-20T20:59:00\",\"2021-09-20T21:00:00\",\"2021-09-20T21:01:00\",\"2021-09-20T21:02:00\",\"2021-09-20T21:03:00\",\"2021-09-20T21:04:00\",\"2021-09-20T21:05:00\",\"2021-09-20T21:06:00\",\"2021-09-20T21:07:00\",\"2021-09-20T21:08:00\",\"2021-09-20T21:09:00\",\"2021-09-20T21:10:00\",\"2021-09-20T21:11:00\",\"2021-09-20T21:12:00\",\"2021-09-20T21:13:00\",\"2021-09-20T21:14:00\",\"2021-09-20T21:15:00\",\"2021-09-20T21:16:00\",\"2021-09-20T21:17:00\",\"2021-09-20T21:18:00\",\"2021-09-20T21:19:00\",\"2021-09-20T21:20:00\",\"2021-09-20T21:21:00\",\"2021-09-20T21:22:00\",\"2021-09-20T21:23:00\",\"2021-09-20T21:24:00\",\"2021-09-20T21:25:00\",\"2021-09-20T21:26:00\",\"2021-09-20T21:27:00\",\"2021-09-20T21:28:00\",\"2021-09-20T21:29:00\",\"2021-09-20T21:30:00\",\"2021-09-20T21:31:00\",\"2021-09-20T21:32:00\",\"2021-09-20T21:33:00\",\"2021-09-20T21:34:00\",\"2021-09-20T21:35:00\",\"2021-09-20T21:36:00\",\"2021-09-20T21:37:00\",\"2021-09-20T21:38:00\",\"2021-09-20T21:39:00\",\"2021-09-20T21:40:00\",\"2021-09-20T21:41:00\",\"2021-09-20T21:42:00\",\"2021-09-20T21:43:00\",\"2021-09-20T21:44:00\",\"2021-09-20T21:45:00\",\"2021-09-20T21:46:00\",\"2021-09-20T21:47:00\",\"2021-09-20T21:48:00\",\"2021-09-20T21:49:00\",\"2021-09-20T21:50:00\",\"2021-09-20T21:51:00\",\"2021-09-20T21:52:00\",\"2021-09-20T21:53:00\",\"2021-09-20T21:54:00\",\"2021-09-20T21:55:00\",\"2021-09-20T21:56:00\",\"2021-09-20T21:57:00\",\"2021-09-20T21:58:00\",\"2021-09-20T21:59:00\",\"2021-09-20T22:00:00\",\"2021-09-20T22:01:00\",\"2021-09-20T22:02:00\",\"2021-09-20T22:03:00\",\"2021-09-20T22:04:00\",\"2021-09-20T22:05:00\",\"2021-09-20T22:06:00\",\"2021-09-20T22:07:00\",\"2021-09-20T22:08:00\",\"2021-09-20T22:09:00\",\"2021-09-20T22:10:00\",\"2021-09-20T22:11:00\",\"2021-09-20T22:12:00\",\"2021-09-20T22:13:00\",\"2021-09-20T22:14:00\",\"2021-09-20T22:15:00\",\"2021-09-20T22:16:00\",\"2021-09-20T22:17:00\",\"2021-09-20T22:18:00\",\"2021-09-20T22:19:00\",\"2021-09-20T22:20:00\",\"2021-09-20T22:21:00\",\"2021-09-20T22:22:00\",\"2021-09-20T22:23:00\",\"2021-09-20T22:24:00\",\"2021-09-20T22:25:00\",\"2021-09-20T22:26:00\",\"2021-09-20T22:27:00\",\"2021-09-20T22:28:00\",\"2021-09-20T22:29:00\",\"2021-09-20T22:30:00\",\"2021-09-20T22:31:00\",\"2021-09-20T22:32:00\",\"2021-09-20T22:33:00\",\"2021-09-20T22:34:00\",\"2021-09-20T22:35:00\",\"2021-09-20T22:36:00\",\"2021-09-20T22:37:00\",\"2021-09-20T22:38:00\",\"2021-09-20T22:39:00\",\"2021-09-20T22:40:00\",\"2021-09-20T22:41:00\",\"2021-09-20T22:42:00\",\"2021-09-20T22:43:00\",\"2021-09-20T22:44:00\",\"2021-09-20T22:45:00\",\"2021-09-20T22:46:00\",\"2021-09-20T22:47:00\",\"2021-09-20T22:48:00\",\"2021-09-20T22:49:00\",\"2021-09-20T22:50:00\",\"2021-09-20T22:51:00\",\"2021-09-20T22:52:00\",\"2021-09-20T22:53:00\",\"2021-09-20T22:54:00\",\"2021-09-20T22:55:00\",\"2021-09-20T22:56:00\",\"2021-09-20T22:57:00\",\"2021-09-20T22:58:00\",\"2021-09-20T22:59:00\",\"2021-09-20T23:00:00\",\"2021-09-20T23:01:00\",\"2021-09-20T23:02:00\",\"2021-09-20T23:03:00\",\"2021-09-20T23:04:00\",\"2021-09-20T23:05:00\",\"2021-09-20T23:06:00\",\"2021-09-20T23:07:00\",\"2021-09-20T23:08:00\",\"2021-09-20T23:09:00\",\"2021-09-20T23:10:00\",\"2021-09-20T23:11:00\",\"2021-09-20T23:12:00\",\"2021-09-20T23:13:00\",\"2021-09-20T23:14:00\",\"2021-09-20T23:15:00\",\"2021-09-20T23:16:00\",\"2021-09-20T23:17:00\",\"2021-09-20T23:18:00\",\"2021-09-20T23:19:00\",\"2021-09-20T23:20:00\",\"2021-09-20T23:21:00\",\"2021-09-20T23:22:00\",\"2021-09-20T23:23:00\",\"2021-09-20T23:24:00\",\"2021-09-20T23:25:00\",\"2021-09-20T23:26:00\",\"2021-09-20T23:27:00\",\"2021-09-20T23:28:00\",\"2021-09-20T23:29:00\",\"2021-09-20T23:30:00\",\"2021-09-20T23:31:00\",\"2021-09-20T23:32:00\",\"2021-09-20T23:33:00\",\"2021-09-20T23:34:00\",\"2021-09-20T23:35:00\",\"2021-09-20T23:36:00\",\"2021-09-20T23:37:00\",\"2021-09-20T23:38:00\",\"2021-09-20T23:39:00\",\"2021-09-20T23:40:00\",\"2021-09-20T23:41:00\",\"2021-09-20T23:42:00\",\"2021-09-20T23:43:00\",\"2021-09-20T23:44:00\",\"2021-09-20T23:45:00\",\"2021-09-20T23:46:00\",\"2021-09-20T23:47:00\",\"2021-09-20T23:48:00\",\"2021-09-20T23:49:00\",\"2021-09-20T23:50:00\",\"2021-09-20T23:51:00\",\"2021-09-20T23:52:00\",\"2021-09-20T23:53:00\",\"2021-09-20T23:54:00\",\"2021-09-20T23:55:00\",\"2021-09-20T23:56:00\",\"2021-09-20T23:57:00\",\"2021-09-20T23:58:00\",\"2021-09-20T23:59:00\",\"2021-09-21T00:00:00\"],\"type\":\"candlestick\"}],                        {\"template\":{\"data\":{\"barpolar\":[{\"marker\":{\"line\":{\"color\":\"white\",\"width\":0.5},\"pattern\":{\"fillmode\":\"overlay\",\"size\":10,\"solidity\":0.2}},\"type\":\"barpolar\"}],\"bar\":[{\"error_x\":{\"color\":\"#2a3f5f\"},\"error_y\":{\"color\":\"#2a3f5f\"},\"marker\":{\"line\":{\"color\":\"white\",\"width\":0.5},\"pattern\":{\"fillmode\":\"overlay\",\"size\":10,\"solidity\":0.2}},\"type\":\"bar\"}],\"carpet\":[{\"aaxis\":{\"endlinecolor\":\"#2a3f5f\",\"gridcolor\":\"#C8D4E3\",\"linecolor\":\"#C8D4E3\",\"minorgridcolor\":\"#C8D4E3\",\"startlinecolor\":\"#2a3f5f\"},\"baxis\":{\"endlinecolor\":\"#2a3f5f\",\"gridcolor\":\"#C8D4E3\",\"linecolor\":\"#C8D4E3\",\"minorgridcolor\":\"#C8D4E3\",\"startlinecolor\":\"#2a3f5f\"},\"type\":\"carpet\"}],\"choropleth\":[{\"colorbar\":{\"outlinewidth\":0,\"ticks\":\"\"},\"type\":\"choropleth\"}],\"contourcarpet\":[{\"colorbar\":{\"outlinewidth\":0,\"ticks\":\"\"},\"type\":\"contourcarpet\"}],\"contour\":[{\"colorbar\":{\"outlinewidth\":0,\"ticks\":\"\"},\"colorscale\":[[0.0,\"#0d0887\"],[0.1111111111111111,\"#46039f\"],[0.2222222222222222,\"#7201a8\"],[0.3333333333333333,\"#9c179e\"],[0.4444444444444444,\"#bd3786\"],[0.5555555555555556,\"#d8576b\"],[0.6666666666666666,\"#ed7953\"],[0.7777777777777778,\"#fb9f3a\"],[0.8888888888888888,\"#fdca26\"],[1.0,\"#f0f921\"]],\"type\":\"contour\"}],\"heatmapgl\":[{\"colorbar\":{\"outlinewidth\":0,\"ticks\":\"\"},\"colorscale\":[[0.0,\"#0d0887\"],[0.1111111111111111,\"#46039f\"],[0.2222222222222222,\"#7201a8\"],[0.3333333333333333,\"#9c179e\"],[0.4444444444444444,\"#bd3786\"],[0.5555555555555556,\"#d8576b\"],[0.6666666666666666,\"#ed7953\"],[0.7777777777777778,\"#fb9f3a\"],[0.8888888888888888,\"#fdca26\"],[1.0,\"#f0f921\"]],\"type\":\"heatmapgl\"}],\"heatmap\":[{\"colorbar\":{\"outlinewidth\":0,\"ticks\":\"\"},\"colorscale\":[[0.0,\"#0d0887\"],[0.1111111111111111,\"#46039f\"],[0.2222222222222222,\"#7201a8\"],[0.3333333333333333,\"#9c179e\"],[0.4444444444444444,\"#bd3786\"],[0.5555555555555556,\"#d8576b\"],[0.6666666666666666,\"#ed7953\"],[0.7777777777777778,\"#fb9f3a\"],[0.8888888888888888,\"#fdca26\"],[1.0,\"#f0f921\"]],\"type\":\"heatmap\"}],\"histogram2dcontour\":[{\"colorbar\":{\"outlinewidth\":0,\"ticks\":\"\"},\"colorscale\":[[0.0,\"#0d0887\"],[0.1111111111111111,\"#46039f\"],[0.2222222222222222,\"#7201a8\"],[0.3333333333333333,\"#9c179e\"],[0.4444444444444444,\"#bd3786\"],[0.5555555555555556,\"#d8576b\"],[0.6666666666666666,\"#ed7953\"],[0.7777777777777778,\"#fb9f3a\"],[0.8888888888888888,\"#fdca26\"],[1.0,\"#f0f921\"]],\"type\":\"histogram2dcontour\"}],\"histogram2d\":[{\"colorbar\":{\"outlinewidth\":0,\"ticks\":\"\"},\"colorscale\":[[0.0,\"#0d0887\"],[0.1111111111111111,\"#46039f\"],[0.2222222222222222,\"#7201a8\"],[0.3333333333333333,\"#9c179e\"],[0.4444444444444444,\"#bd3786\"],[0.5555555555555556,\"#d8576b\"],[0.6666666666666666,\"#ed7953\"],[0.7777777777777778,\"#fb9f3a\"],[0.8888888888888888,\"#fdca26\"],[1.0,\"#f0f921\"]],\"type\":\"histogram2d\"}],\"histogram\":[{\"marker\":{\"pattern\":{\"fillmode\":\"overlay\",\"size\":10,\"solidity\":0.2}},\"type\":\"histogram\"}],\"mesh3d\":[{\"colorbar\":{\"outlinewidth\":0,\"ticks\":\"\"},\"type\":\"mesh3d\"}],\"parcoords\":[{\"line\":{\"colorbar\":{\"outlinewidth\":0,\"ticks\":\"\"}},\"type\":\"parcoords\"}],\"pie\":[{\"automargin\":true,\"type\":\"pie\"}],\"scatter3d\":[{\"line\":{\"colorbar\":{\"outlinewidth\":0,\"ticks\":\"\"}},\"marker\":{\"colorbar\":{\"outlinewidth\":0,\"ticks\":\"\"}},\"type\":\"scatter3d\"}],\"scattercarpet\":[{\"marker\":{\"colorbar\":{\"outlinewidth\":0,\"ticks\":\"\"}},\"type\":\"scattercarpet\"}],\"scattergeo\":[{\"marker\":{\"colorbar\":{\"outlinewidth\":0,\"ticks\":\"\"}},\"type\":\"scattergeo\"}],\"scattergl\":[{\"marker\":{\"colorbar\":{\"outlinewidth\":0,\"ticks\":\"\"}},\"type\":\"scattergl\"}],\"scattermapbox\":[{\"marker\":{\"colorbar\":{\"outlinewidth\":0,\"ticks\":\"\"}},\"type\":\"scattermapbox\"}],\"scatterpolargl\":[{\"marker\":{\"colorbar\":{\"outlinewidth\":0,\"ticks\":\"\"}},\"type\":\"scatterpolargl\"}],\"scatterpolar\":[{\"marker\":{\"colorbar\":{\"outlinewidth\":0,\"ticks\":\"\"}},\"type\":\"scatterpolar\"}],\"scatter\":[{\"marker\":{\"colorbar\":{\"outlinewidth\":0,\"ticks\":\"\"}},\"type\":\"scatter\"}],\"scatterternary\":[{\"marker\":{\"colorbar\":{\"outlinewidth\":0,\"ticks\":\"\"}},\"type\":\"scatterternary\"}],\"surface\":[{\"colorbar\":{\"outlinewidth\":0,\"ticks\":\"\"},\"colorscale\":[[0.0,\"#0d0887\"],[0.1111111111111111,\"#46039f\"],[0.2222222222222222,\"#7201a8\"],[0.3333333333333333,\"#9c179e\"],[0.4444444444444444,\"#bd3786\"],[0.5555555555555556,\"#d8576b\"],[0.6666666666666666,\"#ed7953\"],[0.7777777777777778,\"#fb9f3a\"],[0.8888888888888888,\"#fdca26\"],[1.0,\"#f0f921\"]],\"type\":\"surface\"}],\"table\":[{\"cells\":{\"fill\":{\"color\":\"#EBF0F8\"},\"line\":{\"color\":\"white\"}},\"header\":{\"fill\":{\"color\":\"#C8D4E3\"},\"line\":{\"color\":\"white\"}},\"type\":\"table\"}]},\"layout\":{\"annotationdefaults\":{\"arrowcolor\":\"#2a3f5f\",\"arrowhead\":0,\"arrowwidth\":1},\"autotypenumbers\":\"strict\",\"coloraxis\":{\"colorbar\":{\"outlinewidth\":0,\"ticks\":\"\"}},\"colorscale\":{\"diverging\":[[0,\"#8e0152\"],[0.1,\"#c51b7d\"],[0.2,\"#de77ae\"],[0.3,\"#f1b6da\"],[0.4,\"#fde0ef\"],[0.5,\"#f7f7f7\"],[0.6,\"#e6f5d0\"],[0.7,\"#b8e186\"],[0.8,\"#7fbc41\"],[0.9,\"#4d9221\"],[1,\"#276419\"]],\"sequential\":[[0.0,\"#0d0887\"],[0.1111111111111111,\"#46039f\"],[0.2222222222222222,\"#7201a8\"],[0.3333333333333333,\"#9c179e\"],[0.4444444444444444,\"#bd3786\"],[0.5555555555555556,\"#d8576b\"],[0.6666666666666666,\"#ed7953\"],[0.7777777777777778,\"#fb9f3a\"],[0.8888888888888888,\"#fdca26\"],[1.0,\"#f0f921\"]],\"sequentialminus\":[[0.0,\"#0d0887\"],[0.1111111111111111,\"#46039f\"],[0.2222222222222222,\"#7201a8\"],[0.3333333333333333,\"#9c179e\"],[0.4444444444444444,\"#bd3786\"],[0.5555555555555556,\"#d8576b\"],[0.6666666666666666,\"#ed7953\"],[0.7777777777777778,\"#fb9f3a\"],[0.8888888888888888,\"#fdca26\"],[1.0,\"#f0f921\"]]},\"colorway\":[\"#636efa\",\"#EF553B\",\"#00cc96\",\"#ab63fa\",\"#FFA15A\",\"#19d3f3\",\"#FF6692\",\"#B6E880\",\"#FF97FF\",\"#FECB52\"],\"font\":{\"color\":\"#2a3f5f\"},\"geo\":{\"bgcolor\":\"white\",\"lakecolor\":\"white\",\"landcolor\":\"white\",\"showlakes\":true,\"showland\":true,\"subunitcolor\":\"#C8D4E3\"},\"hoverlabel\":{\"align\":\"left\"},\"hovermode\":\"closest\",\"mapbox\":{\"style\":\"light\"},\"paper_bgcolor\":\"white\",\"plot_bgcolor\":\"white\",\"polar\":{\"angularaxis\":{\"gridcolor\":\"#EBF0F8\",\"linecolor\":\"#EBF0F8\",\"ticks\":\"\"},\"bgcolor\":\"white\",\"radialaxis\":{\"gridcolor\":\"#EBF0F8\",\"linecolor\":\"#EBF0F8\",\"ticks\":\"\"}},\"scene\":{\"xaxis\":{\"backgroundcolor\":\"white\",\"gridcolor\":\"#DFE8F3\",\"gridwidth\":2,\"linecolor\":\"#EBF0F8\",\"showbackground\":true,\"ticks\":\"\",\"zerolinecolor\":\"#EBF0F8\"},\"yaxis\":{\"backgroundcolor\":\"white\",\"gridcolor\":\"#DFE8F3\",\"gridwidth\":2,\"linecolor\":\"#EBF0F8\",\"showbackground\":true,\"ticks\":\"\",\"zerolinecolor\":\"#EBF0F8\"},\"zaxis\":{\"backgroundcolor\":\"white\",\"gridcolor\":\"#DFE8F3\",\"gridwidth\":2,\"linecolor\":\"#EBF0F8\",\"showbackground\":true,\"ticks\":\"\",\"zerolinecolor\":\"#EBF0F8\"}},\"shapedefaults\":{\"line\":{\"color\":\"#2a3f5f\"}},\"ternary\":{\"aaxis\":{\"gridcolor\":\"#DFE8F3\",\"linecolor\":\"#A2B1C6\",\"ticks\":\"\"},\"baxis\":{\"gridcolor\":\"#DFE8F3\",\"linecolor\":\"#A2B1C6\",\"ticks\":\"\"},\"bgcolor\":\"white\",\"caxis\":{\"gridcolor\":\"#DFE8F3\",\"linecolor\":\"#A2B1C6\",\"ticks\":\"\"}},\"title\":{\"x\":0.05},\"xaxis\":{\"automargin\":true,\"gridcolor\":\"#EBF0F8\",\"linecolor\":\"#EBF0F8\",\"ticks\":\"\",\"title\":{\"standoff\":15},\"zerolinecolor\":\"#EBF0F8\",\"zerolinewidth\":2},\"yaxis\":{\"automargin\":true,\"gridcolor\":\"#EBF0F8\",\"linecolor\":\"#EBF0F8\",\"ticks\":\"\",\"title\":{\"standoff\":15},\"zerolinecolor\":\"#EBF0F8\",\"zerolinewidth\":2}}},\"xaxis\":{\"title\":{\"text\":\"Time\"},\"rangeslider\":{\"visible\":true}},\"title\":{\"text\":\"Ethereum(ETC) Candelstick Chart\",\"y\":0.9,\"x\":0.5,\"xanchor\":\"center\",\"yanchor\":\"top\"},\"yaxis\":{\"title\":{\"text\":\"Price in USD\"},\"ticksuffix\":\"$\"}},                        {\"responsive\": true}                    ).then(function(){\n",
              "                            \n",
              "var gd = document.getElementById('0a8b1237-78f1-48e9-8377-1c28a63ce793');\n",
              "var x = new MutationObserver(function (mutations, observer) {{\n",
              "        var display = window.getComputedStyle(gd).display;\n",
              "        if (!display || display === 'none') {{\n",
              "            console.log([gd, 'removed!']);\n",
              "            Plotly.purge(gd);\n",
              "            observer.disconnect();\n",
              "        }}\n",
              "}});\n",
              "\n",
              "// Listen for the removal of the full notebook cells\n",
              "var notebookContainer = gd.closest('#notebook-container');\n",
              "if (notebookContainer) {{\n",
              "    x.observe(notebookContainer, {childList: true});\n",
              "}}\n",
              "\n",
              "// Listen for the clearing of the current output cell\n",
              "var outputEl = gd.closest('.output');\n",
              "if (outputEl) {{\n",
              "    x.observe(outputEl, {childList: true});\n",
              "}}\n",
              "\n",
              "                        })                };                            </script>        </div>\n",
              "</body>\n",
              "</html>"
            ]
          },
          "metadata": {}
        },
        {
          "output_type": "display_data",
          "data": {
            "text/html": [
              "<html>\n",
              "<head><meta charset=\"utf-8\" /></head>\n",
              "<body>\n",
              "    <div>            <script src=\"https://cdnjs.cloudflare.com/ajax/libs/mathjax/2.7.5/MathJax.js?config=TeX-AMS-MML_SVG\"></script><script type=\"text/javascript\">if (window.MathJax) {MathJax.Hub.Config({SVG: {font: \"STIX-Web\"}});}</script>                <script type=\"text/javascript\">window.PlotlyConfig = {MathJaxConfig: 'local'};</script>\n",
              "        <script src=\"https://cdn.plot.ly/plotly-2.8.3.min.js\"></script>                <div id=\"11a2db6c-e999-4463-b720-4c2e26ec5671\" class=\"plotly-graph-div\" style=\"height:525px; width:100%;\"></div>            <script type=\"text/javascript\">                                    window.PLOTLYENV=window.PLOTLYENV || {};                                    if (document.getElementById(\"11a2db6c-e999-4463-b720-4c2e26ec5671\")) {                    Plotly.newPlot(                        \"11a2db6c-e999-4463-b720-4c2e26ec5671\",                        [{\"close\":[234.815,234.856,235.7,235.76800000000003,235.234,235.2775,234.83,234.948,234.91333333333333,234.59,233.914,233.79,233.715,233.895,233.67,233.9833333333333,234.362,235.102,236.094,235.88,235.325,235.146,234.67,234.728,234.965,235.2075,234.9925,235.512,235.024,234.1975,234.98,235.45,235.614,236.302,236.76800000000003,236.852,236.358,236.555,235.962,236.33,236.354,236.104,236.20800000000003,236.27666666666667,236.752,236.95,237.242,237.414,237.6175,238.152,238.1233333333333,238.004,237.766,237.67400000000004,237.365,237.8275,238.0075,237.87000000000003,238.01,238.042,238.015,237.926,237.8925,237.806,237.448,237.278,236.908,236.97,236.745,236.115,235.34,234.786,235.19,235.106,234.8,234.692,234.74666666666667,234.74,234.78250000000003,235.12,235.51800000000003,235.642,235.26400000000004,235.17,235.18,235.038,234.602,234.32,234.32,234.39,234.27,234.138,234.185,234.0133333333333,233.92,233.945,234.298,234.2975,234.27,234.45600000000005,234.768,235.0375,234.92400000000004,234.8225,235.28000000000003,235.806,235.83,235.782,235.67666666666665,235.46,235.11,235.0433333333333,234.61,234.672,234.8533333333333,235.65,235.91600000000005,236.195,236.564,236.226,235.79,236.586,236.00333333333333,236.3,236.125,236.02,235.8333333333333,235.7675,235.856,236.07,235.99,235.985,236.25333333333333,236.704,236.775,236.72000000000003,236.7,236.5425,236.28,236.668,234.926,235.256,235.09333333333333,234.98,235.012,234.734,235.156,235.078,235.328,234.92666666666665,234.78,234.97200000000004,234.9,234.90666666666667,235.104,235.06666666666663,235.13,235.365,234.86666666666667,235.075,234.41800000000003,234.138,235.224,234.51400000000004,234.532,234.314,234.4,234.03333333333333,233.86,233.922,234.148,234.275,233.88,233.086,232.92400000000004,232.374,231.56200000000004,232.185,232.24,232.256,232.33,232.5125,232.43,232.23,231.995,232.372,232.6,232.555,232.5275,232.726,232.685,232.725,232.30666666666664,231.7325,231.645,231.334,231.638,231.504,231.705,232.314,232.3375,231.956,231.804,231.8625,232.075,231.622,231.2033333333333,231.21,230.506,231.736,232.45,231.4925,230.36,230.855,230.7825,230.8333333333333,230.4075,230.2325,229.82,229.708,230.09,229.462,230.234,231.786,231.974,231.03250000000003,230.63,230.575,231.5425,232.326,233.836,233.734,233.53,233.144,233.106,233.436,234.288,233.8575,233.56,233.946,233.73,234.236,234.92200000000005,234.57,235.54,235.252,234.69,234.208,233.95,233.3175,232.926,233.36,234.504,234.4125,235.194,234.985,234.9525,235.82,235.3975,235.50333333333333,236.004,235.864,236.92,236.8275,236.256,235.712,235.568,235.23,235.2975,235.086,234.8425,234.885,235.035,235.13666666666668,235.15666666666667,234.86666666666667,234.7575,234.44,234.79,234.468,234.39,234.3533333333333,233.804,233.762,234.13,234.23999999999995,233.792,233.7,233.084,233.49,233.38666666666668,233.5,234.03,234.36,236.64,236.388,236.3775,236.415,235.12600000000003,233.602,233.045,233.018,232.61600000000004,232.75,232.404,232.176,231.886,231.83,231.452,231.65,231.24400000000003,231.404,231.8333333333333,231.72,231.51,231.64666666666668,231.86,232.22,232.65500000000003,234.038,233.72200000000004,233.276,232.362,233.23,233.2025,233.04,233.2675,233.55,233.9775,234.01,234.28,235.68400000000003,235.406,235.036,234.984,236.662,235.79,236.1775,236.56333333333333,236.64,237.005,237.03333333333333,237.025,236.9125,236.8375,236.6233333333333,236.8166666666667,236.81000000000003,236.5,236.6475,236.67,236.51666666666665,236.4333333333333,236.186,235.86666666666667,236.23,236.32333333333327,236.235,236.20666666666668,236.1,236.37500000000003,236.325,236.6425,236.65666666666667,236.616,236.79,236.78,236.48666666666668,236.25333333333333,236.2525,236.36,236.24400000000003,235.9233333333333,235.53500000000005,235.4775,235.37,235.1525,234.924,234.705,235.01,235.13,234.95,235.03666666666663,235.34666666666664,235.19,234.98666666666668,235.31000000000003,235.6433333333333,235.98666666666668,236.04,236.39,236.27666666666667,236.33,236.335,236.26,236.47200000000004,236.648,236.625,236.4925,236.56,236.5125,236.38,236.55666666666664,236.645,236.6266666666667,236.602,236.3725,236.27,236.20666666666668,236.225,236.26,236.1,236.0666666666667,236.24,236.59,236.45,236.844,236.795,236.5175,236.775,236.53,236.39,236.12,235.7675,235.216,234.95,234.525,234.56,233.798,233.204,233.23,232.68,233.18,232.32,232.9125,233.062,233.035,232.774,233.1,232.95,233.22600000000003,234.284,234.916,234.58,232.784,232.456,232.51,232.16000000000005,231.414,231.334,231.002,230.628,230.7325,231.5775,231.21600000000004,231.194,231.11,231.13333333333333,231.03666666666663,230.765,229.862,230.0,229.484,229.92,230.0225,230.41,230.53666666666663,230.5833333333333,230.855,230.7575,231.05,230.89666666666665,231.3225,231.78,232.3175,232.578,232.28,232.395,231.695,231.9533333333333,232.426,232.2375,232.02666666666664,231.68,231.68,232.04666666666665,232.2525,232.0525,232.6433333333333,232.886,233.09,233.165,232.58,232.7075,232.6325,231.99,231.28,231.1525,232.258,232.275],\"high\":[234.86,235.2,236.0,236.23,235.63,235.4,235.2,235.1,235.22,234.94,234.68,233.98,234.0,234.04,234.0,234.15,234.54,235.38,236.6,236.42,236.11,235.4,235.29,234.9,235.2,235.44,235.32,235.67,235.64,234.71,235.1,235.79,235.85,236.46,236.95,238.33,236.93,236.83,236.76,236.51,236.79,236.43,236.42,236.59,237.03,237.0,237.4,237.89,237.8,238.36,238.32,238.3,238.17,237.99,237.9,237.99,238.2,238.29,238.1,238.28,238.27,238.3,238.1,238.03,237.95,237.67,237.2,237.14,237.0,236.7,236.24,235.22,235.33,235.5,235.5,235.02,235.08,234.83,235.07,235.26,235.63,235.83,235.71,235.5,235.3,235.49,234.95,234.64,234.59,234.5,234.41,234.37,234.3,234.2,234.32,234.12,234.51,234.43,234.45,234.64,234.98,235.2,235.2,235.1,235.4,236.1,236.15,235.9,235.8,235.71,235.3,235.21,234.75,235.05,234.92,235.9,236.17,236.32,236.7,236.8,236.39,237.1,236.3,236.46,236.39,236.2,236.2,236.0,236.1,236.21,236.1,236.17,236.4,236.8,237.04,236.95,236.9,236.82,236.4,236.9,236.6,235.42,235.31,235.34,235.22,235.13,235.5,235.4,235.91,235.2,235.0,235.11,235.2,235.07,235.3,235.3,235.49,235.43,235.4,235.15,234.9,234.3,236.0,235.59,234.9,234.54,234.61,234.5,234.23,234.1,234.26,234.51,234.27,233.9,233.39,233.0,232.28,232.35,232.45,232.61,232.6,232.7,232.6,232.6,232.3,232.6,232.79,232.78,232.8,233.0,232.8,232.8,232.7,232.0,231.95,231.66,231.94,231.87,231.99,232.86,232.5,232.47,232.22,232.01,232.4,232.16,231.7,231.6,231.47,232.18,232.7,232.6,231.78,231.4,231.6,231.83,230.96,230.8,230.61,230.2,230.44,230.3,230.8,232.06,232.43,231.63,230.92,230.9,231.76,232.5,234.31,234.1,233.96,233.73,233.5,233.64,234.54,234.6,234.0,234.06,234.02,235.11,235.4,235.7,236.0,235.69,235.62,234.41,234.34,234.1,233.35,233.67,234.98,234.7,235.53,235.2,235.44,236.0,235.96,235.67,236.23,236.19,237.57,237.1,237.1,236.72,236.06,235.8,235.43,235.2,235.2,235.08,235.32,235.38,235.4,235.22,235.05,234.64,234.84,234.74,234.6,234.5,234.36,234.08,234.3,234.49,234.18,233.7,233.76,233.71,233.5,233.7,234.27,234.6,237.1,237.0,236.6,236.6,236.61,235.3,233.7,233.47,233.14,232.92,232.78,232.53,232.4,232.01,231.9,231.7,231.9,231.67,232.14,232.1,231.9,231.8,232.4,232.39,232.85,234.47,234.4,233.7,233.2,233.7,233.7,233.4,233.3,233.85,234.25,234.3,234.52,235.95,236.5,235.4,235.17,237.2,236.6,236.45,236.68,236.7,237.1,237.1,237.28,237.0,237.1,236.98,236.99,236.97,236.7,236.83,236.8,236.6,236.58,236.58,236.0,236.31,236.42,236.3,236.4,236.2,236.58,236.4,236.83,236.77,236.82,236.9,236.86,236.8,236.48,236.4,236.51,236.53,236.25,236.05,235.61,235.6,235.49,235.24,234.97,235.25,235.37,235.08,235.33,235.4,235.5,235.06,235.4,235.7,236.0,236.12,236.4,236.44,236.37,236.62,236.5,236.61,236.78,236.8,236.68,236.69,236.9,236.46,236.72,236.79,236.7,236.77,236.52,236.4,236.35,236.3,236.52,236.37,236.2,236.31,236.67,236.5,236.9,236.9,236.8,236.8,236.7,236.6,236.3,236.04,235.53,235.2,235.2,234.82,234.52,233.9,233.82,233.32,234.0,233.1,233.3,233.2,233.2,233.4,233.2,233.3,233.47,234.7,235.3,235.3,234.57,233.1,233.15,232.41,232.1,231.8,231.41,231.16,231.2,232.0,232.2,231.76,231.8,231.6,231.4,231.05,231.03,230.29,230.1,230.5,230.5,230.72,230.79,230.9,231.1,231.6,231.3,231.13,231.64,232.5,232.7,232.94,232.7,232.7,232.67,232.11,232.59,232.69,232.5,232.3,231.8,232.2,232.33,232.3,232.85,233.14,233.23,233.5,233.42,232.92,232.8,232.66,231.92,231.7,232.79,232.8],\"low\":[234.59,234.63,234.66,235.45,234.78,234.9,234.71,234.5,234.72,234.31,233.45,233.38,233.63,233.43,233.55,233.61,233.73,234.1,235.2,235.32,235.14,234.9,234.4,234.43,234.46,235.09,234.81,235.0,234.7,233.92,234.04,234.72,235.3,235.62,236.18,236.5,236.1,236.0,235.7,235.53,236.04,235.74,235.71,235.82,235.65,236.44,236.89,237.16,237.26,237.6,237.95,237.7,237.4,237.37,237.2,237.2,237.79,237.5,237.77,237.88,237.78,237.65,237.68,237.6,237.26,236.73,236.63,236.7,236.6,235.89,234.59,234.49,234.57,234.74,234.6,234.5,234.56,234.56,234.63,234.7,235.01,235.2,235.05,234.9,235.0,234.8,234.4,234.1,234.2,234.2,234.0,233.91,234.1,234.0,233.65,233.59,233.92,234.1,234.18,234.27,234.6,234.74,234.78,234.65,234.8,235.2,235.54,235.56,235.57,235.3,235.0,234.7,234.3,234.21,234.41,234.7,235.74,235.75,236.28,235.98,235.72,235.9,235.9,236.0,235.96,235.92,235.6,235.64,235.64,235.99,235.98,235.76,236.0,236.26,236.3,236.6,236.7,236.3,236.2,236.27,234.54,234.8,234.89,234.7,234.7,234.5,234.6,234.5,234.7,234.85,234.6,234.66,234.7,234.7,234.85,234.9,234.9,234.9,234.8,234.9,234.17,233.9,234.07,234.4,234.19,234.0,234.1,233.9,233.71,233.62,233.79,234.04,233.8,232.5,232.41,231.99,231.34,231.55,231.8,231.89,232.0,232.1,232.25,232.0,231.59,231.91,232.3,232.36,232.35,232.5,232.6,232.7,231.9,231.61,231.5,231.16,231.37,231.3,231.4,231.78,232.17,231.7,231.56,231.58,231.85,231.13,231.04,230.98,229.68,230.6,231.74,231.32,230.1,230.3,230.6,230.38,230.26,229.9,229.6,229.29,229.88,229.3,229.3,230.43,231.69,230.8,230.2,230.36,230.5,231.6,232.15,233.4,233.07,232.63,232.54,232.62,233.2,233.6,233.23,233.22,233.53,233.54,234.02,234.18,234.5,235.01,234.36,233.79,233.3,233.0,232.8,232.8,233.37,234.28,234.51,234.6,234.7,235.0,234.86,234.91,235.7,235.64,235.8,236.63,236.06,235.38,235.13,234.9,235.1,234.8,234.69,234.6,234.6,235.05,234.9,234.6,234.4,234.3,234.32,234.13,234.2,234.1,233.4,233.3,233.5,233.97,233.47,233.6,232.9,232.9,233.26,233.4,233.48,233.99,234.4,236.22,236.1,236.3,234.8,233.49,232.7,232.52,232.4,232.4,232.18,231.7,231.6,231.58,231.2,231.48,231.1,230.89,231.4,231.3,231.28,231.38,231.7,232.0,232.0,232.58,233.46,232.93,231.9,231.9,232.8,232.8,232.7,233.1,233.7,233.8,234.1,234.22,235.3,234.74,234.67,234.8,235.53,235.8,236.37,236.43,236.6,236.9,236.8,236.7,236.68,236.5,236.5,236.66,236.5,236.57,236.55,236.3,236.2,235.94,235.77,236.0,236.2,236.17,236.15,236.1,236.1,236.25,236.5,236.5,236.08,236.7,236.68,236.3,236.2,236.15,236.27,236.05,235.8,235.3,235.3,235.2,235.0,234.6,234.4,234.57,235.0,234.9,234.8,235.0,235.0,234.8,235.0,235.14,235.7,235.9,236.0,236.1,236.29,236.08,236.04,236.3,236.43,236.43,236.2,236.5,236.2,236.29,236.4,236.5,236.5,236.47,236.3,235.92,236.1,236.08,236.2,236.0,235.98,236.2,236.3,236.4,236.64,236.73,236.4,236.5,236.41,236.3,235.98,235.52,235.0,234.7,234.4,234.42,233.47,232.99,233.05,232.38,232.4,231.81,232.11,232.46,232.4,232.5,232.53,232.8,232.97,233.28,233.9,234.23,232.4,232.1,232.27,231.9,231.0,231.0,230.7,230.1,230.4,230.4,231.0,230.4,230.9,230.9,230.9,230.49,229.4,229.56,229.2,229.3,229.66,229.9,230.08,230.1,230.63,230.4,230.6,230.58,230.74,231.24,231.7,231.98,232.1,232.1,231.31,231.35,231.85,231.99,231.9,231.31,231.4,231.7,232.18,231.9,231.87,232.48,232.9,232.93,232.36,232.6,232.23,231.75,231.1,231.06,231.1,232.24],\"open\":[234.7475,234.838,234.884,235.97600000000003,235.49,235.1625,235.1125,234.854,235.00666666666663,234.842,234.47200000000004,233.685,233.745,233.7275,233.82,233.82333333333327,234.038,234.398,235.462,235.972,235.92,235.23200000000003,234.94,234.63,234.6125,235.195,235.0775,235.102,235.278,234.6075,234.272,234.98,235.624,235.79,236.352,236.74,236.802,236.3,236.436,235.904,236.436,236.228,236.162,236.2266666666667,236.304,236.7333333333333,237.032,237.304,237.415,237.766,238.2333333333333,238.196,237.92800000000005,237.674,237.65750000000003,237.36,237.85,237.962,237.82333333333327,238.12,237.91000000000005,238.08,237.93,237.804,237.688,237.298,237.012,236.9,236.8825,236.6075,236.104,235.06600000000003,234.916,234.952,234.9875,234.686,234.8933333333333,234.58666666666667,234.795,234.836,235.322,235.618,235.538,235.162,235.055,235.252,234.768,234.5175,234.43,234.4233333333333,234.225,234.23,234.2175,234.08,234.042,233.7675,234.066,234.3325,234.33250000000004,234.296,234.652,234.935,235.004,234.8475,235.052,235.408,235.78,235.676,235.72333333333336,235.6375,235.16000000000005,235.1433333333333,234.6175,234.456,234.44333333333333,235.028,235.854,235.9475,236.358,236.57200000000003,236.27,236.282,236.1033333333333,236.302,236.155,236.045,235.88666666666663,235.81,235.802,236.10666666666668,236.04,235.98,236.12,236.344,236.85,236.7033333333333,236.7,236.65,236.33,236.336,236.424,235.11,235.1533333333333,235.076,234.894,234.772,235.018,234.88,235.354,235.06000000000003,234.92666666666665,234.914,234.95,234.94,235.016,235.07333333333327,235.0625,235.265,235.30666666666664,235.025,234.67,234.23200000000003,234.238,235.058,234.548,234.314,234.4033333333333,234.32333333333327,233.945,233.81,233.948,234.07,234.20666666666668,233.76800000000003,233.09,232.754,232.058,231.8275,232.26,232.104,232.346,232.465,232.4,232.374,232.0125,232.254,232.41333333333333,232.495,232.635,232.67,232.685,232.775,232.54,231.825,231.83750000000003,231.528,231.536,231.608,231.465,231.926,232.265,232.226,231.956,231.8475,232.015,231.892,231.28666666666663,231.3533333333333,231.176,230.88,231.985,232.1975,231.478,230.4325,230.92,230.72333333333336,230.6325,230.4425,230.084,229.654,229.948,230.116,229.658,230.85,231.956,231.56,230.814,230.475,231.0825,231.82,232.382,233.738,233.32,233.286,233.21600000000004,233.18,233.576,234.3125,233.904,233.474,233.855,233.912,234.258,234.944,234.846,235.366,235.384,234.36,234.044,233.785,233.056,232.975,233.636,234.495,234.724,235.12,235.03250000000003,235.298,235.585,235.1833333333333,235.876,235.998,236.004,236.7825,236.734,236.116,235.612,235.498,235.2875,235.13,235.0625,234.93,234.8875,235.14666666666668,235.09,235.0,234.665,234.5433333333333,234.545,234.484,234.32666666666668,234.35666666666663,234.28000000000003,233.838,233.694,234.288,233.95,233.7,233.574,233.1675,233.42666666666665,233.4,233.62,234.22,234.706,236.66800000000003,236.2675,236.4725,236.10200000000003,234.932,233.5875,232.92400000000004,232.92,232.605,232.682,232.102,232.15,231.78000000000003,231.732,231.54,231.64,231.246,231.46666666666667,231.905,231.585,231.51,231.91,232.1775,232.395,232.886,234.118,233.38,233.024,232.324,233.29,233.175,233.0425,233.3,233.7875,233.97250000000005,234.3325,234.406,235.814,235.216,234.974,234.99400000000003,236.36,235.92,236.49666666666667,236.57,236.7275,236.99666666666667,237.025,236.8825,236.95,236.8633333333333,236.6533333333333,236.84333333333333,236.7,236.6475,236.67,236.55,236.4333333333333,236.334,235.97333333333333,236.1133333333333,236.32,236.235,236.24,236.2,236.3175,236.325,236.545,236.6833333333333,236.63,236.84,236.78,236.73666666666668,236.38,236.2025,236.37,236.302,236.18,235.77,235.5025,235.44,235.315,235.128,234.755,234.7,235.185,235.04,235.0233333333333,235.24666666666667,235.355,234.9833333333333,235.1133333333333,235.43,235.8733333333333,236.015,236.03666666666663,236.3733333333333,236.33,236.1975,236.3025,236.46,236.55,236.7375,236.5725,236.57,236.79,236.32666666666668,236.52666666666664,236.6275,236.55666666666664,236.626,236.4225,236.19000000000003,236.19,236.165,236.39,236.31000000000003,236.09333333333333,236.23666666666668,236.3333333333333,236.45,236.734,236.7825,236.6825,236.56,236.69,236.47,236.23666666666668,236.0075,235.398,234.976,235.005,234.515,234.42200000000005,233.61400000000003,233.33,233.116,232.71600000000004,232.78000000000003,232.52,232.96400000000003,232.72,233.11,232.97333333333333,233.01,233.066,233.52,234.33,234.87500000000003,234.216,232.756,232.602,232.2475,231.99,231.288,231.224,230.948,230.8525,230.6025,231.678,230.966,231.39666666666668,231.00666666666663,231.3,230.78000000000003,230.656,229.7575,229.72600000000003,229.546,229.8375,230.18,230.4533333333333,230.6,230.72,230.96,230.7,230.9466666666667,230.8875,231.488,232.015,232.304,232.505,232.365,232.495,231.56000000000003,232.15,232.39,232.18,232.075,231.54,231.74666666666667,232.235,232.1875,231.99,232.642,233.09666666666664,233.0375,233.2175,232.7025,232.6425,232.355,231.626,231.1925,231.466,232.695],\"x\":[\"2021-09-20T15:41:00\",\"2021-09-20T15:42:00\",\"2021-09-20T15:43:00\",\"2021-09-20T15:44:00\",\"2021-09-20T15:45:00\",\"2021-09-20T15:46:00\",\"2021-09-20T15:47:00\",\"2021-09-20T15:48:00\",\"2021-09-20T15:49:00\",\"2021-09-20T15:50:00\",\"2021-09-20T15:51:00\",\"2021-09-20T15:52:00\",\"2021-09-20T15:53:00\",\"2021-09-20T15:54:00\",\"2021-09-20T15:55:00\",\"2021-09-20T15:56:00\",\"2021-09-20T15:57:00\",\"2021-09-20T15:58:00\",\"2021-09-20T15:59:00\",\"2021-09-20T16:00:00\",\"2021-09-20T16:01:00\",\"2021-09-20T16:02:00\",\"2021-09-20T16:03:00\",\"2021-09-20T16:04:00\",\"2021-09-20T16:05:00\",\"2021-09-20T16:06:00\",\"2021-09-20T16:07:00\",\"2021-09-20T16:08:00\",\"2021-09-20T16:09:00\",\"2021-09-20T16:10:00\",\"2021-09-20T16:11:00\",\"2021-09-20T16:12:00\",\"2021-09-20T16:13:00\",\"2021-09-20T16:14:00\",\"2021-09-20T16:15:00\",\"2021-09-20T16:16:00\",\"2021-09-20T16:17:00\",\"2021-09-20T16:18:00\",\"2021-09-20T16:19:00\",\"2021-09-20T16:20:00\",\"2021-09-20T16:21:00\",\"2021-09-20T16:22:00\",\"2021-09-20T16:23:00\",\"2021-09-20T16:24:00\",\"2021-09-20T16:25:00\",\"2021-09-20T16:26:00\",\"2021-09-20T16:27:00\",\"2021-09-20T16:28:00\",\"2021-09-20T16:29:00\",\"2021-09-20T16:30:00\",\"2021-09-20T16:31:00\",\"2021-09-20T16:32:00\",\"2021-09-20T16:33:00\",\"2021-09-20T16:34:00\",\"2021-09-20T16:35:00\",\"2021-09-20T16:36:00\",\"2021-09-20T16:37:00\",\"2021-09-20T16:38:00\",\"2021-09-20T16:39:00\",\"2021-09-20T16:40:00\",\"2021-09-20T16:41:00\",\"2021-09-20T16:42:00\",\"2021-09-20T16:43:00\",\"2021-09-20T16:44:00\",\"2021-09-20T16:45:00\",\"2021-09-20T16:46:00\",\"2021-09-20T16:47:00\",\"2021-09-20T16:48:00\",\"2021-09-20T16:49:00\",\"2021-09-20T16:50:00\",\"2021-09-20T16:51:00\",\"2021-09-20T16:52:00\",\"2021-09-20T16:53:00\",\"2021-09-20T16:54:00\",\"2021-09-20T16:55:00\",\"2021-09-20T16:56:00\",\"2021-09-20T16:57:00\",\"2021-09-20T16:58:00\",\"2021-09-20T16:59:00\",\"2021-09-20T17:00:00\",\"2021-09-20T17:01:00\",\"2021-09-20T17:02:00\",\"2021-09-20T17:03:00\",\"2021-09-20T17:04:00\",\"2021-09-20T17:05:00\",\"2021-09-20T17:06:00\",\"2021-09-20T17:07:00\",\"2021-09-20T17:08:00\",\"2021-09-20T17:09:00\",\"2021-09-20T17:10:00\",\"2021-09-20T17:11:00\",\"2021-09-20T17:12:00\",\"2021-09-20T17:13:00\",\"2021-09-20T17:14:00\",\"2021-09-20T17:15:00\",\"2021-09-20T17:16:00\",\"2021-09-20T17:17:00\",\"2021-09-20T17:18:00\",\"2021-09-20T17:19:00\",\"2021-09-20T17:20:00\",\"2021-09-20T17:21:00\",\"2021-09-20T17:22:00\",\"2021-09-20T17:23:00\",\"2021-09-20T17:24:00\",\"2021-09-20T17:25:00\",\"2021-09-20T17:26:00\",\"2021-09-20T17:27:00\",\"2021-09-20T17:28:00\",\"2021-09-20T17:29:00\",\"2021-09-20T17:30:00\",\"2021-09-20T17:31:00\",\"2021-09-20T17:32:00\",\"2021-09-20T17:33:00\",\"2021-09-20T17:34:00\",\"2021-09-20T17:35:00\",\"2021-09-20T17:36:00\",\"2021-09-20T17:37:00\",\"2021-09-20T17:38:00\",\"2021-09-20T17:39:00\",\"2021-09-20T17:40:00\",\"2021-09-20T17:41:00\",\"2021-09-20T17:42:00\",\"2021-09-20T17:43:00\",\"2021-09-20T17:44:00\",\"2021-09-20T17:45:00\",\"2021-09-20T17:46:00\",\"2021-09-20T17:47:00\",\"2021-09-20T17:48:00\",\"2021-09-20T17:49:00\",\"2021-09-20T17:50:00\",\"2021-09-20T17:51:00\",\"2021-09-20T17:52:00\",\"2021-09-20T17:53:00\",\"2021-09-20T17:54:00\",\"2021-09-20T17:55:00\",\"2021-09-20T17:56:00\",\"2021-09-20T17:57:00\",\"2021-09-20T17:58:00\",\"2021-09-20T17:59:00\",\"2021-09-20T18:00:00\",\"2021-09-20T18:01:00\",\"2021-09-20T18:02:00\",\"2021-09-20T18:03:00\",\"2021-09-20T18:04:00\",\"2021-09-20T18:05:00\",\"2021-09-20T18:06:00\",\"2021-09-20T18:07:00\",\"2021-09-20T18:08:00\",\"2021-09-20T18:09:00\",\"2021-09-20T18:10:00\",\"2021-09-20T18:11:00\",\"2021-09-20T18:12:00\",\"2021-09-20T18:13:00\",\"2021-09-20T18:14:00\",\"2021-09-20T18:15:00\",\"2021-09-20T18:16:00\",\"2021-09-20T18:17:00\",\"2021-09-20T18:18:00\",\"2021-09-20T18:19:00\",\"2021-09-20T18:20:00\",\"2021-09-20T18:21:00\",\"2021-09-20T18:22:00\",\"2021-09-20T18:23:00\",\"2021-09-20T18:24:00\",\"2021-09-20T18:25:00\",\"2021-09-20T18:26:00\",\"2021-09-20T18:27:00\",\"2021-09-20T18:28:00\",\"2021-09-20T18:29:00\",\"2021-09-20T18:30:00\",\"2021-09-20T18:31:00\",\"2021-09-20T18:32:00\",\"2021-09-20T18:33:00\",\"2021-09-20T18:34:00\",\"2021-09-20T18:35:00\",\"2021-09-20T18:36:00\",\"2021-09-20T18:37:00\",\"2021-09-20T18:38:00\",\"2021-09-20T18:39:00\",\"2021-09-20T18:40:00\",\"2021-09-20T18:41:00\",\"2021-09-20T18:42:00\",\"2021-09-20T18:43:00\",\"2021-09-20T18:44:00\",\"2021-09-20T18:45:00\",\"2021-09-20T18:46:00\",\"2021-09-20T18:47:00\",\"2021-09-20T18:48:00\",\"2021-09-20T18:49:00\",\"2021-09-20T18:50:00\",\"2021-09-20T18:51:00\",\"2021-09-20T18:52:00\",\"2021-09-20T18:53:00\",\"2021-09-20T18:54:00\",\"2021-09-20T18:55:00\",\"2021-09-20T18:56:00\",\"2021-09-20T18:57:00\",\"2021-09-20T18:58:00\",\"2021-09-20T18:59:00\",\"2021-09-20T19:00:00\",\"2021-09-20T19:01:00\",\"2021-09-20T19:02:00\",\"2021-09-20T19:03:00\",\"2021-09-20T19:04:00\",\"2021-09-20T19:05:00\",\"2021-09-20T19:06:00\",\"2021-09-20T19:07:00\",\"2021-09-20T19:08:00\",\"2021-09-20T19:09:00\",\"2021-09-20T19:10:00\",\"2021-09-20T19:11:00\",\"2021-09-20T19:12:00\",\"2021-09-20T19:13:00\",\"2021-09-20T19:14:00\",\"2021-09-20T19:15:00\",\"2021-09-20T19:16:00\",\"2021-09-20T19:17:00\",\"2021-09-20T19:18:00\",\"2021-09-20T19:19:00\",\"2021-09-20T19:20:00\",\"2021-09-20T19:21:00\",\"2021-09-20T19:22:00\",\"2021-09-20T19:23:00\",\"2021-09-20T19:24:00\",\"2021-09-20T19:25:00\",\"2021-09-20T19:26:00\",\"2021-09-20T19:27:00\",\"2021-09-20T19:28:00\",\"2021-09-20T19:29:00\",\"2021-09-20T19:30:00\",\"2021-09-20T19:31:00\",\"2021-09-20T19:32:00\",\"2021-09-20T19:33:00\",\"2021-09-20T19:34:00\",\"2021-09-20T19:35:00\",\"2021-09-20T19:36:00\",\"2021-09-20T19:37:00\",\"2021-09-20T19:38:00\",\"2021-09-20T19:39:00\",\"2021-09-20T19:40:00\",\"2021-09-20T19:41:00\",\"2021-09-20T19:42:00\",\"2021-09-20T19:43:00\",\"2021-09-20T19:44:00\",\"2021-09-20T19:45:00\",\"2021-09-20T19:46:00\",\"2021-09-20T19:47:00\",\"2021-09-20T19:48:00\",\"2021-09-20T19:49:00\",\"2021-09-20T19:50:00\",\"2021-09-20T19:51:00\",\"2021-09-20T19:52:00\",\"2021-09-20T19:53:00\",\"2021-09-20T19:54:00\",\"2021-09-20T19:55:00\",\"2021-09-20T19:56:00\",\"2021-09-20T19:57:00\",\"2021-09-20T19:58:00\",\"2021-09-20T19:59:00\",\"2021-09-20T20:00:00\",\"2021-09-20T20:01:00\",\"2021-09-20T20:02:00\",\"2021-09-20T20:03:00\",\"2021-09-20T20:04:00\",\"2021-09-20T20:05:00\",\"2021-09-20T20:06:00\",\"2021-09-20T20:07:00\",\"2021-09-20T20:08:00\",\"2021-09-20T20:09:00\",\"2021-09-20T20:10:00\",\"2021-09-20T20:11:00\",\"2021-09-20T20:12:00\",\"2021-09-20T20:13:00\",\"2021-09-20T20:14:00\",\"2021-09-20T20:15:00\",\"2021-09-20T20:16:00\",\"2021-09-20T20:17:00\",\"2021-09-20T20:18:00\",\"2021-09-20T20:19:00\",\"2021-09-20T20:20:00\",\"2021-09-20T20:21:00\",\"2021-09-20T20:22:00\",\"2021-09-20T20:23:00\",\"2021-09-20T20:24:00\",\"2021-09-20T20:25:00\",\"2021-09-20T20:26:00\",\"2021-09-20T20:27:00\",\"2021-09-20T20:28:00\",\"2021-09-20T20:29:00\",\"2021-09-20T20:30:00\",\"2021-09-20T20:31:00\",\"2021-09-20T20:32:00\",\"2021-09-20T20:33:00\",\"2021-09-20T20:34:00\",\"2021-09-20T20:35:00\",\"2021-09-20T20:36:00\",\"2021-09-20T20:37:00\",\"2021-09-20T20:38:00\",\"2021-09-20T20:39:00\",\"2021-09-20T20:40:00\",\"2021-09-20T20:41:00\",\"2021-09-20T20:42:00\",\"2021-09-20T20:43:00\",\"2021-09-20T20:44:00\",\"2021-09-20T20:45:00\",\"2021-09-20T20:46:00\",\"2021-09-20T20:47:00\",\"2021-09-20T20:48:00\",\"2021-09-20T20:49:00\",\"2021-09-20T20:50:00\",\"2021-09-20T20:51:00\",\"2021-09-20T20:52:00\",\"2021-09-20T20:53:00\",\"2021-09-20T20:54:00\",\"2021-09-20T20:55:00\",\"2021-09-20T20:56:00\",\"2021-09-20T20:57:00\",\"2021-09-20T20:58:00\",\"2021-09-20T20:59:00\",\"2021-09-20T21:00:00\",\"2021-09-20T21:01:00\",\"2021-09-20T21:02:00\",\"2021-09-20T21:03:00\",\"2021-09-20T21:04:00\",\"2021-09-20T21:05:00\",\"2021-09-20T21:06:00\",\"2021-09-20T21:07:00\",\"2021-09-20T21:08:00\",\"2021-09-20T21:09:00\",\"2021-09-20T21:10:00\",\"2021-09-20T21:11:00\",\"2021-09-20T21:12:00\",\"2021-09-20T21:13:00\",\"2021-09-20T21:14:00\",\"2021-09-20T21:15:00\",\"2021-09-20T21:16:00\",\"2021-09-20T21:17:00\",\"2021-09-20T21:18:00\",\"2021-09-20T21:19:00\",\"2021-09-20T21:20:00\",\"2021-09-20T21:21:00\",\"2021-09-20T21:22:00\",\"2021-09-20T21:23:00\",\"2021-09-20T21:24:00\",\"2021-09-20T21:25:00\",\"2021-09-20T21:26:00\",\"2021-09-20T21:27:00\",\"2021-09-20T21:28:00\",\"2021-09-20T21:29:00\",\"2021-09-20T21:30:00\",\"2021-09-20T21:31:00\",\"2021-09-20T21:32:00\",\"2021-09-20T21:33:00\",\"2021-09-20T21:34:00\",\"2021-09-20T21:35:00\",\"2021-09-20T21:36:00\",\"2021-09-20T21:37:00\",\"2021-09-20T21:38:00\",\"2021-09-20T21:39:00\",\"2021-09-20T21:40:00\",\"2021-09-20T21:41:00\",\"2021-09-20T21:42:00\",\"2021-09-20T21:43:00\",\"2021-09-20T21:44:00\",\"2021-09-20T21:45:00\",\"2021-09-20T21:46:00\",\"2021-09-20T21:47:00\",\"2021-09-20T21:48:00\",\"2021-09-20T21:49:00\",\"2021-09-20T21:50:00\",\"2021-09-20T21:51:00\",\"2021-09-20T21:52:00\",\"2021-09-20T21:53:00\",\"2021-09-20T21:54:00\",\"2021-09-20T21:55:00\",\"2021-09-20T21:56:00\",\"2021-09-20T21:57:00\",\"2021-09-20T21:58:00\",\"2021-09-20T21:59:00\",\"2021-09-20T22:00:00\",\"2021-09-20T22:01:00\",\"2021-09-20T22:02:00\",\"2021-09-20T22:03:00\",\"2021-09-20T22:04:00\",\"2021-09-20T22:05:00\",\"2021-09-20T22:06:00\",\"2021-09-20T22:07:00\",\"2021-09-20T22:08:00\",\"2021-09-20T22:09:00\",\"2021-09-20T22:10:00\",\"2021-09-20T22:11:00\",\"2021-09-20T22:12:00\",\"2021-09-20T22:13:00\",\"2021-09-20T22:14:00\",\"2021-09-20T22:15:00\",\"2021-09-20T22:16:00\",\"2021-09-20T22:17:00\",\"2021-09-20T22:18:00\",\"2021-09-20T22:19:00\",\"2021-09-20T22:20:00\",\"2021-09-20T22:21:00\",\"2021-09-20T22:22:00\",\"2021-09-20T22:23:00\",\"2021-09-20T22:24:00\",\"2021-09-20T22:25:00\",\"2021-09-20T22:26:00\",\"2021-09-20T22:27:00\",\"2021-09-20T22:28:00\",\"2021-09-20T22:29:00\",\"2021-09-20T22:30:00\",\"2021-09-20T22:31:00\",\"2021-09-20T22:32:00\",\"2021-09-20T22:33:00\",\"2021-09-20T22:34:00\",\"2021-09-20T22:35:00\",\"2021-09-20T22:36:00\",\"2021-09-20T22:37:00\",\"2021-09-20T22:38:00\",\"2021-09-20T22:39:00\",\"2021-09-20T22:40:00\",\"2021-09-20T22:41:00\",\"2021-09-20T22:42:00\",\"2021-09-20T22:43:00\",\"2021-09-20T22:44:00\",\"2021-09-20T22:45:00\",\"2021-09-20T22:46:00\",\"2021-09-20T22:47:00\",\"2021-09-20T22:48:00\",\"2021-09-20T22:49:00\",\"2021-09-20T22:50:00\",\"2021-09-20T22:51:00\",\"2021-09-20T22:52:00\",\"2021-09-20T22:53:00\",\"2021-09-20T22:54:00\",\"2021-09-20T22:55:00\",\"2021-09-20T22:56:00\",\"2021-09-20T22:57:00\",\"2021-09-20T22:58:00\",\"2021-09-20T22:59:00\",\"2021-09-20T23:00:00\",\"2021-09-20T23:01:00\",\"2021-09-20T23:02:00\",\"2021-09-20T23:03:00\",\"2021-09-20T23:04:00\",\"2021-09-20T23:05:00\",\"2021-09-20T23:06:00\",\"2021-09-20T23:07:00\",\"2021-09-20T23:08:00\",\"2021-09-20T23:09:00\",\"2021-09-20T23:10:00\",\"2021-09-20T23:11:00\",\"2021-09-20T23:12:00\",\"2021-09-20T23:13:00\",\"2021-09-20T23:14:00\",\"2021-09-20T23:15:00\",\"2021-09-20T23:16:00\",\"2021-09-20T23:17:00\",\"2021-09-20T23:18:00\",\"2021-09-20T23:19:00\",\"2021-09-20T23:20:00\",\"2021-09-20T23:21:00\",\"2021-09-20T23:22:00\",\"2021-09-20T23:23:00\",\"2021-09-20T23:24:00\",\"2021-09-20T23:25:00\",\"2021-09-20T23:26:00\",\"2021-09-20T23:27:00\",\"2021-09-20T23:28:00\",\"2021-09-20T23:29:00\",\"2021-09-20T23:30:00\",\"2021-09-20T23:31:00\",\"2021-09-20T23:32:00\",\"2021-09-20T23:33:00\",\"2021-09-20T23:34:00\",\"2021-09-20T23:35:00\",\"2021-09-20T23:36:00\",\"2021-09-20T23:37:00\",\"2021-09-20T23:38:00\",\"2021-09-20T23:39:00\",\"2021-09-20T23:40:00\",\"2021-09-20T23:41:00\",\"2021-09-20T23:42:00\",\"2021-09-20T23:43:00\",\"2021-09-20T23:44:00\",\"2021-09-20T23:45:00\",\"2021-09-20T23:46:00\",\"2021-09-20T23:47:00\",\"2021-09-20T23:48:00\",\"2021-09-20T23:49:00\",\"2021-09-20T23:50:00\",\"2021-09-20T23:51:00\",\"2021-09-20T23:52:00\",\"2021-09-20T23:53:00\",\"2021-09-20T23:54:00\",\"2021-09-20T23:55:00\",\"2021-09-20T23:56:00\",\"2021-09-20T23:57:00\",\"2021-09-20T23:58:00\",\"2021-09-20T23:59:00\",\"2021-09-21T00:00:00\"],\"type\":\"candlestick\"}],                        {\"template\":{\"data\":{\"barpolar\":[{\"marker\":{\"line\":{\"color\":\"white\",\"width\":0.5},\"pattern\":{\"fillmode\":\"overlay\",\"size\":10,\"solidity\":0.2}},\"type\":\"barpolar\"}],\"bar\":[{\"error_x\":{\"color\":\"#2a3f5f\"},\"error_y\":{\"color\":\"#2a3f5f\"},\"marker\":{\"line\":{\"color\":\"white\",\"width\":0.5},\"pattern\":{\"fillmode\":\"overlay\",\"size\":10,\"solidity\":0.2}},\"type\":\"bar\"}],\"carpet\":[{\"aaxis\":{\"endlinecolor\":\"#2a3f5f\",\"gridcolor\":\"#C8D4E3\",\"linecolor\":\"#C8D4E3\",\"minorgridcolor\":\"#C8D4E3\",\"startlinecolor\":\"#2a3f5f\"},\"baxis\":{\"endlinecolor\":\"#2a3f5f\",\"gridcolor\":\"#C8D4E3\",\"linecolor\":\"#C8D4E3\",\"minorgridcolor\":\"#C8D4E3\",\"startlinecolor\":\"#2a3f5f\"},\"type\":\"carpet\"}],\"choropleth\":[{\"colorbar\":{\"outlinewidth\":0,\"ticks\":\"\"},\"type\":\"choropleth\"}],\"contourcarpet\":[{\"colorbar\":{\"outlinewidth\":0,\"ticks\":\"\"},\"type\":\"contourcarpet\"}],\"contour\":[{\"colorbar\":{\"outlinewidth\":0,\"ticks\":\"\"},\"colorscale\":[[0.0,\"#0d0887\"],[0.1111111111111111,\"#46039f\"],[0.2222222222222222,\"#7201a8\"],[0.3333333333333333,\"#9c179e\"],[0.4444444444444444,\"#bd3786\"],[0.5555555555555556,\"#d8576b\"],[0.6666666666666666,\"#ed7953\"],[0.7777777777777778,\"#fb9f3a\"],[0.8888888888888888,\"#fdca26\"],[1.0,\"#f0f921\"]],\"type\":\"contour\"}],\"heatmapgl\":[{\"colorbar\":{\"outlinewidth\":0,\"ticks\":\"\"},\"colorscale\":[[0.0,\"#0d0887\"],[0.1111111111111111,\"#46039f\"],[0.2222222222222222,\"#7201a8\"],[0.3333333333333333,\"#9c179e\"],[0.4444444444444444,\"#bd3786\"],[0.5555555555555556,\"#d8576b\"],[0.6666666666666666,\"#ed7953\"],[0.7777777777777778,\"#fb9f3a\"],[0.8888888888888888,\"#fdca26\"],[1.0,\"#f0f921\"]],\"type\":\"heatmapgl\"}],\"heatmap\":[{\"colorbar\":{\"outlinewidth\":0,\"ticks\":\"\"},\"colorscale\":[[0.0,\"#0d0887\"],[0.1111111111111111,\"#46039f\"],[0.2222222222222222,\"#7201a8\"],[0.3333333333333333,\"#9c179e\"],[0.4444444444444444,\"#bd3786\"],[0.5555555555555556,\"#d8576b\"],[0.6666666666666666,\"#ed7953\"],[0.7777777777777778,\"#fb9f3a\"],[0.8888888888888888,\"#fdca26\"],[1.0,\"#f0f921\"]],\"type\":\"heatmap\"}],\"histogram2dcontour\":[{\"colorbar\":{\"outlinewidth\":0,\"ticks\":\"\"},\"colorscale\":[[0.0,\"#0d0887\"],[0.1111111111111111,\"#46039f\"],[0.2222222222222222,\"#7201a8\"],[0.3333333333333333,\"#9c179e\"],[0.4444444444444444,\"#bd3786\"],[0.5555555555555556,\"#d8576b\"],[0.6666666666666666,\"#ed7953\"],[0.7777777777777778,\"#fb9f3a\"],[0.8888888888888888,\"#fdca26\"],[1.0,\"#f0f921\"]],\"type\":\"histogram2dcontour\"}],\"histogram2d\":[{\"colorbar\":{\"outlinewidth\":0,\"ticks\":\"\"},\"colorscale\":[[0.0,\"#0d0887\"],[0.1111111111111111,\"#46039f\"],[0.2222222222222222,\"#7201a8\"],[0.3333333333333333,\"#9c179e\"],[0.4444444444444444,\"#bd3786\"],[0.5555555555555556,\"#d8576b\"],[0.6666666666666666,\"#ed7953\"],[0.7777777777777778,\"#fb9f3a\"],[0.8888888888888888,\"#fdca26\"],[1.0,\"#f0f921\"]],\"type\":\"histogram2d\"}],\"histogram\":[{\"marker\":{\"pattern\":{\"fillmode\":\"overlay\",\"size\":10,\"solidity\":0.2}},\"type\":\"histogram\"}],\"mesh3d\":[{\"colorbar\":{\"outlinewidth\":0,\"ticks\":\"\"},\"type\":\"mesh3d\"}],\"parcoords\":[{\"line\":{\"colorbar\":{\"outlinewidth\":0,\"ticks\":\"\"}},\"type\":\"parcoords\"}],\"pie\":[{\"automargin\":true,\"type\":\"pie\"}],\"scatter3d\":[{\"line\":{\"colorbar\":{\"outlinewidth\":0,\"ticks\":\"\"}},\"marker\":{\"colorbar\":{\"outlinewidth\":0,\"ticks\":\"\"}},\"type\":\"scatter3d\"}],\"scattercarpet\":[{\"marker\":{\"colorbar\":{\"outlinewidth\":0,\"ticks\":\"\"}},\"type\":\"scattercarpet\"}],\"scattergeo\":[{\"marker\":{\"colorbar\":{\"outlinewidth\":0,\"ticks\":\"\"}},\"type\":\"scattergeo\"}],\"scattergl\":[{\"marker\":{\"colorbar\":{\"outlinewidth\":0,\"ticks\":\"\"}},\"type\":\"scattergl\"}],\"scattermapbox\":[{\"marker\":{\"colorbar\":{\"outlinewidth\":0,\"ticks\":\"\"}},\"type\":\"scattermapbox\"}],\"scatterpolargl\":[{\"marker\":{\"colorbar\":{\"outlinewidth\":0,\"ticks\":\"\"}},\"type\":\"scatterpolargl\"}],\"scatterpolar\":[{\"marker\":{\"colorbar\":{\"outlinewidth\":0,\"ticks\":\"\"}},\"type\":\"scatterpolar\"}],\"scatter\":[{\"marker\":{\"colorbar\":{\"outlinewidth\":0,\"ticks\":\"\"}},\"type\":\"scatter\"}],\"scatterternary\":[{\"marker\":{\"colorbar\":{\"outlinewidth\":0,\"ticks\":\"\"}},\"type\":\"scatterternary\"}],\"surface\":[{\"colorbar\":{\"outlinewidth\":0,\"ticks\":\"\"},\"colorscale\":[[0.0,\"#0d0887\"],[0.1111111111111111,\"#46039f\"],[0.2222222222222222,\"#7201a8\"],[0.3333333333333333,\"#9c179e\"],[0.4444444444444444,\"#bd3786\"],[0.5555555555555556,\"#d8576b\"],[0.6666666666666666,\"#ed7953\"],[0.7777777777777778,\"#fb9f3a\"],[0.8888888888888888,\"#fdca26\"],[1.0,\"#f0f921\"]],\"type\":\"surface\"}],\"table\":[{\"cells\":{\"fill\":{\"color\":\"#EBF0F8\"},\"line\":{\"color\":\"white\"}},\"header\":{\"fill\":{\"color\":\"#C8D4E3\"},\"line\":{\"color\":\"white\"}},\"type\":\"table\"}]},\"layout\":{\"annotationdefaults\":{\"arrowcolor\":\"#2a3f5f\",\"arrowhead\":0,\"arrowwidth\":1},\"autotypenumbers\":\"strict\",\"coloraxis\":{\"colorbar\":{\"outlinewidth\":0,\"ticks\":\"\"}},\"colorscale\":{\"diverging\":[[0,\"#8e0152\"],[0.1,\"#c51b7d\"],[0.2,\"#de77ae\"],[0.3,\"#f1b6da\"],[0.4,\"#fde0ef\"],[0.5,\"#f7f7f7\"],[0.6,\"#e6f5d0\"],[0.7,\"#b8e186\"],[0.8,\"#7fbc41\"],[0.9,\"#4d9221\"],[1,\"#276419\"]],\"sequential\":[[0.0,\"#0d0887\"],[0.1111111111111111,\"#46039f\"],[0.2222222222222222,\"#7201a8\"],[0.3333333333333333,\"#9c179e\"],[0.4444444444444444,\"#bd3786\"],[0.5555555555555556,\"#d8576b\"],[0.6666666666666666,\"#ed7953\"],[0.7777777777777778,\"#fb9f3a\"],[0.8888888888888888,\"#fdca26\"],[1.0,\"#f0f921\"]],\"sequentialminus\":[[0.0,\"#0d0887\"],[0.1111111111111111,\"#46039f\"],[0.2222222222222222,\"#7201a8\"],[0.3333333333333333,\"#9c179e\"],[0.4444444444444444,\"#bd3786\"],[0.5555555555555556,\"#d8576b\"],[0.6666666666666666,\"#ed7953\"],[0.7777777777777778,\"#fb9f3a\"],[0.8888888888888888,\"#fdca26\"],[1.0,\"#f0f921\"]]},\"colorway\":[\"#636efa\",\"#EF553B\",\"#00cc96\",\"#ab63fa\",\"#FFA15A\",\"#19d3f3\",\"#FF6692\",\"#B6E880\",\"#FF97FF\",\"#FECB52\"],\"font\":{\"color\":\"#2a3f5f\"},\"geo\":{\"bgcolor\":\"white\",\"lakecolor\":\"white\",\"landcolor\":\"white\",\"showlakes\":true,\"showland\":true,\"subunitcolor\":\"#C8D4E3\"},\"hoverlabel\":{\"align\":\"left\"},\"hovermode\":\"closest\",\"mapbox\":{\"style\":\"light\"},\"paper_bgcolor\":\"white\",\"plot_bgcolor\":\"white\",\"polar\":{\"angularaxis\":{\"gridcolor\":\"#EBF0F8\",\"linecolor\":\"#EBF0F8\",\"ticks\":\"\"},\"bgcolor\":\"white\",\"radialaxis\":{\"gridcolor\":\"#EBF0F8\",\"linecolor\":\"#EBF0F8\",\"ticks\":\"\"}},\"scene\":{\"xaxis\":{\"backgroundcolor\":\"white\",\"gridcolor\":\"#DFE8F3\",\"gridwidth\":2,\"linecolor\":\"#EBF0F8\",\"showbackground\":true,\"ticks\":\"\",\"zerolinecolor\":\"#EBF0F8\"},\"yaxis\":{\"backgroundcolor\":\"white\",\"gridcolor\":\"#DFE8F3\",\"gridwidth\":2,\"linecolor\":\"#EBF0F8\",\"showbackground\":true,\"ticks\":\"\",\"zerolinecolor\":\"#EBF0F8\"},\"zaxis\":{\"backgroundcolor\":\"white\",\"gridcolor\":\"#DFE8F3\",\"gridwidth\":2,\"linecolor\":\"#EBF0F8\",\"showbackground\":true,\"ticks\":\"\",\"zerolinecolor\":\"#EBF0F8\"}},\"shapedefaults\":{\"line\":{\"color\":\"#2a3f5f\"}},\"ternary\":{\"aaxis\":{\"gridcolor\":\"#DFE8F3\",\"linecolor\":\"#A2B1C6\",\"ticks\":\"\"},\"baxis\":{\"gridcolor\":\"#DFE8F3\",\"linecolor\":\"#A2B1C6\",\"ticks\":\"\"},\"bgcolor\":\"white\",\"caxis\":{\"gridcolor\":\"#DFE8F3\",\"linecolor\":\"#A2B1C6\",\"ticks\":\"\"}},\"title\":{\"x\":0.05},\"xaxis\":{\"automargin\":true,\"gridcolor\":\"#EBF0F8\",\"linecolor\":\"#EBF0F8\",\"ticks\":\"\",\"title\":{\"standoff\":15},\"zerolinecolor\":\"#EBF0F8\",\"zerolinewidth\":2},\"yaxis\":{\"automargin\":true,\"gridcolor\":\"#EBF0F8\",\"linecolor\":\"#EBF0F8\",\"ticks\":\"\",\"title\":{\"standoff\":15},\"zerolinecolor\":\"#EBF0F8\",\"zerolinewidth\":2}}},\"xaxis\":{\"title\":{\"text\":\"Time\"},\"rangeslider\":{\"visible\":true}},\"title\":{\"text\":\"Monero Candelstick Chart\",\"y\":0.9,\"x\":0.5,\"xanchor\":\"center\",\"yanchor\":\"top\"},\"yaxis\":{\"title\":{\"text\":\"Price in USD\"},\"ticksuffix\":\"$\"}},                        {\"responsive\": true}                    ).then(function(){\n",
              "                            \n",
              "var gd = document.getElementById('11a2db6c-e999-4463-b720-4c2e26ec5671');\n",
              "var x = new MutationObserver(function (mutations, observer) {{\n",
              "        var display = window.getComputedStyle(gd).display;\n",
              "        if (!display || display === 'none') {{\n",
              "            console.log([gd, 'removed!']);\n",
              "            Plotly.purge(gd);\n",
              "            observer.disconnect();\n",
              "        }}\n",
              "}});\n",
              "\n",
              "// Listen for the removal of the full notebook cells\n",
              "var notebookContainer = gd.closest('#notebook-container');\n",
              "if (notebookContainer) {{\n",
              "    x.observe(notebookContainer, {childList: true});\n",
              "}}\n",
              "\n",
              "// Listen for the clearing of the current output cell\n",
              "var outputEl = gd.closest('.output');\n",
              "if (outputEl) {{\n",
              "    x.observe(outputEl, {childList: true});\n",
              "}}\n",
              "\n",
              "                        })                };                            </script>        </div>\n",
              "</body>\n",
              "</html>"
            ]
          },
          "metadata": {}
        },
        {
          "output_type": "display_data",
          "data": {
            "text/html": [
              "<html>\n",
              "<head><meta charset=\"utf-8\" /></head>\n",
              "<body>\n",
              "    <div>            <script src=\"https://cdnjs.cloudflare.com/ajax/libs/mathjax/2.7.5/MathJax.js?config=TeX-AMS-MML_SVG\"></script><script type=\"text/javascript\">if (window.MathJax) {MathJax.Hub.Config({SVG: {font: \"STIX-Web\"}});}</script>                <script type=\"text/javascript\">window.PlotlyConfig = {MathJaxConfig: 'local'};</script>\n",
              "        <script src=\"https://cdn.plot.ly/plotly-2.8.3.min.js\"></script>                <div id=\"8e0dae7d-eade-471e-9a1b-9e0d15395351\" class=\"plotly-graph-div\" style=\"height:525px; width:100%;\"></div>            <script type=\"text/javascript\">                                    window.PLOTLYENV=window.PLOTLYENV || {};                                    if (document.getElementById(\"8e0dae7d-eade-471e-9a1b-9e0d15395351\")) {                    Plotly.newPlot(                        \"8e0dae7d-eade-471e-9a1b-9e0d15395351\",                        [{\"close\":[0.2226838,0.2225935,0.22257425,0.2222444,0.222596,0.22334425,0.223254,0.222902,0.222582,0.22298075,0.223073,0.2230526,0.22313725,0.223123,0.22297025,0.223638,0.22364,0.22369775,0.2235007999999999,0.2239159999999999,0.22402375,0.22406175,0.2239585,0.22366375,0.22351775,0.2233985,0.22351075,0.2230152,0.22280925,0.22279475,0.22266875,0.222768,0.22203,0.2218585,0.22213625,0.2224969999999999,0.22260075,0.22246525,0.22249075,0.221947,0.22245175,0.222942,0.222654,0.222755,0.222857,0.22304325,0.22268875,0.2225685,0.222527,0.222411,0.2221355,0.22192825,0.221754,0.221737,0.221922,0.221979,0.22185225,0.221263,0.22129075,0.22133625,0.2212183999999999,0.2213885,0.221251,0.22114075,0.22138825,0.2211138,0.2213385,0.222032,0.2216139999999999,0.221188,0.2212634,0.221299,0.22195775,0.2216675,0.22150325,0.2215296,0.22153625,0.22202825,0.2220555,0.2225915,0.2230685,0.2233475,0.223205,0.22275,0.222784,0.22264475,0.22255375,0.2221675,0.2218528,0.2212625,0.2213482,0.22120125,0.221381,0.220897,0.221005,0.22089125,0.2205183999999999,0.2202738,0.2201435,0.219941,0.2193185,0.2197935,0.22044525,0.22046425,0.21955475,0.21979875,0.219691,0.21911725,0.219288,0.21984925,0.2196357999999999,0.21940325,0.2182042,0.2163602,0.2173858,0.2169254,0.21694275,0.21648925,0.2171284999999999,0.217195,0.2163558,0.2166199999999999,0.21665825,0.2169065,0.21769275,0.2176739999999999,0.2174405,0.21705425,0.21638975,0.2162099999999999,0.21599825,0.21601525,0.2158625,0.21611675,0.21580475,0.2163449999999999,0.21679175,0.21719175,0.217724,0.217277,0.217467,0.21722525,0.21708925,0.218362,0.21841025,0.21806125,0.2182059999999999,0.2184045,0.21885175,0.21920525,0.2188076,0.21911025,0.21866525,0.218138,0.21823475,0.2182489999999999,0.2175655,0.2175639999999999,0.2175034,0.21810525,0.21837425,0.2181695,0.21846025,0.21887725,0.2190489999999999,0.219076,0.21896375,0.2188792,0.21869325,0.218854,0.219094,0.2186965,0.21865025,0.2192126,0.2190045,0.2192255,0.21971675,0.2197005,0.2199105,0.21957625,0.219559,0.21958475,0.22003925,0.22008825,0.21997425,0.2197276,0.21957375,0.21939325,0.219259,0.219168,0.2197198,0.2194835,0.2198264999999999,0.21988675,0.21994825,0.21977675,0.2194755,0.21962225,0.2195175,0.2191802,0.21911125,0.2186449999999999,0.21891025,0.21922025,0.21901675,0.21932725,0.21954575,0.219722,0.21946275,0.2195804999999999,0.21957,0.2194885,0.2191188,0.2191145,0.2191395,0.2191065,0.21923975,0.2196264999999999,0.2197165,0.2196335,0.21974425,0.21958725,0.2193352,0.2192106,0.21936225,0.2192425,0.21924775,0.2190275,0.2189585,0.2192675,0.218932,0.2187619999999999,0.218529,0.21858875,0.21909575,0.218876,0.21836775,0.21852775,0.218825,0.218656,0.2183982,0.2181195,0.21816875,0.21790825,0.2181205,0.2182302,0.21802275,0.217728,0.21803925,0.21836225,0.2184357999999999,0.21833675,0.2180235,0.2177655,0.2178575,0.217687,0.217534,0.217306,0.2171514,0.216844,0.21704175,0.21720975,0.2174485,0.216644,0.216784,0.21702075,0.216835,0.2168275,0.216373,0.2160985,0.2158936,0.2155804999999999,0.215284,0.216988,0.2185016,0.219077,0.21852125,0.21856075,0.219295,0.218502,0.21834925,0.2188415,0.21849175,0.2182786,0.21783175,0.217531,0.21748025,0.21733,0.2171895,0.21786075,0.2174155,0.216799,0.21691075,0.216352,0.2162725,0.2160956,0.21639625,0.2163784999999999,0.21599825,0.2163005,0.2159875,0.2152716,0.21519925,0.21501625,0.2152357999999999,0.2160804,0.2164699999999999,0.2160318,0.216719,0.2165656,0.216604,0.2171972,0.2163505,0.21564825,0.21583,0.21572525,0.2152676,0.2152536,0.2154175,0.2153655,0.21486175,0.2144224,0.2142236,0.21459,0.2140678,0.214055,0.2141855,0.2126623999999999,0.21368525,0.2137264,0.21316,0.21220575,0.21244925,0.21204725,0.2123495,0.212317,0.2121626,0.210729,0.210638,0.2115342,0.2108824,0.21010075,0.210167,0.2092986,0.2081082,0.2076618,0.2084504,0.20827425,0.2080082,0.2089186,0.20977575,0.2101862,0.20979375,0.2104106,0.2107909999999999,0.2107828,0.20997525,0.209162,0.2091925,0.208482,0.2080318,0.2070328,0.2060646,0.2052696,0.206358,0.20733675,0.206154,0.2046795,0.2050275,0.2058514,0.206619,0.2062055,0.20587325,0.2058025,0.20667975,0.20704325,0.20751375,0.20729625,0.20745775,0.2089738,0.2091606,0.20876675,0.20965575,0.20926325,0.209439,0.2098844999999999,0.209975,0.2086945,0.2087018,0.2088244,0.2083949999999999,0.2080578,0.2076985,0.20736275,0.2089372,0.2082634,0.2068462,0.20676,0.20587025,0.20563,0.2051445,0.20509525,0.20590975,0.2051648,0.2037928,0.2036282,0.2039313999999999,0.2031277999999999,0.20313975,0.2047532,0.2034738,0.2025005,0.2016813999999999,0.2021464,0.2018732,0.2006664,0.200186,0.1998678,0.1995322,0.2010185,0.20161875,0.202825,0.20358325,0.20435425,0.20496875,0.2055062,0.20617425,0.20631325,0.2051316,0.20576775,0.2062255,0.2062208,0.2070165,0.2077215,0.20730725,0.2075666,0.2076945,0.2080545,0.207989,0.20729525,0.20739775,0.2071425,0.20653775,0.206111,0.20623525,0.207081,0.208105,0.208139,0.20795725,0.207339,0.2078699999999999,0.2072876,0.206866,0.20789925,0.20889925,0.2088666,0.209622,0.20968875,0.2100392,0.209926,0.210092,0.20951975,0.2094625,0.210311,0.2105455,0.210071,0.21050475,0.210703,0.21079975,0.2101128,0.2110255999999999,0.21239125,0.21278125,0.2121289999999999,0.21207425,0.2117447999999999,0.21208275,0.21160925,0.21157825,0.21169025,0.2123602,0.21306375,0.212903,0.213113,0.21297875,0.212364,0.2122745,0.2123536,0.213363,0.2132315,0.2130833999999999,0.213986,0.21439975,0.21497025,0.21484625,0.2141565,0.2143277999999999,0.2144155,0.2138272,0.213443,0.2129538,0.21273775,0.2128204,0.2131074999999999,0.213613,0.213769,0.2135296,0.2134579999999999,0.2132666,0.212544,0.212762,0.212253,0.21238675,0.2128705,0.212033,0.2124062,0.2122202,0.211942,0.21150925,0.2115215,0.2116198,0.211561,0.2117255,0.2116231999999999,0.2114635,0.2118028,0.2121193999999999,0.2130955,0.21279975,0.212457,0.2123465,0.211595,0.21166025,0.2115045,0.21234125,0.2125745,0.2117945,0.2120594999999999,0.2124072,0.2125125,0.2115364,0.211664,0.21120375,0.2109902,0.2109955,0.211438,0.2124234,0.212958,0.211253,0.21112675,0.2124349999999999,0.21196625,0.21241,0.212741,0.21217,0.21230325,0.2127162,0.2124266,0.2119344999999999,0.2116944,0.211525,0.21112425,0.21030175,0.2105362,0.21092775,0.2098963999999999,0.2102989999999999,0.210337,0.2110864,0.211507,0.2114312,0.2112755,0.2117134,0.21210875,0.21175625,0.2114579999999999,0.21120725,0.21137125,0.211941,0.2121092,0.21157875,0.21160125,0.211748,0.21173025,0.2119974999999999,0.2119874,0.211967,0.21215325,0.2126535,0.214781,0.2149324,0.2145694,0.2141465,0.213427,0.21253425,0.212128,0.212281,0.21180925,0.2115217999999999,0.2115376,0.211525,0.2114802,0.21197725,0.2117444,0.2123872,0.212317,0.213606,0.2144198,0.2149257999999999,0.21390575,0.2129884,0.2127659999999999,0.2124074999999999,0.2125355,0.2121666,0.2124054,0.213181,0.2139658,0.2140147999999999,0.2134462,0.2131434,0.2128058,0.2127388,0.213317,0.2137592,0.2141504,0.2137878,0.2143078,0.2133183999999999,0.2119972,0.212877,0.21338,0.2134882,0.2137107999999999,0.2147434,0.21465,0.2137679999999999,0.213928,0.212642,0.2133005999999999,0.212954,0.213171,0.2134623999999999,0.213863,0.2144072,0.2146394,0.2149726,0.2147328,0.215227,0.2156716,0.2155677999999999,0.2153838,0.2149992,0.215161,0.2146098,0.215125,0.2150426,0.215111,0.2156538,0.215408,0.2157587999999999,0.2155404,0.2154802,0.2154912,0.2150822,0.2146904,0.2143876,0.2143628,0.2140846,0.213714,0.213646,0.2132858,0.213264,0.2133688,0.21326475,0.213335,0.2130866,0.2131516,0.2132136,0.2138342,0.2141872,0.2141596,0.21356,0.213616,0.2134955,0.2130794,0.21293875,0.2126944,0.2127949999999999,0.2127326,0.2127714,0.2128158,0.2126953999999999,0.2125196,0.2124096,0.2125862,0.2130944,0.2130435,0.2130895,0.213328,0.2134632,0.2135586,0.2132518,0.2130682,0.213775,0.2141944,0.214204,0.2142395,0.2143312,0.213491,0.2131602,0.2128144,0.212504,0.212388,0.21334,0.2144496,0.21446375,0.214967,0.2155156,0.2152242,0.2147136,0.2149624,0.214712,0.21448525,0.2143949999999999,0.21436175,0.21430225,0.2144373999999999,0.214563,0.2146136,0.214697,0.2146676,0.215113,0.2155702,0.2154662,0.2152792,0.2152876,0.2150168,0.2148742,0.2153956,0.2144976,0.2147802,0.2144428,0.213953,0.2137813999999999,0.2134004,0.2132272,0.2131192,0.2129464,0.212671,0.212714,0.21277375,0.2127205,0.2125042,0.2125905,0.21259525,0.2125286,0.2127175,0.2124766,0.2123246,0.2120884,0.2117736,0.2115639999999999,0.2111608,0.21120375,0.2110665,0.2110832,0.21062,0.210349,0.210467,0.2103634,0.210379,0.2094644,0.2093484,0.20958125,0.208796,0.2083475,0.20875725,0.2086926,0.20896275,0.2087675,0.208934,0.2087542,0.2085342,0.20855075,0.20898,0.2091352,0.20913425,0.2092253999999999,0.2091756,0.2091586,0.2090934,0.2085603999999999,0.2080232,0.2076976,0.2073902,0.207892,0.207455,0.208096,0.20866425,0.2090346,0.208163,0.208153,0.20797,0.2083175,0.207394,0.20764925,0.20764825,0.2070893999999999,0.2085095,0.208984,0.2077202,0.2067416,0.2066032,0.206784,0.2066607999999999,0.2062812,0.2061464,0.2057238,0.20602925,0.20581125,0.2054252,0.2061988,0.207213,0.2066114999999999,0.2060904,0.2054648,0.20600825,0.2069155,0.20781425,0.2089476,0.2087508,0.2086384,0.2088364,0.2087426,0.2088719999999999,0.2087582,0.208472,0.2081587999999999,0.208195,0.2080588,0.208679,0.2095989999999999,0.2091736,0.2096614999999999,0.2093704,0.2089739999999999,0.20884125,0.20882875,0.2090348,0.208729,0.2094112,0.2104584,0.21052725,0.2105786,0.2106734,0.2106579999999999,0.2103138,0.21056975,0.2107157999999999,0.2110264,0.2121382,0.2120333999999999,0.2119672,0.2117238,0.2119492,0.211642,0.2114134,0.2113565,0.2115554,0.2110722,0.2113679999999999,0.211036,0.211111,0.21112075,0.21100225,0.2112707999999999,0.211061,0.2110868,0.2108014,0.210681,0.2105304,0.2105455,0.2103345,0.21070175,0.210679,0.2102946,0.210459,0.210175,0.21056,0.2103205,0.21038625,0.21045975,0.2103858,0.2104238,0.2107969999999999,0.21104925,0.2112635,0.2104406,0.2099636,0.209456,0.209221,0.2090168,0.20924475,0.20895,0.20918525,0.20879575,0.20906125,0.208747,0.208788,0.2084602,0.2086435,0.20895625,0.20896225,0.20880675,0.2091489999999999,0.2092405,0.20985425,0.21005625,0.2114764,0.211081,0.2106908,0.2097066,0.2101732,0.2100929999999999,0.21074225,0.21107425,0.21132925,0.211242,0.2115974,0.2114535,0.211562,0.2113118,0.21122925,0.2109894,0.21095525,0.211112,0.21165875,0.2120526,0.21189025,0.2117792,0.21200625,0.21209975,0.21194975,0.21187575,0.211612,0.21213875,0.21205625,0.21189175,0.21189325,0.211875,0.211887,0.2118699999999999,0.21186825,0.21185425,0.2118376,0.2118515,0.2118416666666666,0.2118415,0.21184325,0.21182575,0.2118255,0.21184525,0.2118914999999999,0.2122212,0.2126136,0.21258675,0.2122268,0.2121686,0.21266625,0.2133195,0.2130449999999999,0.2126016,0.2125405,0.212562,0.212112,0.2118024,0.2116038,0.21198875,0.21280075,0.21274675,0.212484,0.2133449999999999,0.2137014,0.21307725,0.2131296,0.213386,0.21366925,0.2137534999999999,0.21373325,0.21397975,0.21375375,0.2138615,0.2134574,0.2135546,0.21411525,0.2146585,0.214613,0.21438325,0.2144752,0.2139282,0.214146,0.21458875,0.2145432,0.21456525,0.2144635,0.214282,0.21410925,0.214173,0.21425925,0.2140066,0.2139218,0.21404975,0.21412775,0.21426675,0.21447,0.21459375,0.2143916,0.2142294,0.21462725,0.21439075,0.2143734,0.21414525,0.2137273999999999,0.2133,0.213123,0.2127345,0.212661,0.21191325,0.2113275999999999,0.2110929999999999,0.210906,0.2103206,0.2097036,0.2101516,0.2098373999999999,0.2100688,0.2098578,0.210006,0.2101896,0.210184,0.2108494,0.2112912,0.2108668,0.2093244,0.209237,0.2090998,0.2086652,0.2083322,0.2080596,0.2078148,0.2074926,0.207219,0.2084208,0.2075768,0.2082572,0.2078496,0.2080264,0.2077563999999999,0.20729175,0.2069432,0.207204,0.2065469999999999,0.2062955,0.20603625,0.206555,0.20671275,0.206285,0.2061989999999999,0.2058382,0.205773,0.2057369999999999,0.2066753999999999,0.2066483999999999,0.2069425,0.2072385,0.207054,0.207129,0.2064,0.2066682,0.20747725,0.20758075,0.20714875,0.2066288,0.20674575,0.2074405,0.2073739999999999,0.2069355,0.2077176,0.208161,0.2080205,0.2080594999999999,0.2082945,0.2080945,0.20809775,0.2074445999999999,0.2069202,0.2067969999999999,0.20862125,0.20829425],\"high\":[0.2228,0.2228,0.2228,0.2227,0.2227,0.2235,0.2234,0.2234,0.223,0.223,0.2233,0.2231139999999999,0.2233,0.2233,0.2232,0.2237,0.2238,0.2238,0.2238,0.2239999999999999,0.2242,0.2243,0.2243,0.2241,0.2238,0.2236,0.223757,0.2235,0.2231,0.2229,0.2229,0.2229,0.2228,0.2222,0.2224,0.2227,0.2229,0.2227,0.2226,0.2225,0.2225099999999999,0.223,0.222958,0.2229,0.223,0.2231,0.2231,0.2228,0.2227,0.2229,0.2225,0.2222,0.2221,0.222,0.2222,0.2223,0.2223,0.2219,0.22141,0.2216,0.2216,0.2215,0.2215,0.2215,0.2215,0.2215,0.2215,0.2221,0.2222,0.2217,0.2214,0.221402,0.2221,0.2220599999999999,0.2218099999999999,0.221802,0.2216,0.2221,0.2222,0.222652,0.2232,0.2235,0.2236199999999999,0.2234,0.2231,0.2228,0.2227,0.2226,0.22243,0.2217,0.2215,0.221417,0.2215,0.2214,0.2211,0.221,0.2209,0.2206,0.2205,0.2203,0.22,0.22002,0.2206,0.2206,0.2205,0.220164,0.2201,0.219711,0.2195,0.22,0.2199,0.2197,0.21952,0.2184,0.2178,0.2176,0.2177,0.2174,0.2174,0.2174,0.2175,0.2169,0.2169,0.217,0.21796,0.2183,0.2179,0.2175,0.217218,0.216711,0.216692,0.2164,0.2161,0.21635,0.2163409999999999,0.216501,0.2172,0.217311,0.218003,0.217815,0.2178,0.2177,0.2173,0.218433,0.2185,0.218503,0.2183,0.2186,0.2189999999999999,0.219315,0.2193,0.2193139999999999,0.2192,0.2188,0.2186,0.2184,0.2184,0.2177199999999999,0.2179,0.2182,0.2186199999999999,0.2185,0.2185,0.2189999999999999,0.2192,0.219119,0.219351,0.2191,0.2189999999999999,0.21895,0.2195,0.219109,0.2189,0.2194,0.219342,0.2194,0.2198,0.2198,0.22,0.2199,0.219707,0.2197,0.2201,0.2201,0.2201,0.2201,0.2198,0.219646,0.219414,0.219408,0.21984,0.2198,0.220006,0.2201,0.2203,0.2200099999999999,0.21982,0.2198,0.2198,0.2195,0.2192,0.219207,0.218921,0.2193,0.2192,0.2194,0.2197,0.2198,0.2197,0.2197199999999999,0.2197,0.2196,0.2196,0.2192,0.2192,0.2192,0.2194,0.219705,0.219906,0.2198,0.2199,0.2198,0.2198,0.2195,0.2195,0.2194,0.219305,0.2193,0.219113,0.2194,0.2194,0.2189999999999999,0.2189,0.2187,0.219146,0.2192,0.2189,0.2188,0.2189,0.2189239999999999,0.2188,0.2185,0.2183,0.2183,0.2183,0.2183,0.2183,0.2181,0.2183,0.2185,0.2186,0.2186,0.2184,0.2181,0.2181,0.2179,0.2178,0.217617,0.2174,0.217528,0.2171,0.217353,0.217634,0.2175,0.2171,0.2171,0.217121,0.217,0.2169,0.216425,0.2164219999999999,0.2162,0.215799,0.217202,0.2189999999999999,0.2191,0.2191,0.2188,0.2194809999999999,0.21954,0.2189999999999999,0.2189,0.2189999999999999,0.218919,0.218552,0.21791,0.2178199999999999,0.2178,0.2176,0.2183,0.218,0.21759,0.2171,0.217,0.2165,0.2167,0.2171,0.2166469999999999,0.2165,0.2167,0.2165,0.2161199999999999,0.215506,0.2155,0.215911,0.21624,0.2168,0.2167,0.2171,0.2168,0.2167,0.2174,0.2173,0.2167,0.215908,0.2161,0.2159,0.2155,0.2156,0.2156,0.215853,0.2149,0.214848,0.2147300000000001,0.2147,0.214442,0.214451,0.214282,0.2141,0.2145,0.213778,0.2134,0.2127,0.213225,0.212635,0.2127,0.21258,0.2122099999999999,0.211048,0.2118139999999999,0.211782,0.210932,0.210446,0.2102,0.2101,0.2089,0.209011,0.208423,0.2092,0.2091,0.210015,0.2106,0.2106,0.2106,0.211,0.2113,0.2108,0.2102,0.2094,0.2096,0.208888,0.2081,0.207365,0.2061,0.2066,0.2076,0.2074,0.206331,0.2053,0.2063,0.2067,0.2070139999999999,0.206477,0.2061,0.20676,0.2072,0.2077,0.2078,0.2077,0.2093179999999999,0.2098,0.2092,0.2099,0.2101,0.2096,0.21,0.2101,0.21,0.2092,0.209213,0.2091,0.2088,0.2082,0.2078,0.20919,0.2094,0.2083,0.207037,0.2068,0.206204,0.2059,0.2055,0.206,0.206033,0.2053,0.2039,0.204287,0.20406,0.2034,0.204919,0.205244,0.20367,0.203024,0.202613,0.2027,0.2019,0.2009,0.200486,0.2001,0.201268,0.202104,0.2031059999999999,0.2037,0.2045,0.2052,0.205983,0.2064,0.2067,0.2065,0.206032,0.2067,0.2066,0.2072,0.208,0.2079,0.208,0.2078,0.2082,0.2082,0.2081,0.2078,0.2075,0.2074,0.2067,0.2067,0.2074,0.208613,0.2085,0.2084,0.208,0.2085,0.208,0.2074,0.2081,0.209042,0.2094,0.21,0.2103,0.2106,0.2103,0.2105,0.2108,0.21,0.2106,0.2108,0.2109,0.2108,0.2109,0.211111,0.211,0.2115,0.2129,0.2131,0.2132,0.2125,0.2127,0.2125,0.2123,0.2122,0.2122,0.2128,0.2134,0.2136,0.2136,0.2136,0.2133,0.2129,0.2128,0.2138,0.2139,0.2137,0.2146,0.2148,0.2155,0.2156,0.2154,0.2149,0.215,0.2148,0.2143,0.2157,0.2134,0.2133,0.2136,0.214,0.2144,0.2142,0.214,0.2139,0.2135,0.2134,0.213,0.2128,0.2132,0.2131,0.21252,0.2125,0.2123,0.212131,0.2118469999999999,0.212,0.2119,0.2118,0.2118,0.2118,0.212,0.2123,0.2133,0.2134,0.2128,0.2131,0.2125,0.2121,0.2119,0.2127,0.213,0.2127,0.2124,0.2126,0.2126449999999999,0.2126,0.2118,0.21201,0.2116,0.2111,0.2116,0.2127,0.2132,0.2131,0.2114,0.2127,0.2127,0.2126,0.2131,0.213,0.2127,0.213,0.213,0.2125,0.2121,0.2119,0.2118,0.2112,0.2112,0.2116,0.211,0.2108,0.2106,0.2113,0.2117,0.2117,0.2116,0.2120429999999999,0.2123,0.2123,0.2118,0.2116,0.2117,0.2121,0.212456,0.2122,0.2118,0.2122,0.2119,0.2121,0.2123,0.2123,0.2124,0.2128,0.215,0.2155,0.2153,0.215,0.2144,0.2137,0.2132,0.2124,0.2127,0.2121,0.212,0.2118,0.211923,0.2121,0.2123,0.2127,0.2126,0.2139,0.2147,0.2156,0.2151,0.2142,0.213134,0.2130119999999999,0.2128,0.21268,0.2126,0.2135,0.2142,0.21459,0.2141,0.21386,0.2134199999999999,0.2131,0.21361,0.21402,0.2143,0.2143199999999999,0.2144,0.2144199999999999,0.2133699999999999,0.213,0.2137,0.2136,0.2138,0.2149,0.21497,0.2146,0.214,0.2139,0.2135,0.21378,0.21331,0.21366,0.2141,0.2148,0.2148,0.2151,0.21581,0.2154,0.21602,0.21581,0.21606,0.2154,0.2154,0.2156,0.21549,0.2154,0.21538,0.2159,0.2158,0.2159,0.2161,0.21593,0.2156,0.2155,0.2151,0.2147099999999999,0.2145159999999999,0.2144,0.21411,0.2139,0.2138,0.2141,0.2137,0.2134,0.2135,0.2135,0.2134,0.2135,0.2139,0.2144,0.2143,0.21431,0.2139,0.2139,0.2136,0.2133,0.2131,0.213,0.213,0.213,0.2129,0.2131,0.21291,0.2128,0.2127,0.21331,0.2132,0.2133,0.2134,0.2136,0.2137,0.2137,0.2134,0.2139,0.2143699999999999,0.2144,0.2144,0.21447,0.21434,0.2136,0.2131,0.21291,0.2126,0.2135099999999999,0.2147,0.2148,0.21506,0.2156,0.2156,0.2153,0.2158,0.215011,0.2149,0.2146,0.2146,0.2146,0.2147,0.2147,0.2148,0.2148,0.2148,0.21523,0.2157349999999999,0.2158,0.2155,0.2155,0.2153699999999999,0.2152,0.21573,0.2155,0.2151,0.215,0.2146,0.2141,0.2138,0.214,0.2134,0.2135,0.2131,0.2129,0.2131,0.2129,0.2128,0.2129,0.2128,0.2129,0.2129,0.2129,0.2125,0.2124,0.2122,0.2121,0.2117,0.2114,0.2112,0.211248,0.21134,0.210725,0.210909,0.2106,0.210636,0.2104,0.2096579999999999,0.209704,0.2096219999999999,0.209079,0.208976,0.208958,0.209021,0.2091530000000001,0.2090489999999999,0.20904,0.2089,0.208718,0.20904,0.2093,0.2093,0.2095699999999999,0.2096599999999999,0.2094,0.20926,0.2092,0.2087,0.2084,0.2078,0.2082,0.2082,0.2082,0.209,0.209219,0.2091,0.2087,0.2081,0.2086,0.2084,0.2079599999999999,0.208246,0.207836,0.20864,0.209089,0.209008,0.2079,0.20733,0.2073,0.2072,0.207,0.2066329999999999,0.206644,0.20623,0.206284,0.205926,0.2064099999999999,0.2074,0.2073429999999999,0.20679,0.2061,0.2063,0.2070159999999999,0.2081,0.2092099999999999,0.2095,0.209152,0.2091,0.209,0.209,0.20915,0.208813,0.2088,0.2086,0.2083,0.208709,0.2101,0.21,0.210011,0.2097,0.2096,0.2091,0.209,0.2093,0.2092,0.20954,0.21095,0.2107,0.211004,0.2109,0.2108,0.2109,0.210916,0.211004,0.2113,0.2129,0.2123,0.2127,0.212,0.2125,0.2121,0.212,0.2116,0.2117,0.211616,0.2114,0.2115,0.2113199999999999,0.2114,0.2112,0.2117,0.2113,0.2114599999999999,0.2113,0.2109,0.2108,0.2106,0.2108,0.210717,0.2111,0.2107,0.2105,0.2106,0.2109,0.2106,0.2107,0.2106,0.2106,0.2106,0.210832,0.2111,0.2115,0.2113,0.2105,0.2101,0.2097,0.2094,0.2095,0.2095,0.209211,0.2094,0.2091,0.2091,0.2091,0.2088,0.208915,0.2091,0.2091,0.209,0.2094,0.2097,0.2099,0.2102,0.2117,0.211801,0.2111,0.2107,0.2104,0.2107,0.2109,0.2111,0.2116,0.2114,0.21173,0.2118,0.2119,0.2116,0.2114,0.2113,0.2111,0.2113,0.2117,0.2122,0.2123,0.212,0.2121,0.2123,0.2122,0.2121,0.212,0.2123,0.2123,0.2122,0.212,0.212,0.212,0.212,0.212,0.212,0.212,0.212,0.212,0.212,0.212,0.212,0.2119,0.212,0.212,0.2124,0.21272,0.2127,0.2126,0.2123,0.2128,0.213348,0.2135,0.2132,0.2127,0.2127,0.2127,0.2122,0.2119,0.2121,0.2129,0.2132,0.2128,0.2134,0.2138,0.21385,0.2133,0.2135,0.2137,0.2138199999999999,0.2139,0.214074,0.214,0.214,0.2142,0.2139,0.2143,0.2148,0.2148,0.2147,0.2147,0.2149,0.2144,0.2147,0.214727,0.2147,0.2148,0.2146,0.2145,0.2144,0.2144,0.2144,0.2142,0.2143,0.2144,0.2146,0.2145,0.2149,0.2147,0.21453,0.2148,0.2148,0.2146,0.2144,0.214324,0.2139,0.2133,0.213215,0.2132,0.212716,0.2123,0.2116,0.2114,0.2112,0.210411,0.2106,0.2105,0.2102,0.2103,0.2102,0.2105,0.2103199999999999,0.2112,0.2115,0.2116,0.2109199999999999,0.2097,0.2097099999999999,0.2092,0.209,0.2084,0.20819,0.2079,0.2077,0.2089,0.2089,0.2084030000000001,0.2086,0.2083,0.2082,0.2079,0.2075,0.207278,0.2071619999999999,0.2067,0.206729,0.2068,0.2068,0.2071,0.2063,0.2067,0.2064,0.206,0.2069,0.2072,0.2075,0.2074599999999999,0.2074,0.2074369999999999,0.2075,0.2068,0.2076,0.2078,0.207806,0.2074,0.2069,0.2075,0.2076,0.2076,0.208,0.2083,0.2083,0.2083,0.2083,0.2084,0.2083,0.2082,0.20754,0.2071,0.2088,0.2088],\"low\":[0.2226,0.2224,0.2225,0.222,0.222,0.2225,0.22313,0.222776,0.222332,0.22248,0.2229,0.222959,0.2229719999999999,0.223,0.2227,0.2229,0.22346,0.2235,0.2233,0.223475,0.2238699999999999,0.223966,0.223896,0.2236,0.2234,0.2231199999999999,0.2233,0.22294,0.2227,0.2227,0.22257,0.2226,0.222,0.2218,0.2218,0.22193,0.2224,0.222271,0.2222,0.2219,0.2217,0.2223,0.22255,0.2223989999999999,0.2227,0.2228,0.2226,0.22228,0.2224,0.2223,0.2221,0.2217,0.2217,0.2216,0.2217,0.2219,0.2218,0.2212,0.22109,0.221187,0.2211699999999999,0.2211,0.2211,0.2211,0.221,0.221,0.221,0.2213,0.2215,0.2211,0.2208699999999999,0.2211,0.2212,0.221555,0.2214,0.2214,0.2214,0.2214,0.2219,0.222,0.2225,0.223,0.222798,0.2226,0.2226,0.2225,0.2224,0.222,0.2216,0.2212,0.2212,0.2207,0.220894,0.2208,0.2208,0.2208,0.2204,0.22,0.2201,0.2198,0.2192,0.2194,0.2198,0.2202,0.2194,0.2195,0.2196,0.2189999999999999,0.2188,0.2193,0.2194,0.2194,0.2173,0.216098,0.2151,0.21629,0.21668,0.2161,0.2164,0.216853,0.21616,0.2156989999999999,0.2163,0.2164,0.2164,0.2172,0.2173,0.216689,0.2162599999999999,0.2161,0.2157,0.2157,0.2158,0.2153,0.2153699999999999,0.2158,0.2163,0.216633,0.2169,0.2172199999999999,0.2172,0.217,0.2164,0.2171,0.2178,0.2179,0.2175,0.21798,0.2183,0.2188,0.2186,0.2187,0.2185,0.2181,0.218,0.2181,0.2175,0.2173,0.2173,0.21739,0.2179829999999999,0.218,0.2181,0.2183,0.2188,0.2188,0.2189,0.2187,0.2186,0.2186,0.2188,0.21859,0.2185,0.2186,0.2188,0.2188,0.2192,0.2195,0.2196,0.2195,0.2194,0.2194,0.2196,0.2198,0.2198,0.2196,0.2193739999999999,0.2193,0.2191,0.2191,0.21907,0.2194,0.2192,0.21979,0.2198,0.2196,0.2194,0.2194,0.2194,0.2191,0.2189999999999999,0.2186,0.21839,0.2188,0.2187,0.2189999999999999,0.2193,0.2195,0.21938,0.2192,0.219496,0.2194,0.2189999999999999,0.2189,0.2189999999999999,0.2189999999999999,0.21899,0.2192,0.2196,0.2194449999999999,0.219571,0.2194989999999999,0.2191679999999999,0.2191,0.21916,0.2192,0.2191,0.2189999999999999,0.2189,0.2188969999999999,0.2188,0.2185,0.2183,0.2183,0.2186,0.2188,0.2183,0.21827,0.2184,0.2186,0.2183,0.2181,0.218,0.2178,0.2178,0.21809,0.21799,0.21743,0.2177,0.2178699999999999,0.2182599999999999,0.2182,0.2178,0.2177,0.2177,0.2174,0.2174,0.2172,0.217,0.2167280000000001,0.2168,0.217,0.2172,0.2166,0.2166,0.2166,0.2168,0.21666,0.2163,0.216,0.2156,0.2155,0.2147,0.2153,0.2169,0.2182,0.2184,0.218,0.2184,0.2184,0.2182,0.2181,0.2183,0.218,0.2177,0.2172,0.2171,0.217184,0.2171,0.217,0.2172,0.2164199999999999,0.2164,0.216,0.2161,0.2159,0.2159,0.2161,0.2158,0.2158,0.215775,0.215,0.2148,0.2148,0.21488,0.2134599999999999,0.2159309999999999,0.215551,0.2158,0.2161,0.216278,0.2163,0.2161,0.2155,0.2155,0.21568,0.2151,0.2151,0.2151,0.21519,0.2147,0.2141,0.2139,0.214,0.2132,0.2137,0.21389,0.2117,0.2124,0.2135,0.21264,0.2119,0.2121,0.212,0.2118,0.21144,0.2118,0.2099,0.2101,0.2104,0.2104,0.2099,0.2099,0.209,0.2074,0.20745,0.2075,0.2074,0.206027,0.2069,0.2086,0.2097,0.2096,0.20963,0.2099,0.2104,0.2098,0.208999,0.2086,0.2084,0.2079,0.2067,0.20525,0.204196,0.2049,0.2062,0.2059,0.2046,0.2044,0.2041,0.20604,0.2058,0.2054,0.205,0.2056,0.2065,0.2069,0.207,0.2072,0.207,0.2089,0.2084,0.2084,0.2092,0.2091,0.2093,0.20947,0.2086,0.20833,0.2081,0.2081,0.2077,0.2075,0.207,0.2072,0.2079,0.2064,0.2063,0.2056,0.2054,0.205,0.2043,0.20499,0.2050199999999999,0.2036,0.2024,0.20289,0.2029,0.2019999999999999,0.20303,0.2031,0.2024,0.2014,0.2004,0.2016,0.2002,0.2,0.1988,0.19872,0.1989,0.2003,0.2008,0.2025,0.20297,0.2038,0.2048,0.205,0.205895,0.2048,0.2047,0.205601,0.2056,0.20615,0.2069,0.2069,0.20697,0.207141,0.20754,0.2075,0.20703,0.20706,0.20685,0.2065,0.2059,0.20609,0.2061,0.207,0.2079,0.20758,0.2071,0.20723,0.207025,0.2064,0.2064,0.2071,0.20853,0.2087,0.2093,0.209306,0.209488,0.2093,0.2093,0.2093,0.20938,0.2099,0.209862,0.2099,0.2102,0.2103949999999999,0.2099,0.2096,0.211092,0.211771,0.211723,0.2116,0.211534,0.2114,0.2111869999999999,0.2110679999999999,0.2114,0.21156,0.2122,0.2127,0.212848,0.21247,0.212,0.212,0.2119,0.2122,0.212965,0.2128,0.2129,0.213698,0.2141809999999999,0.214582,0.2138,0.2135,0.214,0.2134,0.2131,0.2125739999999999,0.2123,0.2124,0.2127,0.2129,0.2134,0.2133,0.2132,0.2131,0.2123,0.2125699999999999,0.2121,0.2118,0.2122,0.2117,0.2118,0.212,0.2117,0.2113,0.2112,0.211484,0.2114,0.2114,0.2114,0.2113,0.2114,0.2116,0.212,0.2127,0.212,0.212256,0.2112,0.2113,0.2113,0.211375,0.212258,0.2116,0.2116,0.2117,0.2121,0.211299,0.2112,0.2111,0.2107,0.2107,0.2109,0.2114,0.2124,0.2111,0.2108,0.211,0.2116,0.212,0.2121,0.212,0.212,0.2122,0.2121,0.2118,0.2114,0.211,0.2109,0.2099,0.2099,0.2104,0.2096,0.209893,0.21019,0.2102429999999999,0.210883,0.2112,0.2108,0.2112,0.2117,0.2116,0.2113,0.211,0.211159,0.2113219999999999,0.2116,0.2114,0.2114,0.2115,0.2115,0.2116,0.2118,0.2118,0.2119,0.2121,0.2123,0.2142,0.21436,0.2138,0.213035,0.2123,0.212,0.2118,0.2117,0.2114,0.211356,0.2111,0.2114,0.2113,0.2116,0.2116,0.21191,0.21198,0.213,0.2143,0.2138,0.2128,0.2126,0.2123,0.2122,0.2119,0.2120699999999999,0.2122949999999999,0.2124,0.2137,0.2131,0.213,0.2125,0.2125,0.21259,0.2131,0.2137,0.2136,0.21359,0.2131,0.2118,0.2117,0.2126,0.2131,0.2132,0.2135,0.2143,0.2135699999999999,0.2135,0.2125,0.2124,0.2128,0.2125639999999999,0.2129599999999999,0.2132,0.2137,0.2141,0.2144,0.2146,0.2146,0.215,0.2150389999999999,0.215229,0.2147,0.2144,0.2145,0.2144,0.2148,0.21445,0.2149,0.21529,0.2152,0.2153,0.2153,0.2151,0.2146,0.214497,0.21427,0.2141,0.21394,0.2136,0.2135,0.2129,0.21315,0.2131,0.2131,0.2131,0.21297,0.213,0.2131,0.21309,0.21386,0.2138,0.2134,0.213253,0.21339,0.2129,0.2128,0.2125,0.2126,0.2126,0.2125,0.21254,0.2125,0.2124,0.2122,0.2122,0.2125,0.212867,0.2129,0.213,0.2133,0.2134,0.21319,0.2129,0.213,0.2134,0.2141,0.214,0.214184,0.21338,0.213,0.2127,0.2124,0.212296,0.2123,0.21318,0.214193,0.21435,0.2149,0.2148,0.21455,0.21453,0.2145,0.2144,0.2142869999999999,0.2143,0.2142,0.2142,0.2143,0.2144,0.2145,0.2145,0.2146,0.2149,0.2151,0.2150699999999999,0.2152,0.2145,0.2148,0.2147929999999999,0.2142,0.2142,0.214326,0.2138,0.21366,0.2132,0.21316,0.21288,0.2127,0.2126,0.2124,0.2125,0.21254,0.2123949999999999,0.2124,0.2124,0.2123,0.2123789999999999,0.2122,0.212167,0.2118,0.2116,0.211443,0.210363,0.2108,0.2108,0.2106,0.2102,0.2102,0.2101,0.2099,0.2101,0.2093,0.209,0.2089,0.2083,0.208,0.208,0.2082,0.2084,0.2084,0.2085,0.2084,0.2083,0.2082,0.2085,0.2088,0.20892,0.209,0.2091,0.209,0.209,0.20834,0.2079,0.2074,0.207273,0.2073,0.2072,0.2073,0.208,0.2085,0.2081,0.208,0.2077,0.2079,0.2072,0.207,0.2075,0.2064,0.2069,0.2083699999999999,0.2076,0.2065,0.2063,0.2063,0.2064,0.206163,0.2059,0.2054,0.205,0.2055,0.205,0.2052,0.2061,0.20656,0.2058,0.2053,0.2054,0.2057,0.2069,0.2076,0.2085,0.2085,0.2083,0.2083,0.2082,0.208396,0.2082,0.2081,0.20809,0.2078829999999999,0.20799,0.20858,0.20868,0.2091,0.2091829999999999,0.208733,0.208636,0.208697,0.2088,0.2085,0.2085699999999999,0.2094,0.2101,0.2104,0.2102,0.2103,0.2102,0.2101,0.2101,0.2107,0.2108,0.2114,0.2118,0.2116,0.2115,0.2114,0.21129,0.2112,0.211,0.211,0.211,0.21095,0.211,0.21098,0.2109,0.2108,0.2109,0.211,0.2107,0.2105,0.21039,0.2102,0.2102,0.2102,0.2106,0.2102,0.21023,0.2101,0.2101449999999999,0.2102,0.2102,0.2103,0.210278,0.210189,0.21039,0.2106,0.211,0.210373,0.2098,0.209274,0.2091829999999999,0.2087,0.2089,0.2087,0.2086,0.2087,0.2087,0.2085,0.2086,0.2083,0.2082,0.2083219999999999,0.20859,0.20855,0.208612,0.20904,0.2092,0.209625,0.21,0.2108,0.2106,0.2096,0.20948,0.2098699999999999,0.2098,0.2103,0.2109,0.211,0.2112,0.2113139999999999,0.2113199999999999,0.2111699999999999,0.21098,0.2109,0.21075,0.2107,0.210981,0.2116,0.2118,0.211587,0.2116,0.211969,0.2118,0.2117969999999999,0.2115,0.2116,0.211984,0.2118,0.2118,0.2118,0.2118,0.21176,0.2118,0.2118,0.2117,0.2117,0.2117,0.2117,0.2117,0.2117,0.2117,0.2117,0.2117,0.2118,0.21223,0.2125,0.212194,0.212083,0.2121,0.2126,0.213,0.2125,0.2124869999999999,0.2125,0.212056,0.2116699999999999,0.2115199999999999,0.211529,0.211939,0.2126,0.212445,0.21247,0.21327,0.213,0.2129,0.2131,0.213385,0.2136,0.2136,0.2136,0.2137,0.2137,0.213353,0.213188,0.2135,0.21416,0.214078,0.2142,0.2142,0.2137,0.2138,0.2141,0.2144,0.214298,0.2144,0.21415,0.214,0.2138699999999999,0.21406,0.2139,0.2135099999999999,0.2139,0.214,0.214,0.2141,0.2144,0.2143,0.21419,0.2141,0.21427,0.2142,0.2141,0.2136,0.2132,0.2129,0.2126,0.2126,0.2118,0.2111,0.211,0.2108,0.2101,0.2094,0.2096179999999999,0.20934,0.2092,0.2091,0.209396,0.20994,0.2098,0.2101199999999999,0.210479,0.2106,0.209194,0.209,0.209,0.2085,0.2081,0.207997,0.2076,0.2072,0.2071,0.20711,0.207474,0.2069,0.2076,0.2074,0.207535,0.207092,0.2064,0.206375,0.2061,0.2061,0.2058,0.205988,0.2058969999999999,0.2061,0.2058969999999999,0.2057,0.2057,0.205565,0.20563,0.2065,0.206576,0.2068,0.20692,0.207,0.2062,0.2061889999999999,0.2066,0.20715,0.207069,0.206544,0.2065,0.2066,0.2072099999999999,0.206892,0.20689,0.20773,0.2079,0.2079,0.208,0.208,0.208,0.207294,0.2068,0.2066,0.206784,0.2082],\"open\":[0.2226917999999999,0.2226585,0.22259875,0.222582,0.2221485,0.22258425,0.22331425,0.2233,0.22292525,0.22255775,0.2229524,0.2230968,0.2230599999999999,0.223118,0.223103,0.2229545,0.2236525,0.22366825,0.223704,0.22349125,0.223924,0.2239969999999999,0.22411175,0.2239325,0.223642,0.223467,0.22339825,0.2234568,0.22297175,0.2227849999999999,0.22280425,0.22266625,0.22276325,0.222055,0.221855,0.222103,0.22253475,0.22258375,0.22240925,0.2223393999999999,0.2219025,0.22241575,0.2228476,0.22259425,0.22278925,0.22286125,0.223051,0.2226945,0.22256425,0.222473,0.222374,0.2220405,0.2219375,0.2217565,0.22179125,0.2219888,0.222043,0.221787,0.2212565,0.22132125,0.221319,0.22115825,0.22136875,0.2212555,0.22106875,0.2213852,0.2211219999999999,0.22138775,0.222058,0.22159775,0.2211306,0.2213362,0.221297,0.2219585,0.22166325,0.2215137999999999,0.2214969999999999,0.22151175,0.22205675,0.2220895,0.2225685,0.2230605,0.22332475,0.2231496,0.22276675,0.2227324999999999,0.22260325,0.22250725,0.2222257999999999,0.22166675,0.2212816,0.22136675,0.22112675,0.22135725,0.22089425,0.22095025,0.2208002,0.2204908,0.220326,0.2201424,0.21986075,0.21945575,0.21984375,0.220487,0.2204554999999999,0.2196045,0.2197974999999999,0.21970275,0.219076,0.2193565,0.2197762,0.219649,0.2192465999999999,0.218148,0.216196,0.2174386,0.217072,0.21690875,0.21653225,0.2171196,0.2172268,0.21624875,0.2165405,0.216675,0.21683675,0.2176445,0.21772325,0.21740275,0.217147,0.216331,0.21617675,0.21594125,0.2160255,0.21589025,0.21618425,0.215913,0.21643425,0.21679675,0.2171397999999999,0.21779125,0.2173183999999999,0.21738975,0.2171795,0.2171245,0.2182744999999999,0.218323,0.21805175,0.218257,0.2184065,0.21891525,0.2190586,0.218767,0.21912675,0.218675,0.21818625,0.21822875,0.21827975,0.2175679999999999,0.2175172,0.2174614999999999,0.21810125,0.2183605,0.21821225,0.21840575,0.21884675,0.2190715,0.21910725,0.2189176,0.21888775,0.21864025,0.2189662,0.21907225,0.21863725,0.2187018,0.2192739999999999,0.2190275,0.219226,0.219718,0.219639,0.2198935,0.2195465,0.219555,0.21965175,0.22001375,0.22002125,0.2199696,0.21976125,0.2195545,0.2194035,0.2192895,0.2191726,0.21975875,0.219455,0.21983025,0.219887,0.21993875,0.2197815,0.2195185,0.21959775,0.2194219999999999,0.219162,0.2190605,0.218664,0.21889375,0.2191425,0.2190744999999999,0.21936475,0.21958625,0.21966925,0.2194219999999999,0.219567,0.2195625,0.2194728,0.21902825,0.21911275,0.2190744999999999,0.219137,0.21927775,0.219652,0.21969075,0.21964275,0.2197285,0.219538,0.219243,0.21923675,0.21933675,0.219253,0.2192,0.21905525,0.21895075,0.21921875,0.2188545,0.2187956,0.2184465,0.218646,0.219108,0.21887025,0.2183715,0.21848825,0.21885825,0.2185834,0.218381,0.218117,0.218141,0.217885,0.2181922,0.218213,0.21803025,0.21775325,0.2179825,0.218299,0.21847225,0.2183235,0.21801525,0.21776325,0.21787475,0.2176995,0.21751575,0.2172798,0.217212,0.21688625,0.217099,0.21728675,0.21738475,0.2166795,0.2167315,0.21702225,0.21684,0.2167308,0.21626275,0.2160106,0.2160185,0.2156159999999999,0.2153695,0.2170032,0.2188095,0.2189999999999999,0.2185554999999999,0.21847325,0.21923725,0.21853275,0.21834525,0.21890225,0.218542,0.2181795,0.217851,0.217637,0.217597,0.21736525,0.217149,0.2178844999999999,0.21745,0.21684975,0.2169052,0.21625325,0.2162854,0.21601075,0.21645175,0.21636975,0.215993,0.216316,0.215872,0.21518425,0.215182,0.2151534,0.2151326,0.2161219999999999,0.21639,0.21597475,0.2166377999999999,0.2165542,0.2167022,0.21723525,0.21635425,0.21572675,0.2158765,0.2156538,0.2152992,0.21526975,0.2154245,0.2153745,0.2147282,0.214533,0.21412775,0.2145418,0.213886,0.213984,0.2141143999999999,0.21262625,0.2137088,0.2136715,0.2131735,0.2121945,0.21248875,0.21206375,0.2124015,0.2123166,0.212024,0.2108045,0.2107357999999999,0.211441,0.2107725,0.21004775,0.210088,0.2091179999999999,0.2081619999999999,0.2077496,0.2083199999999999,0.2081657999999999,0.2080717999999999,0.209011,0.2098944,0.21011725,0.2099166,0.210479,0.210859,0.21070575,0.2099355,0.209114,0.20922875,0.2083739999999999,0.2079112,0.206913,0.2057848,0.2052804,0.2064534999999999,0.207121,0.20604275,0.20459575,0.204855,0.2062389999999999,0.2066739999999999,0.206276,0.20592925,0.205773,0.20671325,0.20697975,0.20752725,0.20737325,0.207632,0.2091996,0.20905325,0.20877375,0.20966125,0.209282,0.20949075,0.20984975,0.20994225,0.2086362,0.2086966,0.20888975,0.2083348,0.2080699999999999,0.20774,0.2073944,0.208875,0.2080158,0.20668125,0.20669825,0.20588725,0.205617,0.205101,0.205113,0.2058612,0.2049226,0.2035132,0.2036308,0.2038942,0.20307875,0.2033616,0.2048242,0.20328275,0.2024202,0.201525,0.2022234,0.2017267999999999,0.2004602,0.2001142,0.1997018,0.19939575,0.20103225,0.201538,0.20282875,0.20359675,0.2043055,0.2051326,0.20555725,0.2061435,0.2061175999999999,0.20499375,0.20578525,0.206175,0.2063125,0.207036,0.2076525,0.2072728,0.20759625,0.2076704999999999,0.2079768,0.20796225,0.2072455,0.20738,0.20717875,0.20658,0.206119,0.2061985999999999,0.2073285,0.208136,0.20804975,0.2079525,0.2073884,0.2078368,0.20722375,0.206888,0.2079485,0.2088368,0.2089355,0.209538,0.2096414,0.21006875,0.2098364999999999,0.21005125,0.20951125,0.2094795,0.21039175,0.210596,0.2100975,0.210558,0.2107555,0.2107715999999999,0.2100556,0.2112949999999999,0.21233,0.2126974,0.21204175,0.2120602,0.2116594999999999,0.212002,0.21161375,0.2115565,0.21178,0.21245725,0.21305425,0.21296475,0.213084,0.2129775,0.21243725,0.2122195999999999,0.21243625,0.213387,0.213171,0.2130196,0.21422925,0.21437675,0.214961,0.21484625,0.2140008,0.2144055,0.214268,0.2137715,0.213504,0.21292875,0.212718,0.2128659999999999,0.21312725,0.21363725,0.2137848,0.21349325,0.2134623999999999,0.2131212,0.21267375,0.2126915,0.21219175,0.21236375,0.21288625,0.2120218,0.212441,0.21217925,0.2119795,0.2115475,0.2115602,0.21165325,0.21156925,0.2117084,0.21163775,0.2115611999999999,0.2118404,0.212187,0.21311875,0.21270725,0.2124155,0.2122976,0.21173175,0.2115675,0.21152675,0.212332,0.2125119999999999,0.21174925,0.2121254,0.21241275,0.2124988,0.2113449999999999,0.2117345,0.2111578,0.21086775,0.2110652,0.211487,0.21259325,0.2129155,0.21126725,0.21112925,0.21243275,0.21205975,0.2123425,0.21277525,0.2121665,0.212344,0.2126976,0.21241,0.2118778,0.21167175,0.21153,0.211102,0.2103158,0.21049825,0.2106636,0.21005625,0.21031925,0.2105008,0.211083,0.2114506,0.2113765,0.2112644,0.21181125,0.21215475,0.211734,0.21147425,0.21121125,0.211388,0.211964,0.21211525,0.21156775,0.21158825,0.21170925,0.2117315,0.2119126,0.21205325,0.2119735,0.21217525,0.2130134,0.2148596,0.2148278,0.21455075,0.21410325,0.213392,0.21264225,0.2120708,0.2123925,0.211778,0.2114158,0.2116559999999999,0.2115326,0.21145475,0.2119748,0.2117024,0.2124176,0.2123734,0.2135994,0.214611,0.2149735,0.2138816,0.2129526,0.21271375,0.2123895,0.2125706,0.2122536,0.2124192,0.2132546,0.2141078,0.213883,0.213486,0.2131286,0.212798,0.2127362,0.2132834,0.2138782,0.2141576,0.213804,0.214302,0.2132992,0.2119148,0.2128812,0.213409,0.2134584,0.2137166,0.2147594,0.2145027999999999,0.2136178,0.2138518,0.212569,0.2134527999999999,0.2129996,0.213207,0.2134268,0.2138902,0.21441,0.2146734,0.2149834,0.2147664,0.2152664,0.21566,0.215678,0.2152897999999999,0.214936,0.2153104,0.2146429999999999,0.2151096,0.2149354,0.2149994,0.2156146,0.2153844,0.2158238,0.2156027999999999,0.2153086,0.2153924,0.215015,0.2146342,0.2143384,0.2143386,0.2140384,0.213715,0.213627,0.2134042,0.213282,0.2132845,0.2132578,0.2133688,0.213136,0.2132192,0.2132547999999999,0.2139348,0.2141527999999999,0.214199,0.213437,0.21362925,0.2135052,0.21303025,0.2128892,0.2127266,0.2127853999999999,0.212726,0.2127244,0.2128846,0.2127752,0.2125532,0.2123449999999999,0.2126946,0.2131114999999999,0.21301775,0.2131238,0.213385,0.213543,0.2135592,0.2132626,0.2132046,0.2137639999999999,0.2141756,0.2141785,0.2143156,0.2142489999999999,0.2134892,0.2130154,0.21286,0.2125316,0.2125679999999999,0.2134024,0.21459225,0.2144449999999999,0.2150376,0.215428,0.2151646,0.2148368,0.2148836,0.214749,0.21447125,0.21443,0.214354,0.2143478,0.21439075,0.2146112,0.214592,0.2147233999999999,0.2147277999999999,0.2151046,0.2156252,0.2154042,0.2153138,0.2152456,0.2150346,0.2150326,0.2152338,0.2145884,0.2147233999999999,0.2144425999999999,0.2139384,0.2137212,0.2133235999999999,0.213273,0.2131022,0.21297525,0.212676,0.21276725,0.21275975,0.2126966,0.21249225,0.21258025,0.2126078,0.212509,0.2126726,0.212449,0.2122832,0.212034,0.2117762,0.2115188,0.21111575,0.21117775,0.2110438,0.2111643999999999,0.210663,0.21028125,0.2105024,0.2103335,0.2102536,0.20946,0.2093755,0.2095724,0.20893375,0.208352,0.2087754,0.20881725,0.20894275,0.2087777999999999,0.208932,0.2087596,0.2085784999999999,0.20856425,0.2090547999999999,0.20911075,0.2092078,0.2092464,0.2091296,0.2091934,0.2090584,0.2085208,0.2079776,0.207634,0.2074045,0.207967,0.207433,0.2080925,0.2087662,0.2088754,0.2082096,0.2080282,0.207978,0.2082896,0.20733175,0.207677,0.2074786,0.2071675,0.20853475,0.2088316,0.2076764,0.2068346,0.206517,0.2067412,0.2066472,0.2063314,0.2060724,0.20572,0.20591225,0.2057616,0.2056587999999999,0.2062364,0.2071685,0.2066302,0.2059232,0.2054575,0.206015,0.207033,0.2079576,0.2088558,0.2087357999999999,0.208643,0.2087574,0.2087186,0.2088607999999999,0.2087146,0.2085244,0.208166,0.2081619999999999,0.2080475,0.2087634,0.2093552,0.209209,0.209543,0.2093492,0.2089489999999999,0.20886225,0.2088828,0.208987,0.208819,0.2096358,0.2104125,0.2105212,0.210529,0.21073175,0.2106758,0.21036525,0.2105576,0.2109107999999999,0.2110064,0.2119992,0.2122503999999999,0.2118938,0.2117196,0.2119087999999999,0.211606,0.21139975,0.2113158,0.211481,0.211069,0.21132725,0.21103975,0.21118525,0.21109475,0.2109824,0.2112376,0.211047,0.21109,0.2108087999999999,0.2106702,0.21047425,0.2105695,0.210348,0.21074,0.2105298,0.21038875,0.2104582,0.210206,0.2105295,0.21031675,0.21040225,0.2104724,0.2104072,0.21042525,0.2107735,0.21107425,0.2111966,0.2104344,0.20996825,0.2095054999999999,0.2091866,0.208939,0.20922375,0.2089935,0.20925125,0.208831,0.2090465,0.208731,0.2087364,0.20840025,0.20867125,0.20896625,0.208907,0.20881975,0.209159,0.209275,0.2098085,0.210103,0.2115578,0.2110554,0.2104334,0.209724,0.210292,0.2101225,0.21072,0.21099175,0.21134225,0.2113489999999999,0.2115165,0.2114105,0.2115516,0.21115225,0.2112132,0.2109975,0.2109505,0.21107275,0.2117706,0.21217375,0.2118547999999999,0.2117275,0.212021,0.2120155,0.21194,0.2118636,0.21167625,0.2121335,0.21202925,0.211881,0.21190175,0.21187225,0.21185775,0.21188525,0.21183925,0.2118534,0.21179675,0.211842,0.21183925,0.21184225,0.2118255,0.2118429999999999,0.2118205,0.211848,0.2119356,0.2123933999999999,0.2126155,0.2125314,0.2122534,0.21217225,0.21270025,0.2133475,0.2130369999999999,0.2125605,0.21259025,0.21254525,0.2120548,0.2117774,0.21159225,0.21202975,0.21281,0.21277375,0.2125395,0.2133806,0.213722,0.2130452,0.21314675,0.213454,0.21367425,0.2137845,0.2137485,0.21397125,0.213788,0.2138342,0.2134078,0.213621,0.214211,0.21465375,0.21455025,0.2144602,0.2145724,0.2139674,0.214193,0.2146016,0.21443175,0.21460775,0.2144314,0.214188,0.21409425,0.2141745,0.2142702,0.2139584,0.213997,0.214108,0.21417075,0.21427025,0.21455,0.214547,0.2143948,0.2141765,0.21462475,0.2143962,0.2143304999999999,0.2141262,0.213758,0.2131988,0.2131554999999999,0.2127755,0.21260575,0.2119364,0.21118625,0.2111218,0.2109667999999999,0.2101342,0.209823,0.2101644,0.2098746,0.2100312,0.2098428,0.2100906,0.2102197999999999,0.2102582,0.2108284,0.2111858,0.2107632,0.2092594,0.2091927999999999,0.2090266,0.208663,0.2082686,0.2081012,0.2077518,0.2075154,0.2072934,0.2084062,0.2075654,0.208279,0.2077656,0.2080602,0.20758825,0.2072652,0.206917,0.2071105,0.20648,0.206273,0.2061324999999999,0.206495,0.206703,0.20622675,0.2061397999999999,0.2058065,0.2058114999999999,0.2058016,0.2067944,0.206629,0.2069795,0.207251,0.2070864999999999,0.2070428,0.2064127999999999,0.2066785,0.20744125,0.20762975,0.2071276,0.2066435,0.206728,0.20745875,0.207383,0.2069528,0.2078645,0.20815725,0.20803175,0.20810675,0.2082995,0.2081125,0.2080717999999999,0.2074606,0.20689225,0.206821,0.2086225],\"x\":[\"2021-09-20T05:41:00\",\"2021-09-20T05:42:00\",\"2021-09-20T05:43:00\",\"2021-09-20T05:44:00\",\"2021-09-20T05:45:00\",\"2021-09-20T05:46:00\",\"2021-09-20T05:47:00\",\"2021-09-20T05:48:00\",\"2021-09-20T05:49:00\",\"2021-09-20T05:50:00\",\"2021-09-20T05:51:00\",\"2021-09-20T05:52:00\",\"2021-09-20T05:53:00\",\"2021-09-20T05:54:00\",\"2021-09-20T05:55:00\",\"2021-09-20T05:56:00\",\"2021-09-20T05:57:00\",\"2021-09-20T05:58:00\",\"2021-09-20T05:59:00\",\"2021-09-20T06:00:00\",\"2021-09-20T06:01:00\",\"2021-09-20T06:02:00\",\"2021-09-20T06:03:00\",\"2021-09-20T06:04:00\",\"2021-09-20T06:05:00\",\"2021-09-20T06:06:00\",\"2021-09-20T06:07:00\",\"2021-09-20T06:08:00\",\"2021-09-20T06:09:00\",\"2021-09-20T06:10:00\",\"2021-09-20T06:11:00\",\"2021-09-20T06:12:00\",\"2021-09-20T06:13:00\",\"2021-09-20T06:14:00\",\"2021-09-20T06:15:00\",\"2021-09-20T06:16:00\",\"2021-09-20T06:17:00\",\"2021-09-20T06:18:00\",\"2021-09-20T06:19:00\",\"2021-09-20T06:20:00\",\"2021-09-20T06:21:00\",\"2021-09-20T06:22:00\",\"2021-09-20T06:23:00\",\"2021-09-20T06:24:00\",\"2021-09-20T06:25:00\",\"2021-09-20T06:26:00\",\"2021-09-20T06:27:00\",\"2021-09-20T06:28:00\",\"2021-09-20T06:29:00\",\"2021-09-20T06:30:00\",\"2021-09-20T06:31:00\",\"2021-09-20T06:32:00\",\"2021-09-20T06:33:00\",\"2021-09-20T06:34:00\",\"2021-09-20T06:35:00\",\"2021-09-20T06:36:00\",\"2021-09-20T06:37:00\",\"2021-09-20T06:38:00\",\"2021-09-20T06:39:00\",\"2021-09-20T06:40:00\",\"2021-09-20T06:41:00\",\"2021-09-20T06:42:00\",\"2021-09-20T06:43:00\",\"2021-09-20T06:44:00\",\"2021-09-20T06:45:00\",\"2021-09-20T06:46:00\",\"2021-09-20T06:47:00\",\"2021-09-20T06:48:00\",\"2021-09-20T06:49:00\",\"2021-09-20T06:50:00\",\"2021-09-20T06:51:00\",\"2021-09-20T06:52:00\",\"2021-09-20T06:53:00\",\"2021-09-20T06:54:00\",\"2021-09-20T06:55:00\",\"2021-09-20T06:56:00\",\"2021-09-20T06:57:00\",\"2021-09-20T06:58:00\",\"2021-09-20T06:59:00\",\"2021-09-20T07:00:00\",\"2021-09-20T07:01:00\",\"2021-09-20T07:02:00\",\"2021-09-20T07:03:00\",\"2021-09-20T07:04:00\",\"2021-09-20T07:05:00\",\"2021-09-20T07:06:00\",\"2021-09-20T07:07:00\",\"2021-09-20T07:08:00\",\"2021-09-20T07:09:00\",\"2021-09-20T07:10:00\",\"2021-09-20T07:11:00\",\"2021-09-20T07:12:00\",\"2021-09-20T07:13:00\",\"2021-09-20T07:14:00\",\"2021-09-20T07:15:00\",\"2021-09-20T07:16:00\",\"2021-09-20T07:17:00\",\"2021-09-20T07:18:00\",\"2021-09-20T07:19:00\",\"2021-09-20T07:20:00\",\"2021-09-20T07:21:00\",\"2021-09-20T07:22:00\",\"2021-09-20T07:23:00\",\"2021-09-20T07:24:00\",\"2021-09-20T07:25:00\",\"2021-09-20T07:26:00\",\"2021-09-20T07:27:00\",\"2021-09-20T07:28:00\",\"2021-09-20T07:29:00\",\"2021-09-20T07:30:00\",\"2021-09-20T07:31:00\",\"2021-09-20T07:32:00\",\"2021-09-20T07:33:00\",\"2021-09-20T07:34:00\",\"2021-09-20T07:35:00\",\"2021-09-20T07:36:00\",\"2021-09-20T07:37:00\",\"2021-09-20T07:38:00\",\"2021-09-20T07:39:00\",\"2021-09-20T07:40:00\",\"2021-09-20T07:41:00\",\"2021-09-20T07:42:00\",\"2021-09-20T07:43:00\",\"2021-09-20T07:44:00\",\"2021-09-20T07:45:00\",\"2021-09-20T07:46:00\",\"2021-09-20T07:47:00\",\"2021-09-20T07:48:00\",\"2021-09-20T07:49:00\",\"2021-09-20T07:50:00\",\"2021-09-20T07:51:00\",\"2021-09-20T07:52:00\",\"2021-09-20T07:53:00\",\"2021-09-20T07:54:00\",\"2021-09-20T07:55:00\",\"2021-09-20T07:56:00\",\"2021-09-20T07:57:00\",\"2021-09-20T07:58:00\",\"2021-09-20T07:59:00\",\"2021-09-20T08:00:00\",\"2021-09-20T08:01:00\",\"2021-09-20T08:02:00\",\"2021-09-20T08:03:00\",\"2021-09-20T08:04:00\",\"2021-09-20T08:05:00\",\"2021-09-20T08:06:00\",\"2021-09-20T08:07:00\",\"2021-09-20T08:08:00\",\"2021-09-20T08:09:00\",\"2021-09-20T08:10:00\",\"2021-09-20T08:11:00\",\"2021-09-20T08:12:00\",\"2021-09-20T08:13:00\",\"2021-09-20T08:14:00\",\"2021-09-20T08:15:00\",\"2021-09-20T08:16:00\",\"2021-09-20T08:17:00\",\"2021-09-20T08:18:00\",\"2021-09-20T08:19:00\",\"2021-09-20T08:20:00\",\"2021-09-20T08:21:00\",\"2021-09-20T08:22:00\",\"2021-09-20T08:23:00\",\"2021-09-20T08:24:00\",\"2021-09-20T08:25:00\",\"2021-09-20T08:26:00\",\"2021-09-20T08:27:00\",\"2021-09-20T08:28:00\",\"2021-09-20T08:29:00\",\"2021-09-20T08:30:00\",\"2021-09-20T08:31:00\",\"2021-09-20T08:32:00\",\"2021-09-20T08:33:00\",\"2021-09-20T08:34:00\",\"2021-09-20T08:35:00\",\"2021-09-20T08:36:00\",\"2021-09-20T08:37:00\",\"2021-09-20T08:38:00\",\"2021-09-20T08:39:00\",\"2021-09-20T08:40:00\",\"2021-09-20T08:41:00\",\"2021-09-20T08:42:00\",\"2021-09-20T08:43:00\",\"2021-09-20T08:44:00\",\"2021-09-20T08:45:00\",\"2021-09-20T08:46:00\",\"2021-09-20T08:47:00\",\"2021-09-20T08:48:00\",\"2021-09-20T08:49:00\",\"2021-09-20T08:50:00\",\"2021-09-20T08:51:00\",\"2021-09-20T08:52:00\",\"2021-09-20T08:53:00\",\"2021-09-20T08:54:00\",\"2021-09-20T08:55:00\",\"2021-09-20T08:56:00\",\"2021-09-20T08:57:00\",\"2021-09-20T08:58:00\",\"2021-09-20T08:59:00\",\"2021-09-20T09:00:00\",\"2021-09-20T09:01:00\",\"2021-09-20T09:02:00\",\"2021-09-20T09:03:00\",\"2021-09-20T09:04:00\",\"2021-09-20T09:05:00\",\"2021-09-20T09:06:00\",\"2021-09-20T09:07:00\",\"2021-09-20T09:08:00\",\"2021-09-20T09:09:00\",\"2021-09-20T09:10:00\",\"2021-09-20T09:11:00\",\"2021-09-20T09:12:00\",\"2021-09-20T09:13:00\",\"2021-09-20T09:14:00\",\"2021-09-20T09:15:00\",\"2021-09-20T09:16:00\",\"2021-09-20T09:17:00\",\"2021-09-20T09:18:00\",\"2021-09-20T09:19:00\",\"2021-09-20T09:20:00\",\"2021-09-20T09:21:00\",\"2021-09-20T09:22:00\",\"2021-09-20T09:23:00\",\"2021-09-20T09:24:00\",\"2021-09-20T09:25:00\",\"2021-09-20T09:26:00\",\"2021-09-20T09:27:00\",\"2021-09-20T09:28:00\",\"2021-09-20T09:29:00\",\"2021-09-20T09:30:00\",\"2021-09-20T09:31:00\",\"2021-09-20T09:32:00\",\"2021-09-20T09:33:00\",\"2021-09-20T09:34:00\",\"2021-09-20T09:35:00\",\"2021-09-20T09:36:00\",\"2021-09-20T09:37:00\",\"2021-09-20T09:38:00\",\"2021-09-20T09:39:00\",\"2021-09-20T09:40:00\",\"2021-09-20T09:41:00\",\"2021-09-20T09:42:00\",\"2021-09-20T09:43:00\",\"2021-09-20T09:44:00\",\"2021-09-20T09:45:00\",\"2021-09-20T09:46:00\",\"2021-09-20T09:47:00\",\"2021-09-20T09:48:00\",\"2021-09-20T09:49:00\",\"2021-09-20T09:50:00\",\"2021-09-20T09:51:00\",\"2021-09-20T09:52:00\",\"2021-09-20T09:53:00\",\"2021-09-20T09:54:00\",\"2021-09-20T09:55:00\",\"2021-09-20T09:56:00\",\"2021-09-20T09:57:00\",\"2021-09-20T09:58:00\",\"2021-09-20T09:59:00\",\"2021-09-20T10:00:00\",\"2021-09-20T10:01:00\",\"2021-09-20T10:02:00\",\"2021-09-20T10:03:00\",\"2021-09-20T10:04:00\",\"2021-09-20T10:05:00\",\"2021-09-20T10:06:00\",\"2021-09-20T10:07:00\",\"2021-09-20T10:08:00\",\"2021-09-20T10:09:00\",\"2021-09-20T10:10:00\",\"2021-09-20T10:11:00\",\"2021-09-20T10:12:00\",\"2021-09-20T10:13:00\",\"2021-09-20T10:14:00\",\"2021-09-20T10:15:00\",\"2021-09-20T10:16:00\",\"2021-09-20T10:17:00\",\"2021-09-20T10:18:00\",\"2021-09-20T10:19:00\",\"2021-09-20T10:20:00\",\"2021-09-20T10:21:00\",\"2021-09-20T10:22:00\",\"2021-09-20T10:23:00\",\"2021-09-20T10:24:00\",\"2021-09-20T10:25:00\",\"2021-09-20T10:26:00\",\"2021-09-20T10:27:00\",\"2021-09-20T10:28:00\",\"2021-09-20T10:29:00\",\"2021-09-20T10:30:00\",\"2021-09-20T10:31:00\",\"2021-09-20T10:32:00\",\"2021-09-20T10:33:00\",\"2021-09-20T10:34:00\",\"2021-09-20T10:35:00\",\"2021-09-20T10:36:00\",\"2021-09-20T10:37:00\",\"2021-09-20T10:38:00\",\"2021-09-20T10:39:00\",\"2021-09-20T10:40:00\",\"2021-09-20T10:41:00\",\"2021-09-20T10:42:00\",\"2021-09-20T10:43:00\",\"2021-09-20T10:44:00\",\"2021-09-20T10:45:00\",\"2021-09-20T10:46:00\",\"2021-09-20T10:47:00\",\"2021-09-20T10:48:00\",\"2021-09-20T10:49:00\",\"2021-09-20T10:50:00\",\"2021-09-20T10:51:00\",\"2021-09-20T10:52:00\",\"2021-09-20T10:53:00\",\"2021-09-20T10:54:00\",\"2021-09-20T10:55:00\",\"2021-09-20T10:56:00\",\"2021-09-20T10:57:00\",\"2021-09-20T10:58:00\",\"2021-09-20T10:59:00\",\"2021-09-20T11:00:00\",\"2021-09-20T11:01:00\",\"2021-09-20T11:02:00\",\"2021-09-20T11:03:00\",\"2021-09-20T11:04:00\",\"2021-09-20T11:05:00\",\"2021-09-20T11:06:00\",\"2021-09-20T11:07:00\",\"2021-09-20T11:08:00\",\"2021-09-20T11:09:00\",\"2021-09-20T11:10:00\",\"2021-09-20T11:11:00\",\"2021-09-20T11:12:00\",\"2021-09-20T11:13:00\",\"2021-09-20T11:14:00\",\"2021-09-20T11:15:00\",\"2021-09-20T11:16:00\",\"2021-09-20T11:17:00\",\"2021-09-20T11:18:00\",\"2021-09-20T11:19:00\",\"2021-09-20T11:20:00\",\"2021-09-20T11:21:00\",\"2021-09-20T11:22:00\",\"2021-09-20T11:23:00\",\"2021-09-20T11:24:00\",\"2021-09-20T11:25:00\",\"2021-09-20T11:26:00\",\"2021-09-20T11:27:00\",\"2021-09-20T11:28:00\",\"2021-09-20T11:29:00\",\"2021-09-20T11:30:00\",\"2021-09-20T11:31:00\",\"2021-09-20T11:32:00\",\"2021-09-20T11:33:00\",\"2021-09-20T11:34:00\",\"2021-09-20T11:35:00\",\"2021-09-20T11:36:00\",\"2021-09-20T11:37:00\",\"2021-09-20T11:38:00\",\"2021-09-20T11:39:00\",\"2021-09-20T11:40:00\",\"2021-09-20T11:41:00\",\"2021-09-20T11:42:00\",\"2021-09-20T11:43:00\",\"2021-09-20T11:44:00\",\"2021-09-20T11:45:00\",\"2021-09-20T11:46:00\",\"2021-09-20T11:47:00\",\"2021-09-20T11:48:00\",\"2021-09-20T11:49:00\",\"2021-09-20T11:50:00\",\"2021-09-20T11:51:00\",\"2021-09-20T11:52:00\",\"2021-09-20T11:53:00\",\"2021-09-20T11:54:00\",\"2021-09-20T11:55:00\",\"2021-09-20T11:56:00\",\"2021-09-20T11:57:00\",\"2021-09-20T11:58:00\",\"2021-09-20T11:59:00\",\"2021-09-20T12:00:00\",\"2021-09-20T12:01:00\",\"2021-09-20T12:02:00\",\"2021-09-20T12:03:00\",\"2021-09-20T12:04:00\",\"2021-09-20T12:05:00\",\"2021-09-20T12:06:00\",\"2021-09-20T12:07:00\",\"2021-09-20T12:08:00\",\"2021-09-20T12:09:00\",\"2021-09-20T12:10:00\",\"2021-09-20T12:11:00\",\"2021-09-20T12:12:00\",\"2021-09-20T12:13:00\",\"2021-09-20T12:14:00\",\"2021-09-20T12:15:00\",\"2021-09-20T12:16:00\",\"2021-09-20T12:17:00\",\"2021-09-20T12:18:00\",\"2021-09-20T12:19:00\",\"2021-09-20T12:20:00\",\"2021-09-20T12:21:00\",\"2021-09-20T12:22:00\",\"2021-09-20T12:23:00\",\"2021-09-20T12:24:00\",\"2021-09-20T12:25:00\",\"2021-09-20T12:26:00\",\"2021-09-20T12:27:00\",\"2021-09-20T12:28:00\",\"2021-09-20T12:29:00\",\"2021-09-20T12:30:00\",\"2021-09-20T12:31:00\",\"2021-09-20T12:32:00\",\"2021-09-20T12:33:00\",\"2021-09-20T12:34:00\",\"2021-09-20T12:35:00\",\"2021-09-20T12:36:00\",\"2021-09-20T12:37:00\",\"2021-09-20T12:38:00\",\"2021-09-20T12:39:00\",\"2021-09-20T12:40:00\",\"2021-09-20T12:41:00\",\"2021-09-20T12:42:00\",\"2021-09-20T12:43:00\",\"2021-09-20T12:44:00\",\"2021-09-20T12:45:00\",\"2021-09-20T12:46:00\",\"2021-09-20T12:47:00\",\"2021-09-20T12:48:00\",\"2021-09-20T12:49:00\",\"2021-09-20T12:50:00\",\"2021-09-20T12:51:00\",\"2021-09-20T12:52:00\",\"2021-09-20T12:53:00\",\"2021-09-20T12:54:00\",\"2021-09-20T12:55:00\",\"2021-09-20T12:56:00\",\"2021-09-20T12:57:00\",\"2021-09-20T12:58:00\",\"2021-09-20T12:59:00\",\"2021-09-20T13:00:00\",\"2021-09-20T13:01:00\",\"2021-09-20T13:02:00\",\"2021-09-20T13:03:00\",\"2021-09-20T13:04:00\",\"2021-09-20T13:05:00\",\"2021-09-20T13:06:00\",\"2021-09-20T13:07:00\",\"2021-09-20T13:08:00\",\"2021-09-20T13:09:00\",\"2021-09-20T13:10:00\",\"2021-09-20T13:11:00\",\"2021-09-20T13:12:00\",\"2021-09-20T13:13:00\",\"2021-09-20T13:14:00\",\"2021-09-20T13:15:00\",\"2021-09-20T13:16:00\",\"2021-09-20T13:17:00\",\"2021-09-20T13:18:00\",\"2021-09-20T13:19:00\",\"2021-09-20T13:20:00\",\"2021-09-20T13:21:00\",\"2021-09-20T13:22:00\",\"2021-09-20T13:23:00\",\"2021-09-20T13:24:00\",\"2021-09-20T13:25:00\",\"2021-09-20T13:26:00\",\"2021-09-20T13:27:00\",\"2021-09-20T13:28:00\",\"2021-09-20T13:29:00\",\"2021-09-20T13:30:00\",\"2021-09-20T13:31:00\",\"2021-09-20T13:32:00\",\"2021-09-20T13:33:00\",\"2021-09-20T13:34:00\",\"2021-09-20T13:35:00\",\"2021-09-20T13:36:00\",\"2021-09-20T13:37:00\",\"2021-09-20T13:38:00\",\"2021-09-20T13:39:00\",\"2021-09-20T13:40:00\",\"2021-09-20T13:41:00\",\"2021-09-20T13:42:00\",\"2021-09-20T13:43:00\",\"2021-09-20T13:44:00\",\"2021-09-20T13:45:00\",\"2021-09-20T13:46:00\",\"2021-09-20T13:47:00\",\"2021-09-20T13:48:00\",\"2021-09-20T13:49:00\",\"2021-09-20T13:50:00\",\"2021-09-20T13:51:00\",\"2021-09-20T13:52:00\",\"2021-09-20T13:53:00\",\"2021-09-20T13:54:00\",\"2021-09-20T13:55:00\",\"2021-09-20T13:56:00\",\"2021-09-20T13:57:00\",\"2021-09-20T13:58:00\",\"2021-09-20T13:59:00\",\"2021-09-20T14:00:00\",\"2021-09-20T14:01:00\",\"2021-09-20T14:02:00\",\"2021-09-20T14:03:00\",\"2021-09-20T14:04:00\",\"2021-09-20T14:05:00\",\"2021-09-20T14:06:00\",\"2021-09-20T14:07:00\",\"2021-09-20T14:08:00\",\"2021-09-20T14:09:00\",\"2021-09-20T14:10:00\",\"2021-09-20T14:11:00\",\"2021-09-20T14:12:00\",\"2021-09-20T14:13:00\",\"2021-09-20T14:14:00\",\"2021-09-20T14:15:00\",\"2021-09-20T14:16:00\",\"2021-09-20T14:17:00\",\"2021-09-20T14:18:00\",\"2021-09-20T14:19:00\",\"2021-09-20T14:20:00\",\"2021-09-20T14:21:00\",\"2021-09-20T14:22:00\",\"2021-09-20T14:23:00\",\"2021-09-20T14:24:00\",\"2021-09-20T14:25:00\",\"2021-09-20T14:26:00\",\"2021-09-20T14:27:00\",\"2021-09-20T14:28:00\",\"2021-09-20T14:29:00\",\"2021-09-20T14:30:00\",\"2021-09-20T14:31:00\",\"2021-09-20T14:32:00\",\"2021-09-20T14:33:00\",\"2021-09-20T14:34:00\",\"2021-09-20T14:35:00\",\"2021-09-20T14:36:00\",\"2021-09-20T14:37:00\",\"2021-09-20T14:38:00\",\"2021-09-20T14:39:00\",\"2021-09-20T14:40:00\",\"2021-09-20T14:41:00\",\"2021-09-20T14:42:00\",\"2021-09-20T14:43:00\",\"2021-09-20T14:44:00\",\"2021-09-20T14:45:00\",\"2021-09-20T14:46:00\",\"2021-09-20T14:47:00\",\"2021-09-20T14:48:00\",\"2021-09-20T14:49:00\",\"2021-09-20T14:50:00\",\"2021-09-20T14:51:00\",\"2021-09-20T14:52:00\",\"2021-09-20T14:53:00\",\"2021-09-20T14:54:00\",\"2021-09-20T14:55:00\",\"2021-09-20T14:56:00\",\"2021-09-20T14:57:00\",\"2021-09-20T14:58:00\",\"2021-09-20T14:59:00\",\"2021-09-20T15:00:00\",\"2021-09-20T15:01:00\",\"2021-09-20T15:02:00\",\"2021-09-20T15:03:00\",\"2021-09-20T15:04:00\",\"2021-09-20T15:05:00\",\"2021-09-20T15:06:00\",\"2021-09-20T15:07:00\",\"2021-09-20T15:08:00\",\"2021-09-20T15:09:00\",\"2021-09-20T15:10:00\",\"2021-09-20T15:11:00\",\"2021-09-20T15:12:00\",\"2021-09-20T15:13:00\",\"2021-09-20T15:14:00\",\"2021-09-20T15:15:00\",\"2021-09-20T15:16:00\",\"2021-09-20T15:17:00\",\"2021-09-20T15:18:00\",\"2021-09-20T15:19:00\",\"2021-09-20T15:20:00\",\"2021-09-20T15:21:00\",\"2021-09-20T15:22:00\",\"2021-09-20T15:23:00\",\"2021-09-20T15:24:00\",\"2021-09-20T15:25:00\",\"2021-09-20T15:26:00\",\"2021-09-20T15:27:00\",\"2021-09-20T15:28:00\",\"2021-09-20T15:29:00\",\"2021-09-20T15:30:00\",\"2021-09-20T15:31:00\",\"2021-09-20T15:32:00\",\"2021-09-20T15:33:00\",\"2021-09-20T15:34:00\",\"2021-09-20T15:35:00\",\"2021-09-20T15:36:00\",\"2021-09-20T15:37:00\",\"2021-09-20T15:38:00\",\"2021-09-20T15:39:00\",\"2021-09-20T15:40:00\",\"2021-09-20T15:41:00\",\"2021-09-20T15:42:00\",\"2021-09-20T15:43:00\",\"2021-09-20T15:44:00\",\"2021-09-20T15:45:00\",\"2021-09-20T15:46:00\",\"2021-09-20T15:47:00\",\"2021-09-20T15:48:00\",\"2021-09-20T15:49:00\",\"2021-09-20T15:50:00\",\"2021-09-20T15:51:00\",\"2021-09-20T15:52:00\",\"2021-09-20T15:53:00\",\"2021-09-20T15:54:00\",\"2021-09-20T15:55:00\",\"2021-09-20T15:56:00\",\"2021-09-20T15:57:00\",\"2021-09-20T15:58:00\",\"2021-09-20T15:59:00\",\"2021-09-20T16:00:00\",\"2021-09-20T16:01:00\",\"2021-09-20T16:02:00\",\"2021-09-20T16:03:00\",\"2021-09-20T16:04:00\",\"2021-09-20T16:05:00\",\"2021-09-20T16:06:00\",\"2021-09-20T16:07:00\",\"2021-09-20T16:08:00\",\"2021-09-20T16:09:00\",\"2021-09-20T16:10:00\",\"2021-09-20T16:11:00\",\"2021-09-20T16:12:00\",\"2021-09-20T16:13:00\",\"2021-09-20T16:14:00\",\"2021-09-20T16:15:00\",\"2021-09-20T16:16:00\",\"2021-09-20T16:17:00\",\"2021-09-20T16:18:00\",\"2021-09-20T16:19:00\",\"2021-09-20T16:20:00\",\"2021-09-20T16:21:00\",\"2021-09-20T16:22:00\",\"2021-09-20T16:23:00\",\"2021-09-20T16:24:00\",\"2021-09-20T16:25:00\",\"2021-09-20T16:26:00\",\"2021-09-20T16:27:00\",\"2021-09-20T16:28:00\",\"2021-09-20T16:29:00\",\"2021-09-20T16:30:00\",\"2021-09-20T16:31:00\",\"2021-09-20T16:32:00\",\"2021-09-20T16:33:00\",\"2021-09-20T16:34:00\",\"2021-09-20T16:35:00\",\"2021-09-20T16:36:00\",\"2021-09-20T16:37:00\",\"2021-09-20T16:38:00\",\"2021-09-20T16:39:00\",\"2021-09-20T16:40:00\",\"2021-09-20T16:41:00\",\"2021-09-20T16:42:00\",\"2021-09-20T16:43:00\",\"2021-09-20T16:44:00\",\"2021-09-20T16:45:00\",\"2021-09-20T16:46:00\",\"2021-09-20T16:47:00\",\"2021-09-20T16:48:00\",\"2021-09-20T16:49:00\",\"2021-09-20T16:50:00\",\"2021-09-20T16:51:00\",\"2021-09-20T16:52:00\",\"2021-09-20T16:53:00\",\"2021-09-20T16:54:00\",\"2021-09-20T16:55:00\",\"2021-09-20T16:56:00\",\"2021-09-20T16:57:00\",\"2021-09-20T16:58:00\",\"2021-09-20T16:59:00\",\"2021-09-20T17:00:00\",\"2021-09-20T17:01:00\",\"2021-09-20T17:02:00\",\"2021-09-20T17:03:00\",\"2021-09-20T17:04:00\",\"2021-09-20T17:05:00\",\"2021-09-20T17:06:00\",\"2021-09-20T17:07:00\",\"2021-09-20T17:08:00\",\"2021-09-20T17:09:00\",\"2021-09-20T17:10:00\",\"2021-09-20T17:11:00\",\"2021-09-20T17:12:00\",\"2021-09-20T17:13:00\",\"2021-09-20T17:14:00\",\"2021-09-20T17:15:00\",\"2021-09-20T17:16:00\",\"2021-09-20T17:17:00\",\"2021-09-20T17:18:00\",\"2021-09-20T17:19:00\",\"2021-09-20T17:20:00\",\"2021-09-20T17:21:00\",\"2021-09-20T17:22:00\",\"2021-09-20T17:23:00\",\"2021-09-20T17:24:00\",\"2021-09-20T17:25:00\",\"2021-09-20T17:26:00\",\"2021-09-20T17:27:00\",\"2021-09-20T17:28:00\",\"2021-09-20T17:29:00\",\"2021-09-20T17:30:00\",\"2021-09-20T17:31:00\",\"2021-09-20T17:32:00\",\"2021-09-20T17:33:00\",\"2021-09-20T17:34:00\",\"2021-09-20T17:35:00\",\"2021-09-20T17:36:00\",\"2021-09-20T17:37:00\",\"2021-09-20T17:38:00\",\"2021-09-20T17:39:00\",\"2021-09-20T17:40:00\",\"2021-09-20T17:41:00\",\"2021-09-20T17:42:00\",\"2021-09-20T17:43:00\",\"2021-09-20T17:44:00\",\"2021-09-20T17:45:00\",\"2021-09-20T17:46:00\",\"2021-09-20T17:47:00\",\"2021-09-20T17:48:00\",\"2021-09-20T17:49:00\",\"2021-09-20T17:50:00\",\"2021-09-20T17:51:00\",\"2021-09-20T17:52:00\",\"2021-09-20T17:53:00\",\"2021-09-20T17:54:00\",\"2021-09-20T17:55:00\",\"2021-09-20T17:56:00\",\"2021-09-20T17:57:00\",\"2021-09-20T17:58:00\",\"2021-09-20T17:59:00\",\"2021-09-20T18:00:00\",\"2021-09-20T18:01:00\",\"2021-09-20T18:02:00\",\"2021-09-20T18:03:00\",\"2021-09-20T18:04:00\",\"2021-09-20T18:05:00\",\"2021-09-20T18:06:00\",\"2021-09-20T18:07:00\",\"2021-09-20T18:08:00\",\"2021-09-20T18:09:00\",\"2021-09-20T18:10:00\",\"2021-09-20T18:11:00\",\"2021-09-20T18:12:00\",\"2021-09-20T18:13:00\",\"2021-09-20T18:14:00\",\"2021-09-20T18:15:00\",\"2021-09-20T18:16:00\",\"2021-09-20T18:17:00\",\"2021-09-20T18:18:00\",\"2021-09-20T18:19:00\",\"2021-09-20T18:20:00\",\"2021-09-20T18:21:00\",\"2021-09-20T18:22:00\",\"2021-09-20T18:23:00\",\"2021-09-20T18:24:00\",\"2021-09-20T18:25:00\",\"2021-09-20T18:26:00\",\"2021-09-20T18:27:00\",\"2021-09-20T18:28:00\",\"2021-09-20T18:29:00\",\"2021-09-20T18:30:00\",\"2021-09-20T18:31:00\",\"2021-09-20T18:32:00\",\"2021-09-20T18:33:00\",\"2021-09-20T18:34:00\",\"2021-09-20T18:35:00\",\"2021-09-20T18:36:00\",\"2021-09-20T18:37:00\",\"2021-09-20T18:38:00\",\"2021-09-20T18:39:00\",\"2021-09-20T18:40:00\",\"2021-09-20T18:41:00\",\"2021-09-20T18:42:00\",\"2021-09-20T18:43:00\",\"2021-09-20T18:44:00\",\"2021-09-20T18:45:00\",\"2021-09-20T18:46:00\",\"2021-09-20T18:47:00\",\"2021-09-20T18:48:00\",\"2021-09-20T18:49:00\",\"2021-09-20T18:50:00\",\"2021-09-20T18:51:00\",\"2021-09-20T18:52:00\",\"2021-09-20T18:53:00\",\"2021-09-20T18:54:00\",\"2021-09-20T18:55:00\",\"2021-09-20T18:56:00\",\"2021-09-20T18:57:00\",\"2021-09-20T18:58:00\",\"2021-09-20T18:59:00\",\"2021-09-20T19:00:00\",\"2021-09-20T19:01:00\",\"2021-09-20T19:02:00\",\"2021-09-20T19:03:00\",\"2021-09-20T19:04:00\",\"2021-09-20T19:05:00\",\"2021-09-20T19:06:00\",\"2021-09-20T19:07:00\",\"2021-09-20T19:08:00\",\"2021-09-20T19:09:00\",\"2021-09-20T19:10:00\",\"2021-09-20T19:11:00\",\"2021-09-20T19:12:00\",\"2021-09-20T19:13:00\",\"2021-09-20T19:14:00\",\"2021-09-20T19:15:00\",\"2021-09-20T19:16:00\",\"2021-09-20T19:17:00\",\"2021-09-20T19:18:00\",\"2021-09-20T19:19:00\",\"2021-09-20T19:20:00\",\"2021-09-20T19:21:00\",\"2021-09-20T19:22:00\",\"2021-09-20T19:23:00\",\"2021-09-20T19:24:00\",\"2021-09-20T19:25:00\",\"2021-09-20T19:26:00\",\"2021-09-20T19:27:00\",\"2021-09-20T19:28:00\",\"2021-09-20T19:29:00\",\"2021-09-20T19:30:00\",\"2021-09-20T19:31:00\",\"2021-09-20T19:32:00\",\"2021-09-20T19:33:00\",\"2021-09-20T19:34:00\",\"2021-09-20T19:35:00\",\"2021-09-20T19:36:00\",\"2021-09-20T19:37:00\",\"2021-09-20T19:38:00\",\"2021-09-20T19:39:00\",\"2021-09-20T19:40:00\",\"2021-09-20T19:41:00\",\"2021-09-20T19:42:00\",\"2021-09-20T19:43:00\",\"2021-09-20T19:44:00\",\"2021-09-20T19:45:00\",\"2021-09-20T19:46:00\",\"2021-09-20T19:47:00\",\"2021-09-20T19:48:00\",\"2021-09-20T19:49:00\",\"2021-09-20T19:50:00\",\"2021-09-20T19:51:00\",\"2021-09-20T19:52:00\",\"2021-09-20T19:53:00\",\"2021-09-20T19:54:00\",\"2021-09-20T19:55:00\",\"2021-09-20T19:56:00\",\"2021-09-20T19:57:00\",\"2021-09-20T19:58:00\",\"2021-09-20T19:59:00\",\"2021-09-20T20:00:00\",\"2021-09-20T20:01:00\",\"2021-09-20T20:02:00\",\"2021-09-20T20:03:00\",\"2021-09-20T20:04:00\",\"2021-09-20T20:05:00\",\"2021-09-20T20:06:00\",\"2021-09-20T20:07:00\",\"2021-09-20T20:08:00\",\"2021-09-20T20:09:00\",\"2021-09-20T20:10:00\",\"2021-09-20T20:11:00\",\"2021-09-20T20:12:00\",\"2021-09-20T20:13:00\",\"2021-09-20T20:14:00\",\"2021-09-20T20:15:00\",\"2021-09-20T20:16:00\",\"2021-09-20T20:17:00\",\"2021-09-20T20:18:00\",\"2021-09-20T20:19:00\",\"2021-09-20T20:20:00\",\"2021-09-20T20:21:00\",\"2021-09-20T20:22:00\",\"2021-09-20T20:23:00\",\"2021-09-20T20:24:00\",\"2021-09-20T20:25:00\",\"2021-09-20T20:26:00\",\"2021-09-20T20:27:00\",\"2021-09-20T20:28:00\",\"2021-09-20T20:29:00\",\"2021-09-20T20:30:00\",\"2021-09-20T20:31:00\",\"2021-09-20T20:32:00\",\"2021-09-20T20:33:00\",\"2021-09-20T20:34:00\",\"2021-09-20T20:35:00\",\"2021-09-20T20:36:00\",\"2021-09-20T20:37:00\",\"2021-09-20T20:38:00\",\"2021-09-20T20:39:00\",\"2021-09-20T20:40:00\",\"2021-09-20T20:41:00\",\"2021-09-20T20:42:00\",\"2021-09-20T20:43:00\",\"2021-09-20T20:44:00\",\"2021-09-20T20:45:00\",\"2021-09-20T20:46:00\",\"2021-09-20T20:47:00\",\"2021-09-20T20:48:00\",\"2021-09-20T20:49:00\",\"2021-09-20T20:50:00\",\"2021-09-20T20:51:00\",\"2021-09-20T20:52:00\",\"2021-09-20T20:53:00\",\"2021-09-20T20:54:00\",\"2021-09-20T20:55:00\",\"2021-09-20T20:56:00\",\"2021-09-20T20:57:00\",\"2021-09-20T20:58:00\",\"2021-09-20T20:59:00\",\"2021-09-20T21:00:00\",\"2021-09-20T21:01:00\",\"2021-09-20T21:02:00\",\"2021-09-20T21:03:00\",\"2021-09-20T21:04:00\",\"2021-09-20T21:05:00\",\"2021-09-20T21:06:00\",\"2021-09-20T21:07:00\",\"2021-09-20T21:08:00\",\"2021-09-20T21:09:00\",\"2021-09-20T21:10:00\",\"2021-09-20T21:11:00\",\"2021-09-20T21:12:00\",\"2021-09-20T21:13:00\",\"2021-09-20T21:14:00\",\"2021-09-20T21:15:00\",\"2021-09-20T21:16:00\",\"2021-09-20T21:17:00\",\"2021-09-20T21:18:00\",\"2021-09-20T21:19:00\",\"2021-09-20T21:20:00\",\"2021-09-20T21:21:00\",\"2021-09-20T21:22:00\",\"2021-09-20T21:23:00\",\"2021-09-20T21:24:00\",\"2021-09-20T21:25:00\",\"2021-09-20T21:26:00\",\"2021-09-20T21:27:00\",\"2021-09-20T21:28:00\",\"2021-09-20T21:29:00\",\"2021-09-20T21:30:00\",\"2021-09-20T21:31:00\",\"2021-09-20T21:32:00\",\"2021-09-20T21:33:00\",\"2021-09-20T21:34:00\",\"2021-09-20T21:35:00\",\"2021-09-20T21:36:00\",\"2021-09-20T21:37:00\",\"2021-09-20T21:38:00\",\"2021-09-20T21:39:00\",\"2021-09-20T21:40:00\",\"2021-09-20T21:41:00\",\"2021-09-20T21:42:00\",\"2021-09-20T21:43:00\",\"2021-09-20T21:44:00\",\"2021-09-20T21:45:00\",\"2021-09-20T21:46:00\",\"2021-09-20T21:47:00\",\"2021-09-20T21:48:00\",\"2021-09-20T21:49:00\",\"2021-09-20T21:50:00\",\"2021-09-20T21:51:00\",\"2021-09-20T21:52:00\",\"2021-09-20T21:53:00\",\"2021-09-20T21:54:00\",\"2021-09-20T21:55:00\",\"2021-09-20T21:56:00\",\"2021-09-20T21:57:00\",\"2021-09-20T21:58:00\",\"2021-09-20T21:59:00\",\"2021-09-20T22:00:00\",\"2021-09-20T22:01:00\",\"2021-09-20T22:02:00\",\"2021-09-20T22:03:00\",\"2021-09-20T22:04:00\",\"2021-09-20T22:05:00\",\"2021-09-20T22:06:00\",\"2021-09-20T22:07:00\",\"2021-09-20T22:08:00\",\"2021-09-20T22:09:00\",\"2021-09-20T22:10:00\",\"2021-09-20T22:11:00\",\"2021-09-20T22:12:00\",\"2021-09-20T22:13:00\",\"2021-09-20T22:14:00\",\"2021-09-20T22:15:00\",\"2021-09-20T22:16:00\",\"2021-09-20T22:17:00\",\"2021-09-20T22:18:00\",\"2021-09-20T22:19:00\",\"2021-09-20T22:20:00\",\"2021-09-20T22:21:00\",\"2021-09-20T22:22:00\",\"2021-09-20T22:23:00\",\"2021-09-20T22:24:00\",\"2021-09-20T22:25:00\",\"2021-09-20T22:26:00\",\"2021-09-20T22:27:00\",\"2021-09-20T22:28:00\",\"2021-09-20T22:29:00\",\"2021-09-20T22:30:00\",\"2021-09-20T22:31:00\",\"2021-09-20T22:32:00\",\"2021-09-20T22:33:00\",\"2021-09-20T22:34:00\",\"2021-09-20T22:35:00\",\"2021-09-20T22:36:00\",\"2021-09-20T22:37:00\",\"2021-09-20T22:38:00\",\"2021-09-20T22:39:00\",\"2021-09-20T22:40:00\",\"2021-09-20T22:41:00\",\"2021-09-20T22:42:00\",\"2021-09-20T22:43:00\",\"2021-09-20T22:44:00\",\"2021-09-20T22:45:00\",\"2021-09-20T22:46:00\",\"2021-09-20T22:47:00\",\"2021-09-20T22:48:00\",\"2021-09-20T22:49:00\",\"2021-09-20T22:50:00\",\"2021-09-20T22:51:00\",\"2021-09-20T22:52:00\",\"2021-09-20T22:53:00\",\"2021-09-20T22:54:00\",\"2021-09-20T22:55:00\",\"2021-09-20T22:56:00\",\"2021-09-20T22:57:00\",\"2021-09-20T22:58:00\",\"2021-09-20T22:59:00\",\"2021-09-20T23:00:00\",\"2021-09-20T23:01:00\",\"2021-09-20T23:02:00\",\"2021-09-20T23:03:00\",\"2021-09-20T23:04:00\",\"2021-09-20T23:05:00\",\"2021-09-20T23:06:00\",\"2021-09-20T23:07:00\",\"2021-09-20T23:08:00\",\"2021-09-20T23:09:00\",\"2021-09-20T23:10:00\",\"2021-09-20T23:11:00\",\"2021-09-20T23:12:00\",\"2021-09-20T23:13:00\",\"2021-09-20T23:14:00\",\"2021-09-20T23:15:00\",\"2021-09-20T23:16:00\",\"2021-09-20T23:17:00\",\"2021-09-20T23:18:00\",\"2021-09-20T23:19:00\",\"2021-09-20T23:20:00\",\"2021-09-20T23:21:00\",\"2021-09-20T23:22:00\",\"2021-09-20T23:23:00\",\"2021-09-20T23:24:00\",\"2021-09-20T23:25:00\",\"2021-09-20T23:26:00\",\"2021-09-20T23:27:00\",\"2021-09-20T23:28:00\",\"2021-09-20T23:29:00\",\"2021-09-20T23:30:00\",\"2021-09-20T23:31:00\",\"2021-09-20T23:32:00\",\"2021-09-20T23:33:00\",\"2021-09-20T23:34:00\",\"2021-09-20T23:35:00\",\"2021-09-20T23:36:00\",\"2021-09-20T23:37:00\",\"2021-09-20T23:38:00\",\"2021-09-20T23:39:00\",\"2021-09-20T23:40:00\",\"2021-09-20T23:41:00\",\"2021-09-20T23:42:00\",\"2021-09-20T23:43:00\",\"2021-09-20T23:44:00\",\"2021-09-20T23:45:00\",\"2021-09-20T23:46:00\",\"2021-09-20T23:47:00\",\"2021-09-20T23:48:00\",\"2021-09-20T23:49:00\",\"2021-09-20T23:50:00\",\"2021-09-20T23:51:00\",\"2021-09-20T23:52:00\",\"2021-09-20T23:53:00\",\"2021-09-20T23:54:00\",\"2021-09-20T23:55:00\",\"2021-09-20T23:56:00\",\"2021-09-20T23:57:00\",\"2021-09-20T23:58:00\",\"2021-09-20T23:59:00\",\"2021-09-21T00:00:00\"],\"type\":\"candlestick\"}],                        {\"template\":{\"data\":{\"barpolar\":[{\"marker\":{\"line\":{\"color\":\"white\",\"width\":0.5},\"pattern\":{\"fillmode\":\"overlay\",\"size\":10,\"solidity\":0.2}},\"type\":\"barpolar\"}],\"bar\":[{\"error_x\":{\"color\":\"#2a3f5f\"},\"error_y\":{\"color\":\"#2a3f5f\"},\"marker\":{\"line\":{\"color\":\"white\",\"width\":0.5},\"pattern\":{\"fillmode\":\"overlay\",\"size\":10,\"solidity\":0.2}},\"type\":\"bar\"}],\"carpet\":[{\"aaxis\":{\"endlinecolor\":\"#2a3f5f\",\"gridcolor\":\"#C8D4E3\",\"linecolor\":\"#C8D4E3\",\"minorgridcolor\":\"#C8D4E3\",\"startlinecolor\":\"#2a3f5f\"},\"baxis\":{\"endlinecolor\":\"#2a3f5f\",\"gridcolor\":\"#C8D4E3\",\"linecolor\":\"#C8D4E3\",\"minorgridcolor\":\"#C8D4E3\",\"startlinecolor\":\"#2a3f5f\"},\"type\":\"carpet\"}],\"choropleth\":[{\"colorbar\":{\"outlinewidth\":0,\"ticks\":\"\"},\"type\":\"choropleth\"}],\"contourcarpet\":[{\"colorbar\":{\"outlinewidth\":0,\"ticks\":\"\"},\"type\":\"contourcarpet\"}],\"contour\":[{\"colorbar\":{\"outlinewidth\":0,\"ticks\":\"\"},\"colorscale\":[[0.0,\"#0d0887\"],[0.1111111111111111,\"#46039f\"],[0.2222222222222222,\"#7201a8\"],[0.3333333333333333,\"#9c179e\"],[0.4444444444444444,\"#bd3786\"],[0.5555555555555556,\"#d8576b\"],[0.6666666666666666,\"#ed7953\"],[0.7777777777777778,\"#fb9f3a\"],[0.8888888888888888,\"#fdca26\"],[1.0,\"#f0f921\"]],\"type\":\"contour\"}],\"heatmapgl\":[{\"colorbar\":{\"outlinewidth\":0,\"ticks\":\"\"},\"colorscale\":[[0.0,\"#0d0887\"],[0.1111111111111111,\"#46039f\"],[0.2222222222222222,\"#7201a8\"],[0.3333333333333333,\"#9c179e\"],[0.4444444444444444,\"#bd3786\"],[0.5555555555555556,\"#d8576b\"],[0.6666666666666666,\"#ed7953\"],[0.7777777777777778,\"#fb9f3a\"],[0.8888888888888888,\"#fdca26\"],[1.0,\"#f0f921\"]],\"type\":\"heatmapgl\"}],\"heatmap\":[{\"colorbar\":{\"outlinewidth\":0,\"ticks\":\"\"},\"colorscale\":[[0.0,\"#0d0887\"],[0.1111111111111111,\"#46039f\"],[0.2222222222222222,\"#7201a8\"],[0.3333333333333333,\"#9c179e\"],[0.4444444444444444,\"#bd3786\"],[0.5555555555555556,\"#d8576b\"],[0.6666666666666666,\"#ed7953\"],[0.7777777777777778,\"#fb9f3a\"],[0.8888888888888888,\"#fdca26\"],[1.0,\"#f0f921\"]],\"type\":\"heatmap\"}],\"histogram2dcontour\":[{\"colorbar\":{\"outlinewidth\":0,\"ticks\":\"\"},\"colorscale\":[[0.0,\"#0d0887\"],[0.1111111111111111,\"#46039f\"],[0.2222222222222222,\"#7201a8\"],[0.3333333333333333,\"#9c179e\"],[0.4444444444444444,\"#bd3786\"],[0.5555555555555556,\"#d8576b\"],[0.6666666666666666,\"#ed7953\"],[0.7777777777777778,\"#fb9f3a\"],[0.8888888888888888,\"#fdca26\"],[1.0,\"#f0f921\"]],\"type\":\"histogram2dcontour\"}],\"histogram2d\":[{\"colorbar\":{\"outlinewidth\":0,\"ticks\":\"\"},\"colorscale\":[[0.0,\"#0d0887\"],[0.1111111111111111,\"#46039f\"],[0.2222222222222222,\"#7201a8\"],[0.3333333333333333,\"#9c179e\"],[0.4444444444444444,\"#bd3786\"],[0.5555555555555556,\"#d8576b\"],[0.6666666666666666,\"#ed7953\"],[0.7777777777777778,\"#fb9f3a\"],[0.8888888888888888,\"#fdca26\"],[1.0,\"#f0f921\"]],\"type\":\"histogram2d\"}],\"histogram\":[{\"marker\":{\"pattern\":{\"fillmode\":\"overlay\",\"size\":10,\"solidity\":0.2}},\"type\":\"histogram\"}],\"mesh3d\":[{\"colorbar\":{\"outlinewidth\":0,\"ticks\":\"\"},\"type\":\"mesh3d\"}],\"parcoords\":[{\"line\":{\"colorbar\":{\"outlinewidth\":0,\"ticks\":\"\"}},\"type\":\"parcoords\"}],\"pie\":[{\"automargin\":true,\"type\":\"pie\"}],\"scatter3d\":[{\"line\":{\"colorbar\":{\"outlinewidth\":0,\"ticks\":\"\"}},\"marker\":{\"colorbar\":{\"outlinewidth\":0,\"ticks\":\"\"}},\"type\":\"scatter3d\"}],\"scattercarpet\":[{\"marker\":{\"colorbar\":{\"outlinewidth\":0,\"ticks\":\"\"}},\"type\":\"scattercarpet\"}],\"scattergeo\":[{\"marker\":{\"colorbar\":{\"outlinewidth\":0,\"ticks\":\"\"}},\"type\":\"scattergeo\"}],\"scattergl\":[{\"marker\":{\"colorbar\":{\"outlinewidth\":0,\"ticks\":\"\"}},\"type\":\"scattergl\"}],\"scattermapbox\":[{\"marker\":{\"colorbar\":{\"outlinewidth\":0,\"ticks\":\"\"}},\"type\":\"scattermapbox\"}],\"scatterpolargl\":[{\"marker\":{\"colorbar\":{\"outlinewidth\":0,\"ticks\":\"\"}},\"type\":\"scatterpolargl\"}],\"scatterpolar\":[{\"marker\":{\"colorbar\":{\"outlinewidth\":0,\"ticks\":\"\"}},\"type\":\"scatterpolar\"}],\"scatter\":[{\"marker\":{\"colorbar\":{\"outlinewidth\":0,\"ticks\":\"\"}},\"type\":\"scatter\"}],\"scatterternary\":[{\"marker\":{\"colorbar\":{\"outlinewidth\":0,\"ticks\":\"\"}},\"type\":\"scatterternary\"}],\"surface\":[{\"colorbar\":{\"outlinewidth\":0,\"ticks\":\"\"},\"colorscale\":[[0.0,\"#0d0887\"],[0.1111111111111111,\"#46039f\"],[0.2222222222222222,\"#7201a8\"],[0.3333333333333333,\"#9c179e\"],[0.4444444444444444,\"#bd3786\"],[0.5555555555555556,\"#d8576b\"],[0.6666666666666666,\"#ed7953\"],[0.7777777777777778,\"#fb9f3a\"],[0.8888888888888888,\"#fdca26\"],[1.0,\"#f0f921\"]],\"type\":\"surface\"}],\"table\":[{\"cells\":{\"fill\":{\"color\":\"#EBF0F8\"},\"line\":{\"color\":\"white\"}},\"header\":{\"fill\":{\"color\":\"#C8D4E3\"},\"line\":{\"color\":\"white\"}},\"type\":\"table\"}]},\"layout\":{\"annotationdefaults\":{\"arrowcolor\":\"#2a3f5f\",\"arrowhead\":0,\"arrowwidth\":1},\"autotypenumbers\":\"strict\",\"coloraxis\":{\"colorbar\":{\"outlinewidth\":0,\"ticks\":\"\"}},\"colorscale\":{\"diverging\":[[0,\"#8e0152\"],[0.1,\"#c51b7d\"],[0.2,\"#de77ae\"],[0.3,\"#f1b6da\"],[0.4,\"#fde0ef\"],[0.5,\"#f7f7f7\"],[0.6,\"#e6f5d0\"],[0.7,\"#b8e186\"],[0.8,\"#7fbc41\"],[0.9,\"#4d9221\"],[1,\"#276419\"]],\"sequential\":[[0.0,\"#0d0887\"],[0.1111111111111111,\"#46039f\"],[0.2222222222222222,\"#7201a8\"],[0.3333333333333333,\"#9c179e\"],[0.4444444444444444,\"#bd3786\"],[0.5555555555555556,\"#d8576b\"],[0.6666666666666666,\"#ed7953\"],[0.7777777777777778,\"#fb9f3a\"],[0.8888888888888888,\"#fdca26\"],[1.0,\"#f0f921\"]],\"sequentialminus\":[[0.0,\"#0d0887\"],[0.1111111111111111,\"#46039f\"],[0.2222222222222222,\"#7201a8\"],[0.3333333333333333,\"#9c179e\"],[0.4444444444444444,\"#bd3786\"],[0.5555555555555556,\"#d8576b\"],[0.6666666666666666,\"#ed7953\"],[0.7777777777777778,\"#fb9f3a\"],[0.8888888888888888,\"#fdca26\"],[1.0,\"#f0f921\"]]},\"colorway\":[\"#636efa\",\"#EF553B\",\"#00cc96\",\"#ab63fa\",\"#FFA15A\",\"#19d3f3\",\"#FF6692\",\"#B6E880\",\"#FF97FF\",\"#FECB52\"],\"font\":{\"color\":\"#2a3f5f\"},\"geo\":{\"bgcolor\":\"white\",\"lakecolor\":\"white\",\"landcolor\":\"white\",\"showlakes\":true,\"showland\":true,\"subunitcolor\":\"#C8D4E3\"},\"hoverlabel\":{\"align\":\"left\"},\"hovermode\":\"closest\",\"mapbox\":{\"style\":\"light\"},\"paper_bgcolor\":\"white\",\"plot_bgcolor\":\"white\",\"polar\":{\"angularaxis\":{\"gridcolor\":\"#EBF0F8\",\"linecolor\":\"#EBF0F8\",\"ticks\":\"\"},\"bgcolor\":\"white\",\"radialaxis\":{\"gridcolor\":\"#EBF0F8\",\"linecolor\":\"#EBF0F8\",\"ticks\":\"\"}},\"scene\":{\"xaxis\":{\"backgroundcolor\":\"white\",\"gridcolor\":\"#DFE8F3\",\"gridwidth\":2,\"linecolor\":\"#EBF0F8\",\"showbackground\":true,\"ticks\":\"\",\"zerolinecolor\":\"#EBF0F8\"},\"yaxis\":{\"backgroundcolor\":\"white\",\"gridcolor\":\"#DFE8F3\",\"gridwidth\":2,\"linecolor\":\"#EBF0F8\",\"showbackground\":true,\"ticks\":\"\",\"zerolinecolor\":\"#EBF0F8\"},\"zaxis\":{\"backgroundcolor\":\"white\",\"gridcolor\":\"#DFE8F3\",\"gridwidth\":2,\"linecolor\":\"#EBF0F8\",\"showbackground\":true,\"ticks\":\"\",\"zerolinecolor\":\"#EBF0F8\"}},\"shapedefaults\":{\"line\":{\"color\":\"#2a3f5f\"}},\"ternary\":{\"aaxis\":{\"gridcolor\":\"#DFE8F3\",\"linecolor\":\"#A2B1C6\",\"ticks\":\"\"},\"baxis\":{\"gridcolor\":\"#DFE8F3\",\"linecolor\":\"#A2B1C6\",\"ticks\":\"\"},\"bgcolor\":\"white\",\"caxis\":{\"gridcolor\":\"#DFE8F3\",\"linecolor\":\"#A2B1C6\",\"ticks\":\"\"}},\"title\":{\"x\":0.05},\"xaxis\":{\"automargin\":true,\"gridcolor\":\"#EBF0F8\",\"linecolor\":\"#EBF0F8\",\"ticks\":\"\",\"title\":{\"standoff\":15},\"zerolinecolor\":\"#EBF0F8\",\"zerolinewidth\":2},\"yaxis\":{\"automargin\":true,\"gridcolor\":\"#EBF0F8\",\"linecolor\":\"#EBF0F8\",\"ticks\":\"\",\"title\":{\"standoff\":15},\"zerolinecolor\":\"#EBF0F8\",\"zerolinewidth\":2}}},\"xaxis\":{\"title\":{\"text\":\"Time\"},\"rangeslider\":{\"visible\":true}},\"title\":{\"text\":\"Dogecoin Candelstick Chart\",\"y\":0.9,\"x\":0.5,\"xanchor\":\"center\",\"yanchor\":\"top\"},\"yaxis\":{\"title\":{\"text\":\"Price in USD\"},\"ticksuffix\":\"$\"}},                        {\"responsive\": true}                    ).then(function(){\n",
              "                            \n",
              "var gd = document.getElementById('8e0dae7d-eade-471e-9a1b-9e0d15395351');\n",
              "var x = new MutationObserver(function (mutations, observer) {{\n",
              "        var display = window.getComputedStyle(gd).display;\n",
              "        if (!display || display === 'none') {{\n",
              "            console.log([gd, 'removed!']);\n",
              "            Plotly.purge(gd);\n",
              "            observer.disconnect();\n",
              "        }}\n",
              "}});\n",
              "\n",
              "// Listen for the removal of the full notebook cells\n",
              "var notebookContainer = gd.closest('#notebook-container');\n",
              "if (notebookContainer) {{\n",
              "    x.observe(notebookContainer, {childList: true});\n",
              "}}\n",
              "\n",
              "// Listen for the clearing of the current output cell\n",
              "var outputEl = gd.closest('.output');\n",
              "if (outputEl) {{\n",
              "    x.observe(outputEl, {childList: true});\n",
              "}}\n",
              "\n",
              "                        })                };                            </script>        </div>\n",
              "</body>\n",
              "</html>"
            ]
          },
          "metadata": {}
        },
        {
          "output_type": "display_data",
          "data": {
            "text/html": [
              "<html>\n",
              "<head><meta charset=\"utf-8\" /></head>\n",
              "<body>\n",
              "    <div>            <script src=\"https://cdnjs.cloudflare.com/ajax/libs/mathjax/2.7.5/MathJax.js?config=TeX-AMS-MML_SVG\"></script><script type=\"text/javascript\">if (window.MathJax) {MathJax.Hub.Config({SVG: {font: \"STIX-Web\"}});}</script>                <script type=\"text/javascript\">window.PlotlyConfig = {MathJaxConfig: 'local'};</script>\n",
              "        <script src=\"https://cdn.plot.ly/plotly-2.8.3.min.js\"></script>                <div id=\"f8ef124f-66d9-4857-a46d-8b3ab14406a8\" class=\"plotly-graph-div\" style=\"height:525px; width:100%;\"></div>            <script type=\"text/javascript\">                                    window.PLOTLYENV=window.PLOTLYENV || {};                                    if (document.getElementById(\"f8ef124f-66d9-4857-a46d-8b3ab14406a8\")) {                    Plotly.newPlot(                        \"f8ef124f-66d9-4857-a46d-8b3ab14406a8\",                        [{\"close\":[390.7875,390.626,389.7125,390.44,389.9175,390.568,390.067,388.827,388.05,388.8065,389.006,388.7575,388.3135,387.319,388.1135,389.45,390.319,390.6625,390.044,390.048,390.88,391.3715,391.46,391.6585,392.006,392.604,392.6115,392.3605,392.48,392.26,392.7915,393.182,393.27,393.1765,393.289,393.1285,393.1830000000001,393.309,393.8805,393.6505,393.74,393.626,393.712,394.202,393.8055,393.361,393.0955,392.3665,392.571,393.1125,393.51,394.159,393.55550000000005,393.4035,393.2205,392.4135,392.4265,392.2485,392.3945,392.4435,391.9115,392.466,393.182,392.8465,392.66,392.4105,392.6555,392.882,393.0855,393.2695,393.349,393.207,393.47,393.85,394.0305,394.032,393.782,393.7165,393.8285,393.741,393.7995,393.658,393.7255,393.374,393.317,393.273,393.816,394.026,394.1035,393.7855,393.381,392.9885,392.419,392.5725,392.5725,392.7175,392.6765,392.2775,391.67400000000015,392.022,392.075,392.018,391.8995,391.0675,391.786,392.7525,392.753,391.957,391.4325,391.9535,392.5,392.17800000000005,392.1405,392.2195,392.322,393.1495,393.044,393.134,392.646,393.725,393.7925,393.9475,393.7085,393.1105,392.809,392.4980000000001,392.7895,391.84,391.634,391.341,391.28,391.2475,390.206,390.3475,390.4035,391.3225,391.07900000000006,391.0495,391.0995,390.073,391.1795,391.9165,391.3565,391.761,391.799,391.9255,391.3945,391.17,391.0445,390.95,390.3975,390.259,389.95,389.981,390.481,390.8875,390.768,389.745,389.6075,389.6445,389.385,389.628,389.545,389.365,389.9535,389.547,389.902,390.6925,389.8665,389.385,389.93,389.789,390.7895,390.2405,390.444,390.5655,390.565,391.0785,391.214,392.241,392.519,393.105,392.8085,391.778,392.015,391.6585,391.2885,390.887,390.158,389.845,390.1095,389.898,390.2485,389.5285,389.7745,389.559,388.8505,388.8225,388.4905,387.874,387.169,388.045,388.9455,389.22,388.216,388.2655,388.4675,387.699,387.82,388.3255,388.0175,387.6765,385.6295,381.0035,384.3175,383.3045,383.237,381.985,383.355,383.956,382.8935,383.446,383.4375,383.3345,384.509,384.4905,384.1555,383.9025,382.665,382.5835,382.041,382.1865,380.885,380.496,378.235,380.0985,380.5385,381.3805,382.327,380.8275,381.5365000000001,380.92800000000005,380.8265,382.6735,382.829,382.5805,382.8935,383.287,384.17800000000005,385.0015,384.0705,384.6775,383.9205,383.15,383.291,383.495,382.5645,382.31,381.7225,382.3285,383.301,383.1765,383.784,384.574,384.59,384.804,384.4935,384.423,383.9380000000001,384.054,384.2215,383.603,383.1235,384.4685,383.7405,383.744,384.518,384.6625,385.073,384.7575,385.0075000000001,384.8795,385.1855,385.886,385.722,385.115,385.532,385.3125,385.0915,384.722,385.6295,385.074,385.9825,386.036,386.1295,385.871,385.893,385.828,385.9855,385.0895,384.651,384.016,384.413,384.9,384.7245,385.151,385.406,385.709,385.261,385.56,385.55,385.5205,384.9045,385.2005,385.2495,385.3605,385.89,386.2535,386.2875,386.0615,386.1,385.8805,385.3885,385.2480000000001,385.304,385.045,385.1045,384.2505,384.129,384.372,383.7185,383.8785,383.1255,383.5,384.0315000000001,383.5985,382.95,383.128,383.627,383.2325,382.95,382.67,382.62,381.83,382.605,382.869,382.3305,381.935,382.252,383.048,383.61150000000015,383.331,382.6775,382.168,382.175,381.995,381.7190000000001,381.7985,381.798,381.3725,381.7720000000001,382.2295,382.6710000000001,381.414,381.763,382.025,381.68,381.5825,380.66,380.3495,380.27,379.3235,379.1975,381.766,384.314,385.207,385.4065,385.2405,386.676,385.407,385.1825,385.846,385.321,385.0155,384.1445,383.6675,384.114,383.804,383.703,384.67800000000005,384.034,383.2495,383.371,381.9565,382.025,381.17,381.2805,381.02650000000006,380.793,381.122,380.7745,380.5195,380.05,379.84,380.02,382.2395,382.332,381.974,382.631,382.459,382.3895,383.025,381.70900000000006,380.824,381.392,381.341,380.666,380.744,380.94900000000007,381.0085,380.1675,379.515,379.019,379.815,378.819,379.0825,378.5615,375.4755,377.237,376.903,376.3005,375.0515,375.352,374.846,376.036,376.084,375.9515,374.7025,374.8775,375.9165,375.7035,374.375,374.2055,373.448,372.0605000000001,369.7345,370.0095,370.8045,368.1555,369.3855,370.2075,371.771,371.46400000000006,371.6035,372.47,372.52,371.6635,370.3365,370.119,368.945,368.7895,367.46400000000006,365.9955,364.157,366.763,368.1075,366.2480000000001,364.265,364.965,367.0055,367.7535,367.0,366.4605,366.5585,367.511,368.202,369.1685,368.7235,369.1555,371.867,371.495,371.236,371.889,371.279,371.735,371.837,372.1845,370.5465,370.4235,370.49,369.8405,369.227,368.8705,367.8235,370.696,369.9505,368.508,368.6925,366.957,366.659,366.215,366.644,368.1495,366.8205,365.482,364.6785,365.766,363.7875,363.7365,366.1815,363.736,362.6685,361.0885,363.2505,361.63,359.4695000000001,357.865,357.2405,356.36300000000006,358.8175,360.1175,361.496,362.4145,363.228,364.5275,365.3625,366.1045,366.3735,364.7915,365.521,365.71,366.44,367.45,368.0965,367.2155,367.711,367.309,368.0085,368.2065,367.3095,367.3565,367.0485,366.157,364.7305,364.6,366.1565000000001,366.8055,366.953,366.357,365.3495,366.5955,365.2975,364.679,365.9005,367.538,367.197,368.578,369.2545,370.1345,369.3080000000001,368.7765,368.2865000000001,368.065,369.2895,370.0275,369.703,370.4215,370.55550000000005,370.542,369.1515,370.658,371.196,371.681,370.6505,370.6475,370.3555,370.7045,370.1055,370.3295,370.164,371.1,371.604,371.5385,372.241,371.5305,370.543,370.5585,370.7555,371.908,372.109,372.1585,373.5535,373.756,374.635,373.987,373.901,374.5125000000001,373.8555,374.168,373.067,372.3625,371.9835,372.3205,372.169,372.8945,372.27150000000006,372.0905,371.9475,371.6515,371.3425,371.42800000000005,370.71,370.846,371.44900000000007,370.198,370.991,369.995,369.7835,369.208,369.4975,369.4875,369.8945,370.6325000000001,370.5845,370.48,371.68,371.8785,372.626,372.514,372.6175,372.4445,371.6745,371.5265,371.46,372.4035,372.356,371.661,372.0405,372.505,372.2125,370.909,371.87,371.2025,370.514,370.0665,370.49,371.6045,372.031,370.1905,369.9835,371.5725,371.226,371.5145,371.8125,370.9330000000001,371.231,371.5575,371.4055,371.0645,370.775,371.0805,370.1395,368.591,369.403,370.685,369.3475,369.5495,369.723,370.7055,371.605,371.965,371.781,372.314,372.626,371.8655,371.5635,371.1675,371.019,371.95,371.641,371.133,370.95,371.421,371.158,371.681,372.343,372.5195,372.663,373.0005,373.5,374.459,374.2175,374.114,373.7885,372.6865,372.11,372.2885,371.6315,371.0425,371.0335,370.939,370.624,371.042,370.6275,371.3595,371.2,370.9980000000001,370.8535,371.0625,370.3625,369.6625,369.621,369.616,369.6275,369.4695,369.573,370.412,371.8130000000001,371.0765,370.0700000000001,368.9065000000001,368.4895,367.689,368.1535,368.9665,369.0285,368.8775,369.811,368.425,367.348,369.1605,369.924,370.2195,370.46,371.1415,370.84,369.978,370.5455,369.3215,370.387,370.93,371.27150000000006,371.734,371.979,372.275,372.6895,373.2655,372.864,373.116,374.071,374.191,373.522,373.4935,373.5645,373.0,373.444,373.3575,373.6005,374.2065,373.856,374.645,374.108,373.906,374.643,373.9315,373.4085,372.852,372.721,372.3785,371.9375,371.53,371.1045,371.375,371.429,371.0925,371.431,371.0265,371.169,371.1955,372.435,372.6475,372.6145,371.9015,372.073,372.326,371.3835,371.176,371.029,371.246,371.2825,371.58150000000006,371.824,371.542,371.1855,370.8015,371.0905,371.5865,371.546,371.8835,372.1955,372.485,372.48800000000006,372.027,372.033,373.0075,373.4380000000001,373.46400000000006,373.6005,373.49300000000005,372.1275,371.8215,371.4915,371.083,371.083,372.0460000000001,372.975,372.782,373.44,374.227,373.947,373.171,373.8305,373.734,373.5895,373.3425,372.9535,372.8505,373.2405,373.379,373.3885,373.434,373.4365,373.634,374.466,374.105,373.8405,373.6405,373.3,373.252,373.6075,372.7015,373.305,372.807,372.34,372.006,371.416,371.4595,371.04100000000005,370.786,370.9225,370.851,370.9535,370.9555,370.6665,370.88650000000007,371.049,370.802,371.239,370.926,370.629,370.18,369.491,369.699,369.1005,369.3415,369.143,369.2855,368.771,368.55,368.6745,368.762,368.676,368.5195,367.73800000000006,367.746,366.902,366.104,366.8345000000001,366.6345,367.2825,367.083,367.451,367.6455,367.2405,367.441,368.032,368.295,368.312,368.3485,368.078,368.189,367.8455,366.2825,366.0415,365.7615,365.288,365.8725,365.138,366.2365,366.6135,366.937,365.467,365.2065,365.526,365.725,364.48,364.726,364.6245,364.089,365.5735,366.0195,364.505,363.5995,363.854,364.27400000000006,363.7720000000001,363.0,362.693,361.866,362.8605,362.6845,361.43,362.4285,363.564,362.6705,361.8735,361.279,361.8975,362.64200000000005,364.295,365.8775,366.1875,366.302,366.6305,366.745,366.8635,367.06,366.59,365.942,366.0425,365.459,366.7935,368.189,367.36800000000005,368.185,367.6215,367.1075,366.855,366.617,366.261,366.115,367.314,368.36800000000005,368.5595,368.7615,368.8625,369.1665,368.616,368.629,368.919,369.309,369.2785,369.1705,369.306,368.72,368.974,368.2365,368.2285,368.177,368.424,367.592,368.0805,367.1775,367.4275,367.602,367.156,367.0535,366.796,366.8765,366.5155,366.3325,365.969,366.1595,365.893,366.721,366.376,366.0700000000001,366.522,365.6,365.941,365.583,366.093,366.0425,366.1245,366.8385,367.23,367.6195,367.5685,366.859,365.9035,365.086,364.78,364.2085,364.6485,364.164,364.344,363.677,363.79,363.5385,363.6345,363.1265,363.5285,363.773,363.792,363.4165,364.0035,364.3395,365.1355,365.5265,366.9135,366.581,365.8625,364.3755,365.826,365.4215,366.1775,366.337,367.07900000000006,367.015,367.711,367.42,367.739,367.141,367.03,366.7925,366.4815,366.646,367.8855,367.9545,368.0155,367.801,368.1145,367.9635,367.7555,367.832,367.293,367.86800000000005,368.0045,367.8565,368.0725,368.0175,367.992,367.9905,368.024,367.947,368.0405,368.1375000000001,368.182,368.4695,368.4435,368.376,368.585,368.77,368.826,368.95,369.05,369.149,368.362,368.234,368.6975,368.8265,368.204,367.4695,367.5115,367.78,367.03,367.038,366.325,366.249,367.209,366.967,366.601,367.702,367.8125,366.926,367.484,368.05,368.765,368.7655,369.121,369.7475,369.3225,369.1615000000001,369.374,370.0995,370.1555,371.152,371.089,370.8945,371.047,370.499,370.9935,371.484,371.0865,371.23800000000006,370.7845,370.3205,370.2295,370.009,370.42,370.0265,370.173,370.0655,370.425,370.51,370.797,370.744,370.3585,370.0505,370.359,369.854,369.5585,369.3165,368.9395,368.3085,368.05,367.5685,367.387,366.7125,366.012,365.4805,365.2075,364.51,363.7635,364.009,364.1715,364.51650000000006,364.274,364.6175,364.5295,364.4295,365.4685,366.4155,365.6215,363.508,363.4595,363.3095,363.085,361.8995,361.6065,361.458,361.1535,360.91,362.6,361.23,362.399,361.458,362.4575,361.4995,361.05,360.457,360.9285,359.897,359.49800000000005,359.449,360.2615,360.63,359.76150000000007,359.4975,359.3795,359.4705,359.5525,360.6005,360.4485,361.1985,361.7415,361.107,361.1795,360.04099999999994,361.167,362.076,361.84,361.3165,360.293,360.6940000000001,362.0585,361.8855,361.3385,362.805,363.484,363.247,363.589,364.2635,364.116,364.111,362.918,362.2,361.858,364.1145,363.7575],\"high\":[391.0,391.8,390.9,390.634,390.6,390.7,390.622,390.0,389.0,389.2,389.1,389.216,388.9,388.5,388.5,389.5,390.4,390.7,390.9,390.2,390.9,391.5,391.6,391.8,392.144,392.629,392.8,392.7,392.725,392.73,393.0,393.21,393.3,393.3,393.4,393.5,393.4,393.5,393.9,394.0,393.9,393.8,394.0,394.6,394.4,393.9,393.5,393.0,392.9,393.5,393.7,394.4,394.3,393.7,393.5,393.3,392.7,392.6,392.8,392.5,392.5,392.6,393.3,393.5,393.2,392.8,393.0,393.0,393.2,393.3,393.414,393.4,393.5,393.9,394.4,394.2,394.1,393.9,394.1,394.0,393.9,393.9,393.9,393.8,393.5,393.4,393.9,394.1,394.4,394.2,393.9,393.4,393.0,393.0,392.7,392.8,392.8,392.7,392.3,392.2,392.2,392.2,392.3,391.9,392.0,392.9,392.8,392.9,392.0,392.339,392.6,392.5,392.417,392.4,392.4,393.2,393.173,393.254,393.189,393.75,394.0,394.0,394.141,393.8,393.261,393.121,393.2,392.8,391.9,391.7,391.4,391.7,391.25,390.6,390.9,391.5,391.6,391.5,391.226,391.1,391.2,392.0,392.0,391.823,392.0,392.0,391.951,391.5,391.447,391.9,391.045,390.405,390.412,390.2,390.7,391.085,391.213,390.857,390.0,389.896,389.85,389.69,389.793,389.723,390.0,390.044,390.014,390.8,390.832,390.044,390.0,390.11800000000005,390.879,390.726,390.48800000000006,390.737,390.669,391.101,391.37,392.323,392.7,393.2,393.1,392.966,392.4,391.9,391.7,391.4,391.1,390.2,390.4,390.2,390.4,390.2,390.0,389.8,389.6,389.2,389.2,388.6,387.9,388.3,389.1,389.3,389.3,389.4,389.1,388.535,388.3,388.664,388.3,388.1,387.73,385.9,384.7,384.6,384.2,383.8,383.6,384.2,384.2,383.9,383.9,383.5,385.0,385.5,385.0,384.4,384.0,383.7,383.1,382.9,382.3,381.0,381.0,380.3,381.4,382.1,382.5,382.23,382.1,381.8,381.0,382.8,383.0,383.262,383.0,383.4,384.3,385.3,385.1,385.2,384.8,384.1,384.0,383.6,383.6,382.7,382.3,382.4,383.548,383.5,383.9,384.8,385.017,384.9,384.9,384.8,384.6,384.3,384.9,384.4,383.8,384.6,384.6,384.0,384.6,384.7,385.2,385.4,385.1,385.2,385.4,385.9,386.0,385.8,385.6,385.6,385.4,385.3,385.8,385.8,386.3,386.4,386.7,386.3,386.0,386.1,386.3,386.0,385.2,384.926,384.426,385.1,385.042,385.3,385.7,385.8,385.7,385.62,385.6,385.7,385.5,385.3,385.4,385.4,386.0,386.4,386.4,386.3,386.3,386.2,386.0,385.8,385.503,385.4,385.109,385.109,384.3,384.6,384.544,384.1,383.9,383.6,384.162,384.168,383.652,383.7,383.713,383.87,383.265,383.2,382.8,382.7,382.702,382.974,383.035,382.3,382.836,383.165,383.8,383.675,383.4,382.7,382.745,382.2,382.3,381.9,381.9,382.0,381.9,382.4,382.989,382.6,382.4,382.277,382.3,381.9,381.677,381.0,381.1,380.458,379.7,381.9,384.6,385.3,385.9,385.8,387.2,387.1,386.3,385.9,386.1,386.0,385.7,384.3,384.5,384.6,384.4,385.4,385.0,384.3,383.6,383.5,382.6,382.5,382.6,381.527,381.3,381.9,381.4,381.1,380.9,380.7,381.0,382.4,383.1,383.2,382.946,382.8,382.6,383.05,383.1,382.3,381.5,381.8,381.5,381.0,381.141,381.2,381.7,380.12,380.265,380.0,379.9,379.5,379.8,378.709,378.0,378.4,377.0,376.5,375.7,376.4,376.2,376.7,376.6,376.1,375.4,376.3,376.3,375.8,375.0,374.4,374.0,372.6,372.3,370.9,370.9,370.0,370.8,372.5,372.6,372.1,372.6,373.0,372.6,371.9,370.7,370.9,369.6,368.9,368.2,366.2,367.1,368.4,368.3,367.0,365.4,367.4,367.866,368.458,367.3,366.9,367.6,368.3,369.414,369.5,369.8,372.2,373.0,371.8,372.1,372.5,371.9,372.3,372.3,372.3,371.3,370.92,370.6,370.5,369.6,369.0,371.2,371.2,370.2,369.1,368.8,367.5,366.9,367.1,368.4,368.7,367.2,365.7,366.0,365.8,364.3,366.3,366.9,364.5,363.5,363.5,364.6,361.646,359.6,358.6,357.9,359.1,360.8,361.7,362.6,363.4,364.75,366.9,366.3,366.8,366.8,366.1,366.604,367.0,367.5,369.8,368.1,368.2,367.7,368.2,368.4,368.4,368.0,367.5,367.5,366.2,365.8,366.3,367.7,367.6,367.0,366.6,367.5,366.7,365.8,366.0,367.7,367.8,369.5,369.8,371.0,370.4,369.5,369.2,369.0,369.7,370.3,370.9,370.7,370.9,371.4,370.8,371.1,372.0,372.054,372.1,371.1,371.5,371.0,370.7,370.7,370.9,371.2,371.7,372.0,372.6,372.6,371.6,371.0,370.9,372.0,372.6,372.6,373.8,374.2,374.8,374.8,374.2,374.7,374.8,374.6,374.5,373.4,372.6,372.5,372.5,372.9,373.3,372.4,372.3,372.1,371.9,372.1,371.5,371.2,371.5,371.5,371.0,371.0,370.11800000000005,370.13,369.826,370.065,369.9,370.764,370.747,370.9,371.7,372.0,372.9,373.3,372.7,373.2,372.4,372.1,372.006,372.6,372.9,372.3,372.5,372.7,372.5,372.3,371.94,372.2,371.7,370.6,370.8,371.609,372.3,372.131,370.2,371.8,371.9,371.8,372.2,372.0,371.8,371.9,372.0,371.7,371.4,371.3,371.4,370.2,369.9,371.2,370.6,370.3,370.0,371.0,371.731,372.1,372.0,372.7,372.835,372.7,372.7,371.7,371.8,372.0,372.0,371.8,371.4,371.9,371.6,371.9,372.5,372.6,372.81,373.001,373.7,374.7,374.8,374.6,374.1,374.0,373.6,372.5,372.5,372.0,371.4,371.2,371.4,371.3,371.2,371.5,371.424,371.3,371.2,371.11300000000006,371.1,370.5,370.039,370.2,369.8,369.9,369.8,370.5,372.3,372.4,371.3,370.4,369.9,368.9,368.8,369.1,369.4,369.2,369.9,369.9,368.5,369.2,370.0,370.3,370.5,371.2,371.25,370.8,370.8,370.6,370.6,371.1,371.4,371.9,372.4,372.8,372.9,373.4,374.0,373.3,374.4,374.3,374.4,373.7,373.6,373.8,373.8,373.7,373.9,374.4,374.5,374.7,374.9,374.7,374.8,374.6,374.0,373.5,373.1,372.9,372.4,372.2,371.6,372.0,371.6,371.5,371.6,371.7,371.4,371.5,372.6,373.4,372.8,372.9,372.4,372.6,372.5,371.605,371.3,371.6,371.6,371.7,371.9,372.0,371.9,371.4,371.2,371.7,371.8,372.0,372.2,372.5,372.8,372.6,372.3,373.1,373.604,373.6,373.604,373.8,373.5,372.3,371.9,371.7,371.4,372.2,373.0,373.1,373.5,374.3,374.3,374.1,374.8,374.1,374.1,373.6,373.7,373.3,373.4,373.6,373.7,373.6,373.6,373.9,374.6,374.5,374.2,373.9,373.7,373.437,374.2,373.635,373.6,373.4,372.9330000000001,372.4,372.1,372.5,371.5,371.5,371.127,371.1,371.2,371.1,371.0,371.0,371.2,371.4,371.4,371.3,370.9,370.7,370.2,370.213,370.0,369.8,369.319,369.5,369.6,369.1,368.9,368.943,369.3,368.751,368.5,367.97,367.8,367.057,367.0,367.1,367.348,367.5,367.557,367.711,367.86,367.7,368.064,368.37300000000016,368.4,368.84,369.0,368.4,368.4,367.922,366.62300000000016,366.7,365.974,366.712,366.2,366.4,367.1,367.0,367.0,365.9,365.552,366.0,365.754,365.1,365.3,364.9,365.6,366.3,366.1,365.0,364.4,364.9,364.6,364.1,363.6,363.2,362.9,363.3,362.772,362.8,363.707,363.707,362.7,361.948,362.3,362.733,364.3,366.3,366.8,367.1,367.0,366.9,367.2,367.3,367.1,367.1,366.7,366.1,366.9,368.8,368.7,368.8,368.2,368.0,367.3,367.024,366.9,366.6,367.5,368.8,369.0,369.3,369.0,369.3,369.4,369.1,369.2,369.7,369.7,369.4,369.658,369.4,369.5,368.9,368.8,368.4,368.5,368.5,368.2,368.3,367.7,368.0,367.6,367.38,367.009,367.5,367.127,366.5,366.7,366.3,366.4,366.8,367.0,366.6,366.544,366.5,366.414,366.0,366.3,366.2,366.3,367.214,367.3,367.812,367.807,367.637,366.8,366.011,365.4,364.8,365.2,365.3,364.4,364.4,364.0,364.0,363.9,363.9,363.9,363.9,364.1,364.0,364.1,364.8,365.2,365.8,367.1,367.1,366.6,365.8,366.0,366.4,366.4,366.6,367.2,367.4,367.9,367.9,368.0,367.8,367.3,367.3,366.805,366.8,367.931,368.1,368.3,368.0,368.129,368.129,368.1,367.934,367.9,367.945,368.3,368.1,368.1,368.2,368.1,368.1,368.1,368.1,368.1,368.3,368.3,369.0,368.6,368.521,368.6,368.9,368.942,369.1,369.125,369.3,369.2,368.4,368.8,368.9,368.9,368.3,367.6,367.8,367.8,367.168,367.0,366.549,367.3,367.3,367.2,367.9,368.2,367.9,367.7,368.2,368.9,369.0,369.5,369.9,369.8,369.9,370.302,370.417,370.6,371.2,371.3,371.1,371.3,371.6,371.1,371.7,371.6,371.4,371.5,370.9,370.6,370.5,370.5,370.5,370.4,370.3,370.5,371.2,370.9,371.3,370.8,370.5,370.5,370.4,370.1,369.8,369.7,369.2,368.4,368.5,368.2,367.6,367.3,366.5,365.7,365.6,364.6,364.9,364.5,364.6,364.9,364.7,365.0,364.9,366.0,366.7,367.0,365.6,364.2,364.3,363.7,363.4,362.3,362.1,361.7,362.1,363.2,363.7,362.6,362.8,362.7,362.5,361.9,361.2,361.3,360.9,360.3,360.4,360.5,360.8,360.92,360.0,360.5,360.3,359.8,360.8,361.8,361.9,362.4,362.1,362.1,361.7,361.3,362.503,362.5,362.3,361.6,360.9,362.3,362.4,362.3,363.0,363.6,363.624,363.849,364.357,364.5,364.3,364.2,363.2,362.4,364.3,364.5],\"low\":[390.0,390.5,389.4,389.4,389.5,389.8,389.8,388.478,387.5,388.061,388.655,388.5,387.4,386.8,387.1,388.2,389.4,390.0,389.98800000000006,389.7,389.995,390.8,391.1,391.3,391.5,391.9,392.3,391.8,392.2,392.2,392.2,392.8,392.972,393.0,392.8,393.1,393.0,393.1,393.3,393.5,393.4,393.552,393.6,393.6,393.485,393.3,392.934,392.3,392.3,392.4,393.1,393.4,393.5,393.1,393.1,392.014,392.2,392.197,392.092,392.0,391.7,391.393,392.545,392.719,392.5,392.1,392.3,392.6,392.8,392.9,393.2,393.0,393.087,393.3,393.5,393.6,393.7,393.63,393.7,393.682,393.699,393.489,393.6,393.23800000000006,393.276,392.994,393.246,393.646,393.8,393.7,393.2,392.8,392.3,392.2,392.5,392.5,392.461,392.2,391.6,391.5,391.9,391.9,391.8,391.0,391.1,391.8,392.469,391.6,391.1,391.3,392.0,392.1,391.9,392.1,392.0,392.3,392.9,392.9,392.5,392.7,393.5,393.7,393.6,392.9,392.583,392.4,392.2,391.78,391.5,391.282,391.2,391.1,390.1,390.0,390.027,390.1,391.0,390.8,390.6,390.0,389.5,391.0,391.2,391.0,391.7,391.6,391.389,390.7,391.0,390.9,390.395,389.9,389.8,389.8,389.9,390.4,390.6,389.7,389.4,389.5,389.3,389.2,389.4,389.3,389.3,389.3,389.5,389.7,389.8,389.3,389.2,389.6,389.7,390.1,390.1,390.3,390.4,390.5,390.9,391.1,392.0,392.5,392.4,391.7,391.6,391.5,391.041,390.789,390.0,389.5,389.7,389.4,389.6,389.5,389.459,389.4,388.8,388.6,388.3,387.8,386.9,387.1,388.1,388.6,388.0,388.1,388.1,387.698,387.6,387.8,387.6,387.6,385.0,380.003,379.814,381.8,382.516,381.3,382.0,383.0,382.5,382.1,382.9,382.0,382.57,383.7,384.0,383.212,382.6,382.4,382.0,381.7,380.764,378.884,376.968,378.198,379.781,380.3,380.73800000000006,380.729,380.8,380.531,380.0,380.9,381.92,382.4,381.4,382.3,383.2,384.03,383.909,383.915,383.7,383.1,383.1,383.065,382.529,382.124,381.454,381.196,382.092,382.8,383.0,383.602,384.497,384.5,384.3,384.1,383.9,383.78,384.0,383.406,383.0,383.157,383.595,383.48,383.68800000000016,384.406,384.5,384.7,384.6,384.7,384.8,385.2,385.5,385.0,384.867,385.1,384.93,384.7,384.545,385.0,384.874,385.8,385.9,385.7,385.4,385.7,385.73800000000006,384.9,384.4,383.9,383.5,384.2,384.4,384.7,385.2,385.3,385.1,385.1,385.3,385.37300000000016,384.8,384.7,385.095,385.2,385.0,385.7,386.2,385.7,385.96,385.8,385.3,385.0,385.15,385.0,384.8,384.1,384.0,383.7,383.7,383.1,383.0,382.9,383.5,383.5,382.9,382.6,382.8,383.0,382.8,382.6,382.2,381.6,381.7,382.5,382.1,381.3,381.8,382.0,382.9,383.2,382.6,382.1,382.0,381.5,381.5,381.2,381.4,381.2,381.319,381.8,382.2,381.4,381.4,381.7,381.6,381.3,380.6,380.3,380.0,379.3,378.1,379.3,381.5,383.4,384.7,384.466,384.9,385.3,385.099,384.469,385.1,384.4,383.99800000000016,383.272,383.27,383.541,383.6,383.5,383.5,383.0,382.4,381.7,381.7,381.1,380.99800000000016,380.8,380.38,380.6,380.349,380.4,379.7,379.7,379.66,378.5,381.874,381.4,381.6,381.5,381.758,382.0,381.48,380.8,380.8,381.2,380.5,380.4,380.4,380.5,380.0,379.0,378.7,378.892,378.4,378.5,378.462,371.567,375.149,376.6,374.982,374.148,374.804,374.8,374.87,375.07,375.779,374.0,374.114,374.673,375.4,374.3,374.1,373.1,371.854,369.1,368.5,369.2,365.76,366.9,368.297,370.2,371.3,371.0,371.323,372.1,371.376,370.1,369.7,368.8,368.4,367.2,363.9,362.45,363.6,366.1,365.5,364.1,363.8,363.5,366.6,366.3,366.0,365.1,365.9,367.2,368.1,368.5,368.575,368.1,371.3,370.4,370.2,371.161,371.1,371.2,370.927,370.4,369.7,369.6,369.449,368.384,368.208,367.5,367.58,369.6,367.785,367.92,366.799,366.3,365.76,365.018,366.584,366.452,365.4,363.75,363.4,363.6,362.0,363.7,363.4,362.5,360.944,359.3,361.5,359.0,357.667,353.398,355.7,355.3,358.2,358.5,361.1,361.2,362.4,364.4,364.4,365.5,364.0,364.2,365.3,365.0,366.3,367.4,366.9,366.4,366.5,367.1,367.416,366.916,367.015,366.5,366.079,364.5,364.514,364.231,366.0,366.511,366.0,365.097,365.032,364.98,363.93,363.819,364.709,366.774,366.698,368.2,368.978,368.9,368.0,367.6,368.0,368.0,368.5,369.36300000000006,369.3,370.1,370.1,368.951,368.7,370.603,370.382,370.2,370.0,370.2,370.099,369.5,369.554,370.1,370.1,370.814,371.2,371.381,370.893,370.0,370.1,369.992,370.57,371.6,371.7,372.1,372.9,373.8,373.805,373.3,373.4,373.7,373.5,373.0,372.2,371.4,371.5,371.839,372.1,372.2,371.8,371.8,371.5,370.9,371.2,370.6,370.1,370.7,369.9,370.0,369.8,369.3,368.8,369.1,369.3,369.3,369.8,370.1,370.1,370.4,371.4,371.7,372.4,371.5,372.3,371.0,371.2,371.2,371.3,372.2,371.5,371.5,371.5,372.0,370.8,370.9,371.1,370.3,369.7,370.0,370.2,371.4,370.0,369.4,369.8,370.49,371.202,371.2,370.8,370.8,371.2,371.27,370.876,370.7,370.2,369.875,367.9,368.0,369.4,368.6,369.2,369.4,369.5,370.5,371.4,371.1,371.6,372.0,371.6,371.1,371.0,371.0,371.0,371.5,371.1,370.75,370.9,370.901,371.2,371.6,372.2,372.4,372.4,372.5,373.379,374.0,373.7,373.4,372.5,372.0,371.6,371.5,370.9,370.0,370.665,370.6,370.4,370.5,370.5,370.7,370.599,370.5,370.7,370.3,369.4,369.3,369.5,369.3,369.1,369.2,369.5,369.9,371.0,370.0,368.591,368.076,367.07,367.5,367.992,368.936,368.2,368.8,368.3,367.2,367.3,368.8,369.5,370.0,370.1,370.7,369.915,369.8,369.2,369.2,370.2,370.521,371.125,371.54,371.816,372.0,372.6,372.8,372.8,372.9,373.7,373.5,373.19,372.9,372.8,372.7,373.193,372.779,373.485,373.789,373.732,373.916,373.9,373.8,373.835,373.32,372.8,372.6,372.3,371.792,371.46,370.9,371.0,371.0,370.9,370.955,370.951,370.867,371.0,371.191,372.566,372.3,371.866,371.6,371.9,371.3,371.1,370.6,371.056,371.1,371.054,371.3,371.3,371.0,370.7,370.6,371.07,371.346,371.49300000000005,371.7,372.0,372.4,372.0,371.8,372.0,372.7,373.2,373.3,373.4,372.055,371.8,371.3,370.9,371.0,371.0,371.9,372.5,372.7,373.4,373.475,373.1,373.2,373.5,373.5,373.278,372.9,372.761,372.761,373.1,373.249,373.3,373.267,373.4,373.6,373.8,373.5,373.597,373.3,373.2,373.3,372.4,372.4,372.7,372.2,372.0,371.3,371.3,370.8,370.5,370.7,370.5,370.6,370.8,370.6,370.5,370.7,370.8,370.6,370.8,370.6,370.1,369.2,369.4,368.6,368.997,368.8,369.0,368.6,368.5,368.2,368.3,368.6,368.2,367.1,366.994,366.4,365.7,365.7,366.1,366.385,366.9,366.6,367.0,367.0,367.0,367.4,367.8,368.0,368.2,367.9,367.9,367.5,366.0,365.8,365.4,365.2,365.2,364.5,364.8,366.1,366.5,365.3,364.9,364.8,365.4,364.3,364.2,364.5,362.9,363.7,365.4,364.46,363.36300000000006,363.3,363.7,363.5,362.984,362.6,361.8,361.489,362.5,361.1,361.2,362.2,362.6,361.7,361.1,361.2,361.2,362.4,364.0,365.4,365.7,365.749,365.9,366.132,366.4,366.1,365.771,365.8,365.4,365.446,366.6,366.698,367.3,367.358,366.705,366.48,366.4,366.09,366.0,366.0,367.222,368.0,368.4,368.1,368.5,368.6,368.1,368.1,369.0,368.9,368.8,369.1,368.7,368.6,368.1,368.2,368.1,367.789,367.5,367.491,367.1,367.2,367.2,367.0,366.8,366.5,366.7,366.4,366.0,365.763,365.6,365.8,365.8,366.3,365.9,366.0,365.5,365.579,365.565,365.568,365.749,365.9,366.054,366.779,366.9,367.5,366.6,365.7,364.7,364.7,364.1,364.2,364.0,363.48,363.3,363.3,363.18,363.462,363.0,362.8,363.2,363.2,363.1,363.2,364.0,364.2,365.062,365.5,366.1,365.5,364.3,364.3,364.872,364.8,365.6,365.894,366.8,366.947,367.3,367.3,367.1,366.895,366.7,366.4,365.6,366.6,367.7,367.7,367.5,367.5,367.799,367.6,367.55,367.1,367.3,367.8,367.6,367.8,367.9,367.9,367.8,367.8,367.9,367.9,368.0,368.1,368.1,368.3,368.3,368.3,368.5,368.6,368.7,368.9,369.0,368.3,368.0,368.2,368.7,368.1,367.4,367.4,367.5,366.9,366.9,366.2,366.1,366.2,366.6,366.4,366.7,367.6,366.9,366.791,367.485,368.0,368.4,368.86,369.0,369.145,369.12300000000016,368.8,369.1,370.0,370.2,370.3,370.4,370.5,370.2,370.4,370.87,370.9,370.74800000000016,370.76,370.3,370.1,370.0,369.734,369.8,369.3,369.867,370.061,370.381,370.117,370.585,370.203,369.9,369.7,369.687,369.517,369.3,368.701,367.5,367.84,367.4,367.374,366.655,365.8,365.361,365.0,364.4,363.4,363.8,363.2,362.6,363.3,363.5,364.4,364.0,364.4,365.3,365.5,363.36300000000006,363.1,363.125,362.9,361.455,361.2,361.2,360.5580000000001,360.8,360.8,361.07,360.5,361.331,361.085,361.293,360.8,359.666,359.86400000000015,359.1,359.4,358.881,359.09,359.2,359.5,359.2,359.1,359.3,359.0,359.1,360.3,360.4,361.2,361.0,361.0580000000001,359.88199999999995,359.8,361.0,361.2,361.194,360.074,360.2,360.6,361.8,361.2,361.28,362.4,363.193,363.1,363.5,363.9,363.9,362.7,362.1,361.7,361.8,363.7],\"open\":[390.6470000000001,390.887,390.611,389.668,390.539,389.961,390.611,389.976,388.794,388.207,388.9330000000001,389.032,388.7495,388.4005,387.3825,388.2155,389.419,390.255,390.6645,390.1085000000001,390.0475,390.895,391.45,391.5145,391.6425,392.0715,392.6145,392.661,392.3615,392.447,392.3195,392.8945,393.1525,393.201,393.11300000000006,393.2365,393.1835,393.153,393.415,393.869,393.701,393.7705,393.676,393.6865,394.2365,393.82400000000007,393.42,392.9575,392.3730000000001,392.52,393.1205,393.47,394.2085,393.565,393.4035,393.2355,392.4815,392.4965,392.1545,392.2965,392.359,391.9115,392.573,393.212,392.9495,392.654,392.4155,392.666,392.979,393.0855,393.299,393.392,393.0935,393.4935,393.7815,393.9745,394.061,393.782,393.7205,393.7825,393.7,393.77150000000006,393.7085,393.7235,393.4225,393.2565,393.3235,393.8275,394.027,394.161,393.835,393.321,392.8905,392.409,392.6225,392.574,392.728,392.626,392.2775,391.6605,391.996,392.0750000000001,392.0585,391.8535,391.398,391.8095,392.7585,392.80300000000005,391.857,391.4595,392.105,392.369,392.184,392.247,392.291,392.5685,393.1345,393.0435,393.0895,392.702,393.725,393.795,393.912,393.7085,393.028,392.812,392.4555,392.6875,391.837,391.6305,391.341,391.275,391.225,390.1335,390.304,390.4395,391.245,391.052,390.95,391.05550000000005,390.0,391.155,391.9755,391.3505,391.753,391.792,391.9255,391.4445,391.1335,391.0135,391.0145,390.2675,390.356,389.9365,390.0305,390.5315000000001,390.8935,390.6585,389.7415,389.5895,389.7425,389.43,389.6445,389.6015,389.3865,389.936,389.6445,389.8015,390.6905,389.892,389.335,389.9980000000001,389.784,390.6925,390.2275,390.4435,390.561,390.646,391.124,391.184,392.22,392.63,393.0285,392.883,391.824,391.8095,391.6595,391.3605,390.887,390.115,389.8935,390.1555,389.9045,390.159,389.549,389.7240000000001,389.5365000000001,388.8505,388.879,388.494,387.82,387.1470000000001,388.162,389.0,389.1555,388.3405,388.2635,388.5175,387.717,387.8725,388.2605,388.005,387.6,385.718,380.9965,384.258,383.2855,383.2005,382.0885,383.371,384.059,382.819,383.231,383.432,383.269,384.42,384.55550000000005,384.176,383.9035,382.6585,382.578,382.05,382.2055,380.886,380.58,378.199,380.1405,380.4405,381.388,382.1905,380.8815,381.59,380.9285,380.9265,382.667,382.8885,382.7125,382.9785,383.2405,384.22,384.967,384.06,384.7145,383.917,383.17,383.326,383.532,382.5615,382.2285,381.527,382.3245,383.1755,383.2515,383.826,384.5825,384.6015,384.7915,384.47850000000005,384.494,383.926,384.0835,384.2215,383.7235,383.2285,384.518,383.705,383.6940000000001,384.564,384.6005,385.054,384.654,384.96,384.88,385.331,385.837,385.6135,385.1065,385.506,385.3105,385.0295,384.6705,385.6225,385.057,385.947,385.977,386.0805,385.8195,385.8945,385.8835,385.9635,385.092,384.6015,383.915,384.309,385.017,384.753,385.3015,385.4665,385.652,385.266,385.501,385.5375,385.38650000000007,384.8545,385.1625,385.2535,385.354,385.8505,386.2345,386.25,386.03,386.1665,385.85,385.4455,385.343,385.302,385.005,385.0545,384.2375,384.131,384.47,383.7685,383.77,383.103,383.6135,384.0835,383.4575,382.997,383.001,383.785,383.2325,382.9330000000001,382.7325,382.596,381.8265,382.69,382.9675,382.214,381.937,382.189,383.1095,383.532,383.276,382.627,382.1765,382.1285,381.9135,381.649,381.85,381.7485,381.3595,381.8185,382.315,382.592,381.4215,381.8205,382.04,381.6365,381.5775,380.705,380.34,380.3285,379.4105,379.4175,381.762,384.3135,385.2145,385.452,385.175,386.6685,385.407,385.1,385.8825,385.3785,384.8915,384.142,383.72,384.11800000000005,383.92,383.7585,384.8135,384.01,383.282,383.323,382.0035,382.0865,381.1775,381.27150000000006,380.939,380.7325,381.01900000000006,380.722,380.415,380.133,379.8285,380.038,382.1885,382.436,381.9,382.608,382.4085,382.3845,383.07950000000005,381.8130000000001,380.913,381.44,381.3745,380.641,380.6095,380.952,380.958,380.11,379.715,379.008,379.7615,378.667,378.982,378.7045,375.5415,377.306,376.80300000000005,376.3005,375.0505,375.3525,374.935,376.098,376.1765,375.9035,374.7025,374.9175,376.025,375.544,374.2985,374.2255,373.552,372.111,369.734,369.958,370.778,368.05,369.385,370.2795,371.8215,371.4635,371.656,372.44,372.481,371.5990000000001,370.2725,370.1835,368.845,368.788,367.4385,365.98800000000006,364.0305,366.8665,368.0675,366.1695,364.125,364.9735,366.867,367.82,367.011,366.46,366.392,367.5145,368.2480000000001,369.149,368.7005,369.07950000000005,371.8335,371.457,371.193,371.889,371.24,371.83400000000006,371.815,372.168,370.596,370.323,370.4915,369.795,369.0785,368.855,367.7725,370.6285,369.9005,368.455,368.637,366.979,366.5745,366.1775,366.642,368.1495,366.7745,365.6315000000001,364.791,365.7085,363.8135,363.7635,366.24,363.787,362.715,361.1495,363.54,361.6230000000001,359.18699999999995,357.91,357.289,356.3985,358.838,359.9955,361.4465,362.4385,363.196,364.466,365.3995,366.038,366.341,364.842,365.5225,365.6545,366.423,367.4085,368.028,367.068,367.559,367.3265,368.071,368.2385,367.258,367.3385,367.152,366.15,364.7135,364.6,366.155,366.7555,366.907,366.348,365.3455,366.556,365.395,364.8475,365.875,367.538,367.156,368.5575,369.253,370.185,369.062,368.7105,368.264,368.069,369.434,369.995,369.7155,370.4065000000001,370.657,370.5595,369.151,370.6515,371.1465,371.7235,370.709,370.7585,370.3105,370.5945,370.16,370.261,370.114,371.166,371.63,371.5045,372.139,371.512,370.6,370.57900000000006,370.9095,371.95,372.105,372.18,373.608,373.8,374.645,374.0055,373.86800000000005,374.457,373.806,374.319,373.1535,372.2805,371.915,372.2745,372.1735,372.874,372.2935,372.0305,371.9585,371.625,371.344,371.3765,370.701,370.7855,371.499,370.2475,370.9715,370.109,369.8855,369.2190000000001,369.5225,369.5385,369.89650000000006,370.682,370.685,370.5345,371.695,371.8775,372.6545,372.2025,372.6185,372.3035,371.6375000000001,371.483,371.5115,372.4085,372.2005,371.709,372.0055,372.4335,372.1975,370.9285,371.8965,371.215,370.4625,370.0665,370.4175,371.6285,372.0655,370.157,369.9545,371.5075,371.251,371.4535,371.832,370.947,371.2585,371.581,371.571,371.0535,370.776,371.192,370.134,368.6145,369.402,370.585,369.403,369.6,369.723,370.7555,371.603,371.9545,371.7245,372.259,372.67800000000005,371.867,371.4945,371.2915,371.104,371.9535,371.6685,371.0675,371.126,371.358,371.275,371.6715,372.286,372.483,372.604,372.9555,373.605,374.3745,374.1855,373.9855,373.8385,372.786,372.05,372.432,371.584,371.0325,371.0885,370.936,370.68,371.0895,370.5915,371.307,371.211,371.0485,370.9595,371.0515,370.3775,369.661,369.622,369.565,369.6855,369.4675,369.55,370.5235,371.9225,371.1765,370.0875,368.927,368.5065,367.7155,368.0460000000001,368.974,368.958,368.93,369.7585,368.413,367.4675,369.161,369.9165,370.2195,370.4115,371.082,370.7585,369.9575,370.4955,369.3490000000001,370.449,370.9215,371.3245,371.763,371.9980000000001,372.3125,372.7395,373.264,372.815,373.117,374.05,374.241,373.4675,373.4315,373.5835,372.8325,373.5415,373.206,373.5925,374.2065,373.8565,374.6545,374.0995,373.883,374.515,373.8915,373.4835,372.8515,372.773,372.3785,371.9695,371.48,371.1885,371.3325,371.427,371.05,371.479,371.009,371.2315,371.1955,372.6755,372.6975,372.764,371.8575,372.2645,372.421,371.413,371.1015,371.078,371.25,371.25,371.5745,371.835,371.5935,371.0865,370.8035,371.2545,371.6415,371.4965,371.886,372.1965,372.4635,372.5385,372.035,372.0875,372.971,373.443,373.4745,373.5975,373.3975,372.176,371.7720000000001,371.592,371.1845,371.119,372.0465,372.9625,372.732,373.508,374.2465,373.9355,373.2545,373.8255,373.7835,373.5005,373.4775,372.9535,372.8305,373.1315,373.4395,373.4925,373.487,373.4365,373.675,374.46,374.035,373.7425,373.545,373.407,373.3585,373.6175,372.6535,373.30300000000005,372.7585,372.298,372.05,371.414,371.412,371.095,370.806,370.9235,370.852,370.9355,370.942,370.6595,370.8575,371.0955,370.802,371.239,370.8345,370.584,370.116,369.5965,369.72,369.1005,369.309,369.2,369.489,368.7885,368.545,368.6635,368.8325,368.6755,368.4785,367.8165,367.7325,366.9785,366.132,366.83,366.6715,367.2355,367.1365,367.3955,367.741,367.2595,367.541,368.054,368.2905,368.342,368.4385,367.9975,368.1835,367.882,366.281,365.9345,365.734,365.3335,365.9415,365.075,366.2395,366.69,366.9825,365.4165,365.206,365.478,365.725,364.4675,364.7720000000001,364.5715,364.3395,365.5745,366.003,364.5405,363.6525,363.9155,364.1975,363.7475,363.0995,362.6935,361.892,362.812,362.65,361.4675,362.335,363.528,362.6685,361.924,361.2905,361.837,362.6575,364.28,365.924,366.1435,366.3285,366.5825,366.715,366.763,367.037,366.643,365.979,366.0425,365.523,366.783,368.11300000000006,367.3195,368.1595,367.753,367.1075,366.8495,366.7775,366.311,366.117,367.412,368.3325,368.5635,368.7075,368.77150000000006,369.163,368.663,368.62,369.029,369.3145,369.32400000000007,369.5,369.3215,368.69,368.86800000000005,368.3,368.2965,368.2245,368.377,367.5,368.0525,367.2555,367.4495,367.52,367.1055,366.9545,366.7095,366.886,366.4625,366.372,365.8145,366.088,365.8255,366.7255,366.3455,366.0965,366.489,365.595,365.891,365.634,366.048,366.057,366.10350000000005,366.893,367.265,367.5585,367.6185,366.731,365.9005,365.0750000000001,364.725,364.251,364.6485,364.182,364.3325,363.7775,363.924,363.5925,363.665,363.0645,363.628,363.8395,363.8775,363.456,364.0535,364.3305,365.08150000000006,365.527,366.836,366.4235,365.759,364.4235,365.653,365.414,366.1755,366.1695,367.1230000000001,367.0735,367.58150000000006,367.332,367.726,367.091,367.0580000000001,366.7525,366.489,366.6455,367.8675,368.0255,367.9690000000001,367.703,368.1145,367.9465,367.7975,367.8005,367.405,367.8495,368.0535,367.8565,368.0725,368.0675,367.9975,367.9225,368.0235,368.047,368.1225,368.141,368.1880000000001,368.49,368.4435,368.4405,368.611,368.795,368.795,369.0085,369.0975,369.195,368.2935,368.297,368.77400000000006,368.827,368.207,367.5075,367.602,367.78,367.0305,366.9875,366.3105000000001,366.315,367.2095,367.1355,366.796,367.692,367.8,366.8455,367.6975,368.1,368.7895,368.88,369.066,369.732,369.443,369.1295,369.3245,370.102,370.3585,371.105,370.9985,370.9945,371.025,370.542,370.885,371.4885,371.066,371.3475,370.7865000000001,370.273,370.2035,370.076,370.344,370.0265,370.175,370.275,370.3905,370.455,370.85,370.6575,370.415,370.0085,370.3065,369.793,369.6225,369.3315,368.94,368.2000000000001,368.0945,367.6625,367.4355,366.7545,366.008,365.5545,365.2075,364.508,363.869,364.1175,364.2165,364.4145,364.3705,364.6940000000001,364.607,364.4265,365.467,366.413,365.46,363.524,363.369,363.346,363.0095,361.8995,361.657,361.454,361.257,360.85,362.5035,361.2055,362.359,361.458,362.4475,361.4065,360.907,360.5115,360.879,359.7530000000001,359.552,359.409,360.232,360.7135,359.795,359.5775,359.386,359.4335,359.3985,360.7305,360.4445,361.2755,361.7415,361.3365,361.1995,360.087,361.088,361.985,361.8515,361.401,360.355,360.658,362.119,361.8945,361.29,362.702,363.453,363.3065,363.6655,364.271,364.1155,364.11150000000015,362.9265,362.231,362.012,364.115],\"x\":[\"2021-09-20T04:01:00\",\"2021-09-20T04:02:00\",\"2021-09-20T04:03:00\",\"2021-09-20T04:04:00\",\"2021-09-20T04:05:00\",\"2021-09-20T04:06:00\",\"2021-09-20T04:07:00\",\"2021-09-20T04:08:00\",\"2021-09-20T04:09:00\",\"2021-09-20T04:10:00\",\"2021-09-20T04:11:00\",\"2021-09-20T04:12:00\",\"2021-09-20T04:13:00\",\"2021-09-20T04:14:00\",\"2021-09-20T04:15:00\",\"2021-09-20T04:16:00\",\"2021-09-20T04:17:00\",\"2021-09-20T04:18:00\",\"2021-09-20T04:19:00\",\"2021-09-20T04:20:00\",\"2021-09-20T04:21:00\",\"2021-09-20T04:22:00\",\"2021-09-20T04:23:00\",\"2021-09-20T04:24:00\",\"2021-09-20T04:25:00\",\"2021-09-20T04:26:00\",\"2021-09-20T04:27:00\",\"2021-09-20T04:28:00\",\"2021-09-20T04:29:00\",\"2021-09-20T04:30:00\",\"2021-09-20T04:31:00\",\"2021-09-20T04:32:00\",\"2021-09-20T04:33:00\",\"2021-09-20T04:34:00\",\"2021-09-20T04:35:00\",\"2021-09-20T04:36:00\",\"2021-09-20T04:37:00\",\"2021-09-20T04:38:00\",\"2021-09-20T04:39:00\",\"2021-09-20T04:40:00\",\"2021-09-20T04:41:00\",\"2021-09-20T04:42:00\",\"2021-09-20T04:43:00\",\"2021-09-20T04:44:00\",\"2021-09-20T04:45:00\",\"2021-09-20T04:46:00\",\"2021-09-20T04:47:00\",\"2021-09-20T04:48:00\",\"2021-09-20T04:49:00\",\"2021-09-20T04:50:00\",\"2021-09-20T04:51:00\",\"2021-09-20T04:52:00\",\"2021-09-20T04:53:00\",\"2021-09-20T04:54:00\",\"2021-09-20T04:55:00\",\"2021-09-20T04:56:00\",\"2021-09-20T04:57:00\",\"2021-09-20T04:58:00\",\"2021-09-20T04:59:00\",\"2021-09-20T05:00:00\",\"2021-09-20T05:01:00\",\"2021-09-20T05:02:00\",\"2021-09-20T05:03:00\",\"2021-09-20T05:04:00\",\"2021-09-20T05:05:00\",\"2021-09-20T05:06:00\",\"2021-09-20T05:07:00\",\"2021-09-20T05:08:00\",\"2021-09-20T05:09:00\",\"2021-09-20T05:10:00\",\"2021-09-20T05:11:00\",\"2021-09-20T05:12:00\",\"2021-09-20T05:13:00\",\"2021-09-20T05:14:00\",\"2021-09-20T05:15:00\",\"2021-09-20T05:16:00\",\"2021-09-20T05:17:00\",\"2021-09-20T05:18:00\",\"2021-09-20T05:19:00\",\"2021-09-20T05:20:00\",\"2021-09-20T05:21:00\",\"2021-09-20T05:22:00\",\"2021-09-20T05:23:00\",\"2021-09-20T05:24:00\",\"2021-09-20T05:25:00\",\"2021-09-20T05:26:00\",\"2021-09-20T05:27:00\",\"2021-09-20T05:28:00\",\"2021-09-20T05:29:00\",\"2021-09-20T05:30:00\",\"2021-09-20T05:31:00\",\"2021-09-20T05:32:00\",\"2021-09-20T05:33:00\",\"2021-09-20T05:34:00\",\"2021-09-20T05:35:00\",\"2021-09-20T05:36:00\",\"2021-09-20T05:37:00\",\"2021-09-20T05:38:00\",\"2021-09-20T05:39:00\",\"2021-09-20T05:40:00\",\"2021-09-20T05:41:00\",\"2021-09-20T05:42:00\",\"2021-09-20T05:43:00\",\"2021-09-20T05:44:00\",\"2021-09-20T05:45:00\",\"2021-09-20T05:46:00\",\"2021-09-20T05:47:00\",\"2021-09-20T05:48:00\",\"2021-09-20T05:49:00\",\"2021-09-20T05:50:00\",\"2021-09-20T05:51:00\",\"2021-09-20T05:52:00\",\"2021-09-20T05:53:00\",\"2021-09-20T05:54:00\",\"2021-09-20T05:55:00\",\"2021-09-20T05:56:00\",\"2021-09-20T05:57:00\",\"2021-09-20T05:58:00\",\"2021-09-20T05:59:00\",\"2021-09-20T06:00:00\",\"2021-09-20T06:01:00\",\"2021-09-20T06:02:00\",\"2021-09-20T06:03:00\",\"2021-09-20T06:04:00\",\"2021-09-20T06:05:00\",\"2021-09-20T06:06:00\",\"2021-09-20T06:07:00\",\"2021-09-20T06:08:00\",\"2021-09-20T06:09:00\",\"2021-09-20T06:10:00\",\"2021-09-20T06:11:00\",\"2021-09-20T06:12:00\",\"2021-09-20T06:13:00\",\"2021-09-20T06:14:00\",\"2021-09-20T06:15:00\",\"2021-09-20T06:16:00\",\"2021-09-20T06:17:00\",\"2021-09-20T06:18:00\",\"2021-09-20T06:19:00\",\"2021-09-20T06:20:00\",\"2021-09-20T06:21:00\",\"2021-09-20T06:22:00\",\"2021-09-20T06:23:00\",\"2021-09-20T06:24:00\",\"2021-09-20T06:25:00\",\"2021-09-20T06:26:00\",\"2021-09-20T06:27:00\",\"2021-09-20T06:28:00\",\"2021-09-20T06:29:00\",\"2021-09-20T06:30:00\",\"2021-09-20T06:31:00\",\"2021-09-20T06:32:00\",\"2021-09-20T06:33:00\",\"2021-09-20T06:34:00\",\"2021-09-20T06:35:00\",\"2021-09-20T06:36:00\",\"2021-09-20T06:37:00\",\"2021-09-20T06:38:00\",\"2021-09-20T06:39:00\",\"2021-09-20T06:40:00\",\"2021-09-20T06:41:00\",\"2021-09-20T06:42:00\",\"2021-09-20T06:43:00\",\"2021-09-20T06:44:00\",\"2021-09-20T06:45:00\",\"2021-09-20T06:46:00\",\"2021-09-20T06:47:00\",\"2021-09-20T06:48:00\",\"2021-09-20T06:49:00\",\"2021-09-20T06:50:00\",\"2021-09-20T06:51:00\",\"2021-09-20T06:52:00\",\"2021-09-20T06:53:00\",\"2021-09-20T06:54:00\",\"2021-09-20T06:55:00\",\"2021-09-20T06:56:00\",\"2021-09-20T06:57:00\",\"2021-09-20T06:58:00\",\"2021-09-20T06:59:00\",\"2021-09-20T07:00:00\",\"2021-09-20T07:01:00\",\"2021-09-20T07:02:00\",\"2021-09-20T07:03:00\",\"2021-09-20T07:04:00\",\"2021-09-20T07:05:00\",\"2021-09-20T07:06:00\",\"2021-09-20T07:07:00\",\"2021-09-20T07:08:00\",\"2021-09-20T07:09:00\",\"2021-09-20T07:10:00\",\"2021-09-20T07:11:00\",\"2021-09-20T07:12:00\",\"2021-09-20T07:13:00\",\"2021-09-20T07:14:00\",\"2021-09-20T07:15:00\",\"2021-09-20T07:16:00\",\"2021-09-20T07:17:00\",\"2021-09-20T07:18:00\",\"2021-09-20T07:19:00\",\"2021-09-20T07:20:00\",\"2021-09-20T07:21:00\",\"2021-09-20T07:22:00\",\"2021-09-20T07:23:00\",\"2021-09-20T07:24:00\",\"2021-09-20T07:25:00\",\"2021-09-20T07:26:00\",\"2021-09-20T07:27:00\",\"2021-09-20T07:28:00\",\"2021-09-20T07:29:00\",\"2021-09-20T07:30:00\",\"2021-09-20T07:31:00\",\"2021-09-20T07:32:00\",\"2021-09-20T07:33:00\",\"2021-09-20T07:34:00\",\"2021-09-20T07:35:00\",\"2021-09-20T07:36:00\",\"2021-09-20T07:37:00\",\"2021-09-20T07:38:00\",\"2021-09-20T07:39:00\",\"2021-09-20T07:40:00\",\"2021-09-20T07:41:00\",\"2021-09-20T07:42:00\",\"2021-09-20T07:43:00\",\"2021-09-20T07:44:00\",\"2021-09-20T07:45:00\",\"2021-09-20T07:46:00\",\"2021-09-20T07:47:00\",\"2021-09-20T07:48:00\",\"2021-09-20T07:49:00\",\"2021-09-20T07:50:00\",\"2021-09-20T07:51:00\",\"2021-09-20T07:52:00\",\"2021-09-20T07:53:00\",\"2021-09-20T07:54:00\",\"2021-09-20T07:55:00\",\"2021-09-20T07:56:00\",\"2021-09-20T07:57:00\",\"2021-09-20T07:58:00\",\"2021-09-20T07:59:00\",\"2021-09-20T08:00:00\",\"2021-09-20T08:01:00\",\"2021-09-20T08:02:00\",\"2021-09-20T08:03:00\",\"2021-09-20T08:04:00\",\"2021-09-20T08:05:00\",\"2021-09-20T08:06:00\",\"2021-09-20T08:07:00\",\"2021-09-20T08:08:00\",\"2021-09-20T08:09:00\",\"2021-09-20T08:10:00\",\"2021-09-20T08:11:00\",\"2021-09-20T08:12:00\",\"2021-09-20T08:13:00\",\"2021-09-20T08:14:00\",\"2021-09-20T08:15:00\",\"2021-09-20T08:16:00\",\"2021-09-20T08:17:00\",\"2021-09-20T08:18:00\",\"2021-09-20T08:19:00\",\"2021-09-20T08:20:00\",\"2021-09-20T08:21:00\",\"2021-09-20T08:22:00\",\"2021-09-20T08:23:00\",\"2021-09-20T08:24:00\",\"2021-09-20T08:25:00\",\"2021-09-20T08:26:00\",\"2021-09-20T08:27:00\",\"2021-09-20T08:28:00\",\"2021-09-20T08:29:00\",\"2021-09-20T08:30:00\",\"2021-09-20T08:31:00\",\"2021-09-20T08:32:00\",\"2021-09-20T08:33:00\",\"2021-09-20T08:34:00\",\"2021-09-20T08:35:00\",\"2021-09-20T08:36:00\",\"2021-09-20T08:37:00\",\"2021-09-20T08:38:00\",\"2021-09-20T08:39:00\",\"2021-09-20T08:40:00\",\"2021-09-20T08:41:00\",\"2021-09-20T08:42:00\",\"2021-09-20T08:43:00\",\"2021-09-20T08:44:00\",\"2021-09-20T08:45:00\",\"2021-09-20T08:46:00\",\"2021-09-20T08:47:00\",\"2021-09-20T08:48:00\",\"2021-09-20T08:49:00\",\"2021-09-20T08:50:00\",\"2021-09-20T08:51:00\",\"2021-09-20T08:52:00\",\"2021-09-20T08:53:00\",\"2021-09-20T08:54:00\",\"2021-09-20T08:55:00\",\"2021-09-20T08:56:00\",\"2021-09-20T08:57:00\",\"2021-09-20T08:58:00\",\"2021-09-20T08:59:00\",\"2021-09-20T09:00:00\",\"2021-09-20T09:01:00\",\"2021-09-20T09:02:00\",\"2021-09-20T09:03:00\",\"2021-09-20T09:04:00\",\"2021-09-20T09:05:00\",\"2021-09-20T09:06:00\",\"2021-09-20T09:07:00\",\"2021-09-20T09:08:00\",\"2021-09-20T09:09:00\",\"2021-09-20T09:10:00\",\"2021-09-20T09:11:00\",\"2021-09-20T09:12:00\",\"2021-09-20T09:13:00\",\"2021-09-20T09:14:00\",\"2021-09-20T09:15:00\",\"2021-09-20T09:16:00\",\"2021-09-20T09:17:00\",\"2021-09-20T09:18:00\",\"2021-09-20T09:19:00\",\"2021-09-20T09:20:00\",\"2021-09-20T09:21:00\",\"2021-09-20T09:22:00\",\"2021-09-20T09:23:00\",\"2021-09-20T09:24:00\",\"2021-09-20T09:25:00\",\"2021-09-20T09:26:00\",\"2021-09-20T09:27:00\",\"2021-09-20T09:28:00\",\"2021-09-20T09:29:00\",\"2021-09-20T09:30:00\",\"2021-09-20T09:31:00\",\"2021-09-20T09:32:00\",\"2021-09-20T09:33:00\",\"2021-09-20T09:34:00\",\"2021-09-20T09:35:00\",\"2021-09-20T09:36:00\",\"2021-09-20T09:37:00\",\"2021-09-20T09:38:00\",\"2021-09-20T09:39:00\",\"2021-09-20T09:40:00\",\"2021-09-20T09:41:00\",\"2021-09-20T09:42:00\",\"2021-09-20T09:43:00\",\"2021-09-20T09:44:00\",\"2021-09-20T09:45:00\",\"2021-09-20T09:46:00\",\"2021-09-20T09:47:00\",\"2021-09-20T09:48:00\",\"2021-09-20T09:49:00\",\"2021-09-20T09:50:00\",\"2021-09-20T09:51:00\",\"2021-09-20T09:52:00\",\"2021-09-20T09:53:00\",\"2021-09-20T09:54:00\",\"2021-09-20T09:55:00\",\"2021-09-20T09:56:00\",\"2021-09-20T09:57:00\",\"2021-09-20T09:58:00\",\"2021-09-20T09:59:00\",\"2021-09-20T10:00:00\",\"2021-09-20T10:01:00\",\"2021-09-20T10:02:00\",\"2021-09-20T10:03:00\",\"2021-09-20T10:04:00\",\"2021-09-20T10:05:00\",\"2021-09-20T10:06:00\",\"2021-09-20T10:07:00\",\"2021-09-20T10:08:00\",\"2021-09-20T10:09:00\",\"2021-09-20T10:10:00\",\"2021-09-20T10:11:00\",\"2021-09-20T10:12:00\",\"2021-09-20T10:13:00\",\"2021-09-20T10:14:00\",\"2021-09-20T10:15:00\",\"2021-09-20T10:16:00\",\"2021-09-20T10:17:00\",\"2021-09-20T10:18:00\",\"2021-09-20T10:19:00\",\"2021-09-20T10:20:00\",\"2021-09-20T10:21:00\",\"2021-09-20T10:22:00\",\"2021-09-20T10:23:00\",\"2021-09-20T10:24:00\",\"2021-09-20T10:25:00\",\"2021-09-20T10:26:00\",\"2021-09-20T10:27:00\",\"2021-09-20T10:28:00\",\"2021-09-20T10:29:00\",\"2021-09-20T10:30:00\",\"2021-09-20T10:31:00\",\"2021-09-20T10:32:00\",\"2021-09-20T10:33:00\",\"2021-09-20T10:34:00\",\"2021-09-20T10:35:00\",\"2021-09-20T10:36:00\",\"2021-09-20T10:37:00\",\"2021-09-20T10:38:00\",\"2021-09-20T10:39:00\",\"2021-09-20T10:40:00\",\"2021-09-20T10:41:00\",\"2021-09-20T10:42:00\",\"2021-09-20T10:43:00\",\"2021-09-20T10:44:00\",\"2021-09-20T10:45:00\",\"2021-09-20T10:46:00\",\"2021-09-20T10:47:00\",\"2021-09-20T10:48:00\",\"2021-09-20T10:49:00\",\"2021-09-20T10:50:00\",\"2021-09-20T10:51:00\",\"2021-09-20T10:52:00\",\"2021-09-20T10:53:00\",\"2021-09-20T10:54:00\",\"2021-09-20T10:55:00\",\"2021-09-20T10:56:00\",\"2021-09-20T10:57:00\",\"2021-09-20T10:58:00\",\"2021-09-20T10:59:00\",\"2021-09-20T11:00:00\",\"2021-09-20T11:01:00\",\"2021-09-20T11:02:00\",\"2021-09-20T11:03:00\",\"2021-09-20T11:04:00\",\"2021-09-20T11:05:00\",\"2021-09-20T11:06:00\",\"2021-09-20T11:07:00\",\"2021-09-20T11:08:00\",\"2021-09-20T11:09:00\",\"2021-09-20T11:10:00\",\"2021-09-20T11:11:00\",\"2021-09-20T11:12:00\",\"2021-09-20T11:13:00\",\"2021-09-20T11:14:00\",\"2021-09-20T11:15:00\",\"2021-09-20T11:16:00\",\"2021-09-20T11:17:00\",\"2021-09-20T11:18:00\",\"2021-09-20T11:19:00\",\"2021-09-20T11:20:00\",\"2021-09-20T11:21:00\",\"2021-09-20T11:22:00\",\"2021-09-20T11:23:00\",\"2021-09-20T11:24:00\",\"2021-09-20T11:25:00\",\"2021-09-20T11:26:00\",\"2021-09-20T11:27:00\",\"2021-09-20T11:28:00\",\"2021-09-20T11:29:00\",\"2021-09-20T11:30:00\",\"2021-09-20T11:31:00\",\"2021-09-20T11:32:00\",\"2021-09-20T11:33:00\",\"2021-09-20T11:34:00\",\"2021-09-20T11:35:00\",\"2021-09-20T11:36:00\",\"2021-09-20T11:37:00\",\"2021-09-20T11:38:00\",\"2021-09-20T11:39:00\",\"2021-09-20T11:40:00\",\"2021-09-20T11:41:00\",\"2021-09-20T11:42:00\",\"2021-09-20T11:43:00\",\"2021-09-20T11:44:00\",\"2021-09-20T11:45:00\",\"2021-09-20T11:46:00\",\"2021-09-20T11:47:00\",\"2021-09-20T11:48:00\",\"2021-09-20T11:49:00\",\"2021-09-20T11:50:00\",\"2021-09-20T11:51:00\",\"2021-09-20T11:52:00\",\"2021-09-20T11:53:00\",\"2021-09-20T11:54:00\",\"2021-09-20T11:55:00\",\"2021-09-20T11:56:00\",\"2021-09-20T11:57:00\",\"2021-09-20T11:58:00\",\"2021-09-20T11:59:00\",\"2021-09-20T12:00:00\",\"2021-09-20T12:01:00\",\"2021-09-20T12:02:00\",\"2021-09-20T12:03:00\",\"2021-09-20T12:04:00\",\"2021-09-20T12:05:00\",\"2021-09-20T12:06:00\",\"2021-09-20T12:07:00\",\"2021-09-20T12:08:00\",\"2021-09-20T12:09:00\",\"2021-09-20T12:10:00\",\"2021-09-20T12:11:00\",\"2021-09-20T12:12:00\",\"2021-09-20T12:13:00\",\"2021-09-20T12:14:00\",\"2021-09-20T12:15:00\",\"2021-09-20T12:16:00\",\"2021-09-20T12:17:00\",\"2021-09-20T12:18:00\",\"2021-09-20T12:19:00\",\"2021-09-20T12:20:00\",\"2021-09-20T12:21:00\",\"2021-09-20T12:22:00\",\"2021-09-20T12:23:00\",\"2021-09-20T12:24:00\",\"2021-09-20T12:25:00\",\"2021-09-20T12:26:00\",\"2021-09-20T12:27:00\",\"2021-09-20T12:28:00\",\"2021-09-20T12:29:00\",\"2021-09-20T12:30:00\",\"2021-09-20T12:31:00\",\"2021-09-20T12:32:00\",\"2021-09-20T12:33:00\",\"2021-09-20T12:34:00\",\"2021-09-20T12:35:00\",\"2021-09-20T12:36:00\",\"2021-09-20T12:37:00\",\"2021-09-20T12:38:00\",\"2021-09-20T12:39:00\",\"2021-09-20T12:40:00\",\"2021-09-20T12:41:00\",\"2021-09-20T12:42:00\",\"2021-09-20T12:43:00\",\"2021-09-20T12:44:00\",\"2021-09-20T12:45:00\",\"2021-09-20T12:46:00\",\"2021-09-20T12:47:00\",\"2021-09-20T12:48:00\",\"2021-09-20T12:49:00\",\"2021-09-20T12:50:00\",\"2021-09-20T12:51:00\",\"2021-09-20T12:52:00\",\"2021-09-20T12:53:00\",\"2021-09-20T12:54:00\",\"2021-09-20T12:55:00\",\"2021-09-20T12:56:00\",\"2021-09-20T12:57:00\",\"2021-09-20T12:58:00\",\"2021-09-20T12:59:00\",\"2021-09-20T13:00:00\",\"2021-09-20T13:01:00\",\"2021-09-20T13:02:00\",\"2021-09-20T13:03:00\",\"2021-09-20T13:04:00\",\"2021-09-20T13:05:00\",\"2021-09-20T13:06:00\",\"2021-09-20T13:07:00\",\"2021-09-20T13:08:00\",\"2021-09-20T13:09:00\",\"2021-09-20T13:10:00\",\"2021-09-20T13:11:00\",\"2021-09-20T13:12:00\",\"2021-09-20T13:13:00\",\"2021-09-20T13:14:00\",\"2021-09-20T13:15:00\",\"2021-09-20T13:16:00\",\"2021-09-20T13:17:00\",\"2021-09-20T13:18:00\",\"2021-09-20T13:19:00\",\"2021-09-20T13:20:00\",\"2021-09-20T13:21:00\",\"2021-09-20T13:22:00\",\"2021-09-20T13:23:00\",\"2021-09-20T13:24:00\",\"2021-09-20T13:25:00\",\"2021-09-20T13:26:00\",\"2021-09-20T13:27:00\",\"2021-09-20T13:28:00\",\"2021-09-20T13:29:00\",\"2021-09-20T13:30:00\",\"2021-09-20T13:31:00\",\"2021-09-20T13:32:00\",\"2021-09-20T13:33:00\",\"2021-09-20T13:34:00\",\"2021-09-20T13:35:00\",\"2021-09-20T13:36:00\",\"2021-09-20T13:37:00\",\"2021-09-20T13:38:00\",\"2021-09-20T13:39:00\",\"2021-09-20T13:40:00\",\"2021-09-20T13:41:00\",\"2021-09-20T13:42:00\",\"2021-09-20T13:43:00\",\"2021-09-20T13:44:00\",\"2021-09-20T13:45:00\",\"2021-09-20T13:46:00\",\"2021-09-20T13:47:00\",\"2021-09-20T13:48:00\",\"2021-09-20T13:49:00\",\"2021-09-20T13:50:00\",\"2021-09-20T13:51:00\",\"2021-09-20T13:52:00\",\"2021-09-20T13:53:00\",\"2021-09-20T13:54:00\",\"2021-09-20T13:55:00\",\"2021-09-20T13:56:00\",\"2021-09-20T13:57:00\",\"2021-09-20T13:58:00\",\"2021-09-20T13:59:00\",\"2021-09-20T14:00:00\",\"2021-09-20T14:01:00\",\"2021-09-20T14:02:00\",\"2021-09-20T14:03:00\",\"2021-09-20T14:04:00\",\"2021-09-20T14:05:00\",\"2021-09-20T14:06:00\",\"2021-09-20T14:07:00\",\"2021-09-20T14:08:00\",\"2021-09-20T14:09:00\",\"2021-09-20T14:10:00\",\"2021-09-20T14:11:00\",\"2021-09-20T14:12:00\",\"2021-09-20T14:13:00\",\"2021-09-20T14:14:00\",\"2021-09-20T14:15:00\",\"2021-09-20T14:16:00\",\"2021-09-20T14:17:00\",\"2021-09-20T14:18:00\",\"2021-09-20T14:19:00\",\"2021-09-20T14:20:00\",\"2021-09-20T14:21:00\",\"2021-09-20T14:22:00\",\"2021-09-20T14:23:00\",\"2021-09-20T14:24:00\",\"2021-09-20T14:25:00\",\"2021-09-20T14:26:00\",\"2021-09-20T14:27:00\",\"2021-09-20T14:28:00\",\"2021-09-20T14:29:00\",\"2021-09-20T14:30:00\",\"2021-09-20T14:31:00\",\"2021-09-20T14:32:00\",\"2021-09-20T14:33:00\",\"2021-09-20T14:34:00\",\"2021-09-20T14:35:00\",\"2021-09-20T14:36:00\",\"2021-09-20T14:37:00\",\"2021-09-20T14:38:00\",\"2021-09-20T14:39:00\",\"2021-09-20T14:40:00\",\"2021-09-20T14:41:00\",\"2021-09-20T14:42:00\",\"2021-09-20T14:43:00\",\"2021-09-20T14:44:00\",\"2021-09-20T14:45:00\",\"2021-09-20T14:46:00\",\"2021-09-20T14:47:00\",\"2021-09-20T14:48:00\",\"2021-09-20T14:49:00\",\"2021-09-20T14:50:00\",\"2021-09-20T14:51:00\",\"2021-09-20T14:52:00\",\"2021-09-20T14:53:00\",\"2021-09-20T14:54:00\",\"2021-09-20T14:55:00\",\"2021-09-20T14:56:00\",\"2021-09-20T14:57:00\",\"2021-09-20T14:58:00\",\"2021-09-20T14:59:00\",\"2021-09-20T15:00:00\",\"2021-09-20T15:01:00\",\"2021-09-20T15:02:00\",\"2021-09-20T15:03:00\",\"2021-09-20T15:04:00\",\"2021-09-20T15:05:00\",\"2021-09-20T15:06:00\",\"2021-09-20T15:07:00\",\"2021-09-20T15:08:00\",\"2021-09-20T15:09:00\",\"2021-09-20T15:10:00\",\"2021-09-20T15:11:00\",\"2021-09-20T15:12:00\",\"2021-09-20T15:13:00\",\"2021-09-20T15:14:00\",\"2021-09-20T15:15:00\",\"2021-09-20T15:16:00\",\"2021-09-20T15:17:00\",\"2021-09-20T15:18:00\",\"2021-09-20T15:19:00\",\"2021-09-20T15:20:00\",\"2021-09-20T15:21:00\",\"2021-09-20T15:22:00\",\"2021-09-20T15:23:00\",\"2021-09-20T15:24:00\",\"2021-09-20T15:25:00\",\"2021-09-20T15:26:00\",\"2021-09-20T15:27:00\",\"2021-09-20T15:28:00\",\"2021-09-20T15:29:00\",\"2021-09-20T15:30:00\",\"2021-09-20T15:31:00\",\"2021-09-20T15:32:00\",\"2021-09-20T15:33:00\",\"2021-09-20T15:34:00\",\"2021-09-20T15:35:00\",\"2021-09-20T15:36:00\",\"2021-09-20T15:37:00\",\"2021-09-20T15:38:00\",\"2021-09-20T15:39:00\",\"2021-09-20T15:40:00\",\"2021-09-20T15:41:00\",\"2021-09-20T15:42:00\",\"2021-09-20T15:43:00\",\"2021-09-20T15:44:00\",\"2021-09-20T15:45:00\",\"2021-09-20T15:46:00\",\"2021-09-20T15:47:00\",\"2021-09-20T15:48:00\",\"2021-09-20T15:49:00\",\"2021-09-20T15:50:00\",\"2021-09-20T15:51:00\",\"2021-09-20T15:52:00\",\"2021-09-20T15:53:00\",\"2021-09-20T15:54:00\",\"2021-09-20T15:55:00\",\"2021-09-20T15:56:00\",\"2021-09-20T15:57:00\",\"2021-09-20T15:58:00\",\"2021-09-20T15:59:00\",\"2021-09-20T16:00:00\",\"2021-09-20T16:01:00\",\"2021-09-20T16:02:00\",\"2021-09-20T16:03:00\",\"2021-09-20T16:04:00\",\"2021-09-20T16:05:00\",\"2021-09-20T16:06:00\",\"2021-09-20T16:07:00\",\"2021-09-20T16:08:00\",\"2021-09-20T16:09:00\",\"2021-09-20T16:10:00\",\"2021-09-20T16:11:00\",\"2021-09-20T16:12:00\",\"2021-09-20T16:13:00\",\"2021-09-20T16:14:00\",\"2021-09-20T16:15:00\",\"2021-09-20T16:16:00\",\"2021-09-20T16:17:00\",\"2021-09-20T16:18:00\",\"2021-09-20T16:19:00\",\"2021-09-20T16:20:00\",\"2021-09-20T16:21:00\",\"2021-09-20T16:22:00\",\"2021-09-20T16:23:00\",\"2021-09-20T16:24:00\",\"2021-09-20T16:25:00\",\"2021-09-20T16:26:00\",\"2021-09-20T16:27:00\",\"2021-09-20T16:28:00\",\"2021-09-20T16:29:00\",\"2021-09-20T16:30:00\",\"2021-09-20T16:31:00\",\"2021-09-20T16:32:00\",\"2021-09-20T16:33:00\",\"2021-09-20T16:34:00\",\"2021-09-20T16:35:00\",\"2021-09-20T16:36:00\",\"2021-09-20T16:37:00\",\"2021-09-20T16:38:00\",\"2021-09-20T16:39:00\",\"2021-09-20T16:40:00\",\"2021-09-20T16:41:00\",\"2021-09-20T16:42:00\",\"2021-09-20T16:43:00\",\"2021-09-20T16:44:00\",\"2021-09-20T16:45:00\",\"2021-09-20T16:46:00\",\"2021-09-20T16:47:00\",\"2021-09-20T16:48:00\",\"2021-09-20T16:49:00\",\"2021-09-20T16:50:00\",\"2021-09-20T16:51:00\",\"2021-09-20T16:52:00\",\"2021-09-20T16:53:00\",\"2021-09-20T16:54:00\",\"2021-09-20T16:55:00\",\"2021-09-20T16:56:00\",\"2021-09-20T16:57:00\",\"2021-09-20T16:58:00\",\"2021-09-20T16:59:00\",\"2021-09-20T17:00:00\",\"2021-09-20T17:01:00\",\"2021-09-20T17:02:00\",\"2021-09-20T17:03:00\",\"2021-09-20T17:04:00\",\"2021-09-20T17:05:00\",\"2021-09-20T17:06:00\",\"2021-09-20T17:07:00\",\"2021-09-20T17:08:00\",\"2021-09-20T17:09:00\",\"2021-09-20T17:10:00\",\"2021-09-20T17:11:00\",\"2021-09-20T17:12:00\",\"2021-09-20T17:13:00\",\"2021-09-20T17:14:00\",\"2021-09-20T17:15:00\",\"2021-09-20T17:16:00\",\"2021-09-20T17:17:00\",\"2021-09-20T17:18:00\",\"2021-09-20T17:19:00\",\"2021-09-20T17:20:00\",\"2021-09-20T17:21:00\",\"2021-09-20T17:22:00\",\"2021-09-20T17:23:00\",\"2021-09-20T17:24:00\",\"2021-09-20T17:25:00\",\"2021-09-20T17:26:00\",\"2021-09-20T17:27:00\",\"2021-09-20T17:28:00\",\"2021-09-20T17:29:00\",\"2021-09-20T17:30:00\",\"2021-09-20T17:31:00\",\"2021-09-20T17:32:00\",\"2021-09-20T17:33:00\",\"2021-09-20T17:34:00\",\"2021-09-20T17:35:00\",\"2021-09-20T17:36:00\",\"2021-09-20T17:37:00\",\"2021-09-20T17:38:00\",\"2021-09-20T17:39:00\",\"2021-09-20T17:40:00\",\"2021-09-20T17:41:00\",\"2021-09-20T17:42:00\",\"2021-09-20T17:43:00\",\"2021-09-20T17:44:00\",\"2021-09-20T17:45:00\",\"2021-09-20T17:46:00\",\"2021-09-20T17:47:00\",\"2021-09-20T17:48:00\",\"2021-09-20T17:49:00\",\"2021-09-20T17:50:00\",\"2021-09-20T17:51:00\",\"2021-09-20T17:52:00\",\"2021-09-20T17:53:00\",\"2021-09-20T17:54:00\",\"2021-09-20T17:55:00\",\"2021-09-20T17:56:00\",\"2021-09-20T17:57:00\",\"2021-09-20T17:58:00\",\"2021-09-20T17:59:00\",\"2021-09-20T18:00:00\",\"2021-09-20T18:01:00\",\"2021-09-20T18:02:00\",\"2021-09-20T18:03:00\",\"2021-09-20T18:04:00\",\"2021-09-20T18:05:00\",\"2021-09-20T18:06:00\",\"2021-09-20T18:07:00\",\"2021-09-20T18:08:00\",\"2021-09-20T18:09:00\",\"2021-09-20T18:10:00\",\"2021-09-20T18:11:00\",\"2021-09-20T18:12:00\",\"2021-09-20T18:13:00\",\"2021-09-20T18:14:00\",\"2021-09-20T18:15:00\",\"2021-09-20T18:16:00\",\"2021-09-20T18:17:00\",\"2021-09-20T18:18:00\",\"2021-09-20T18:19:00\",\"2021-09-20T18:20:00\",\"2021-09-20T18:21:00\",\"2021-09-20T18:22:00\",\"2021-09-20T18:23:00\",\"2021-09-20T18:24:00\",\"2021-09-20T18:25:00\",\"2021-09-20T18:26:00\",\"2021-09-20T18:27:00\",\"2021-09-20T18:28:00\",\"2021-09-20T18:29:00\",\"2021-09-20T18:30:00\",\"2021-09-20T18:31:00\",\"2021-09-20T18:32:00\",\"2021-09-20T18:33:00\",\"2021-09-20T18:34:00\",\"2021-09-20T18:35:00\",\"2021-09-20T18:36:00\",\"2021-09-20T18:37:00\",\"2021-09-20T18:38:00\",\"2021-09-20T18:39:00\",\"2021-09-20T18:40:00\",\"2021-09-20T18:41:00\",\"2021-09-20T18:42:00\",\"2021-09-20T18:43:00\",\"2021-09-20T18:44:00\",\"2021-09-20T18:45:00\",\"2021-09-20T18:46:00\",\"2021-09-20T18:47:00\",\"2021-09-20T18:48:00\",\"2021-09-20T18:49:00\",\"2021-09-20T18:50:00\",\"2021-09-20T18:51:00\",\"2021-09-20T18:52:00\",\"2021-09-20T18:53:00\",\"2021-09-20T18:54:00\",\"2021-09-20T18:55:00\",\"2021-09-20T18:56:00\",\"2021-09-20T18:57:00\",\"2021-09-20T18:58:00\",\"2021-09-20T18:59:00\",\"2021-09-20T19:00:00\",\"2021-09-20T19:01:00\",\"2021-09-20T19:02:00\",\"2021-09-20T19:03:00\",\"2021-09-20T19:04:00\",\"2021-09-20T19:05:00\",\"2021-09-20T19:06:00\",\"2021-09-20T19:07:00\",\"2021-09-20T19:08:00\",\"2021-09-20T19:09:00\",\"2021-09-20T19:10:00\",\"2021-09-20T19:11:00\",\"2021-09-20T19:12:00\",\"2021-09-20T19:13:00\",\"2021-09-20T19:14:00\",\"2021-09-20T19:15:00\",\"2021-09-20T19:16:00\",\"2021-09-20T19:17:00\",\"2021-09-20T19:18:00\",\"2021-09-20T19:19:00\",\"2021-09-20T19:20:00\",\"2021-09-20T19:21:00\",\"2021-09-20T19:22:00\",\"2021-09-20T19:23:00\",\"2021-09-20T19:24:00\",\"2021-09-20T19:25:00\",\"2021-09-20T19:26:00\",\"2021-09-20T19:27:00\",\"2021-09-20T19:28:00\",\"2021-09-20T19:29:00\",\"2021-09-20T19:30:00\",\"2021-09-20T19:31:00\",\"2021-09-20T19:32:00\",\"2021-09-20T19:33:00\",\"2021-09-20T19:34:00\",\"2021-09-20T19:35:00\",\"2021-09-20T19:36:00\",\"2021-09-20T19:37:00\",\"2021-09-20T19:38:00\",\"2021-09-20T19:39:00\",\"2021-09-20T19:40:00\",\"2021-09-20T19:41:00\",\"2021-09-20T19:42:00\",\"2021-09-20T19:43:00\",\"2021-09-20T19:44:00\",\"2021-09-20T19:45:00\",\"2021-09-20T19:46:00\",\"2021-09-20T19:47:00\",\"2021-09-20T19:48:00\",\"2021-09-20T19:49:00\",\"2021-09-20T19:50:00\",\"2021-09-20T19:51:00\",\"2021-09-20T19:52:00\",\"2021-09-20T19:53:00\",\"2021-09-20T19:54:00\",\"2021-09-20T19:55:00\",\"2021-09-20T19:56:00\",\"2021-09-20T19:57:00\",\"2021-09-20T19:58:00\",\"2021-09-20T19:59:00\",\"2021-09-20T20:00:00\",\"2021-09-20T20:01:00\",\"2021-09-20T20:02:00\",\"2021-09-20T20:03:00\",\"2021-09-20T20:04:00\",\"2021-09-20T20:05:00\",\"2021-09-20T20:06:00\",\"2021-09-20T20:07:00\",\"2021-09-20T20:08:00\",\"2021-09-20T20:09:00\",\"2021-09-20T20:10:00\",\"2021-09-20T20:11:00\",\"2021-09-20T20:12:00\",\"2021-09-20T20:13:00\",\"2021-09-20T20:14:00\",\"2021-09-20T20:15:00\",\"2021-09-20T20:16:00\",\"2021-09-20T20:17:00\",\"2021-09-20T20:18:00\",\"2021-09-20T20:19:00\",\"2021-09-20T20:20:00\",\"2021-09-20T20:21:00\",\"2021-09-20T20:22:00\",\"2021-09-20T20:23:00\",\"2021-09-20T20:24:00\",\"2021-09-20T20:25:00\",\"2021-09-20T20:26:00\",\"2021-09-20T20:27:00\",\"2021-09-20T20:28:00\",\"2021-09-20T20:29:00\",\"2021-09-20T20:30:00\",\"2021-09-20T20:31:00\",\"2021-09-20T20:32:00\",\"2021-09-20T20:33:00\",\"2021-09-20T20:34:00\",\"2021-09-20T20:35:00\",\"2021-09-20T20:36:00\",\"2021-09-20T20:37:00\",\"2021-09-20T20:38:00\",\"2021-09-20T20:39:00\",\"2021-09-20T20:40:00\",\"2021-09-20T20:41:00\",\"2021-09-20T20:42:00\",\"2021-09-20T20:43:00\",\"2021-09-20T20:44:00\",\"2021-09-20T20:45:00\",\"2021-09-20T20:46:00\",\"2021-09-20T20:47:00\",\"2021-09-20T20:48:00\",\"2021-09-20T20:49:00\",\"2021-09-20T20:50:00\",\"2021-09-20T20:51:00\",\"2021-09-20T20:52:00\",\"2021-09-20T20:53:00\",\"2021-09-20T20:54:00\",\"2021-09-20T20:55:00\",\"2021-09-20T20:56:00\",\"2021-09-20T20:57:00\",\"2021-09-20T20:58:00\",\"2021-09-20T20:59:00\",\"2021-09-20T21:00:00\",\"2021-09-20T21:01:00\",\"2021-09-20T21:02:00\",\"2021-09-20T21:03:00\",\"2021-09-20T21:04:00\",\"2021-09-20T21:05:00\",\"2021-09-20T21:06:00\",\"2021-09-20T21:07:00\",\"2021-09-20T21:08:00\",\"2021-09-20T21:09:00\",\"2021-09-20T21:10:00\",\"2021-09-20T21:11:00\",\"2021-09-20T21:12:00\",\"2021-09-20T21:13:00\",\"2021-09-20T21:14:00\",\"2021-09-20T21:15:00\",\"2021-09-20T21:16:00\",\"2021-09-20T21:17:00\",\"2021-09-20T21:18:00\",\"2021-09-20T21:19:00\",\"2021-09-20T21:20:00\",\"2021-09-20T21:21:00\",\"2021-09-20T21:22:00\",\"2021-09-20T21:23:00\",\"2021-09-20T21:24:00\",\"2021-09-20T21:25:00\",\"2021-09-20T21:26:00\",\"2021-09-20T21:27:00\",\"2021-09-20T21:28:00\",\"2021-09-20T21:29:00\",\"2021-09-20T21:30:00\",\"2021-09-20T21:31:00\",\"2021-09-20T21:32:00\",\"2021-09-20T21:33:00\",\"2021-09-20T21:34:00\",\"2021-09-20T21:35:00\",\"2021-09-20T21:36:00\",\"2021-09-20T21:37:00\",\"2021-09-20T21:38:00\",\"2021-09-20T21:39:00\",\"2021-09-20T21:40:00\",\"2021-09-20T21:41:00\",\"2021-09-20T21:42:00\",\"2021-09-20T21:43:00\",\"2021-09-20T21:44:00\",\"2021-09-20T21:45:00\",\"2021-09-20T21:46:00\",\"2021-09-20T21:47:00\",\"2021-09-20T21:48:00\",\"2021-09-20T21:49:00\",\"2021-09-20T21:50:00\",\"2021-09-20T21:51:00\",\"2021-09-20T21:52:00\",\"2021-09-20T21:53:00\",\"2021-09-20T21:54:00\",\"2021-09-20T21:55:00\",\"2021-09-20T21:56:00\",\"2021-09-20T21:57:00\",\"2021-09-20T21:58:00\",\"2021-09-20T21:59:00\",\"2021-09-20T22:00:00\",\"2021-09-20T22:01:00\",\"2021-09-20T22:02:00\",\"2021-09-20T22:03:00\",\"2021-09-20T22:04:00\",\"2021-09-20T22:05:00\",\"2021-09-20T22:06:00\",\"2021-09-20T22:07:00\",\"2021-09-20T22:08:00\",\"2021-09-20T22:09:00\",\"2021-09-20T22:10:00\",\"2021-09-20T22:11:00\",\"2021-09-20T22:12:00\",\"2021-09-20T22:13:00\",\"2021-09-20T22:14:00\",\"2021-09-20T22:15:00\",\"2021-09-20T22:16:00\",\"2021-09-20T22:17:00\",\"2021-09-20T22:18:00\",\"2021-09-20T22:19:00\",\"2021-09-20T22:20:00\",\"2021-09-20T22:21:00\",\"2021-09-20T22:22:00\",\"2021-09-20T22:23:00\",\"2021-09-20T22:24:00\",\"2021-09-20T22:25:00\",\"2021-09-20T22:26:00\",\"2021-09-20T22:27:00\",\"2021-09-20T22:28:00\",\"2021-09-20T22:29:00\",\"2021-09-20T22:30:00\",\"2021-09-20T22:31:00\",\"2021-09-20T22:32:00\",\"2021-09-20T22:33:00\",\"2021-09-20T22:34:00\",\"2021-09-20T22:35:00\",\"2021-09-20T22:36:00\",\"2021-09-20T22:37:00\",\"2021-09-20T22:38:00\",\"2021-09-20T22:39:00\",\"2021-09-20T22:40:00\",\"2021-09-20T22:41:00\",\"2021-09-20T22:42:00\",\"2021-09-20T22:43:00\",\"2021-09-20T22:44:00\",\"2021-09-20T22:45:00\",\"2021-09-20T22:46:00\",\"2021-09-20T22:47:00\",\"2021-09-20T22:48:00\",\"2021-09-20T22:49:00\",\"2021-09-20T22:50:00\",\"2021-09-20T22:51:00\",\"2021-09-20T22:52:00\",\"2021-09-20T22:53:00\",\"2021-09-20T22:54:00\",\"2021-09-20T22:55:00\",\"2021-09-20T22:56:00\",\"2021-09-20T22:57:00\",\"2021-09-20T22:58:00\",\"2021-09-20T22:59:00\",\"2021-09-20T23:00:00\",\"2021-09-20T23:01:00\",\"2021-09-20T23:02:00\",\"2021-09-20T23:03:00\",\"2021-09-20T23:04:00\",\"2021-09-20T23:05:00\",\"2021-09-20T23:06:00\",\"2021-09-20T23:07:00\",\"2021-09-20T23:08:00\",\"2021-09-20T23:09:00\",\"2021-09-20T23:10:00\",\"2021-09-20T23:11:00\",\"2021-09-20T23:12:00\",\"2021-09-20T23:13:00\",\"2021-09-20T23:14:00\",\"2021-09-20T23:15:00\",\"2021-09-20T23:16:00\",\"2021-09-20T23:17:00\",\"2021-09-20T23:18:00\",\"2021-09-20T23:19:00\",\"2021-09-20T23:20:00\",\"2021-09-20T23:21:00\",\"2021-09-20T23:22:00\",\"2021-09-20T23:23:00\",\"2021-09-20T23:24:00\",\"2021-09-20T23:25:00\",\"2021-09-20T23:26:00\",\"2021-09-20T23:27:00\",\"2021-09-20T23:28:00\",\"2021-09-20T23:29:00\",\"2021-09-20T23:30:00\",\"2021-09-20T23:31:00\",\"2021-09-20T23:32:00\",\"2021-09-20T23:33:00\",\"2021-09-20T23:34:00\",\"2021-09-20T23:35:00\",\"2021-09-20T23:36:00\",\"2021-09-20T23:37:00\",\"2021-09-20T23:38:00\",\"2021-09-20T23:39:00\",\"2021-09-20T23:40:00\",\"2021-09-20T23:41:00\",\"2021-09-20T23:42:00\",\"2021-09-20T23:43:00\",\"2021-09-20T23:44:00\",\"2021-09-20T23:45:00\",\"2021-09-20T23:46:00\",\"2021-09-20T23:47:00\",\"2021-09-20T23:48:00\",\"2021-09-20T23:49:00\",\"2021-09-20T23:50:00\",\"2021-09-20T23:51:00\",\"2021-09-20T23:52:00\",\"2021-09-20T23:53:00\",\"2021-09-20T23:54:00\",\"2021-09-20T23:55:00\",\"2021-09-20T23:56:00\",\"2021-09-20T23:57:00\",\"2021-09-20T23:58:00\",\"2021-09-20T23:59:00\",\"2021-09-21T00:00:00\"],\"type\":\"candlestick\"}],                        {\"template\":{\"data\":{\"barpolar\":[{\"marker\":{\"line\":{\"color\":\"white\",\"width\":0.5},\"pattern\":{\"fillmode\":\"overlay\",\"size\":10,\"solidity\":0.2}},\"type\":\"barpolar\"}],\"bar\":[{\"error_x\":{\"color\":\"#2a3f5f\"},\"error_y\":{\"color\":\"#2a3f5f\"},\"marker\":{\"line\":{\"color\":\"white\",\"width\":0.5},\"pattern\":{\"fillmode\":\"overlay\",\"size\":10,\"solidity\":0.2}},\"type\":\"bar\"}],\"carpet\":[{\"aaxis\":{\"endlinecolor\":\"#2a3f5f\",\"gridcolor\":\"#C8D4E3\",\"linecolor\":\"#C8D4E3\",\"minorgridcolor\":\"#C8D4E3\",\"startlinecolor\":\"#2a3f5f\"},\"baxis\":{\"endlinecolor\":\"#2a3f5f\",\"gridcolor\":\"#C8D4E3\",\"linecolor\":\"#C8D4E3\",\"minorgridcolor\":\"#C8D4E3\",\"startlinecolor\":\"#2a3f5f\"},\"type\":\"carpet\"}],\"choropleth\":[{\"colorbar\":{\"outlinewidth\":0,\"ticks\":\"\"},\"type\":\"choropleth\"}],\"contourcarpet\":[{\"colorbar\":{\"outlinewidth\":0,\"ticks\":\"\"},\"type\":\"contourcarpet\"}],\"contour\":[{\"colorbar\":{\"outlinewidth\":0,\"ticks\":\"\"},\"colorscale\":[[0.0,\"#0d0887\"],[0.1111111111111111,\"#46039f\"],[0.2222222222222222,\"#7201a8\"],[0.3333333333333333,\"#9c179e\"],[0.4444444444444444,\"#bd3786\"],[0.5555555555555556,\"#d8576b\"],[0.6666666666666666,\"#ed7953\"],[0.7777777777777778,\"#fb9f3a\"],[0.8888888888888888,\"#fdca26\"],[1.0,\"#f0f921\"]],\"type\":\"contour\"}],\"heatmapgl\":[{\"colorbar\":{\"outlinewidth\":0,\"ticks\":\"\"},\"colorscale\":[[0.0,\"#0d0887\"],[0.1111111111111111,\"#46039f\"],[0.2222222222222222,\"#7201a8\"],[0.3333333333333333,\"#9c179e\"],[0.4444444444444444,\"#bd3786\"],[0.5555555555555556,\"#d8576b\"],[0.6666666666666666,\"#ed7953\"],[0.7777777777777778,\"#fb9f3a\"],[0.8888888888888888,\"#fdca26\"],[1.0,\"#f0f921\"]],\"type\":\"heatmapgl\"}],\"heatmap\":[{\"colorbar\":{\"outlinewidth\":0,\"ticks\":\"\"},\"colorscale\":[[0.0,\"#0d0887\"],[0.1111111111111111,\"#46039f\"],[0.2222222222222222,\"#7201a8\"],[0.3333333333333333,\"#9c179e\"],[0.4444444444444444,\"#bd3786\"],[0.5555555555555556,\"#d8576b\"],[0.6666666666666666,\"#ed7953\"],[0.7777777777777778,\"#fb9f3a\"],[0.8888888888888888,\"#fdca26\"],[1.0,\"#f0f921\"]],\"type\":\"heatmap\"}],\"histogram2dcontour\":[{\"colorbar\":{\"outlinewidth\":0,\"ticks\":\"\"},\"colorscale\":[[0.0,\"#0d0887\"],[0.1111111111111111,\"#46039f\"],[0.2222222222222222,\"#7201a8\"],[0.3333333333333333,\"#9c179e\"],[0.4444444444444444,\"#bd3786\"],[0.5555555555555556,\"#d8576b\"],[0.6666666666666666,\"#ed7953\"],[0.7777777777777778,\"#fb9f3a\"],[0.8888888888888888,\"#fdca26\"],[1.0,\"#f0f921\"]],\"type\":\"histogram2dcontour\"}],\"histogram2d\":[{\"colorbar\":{\"outlinewidth\":0,\"ticks\":\"\"},\"colorscale\":[[0.0,\"#0d0887\"],[0.1111111111111111,\"#46039f\"],[0.2222222222222222,\"#7201a8\"],[0.3333333333333333,\"#9c179e\"],[0.4444444444444444,\"#bd3786\"],[0.5555555555555556,\"#d8576b\"],[0.6666666666666666,\"#ed7953\"],[0.7777777777777778,\"#fb9f3a\"],[0.8888888888888888,\"#fdca26\"],[1.0,\"#f0f921\"]],\"type\":\"histogram2d\"}],\"histogram\":[{\"marker\":{\"pattern\":{\"fillmode\":\"overlay\",\"size\":10,\"solidity\":0.2}},\"type\":\"histogram\"}],\"mesh3d\":[{\"colorbar\":{\"outlinewidth\":0,\"ticks\":\"\"},\"type\":\"mesh3d\"}],\"parcoords\":[{\"line\":{\"colorbar\":{\"outlinewidth\":0,\"ticks\":\"\"}},\"type\":\"parcoords\"}],\"pie\":[{\"automargin\":true,\"type\":\"pie\"}],\"scatter3d\":[{\"line\":{\"colorbar\":{\"outlinewidth\":0,\"ticks\":\"\"}},\"marker\":{\"colorbar\":{\"outlinewidth\":0,\"ticks\":\"\"}},\"type\":\"scatter3d\"}],\"scattercarpet\":[{\"marker\":{\"colorbar\":{\"outlinewidth\":0,\"ticks\":\"\"}},\"type\":\"scattercarpet\"}],\"scattergeo\":[{\"marker\":{\"colorbar\":{\"outlinewidth\":0,\"ticks\":\"\"}},\"type\":\"scattergeo\"}],\"scattergl\":[{\"marker\":{\"colorbar\":{\"outlinewidth\":0,\"ticks\":\"\"}},\"type\":\"scattergl\"}],\"scattermapbox\":[{\"marker\":{\"colorbar\":{\"outlinewidth\":0,\"ticks\":\"\"}},\"type\":\"scattermapbox\"}],\"scatterpolargl\":[{\"marker\":{\"colorbar\":{\"outlinewidth\":0,\"ticks\":\"\"}},\"type\":\"scatterpolargl\"}],\"scatterpolar\":[{\"marker\":{\"colorbar\":{\"outlinewidth\":0,\"ticks\":\"\"}},\"type\":\"scatterpolar\"}],\"scatter\":[{\"marker\":{\"colorbar\":{\"outlinewidth\":0,\"ticks\":\"\"}},\"type\":\"scatter\"}],\"scatterternary\":[{\"marker\":{\"colorbar\":{\"outlinewidth\":0,\"ticks\":\"\"}},\"type\":\"scatterternary\"}],\"surface\":[{\"colorbar\":{\"outlinewidth\":0,\"ticks\":\"\"},\"colorscale\":[[0.0,\"#0d0887\"],[0.1111111111111111,\"#46039f\"],[0.2222222222222222,\"#7201a8\"],[0.3333333333333333,\"#9c179e\"],[0.4444444444444444,\"#bd3786\"],[0.5555555555555556,\"#d8576b\"],[0.6666666666666666,\"#ed7953\"],[0.7777777777777778,\"#fb9f3a\"],[0.8888888888888888,\"#fdca26\"],[1.0,\"#f0f921\"]],\"type\":\"surface\"}],\"table\":[{\"cells\":{\"fill\":{\"color\":\"#EBF0F8\"},\"line\":{\"color\":\"white\"}},\"header\":{\"fill\":{\"color\":\"#C8D4E3\"},\"line\":{\"color\":\"white\"}},\"type\":\"table\"}]},\"layout\":{\"annotationdefaults\":{\"arrowcolor\":\"#2a3f5f\",\"arrowhead\":0,\"arrowwidth\":1},\"autotypenumbers\":\"strict\",\"coloraxis\":{\"colorbar\":{\"outlinewidth\":0,\"ticks\":\"\"}},\"colorscale\":{\"diverging\":[[0,\"#8e0152\"],[0.1,\"#c51b7d\"],[0.2,\"#de77ae\"],[0.3,\"#f1b6da\"],[0.4,\"#fde0ef\"],[0.5,\"#f7f7f7\"],[0.6,\"#e6f5d0\"],[0.7,\"#b8e186\"],[0.8,\"#7fbc41\"],[0.9,\"#4d9221\"],[1,\"#276419\"]],\"sequential\":[[0.0,\"#0d0887\"],[0.1111111111111111,\"#46039f\"],[0.2222222222222222,\"#7201a8\"],[0.3333333333333333,\"#9c179e\"],[0.4444444444444444,\"#bd3786\"],[0.5555555555555556,\"#d8576b\"],[0.6666666666666666,\"#ed7953\"],[0.7777777777777778,\"#fb9f3a\"],[0.8888888888888888,\"#fdca26\"],[1.0,\"#f0f921\"]],\"sequentialminus\":[[0.0,\"#0d0887\"],[0.1111111111111111,\"#46039f\"],[0.2222222222222222,\"#7201a8\"],[0.3333333333333333,\"#9c179e\"],[0.4444444444444444,\"#bd3786\"],[0.5555555555555556,\"#d8576b\"],[0.6666666666666666,\"#ed7953\"],[0.7777777777777778,\"#fb9f3a\"],[0.8888888888888888,\"#fdca26\"],[1.0,\"#f0f921\"]]},\"colorway\":[\"#636efa\",\"#EF553B\",\"#00cc96\",\"#ab63fa\",\"#FFA15A\",\"#19d3f3\",\"#FF6692\",\"#B6E880\",\"#FF97FF\",\"#FECB52\"],\"font\":{\"color\":\"#2a3f5f\"},\"geo\":{\"bgcolor\":\"white\",\"lakecolor\":\"white\",\"landcolor\":\"white\",\"showlakes\":true,\"showland\":true,\"subunitcolor\":\"#C8D4E3\"},\"hoverlabel\":{\"align\":\"left\"},\"hovermode\":\"closest\",\"mapbox\":{\"style\":\"light\"},\"paper_bgcolor\":\"white\",\"plot_bgcolor\":\"white\",\"polar\":{\"angularaxis\":{\"gridcolor\":\"#EBF0F8\",\"linecolor\":\"#EBF0F8\",\"ticks\":\"\"},\"bgcolor\":\"white\",\"radialaxis\":{\"gridcolor\":\"#EBF0F8\",\"linecolor\":\"#EBF0F8\",\"ticks\":\"\"}},\"scene\":{\"xaxis\":{\"backgroundcolor\":\"white\",\"gridcolor\":\"#DFE8F3\",\"gridwidth\":2,\"linecolor\":\"#EBF0F8\",\"showbackground\":true,\"ticks\":\"\",\"zerolinecolor\":\"#EBF0F8\"},\"yaxis\":{\"backgroundcolor\":\"white\",\"gridcolor\":\"#DFE8F3\",\"gridwidth\":2,\"linecolor\":\"#EBF0F8\",\"showbackground\":true,\"ticks\":\"\",\"zerolinecolor\":\"#EBF0F8\"},\"zaxis\":{\"backgroundcolor\":\"white\",\"gridcolor\":\"#DFE8F3\",\"gridwidth\":2,\"linecolor\":\"#EBF0F8\",\"showbackground\":true,\"ticks\":\"\",\"zerolinecolor\":\"#EBF0F8\"}},\"shapedefaults\":{\"line\":{\"color\":\"#2a3f5f\"}},\"ternary\":{\"aaxis\":{\"gridcolor\":\"#DFE8F3\",\"linecolor\":\"#A2B1C6\",\"ticks\":\"\"},\"baxis\":{\"gridcolor\":\"#DFE8F3\",\"linecolor\":\"#A2B1C6\",\"ticks\":\"\"},\"bgcolor\":\"white\",\"caxis\":{\"gridcolor\":\"#DFE8F3\",\"linecolor\":\"#A2B1C6\",\"ticks\":\"\"}},\"title\":{\"x\":0.05},\"xaxis\":{\"automargin\":true,\"gridcolor\":\"#EBF0F8\",\"linecolor\":\"#EBF0F8\",\"ticks\":\"\",\"title\":{\"standoff\":15},\"zerolinecolor\":\"#EBF0F8\",\"zerolinewidth\":2},\"yaxis\":{\"automargin\":true,\"gridcolor\":\"#EBF0F8\",\"linecolor\":\"#EBF0F8\",\"ticks\":\"\",\"title\":{\"standoff\":15},\"zerolinecolor\":\"#EBF0F8\",\"zerolinewidth\":2}}},\"xaxis\":{\"title\":{\"text\":\"Time\"},\"rangeslider\":{\"visible\":true}},\"title\":{\"text\":\"Binance Coin Candelstick Chart\",\"y\":0.9,\"x\":0.5,\"xanchor\":\"center\",\"yanchor\":\"top\"},\"yaxis\":{\"title\":{\"text\":\"Price in USD\"},\"ticksuffix\":\"$\"}},                        {\"responsive\": true}                    ).then(function(){\n",
              "                            \n",
              "var gd = document.getElementById('f8ef124f-66d9-4857-a46d-8b3ab14406a8');\n",
              "var x = new MutationObserver(function (mutations, observer) {{\n",
              "        var display = window.getComputedStyle(gd).display;\n",
              "        if (!display || display === 'none') {{\n",
              "            console.log([gd, 'removed!']);\n",
              "            Plotly.purge(gd);\n",
              "            observer.disconnect();\n",
              "        }}\n",
              "}});\n",
              "\n",
              "// Listen for the removal of the full notebook cells\n",
              "var notebookContainer = gd.closest('#notebook-container');\n",
              "if (notebookContainer) {{\n",
              "    x.observe(notebookContainer, {childList: true});\n",
              "}}\n",
              "\n",
              "// Listen for the clearing of the current output cell\n",
              "var outputEl = gd.closest('.output');\n",
              "if (outputEl) {{\n",
              "    x.observe(outputEl, {childList: true});\n",
              "}}\n",
              "\n",
              "                        })                };                            </script>        </div>\n",
              "</body>\n",
              "</html>"
            ]
          },
          "metadata": {}
        }
      ]
    },
    {
      "cell_type": "markdown",
      "source": [
        "# <center>OHLC CHARTS</center> "
      ],
      "metadata": {
        "id": "ozuTQOwpA99p"
      }
    },
    {
      "cell_type": "code",
      "source": [
        "def ohlc_chart(data,title):\n",
        "    ohlc = go.Figure(data = [go.Ohlc(x =data.index, \n",
        "                                               open = data[('Open')], \n",
        "                                               high = data[('High')], \n",
        "                                               low = data[('Low')], \n",
        "                                               close = data[('Close')])])\n",
        "    ohlc.update_xaxes(title_text = 'Time',\n",
        "                             rangeslider_visible = True)\n",
        "\n",
        "    ohlc.update_layout(\n",
        "    title = {\n",
        "        'text': '{:} OHLC Chart'.format(title),\n",
        "        'y':0.9,\n",
        "        'x':0.5,\n",
        "        'xanchor': 'center',\n",
        "        'yanchor': 'top'},\n",
        "        template=\"plotly_white\")\n",
        "\n",
        "    ohlc.update_yaxes(title_text = 'Price in USD', ticksuffix = '$')\n",
        "    return ohlc"
      ],
      "metadata": {
        "_kg_hide-input": true,
        "execution": {
          "iopub.status.busy": "2022-01-29T17:46:10.744273Z",
          "iopub.execute_input": "2022-01-29T17:46:10.744541Z",
          "iopub.status.idle": "2022-01-29T17:46:10.752446Z",
          "shell.execute_reply.started": "2022-01-29T17:46:10.744513Z",
          "shell.execute_reply": "2022-01-29T17:46:10.751811Z"
        },
        "trusted": true,
        "id": "Ne1FUhVPA99q"
      },
      "execution_count": null,
      "outputs": []
    },
    {
      "cell_type": "markdown",
      "source": [
        "### Bitcoin(BTC) OHLC Chart for first 200 rows"
      ],
      "metadata": {
        "id": "arwqppM-A99u"
      }
    },
    {
      "cell_type": "code",
      "source": [
        "ohlc_chart(btc[:200], title = \"Bitcoin(BTC)\")"
      ],
      "metadata": {
        "_kg_hide-input": true,
        "execution": {
          "iopub.status.busy": "2022-01-29T17:46:40.816629Z",
          "iopub.execute_input": "2022-01-29T17:46:40.817447Z",
          "iopub.status.idle": "2022-01-29T17:46:40.873445Z",
          "shell.execute_reply.started": "2022-01-29T17:46:40.817386Z",
          "shell.execute_reply": "2022-01-29T17:46:40.872681Z"
        },
        "trusted": true,
        "colab": {
          "base_uri": "https://localhost:8080/",
          "height": 542
        },
        "id": "zWSTnrFfA99v",
        "outputId": "15d576f0-06eb-4ff6-fa47-9bf1787d2a5f"
      },
      "execution_count": null,
      "outputs": [
        {
          "output_type": "display_data",
          "data": {
            "text/html": [
              "<html>\n",
              "<head><meta charset=\"utf-8\" /></head>\n",
              "<body>\n",
              "    <div>            <script src=\"https://cdnjs.cloudflare.com/ajax/libs/mathjax/2.7.5/MathJax.js?config=TeX-AMS-MML_SVG\"></script><script type=\"text/javascript\">if (window.MathJax) {MathJax.Hub.Config({SVG: {font: \"STIX-Web\"}});}</script>                <script type=\"text/javascript\">window.PlotlyConfig = {MathJaxConfig: 'local'};</script>\n",
              "        <script src=\"https://cdn.plot.ly/plotly-2.8.3.min.js\"></script>                <div id=\"7fa15b5a-2446-493a-9d13-0d1f907dc19f\" class=\"plotly-graph-div\" style=\"height:525px; width:100%;\"></div>            <script type=\"text/javascript\">                                    window.PLOTLYENV=window.PLOTLYENV || {};                                    if (document.getElementById(\"7fa15b5a-2446-493a-9d13-0d1f907dc19f\")) {                    Plotly.newPlot(                        \"7fa15b5a-2446-493a-9d13-0d1f907dc19f\",                        [{\"close\":[13850.176000000001,13828.102000000004,13801.314000000002,13768.04,13724.914,13717.112,13670.94,13721.348000000002,13720.26,13719.902000000002,13706.596,13690.991999999998,13696.638,13697.658000000001,13678.486,13604.025,13625.614,13593.79,13626.11,13601.4,13606.285999999998,13610.486,13599.601999999999,13603.748,13633.718,13653.296000000002,13659.882,13656.524,13648.28,13626.358000000002,13658.372,13668.798,13674.256,13650.59,13667.746,13667.357999999998,13647.632,13635.780000000002,13636.6,13639.21,13641.068,13629.393999999998,13577.73,13631.535999999998,13639.463999999998,13641.71,13680.728,13680.166000000001,13693.004,13667.692,13690.716,13693.863999999998,13671.734,13665.064000000002,13668.528,13619.146,13579.912,13619.516,13646.514,13634.702,13642.900203083998,13634.678,13642.353999999998,13639.234,13632.91,13588.995,13555.505,13586.844,13550.891999999998,13546.923999999999,13576.784,13581.232,13570.25,13574.328,13570.118,13580.252,13603.7,13619.284,13642.798,13695.332,13654.3,13666.333999999999,13688.306,13625.684,13648.782,13617.38,13659.444,13609.9925,13611.25,13643.486,13641.244,13616.74,13570.643999999998,13581.406,13581.1,13583.102000000004,13573.494,13576.723999999998,13566.432,13550.702,13490.532,13470.612,13486.49,13486.66,13457.991999999998,13437.03,13439.874,13400.5925,13427.670000000002,13458.158000000001,13445.383999999998,13435.646000000002,13420.652000000002,13415.95,13373.679999999995,13346.488000000001,13328.223999999998,13346.033554664,13336.952,13369.868,13399.920000000002,13394.503999999995,13403.702,13458.566,13469.9,13415.13,13389.26,13389.656,13417.432,13437.49,13438.83832136,13451.497999999998,13454.9,13462.172,13444.794,13436.948,13431.484,13383.466,13367.391999999998,13359.73,13365.444,13398.38,13412.426000000001,13410.29,13409.888,13381.5025,13377.92,13393.062,13348.502000000002,13336.078,13366.306,13358.1,13389.752,13388.820000000005,13386.888,13368.325999999995,13347.556,13339.05,13315.198,13315.269159952,13310.906,13324.946000000002,13345.876,13378.616000000002,13396.308,13413.89,13421.732,13422.393999999998,13445.893999999998,13426.247999999998,13438.402000000002,13385.785,13399.346,13405.228000000005,13384.432,13361.568,13362.544,13430.323999999999,13413.472,13427.55,13423.548,13418.603999999998,13416.420000000002,13399.913999999999,13409.545999999998,13398.812,13411.083999999999,13400.366000000002,13417.166000000001,13434.158000000001,13460.75,13465.046000000002,13484.36,13511.241999999998,13518.27,13548.198,13542.723999999998,13529.54,13543.918,13550.444],\"high\":[14013.8,14052.3,14000.4,13999.0,13955.9,14000.7,14001.4,13914.6,13948.9,13948.5,13948.6,13902.8,13900.0,13876.0,13893.9,13702.71,13860.4,13850.0,13838.9,13826.8,13811.1,13771.0,13750.0,13747.0,13739.0,13740.58,13741.23,13767.0,13750.0,13765.0,13764.8,13767.0,13800.0,13799.8,13799.8,13799.7,13799.7,13799.0,13753.5,13755.0,13799.0,13799.0,13670.99,13799.0,13799.9,13799.7,13800.0,13800.0,13800.0,13800.0,13800.0,13800.0,13900.0,13819.0,13999.9,13805.7,13807.3,13802.6,13802.6,13791.4,13794.8,13796.4,13795.9,13804.9,13788.2,13679.7,13679.6,13776.9,13765.9,13699.0,13698.9,13698.8,13730.0,13757.1,13706.2,13722.3,13721.4,13784.0,13784.0,13885.5,13756.0,13763.2,13885.4,13765.7,13775.8,13651.25,13840.0,13651.21,13651.0,13778.6,13789.1,13781.4,13780.5,13757.0,13738.6,13716.2,13652.0,13650.5,13650.4,13615.0,13607.5,13600.0,13587.0,13600.0,13577.0,13565.5,13549.0,13478.2,13549.0,13538.6,13553.8,13600.0,13600.0,13580.2,13580.1,13520.2,13511.0,13515.0,13501.0,13500.4,13572.7,13490.0,13501.44,13599.9,13600.0,13536.88,13514.0,13505.0,13514.0,13537.1,13571.0,13583.6,13562.6,13600.0,13599.5,13568.9,13568.8,13549.6,13519.5,13519.5,13500.5,13510.9,13519.7,13520.3,13520.3,13450.0,13430.71,13525.0,13525.3,13518.6,13508.5,13507.0,13490.0,13490.0,13489.6,13480.0,13479.0,13473.7,13469.1,13461.9,13450.0,13450.0,13450.0,13453.0,13451.5,13480.0,13480.0,13472.0,13599.0,13480.0,13600.0,13470.0,13527.6,13506.0,13503.7,13491.5,13496.0,13645.5,13512.0,13544.9,13545.0,13560.0,13560.4,13576.4,13576.4,13564.7,13564.5,13560.4,13560.3,13561.5,13645.0,13608.5,13623.3,13830.0,13701.6,13828.2,13741.3,13751.4,13824.9,13827.1],\"low\":[13666.11,13680.0,13601.0,13576.28,13554.44,13520.0,13501.01,13504.99,13539.99,13530.0,13400.01,13485.41,13473.47,13500.35,13505.0,13450.39,13402.0,13402.01,13420.81,13414.18,13440.01,13410.44,13410.44,13412.05,13420.05,13440.09,13472.61,13499.77,13475.35,13479.79,13480.01,13501.11,13520.0,13502.11,13502.27,13503.88,13500.0,13500.0,13461.74,13470.33,13470.37,13473.0,13470.37,13450.0,13450.0,13470.0,13470.5,13521.34,13545.3,13521.39,13542.7,13582.48,13531.99,13530.0,13529.98,13499.98,13456.37,13452.56,13471.62,13527.9,13521.99,13481.82,13486.53,13481.82,13481.98,13489.69,13465.0,13453.0,13450.1,13402.28,13404.14,13436.01,13445.63,13426.9,13446.69,13450.01,13445.63,13489.98,13500.19,13540.05,13541.36,13560.91,13562.45,13541.0,13513.91,13541.06,13567.05,13568.34,13534.55,13557.98,13525.02,13529.84,13477.2,13500.0,13477.2,13477.2,13480.05,13491.53,13515.89,13500.0,13428.0,13417.69207062,13430.0,13407.55,13405.0,13364.92788695,13370.0,13375.0,13349.0,13348.0,13369.99,13343.03,13320.01,13300.2,13219.98,13200.81,13186.0,13155.38,13181.09,13202.03,13280.27,13317.19,13317.38,13345.0,13365.99,13350.02,13276.96,13277.01,13291.59,13320.0,13350.69,13350.69,13352.0,13360.02,13350.0,13343.01,13300.0,13269.0,13228.02,13228.03,13251.0,13251.02,13301.14,13291.03,13291.07,13300.0,13290.0,13290.0,13225.0,13200.0,13208.0,13255.04,13202.03,13280.0,13288.02,13267.59,13210.0,13220.92,13211.72,13220.0,13225.2,13225.22,13241.0,13260.17,13309.0,13338.97,13334.89,13354.03,13347.0,13348.0,13347.14,13301.79,13300.0,13260.09,13275.44,13275.0,13261.01,13280.01,13306.02,13330.21,13340.0,13295.94,13300.0,13293.0,13290.0,13295.22,13295.22,13302.25,13320.0,13346.75,13352.01,13370.0,13380.0,13420.02,13419.0,13417.0,13438.078232499998,13441.53,13421.96,13428.03],\"open\":[13835.194,13835.035999999998,13823.9,13802.511999999999,13766.0,13717.714000000002,13720.922,13669.246,13713.412,13713.61,13719.018,13703.404,13690.79,13688.491999999998,13702.502,13620.185,13654.02,13625.404,13615.378000000002,13626.248,13600.49,13606.468,13610.204000000002,13599.362,13601.328,13630.963999999998,13656.364,13653.882,13649.434,13638.62,13640.673999999999,13656.3,13669.62,13673.2,13650.721999999998,13667.614,13662.738000000001,13640.964000000002,13628.570000000005,13649.295999999998,13641.096000000001,13635.714000000002,13584.805,13628.795999999998,13636.329999999998,13634.473999999998,13639.765999999998,13682.21,13675.802,13700.558,13676.2,13698.968,13694.254,13670.75,13661.011999999999,13629.208000000002,13618.094,13601.563999999995,13625.241999999998,13632.89,13653.586,13641.19,13633.996,13643.851999999999,13636.862,13599.5725,13584.7725,13598.923999999999,13580.86,13554.978,13546.647999999996,13567.768,13584.662,13570.809999999998,13575.6,13571.872,13576.185999999998,13604.294,13623.408000000001,13645.87,13668.026000000002,13659.795999999998,13669.863999999998,13662.386,13643.313999999995,13618.4622013275,13649.34,13614.3125,13610.2375,13643.916000000001,13639.63,13640.826000000001,13618.516,13601.266,13580.61,13578.452,13575.429999999995,13570.39,13575.892000000002,13566.29,13549.684,13492.63,13472.194,13491.997999999998,13476.722,13466.518,13441.0,13411.115,13437.558,13430.21,13458.558,13443.597999999998,13434.761999999999,13420.654,13415.456,13361.878,13346.685999999998,13328.026000000002,13346.016,13337.022,13368.676000000001,13383.337438244,13393.673999999999,13403.504,13435.63,13461.854,13413.016,13393.478,13392.928,13409.678,13438.496,13441.278,13457.059999999998,13462.973999999998,13470.498,13450.094,13432.318,13430.604,13385.833999999999,13367.302,13358.11,13365.643999999998,13399.591999999999,13410.46,13408.676000000001,13382.0875,13370.8425,13403.722,13398.544,13344.906,13343.04,13354.632,13362.696000000002,13389.356000000002,13393.0,13380.566,13359.070000000005,13346.014,13338.114,13321.096000000001,13313.986,13318.13,13324.746,13346.328,13381.973999999998,13389.284,13408.258000000002,13414.29,13421.997999999998,13418.87,13444.212,13413.2525,13425.484,13392.734000000002,13395.372,13379.228,13363.25750828,13366.823999999999,13410.318,13410.248,13427.874,13426.546000000002,13417.874,13418.04,13390.863999999998,13410.034,13398.5,13411.915999999996,13409.486,13417.998,13435.335,13436.6,13466.795999999998,13483.511999999999,13510.124,13517.79,13521.1336465,13553.956,13529.454344088,13545.052],\"x\":[\"2018-01-01T00:01:00\",\"2018-01-01T00:02:00\",\"2018-01-01T00:03:00\",\"2018-01-01T00:04:00\",\"2018-01-01T00:05:00\",\"2018-01-01T00:06:00\",\"2018-01-01T00:07:00\",\"2018-01-01T00:08:00\",\"2018-01-01T00:09:00\",\"2018-01-01T00:10:00\",\"2018-01-01T00:11:00\",\"2018-01-01T00:12:00\",\"2018-01-01T00:13:00\",\"2018-01-01T00:14:00\",\"2018-01-01T00:15:00\",\"2018-01-01T00:16:00\",\"2018-01-01T00:17:00\",\"2018-01-01T00:18:00\",\"2018-01-01T00:19:00\",\"2018-01-01T00:20:00\",\"2018-01-01T00:21:00\",\"2018-01-01T00:22:00\",\"2018-01-01T00:23:00\",\"2018-01-01T00:24:00\",\"2018-01-01T00:25:00\",\"2018-01-01T00:26:00\",\"2018-01-01T00:27:00\",\"2018-01-01T00:28:00\",\"2018-01-01T00:29:00\",\"2018-01-01T00:30:00\",\"2018-01-01T00:31:00\",\"2018-01-01T00:32:00\",\"2018-01-01T00:33:00\",\"2018-01-01T00:34:00\",\"2018-01-01T00:35:00\",\"2018-01-01T00:36:00\",\"2018-01-01T00:37:00\",\"2018-01-01T00:38:00\",\"2018-01-01T00:39:00\",\"2018-01-01T00:40:00\",\"2018-01-01T00:41:00\",\"2018-01-01T00:42:00\",\"2018-01-01T00:43:00\",\"2018-01-01T00:44:00\",\"2018-01-01T00:45:00\",\"2018-01-01T00:46:00\",\"2018-01-01T00:47:00\",\"2018-01-01T00:48:00\",\"2018-01-01T00:49:00\",\"2018-01-01T00:50:00\",\"2018-01-01T00:51:00\",\"2018-01-01T00:52:00\",\"2018-01-01T00:53:00\",\"2018-01-01T00:54:00\",\"2018-01-01T00:55:00\",\"2018-01-01T00:56:00\",\"2018-01-01T00:57:00\",\"2018-01-01T00:58:00\",\"2018-01-01T00:59:00\",\"2018-01-01T01:00:00\",\"2018-01-01T01:01:00\",\"2018-01-01T01:02:00\",\"2018-01-01T01:03:00\",\"2018-01-01T01:04:00\",\"2018-01-01T01:05:00\",\"2018-01-01T01:06:00\",\"2018-01-01T01:07:00\",\"2018-01-01T01:08:00\",\"2018-01-01T01:09:00\",\"2018-01-01T01:10:00\",\"2018-01-01T01:11:00\",\"2018-01-01T01:12:00\",\"2018-01-01T01:13:00\",\"2018-01-01T01:14:00\",\"2018-01-01T01:15:00\",\"2018-01-01T01:16:00\",\"2018-01-01T01:17:00\",\"2018-01-01T01:18:00\",\"2018-01-01T01:19:00\",\"2018-01-01T01:20:00\",\"2018-01-01T01:21:00\",\"2018-01-01T01:22:00\",\"2018-01-01T01:23:00\",\"2018-01-01T01:24:00\",\"2018-01-01T01:25:00\",\"2018-01-01T01:26:00\",\"2018-01-01T01:27:00\",\"2018-01-01T01:28:00\",\"2018-01-01T01:29:00\",\"2018-01-01T01:30:00\",\"2018-01-01T01:31:00\",\"2018-01-01T01:32:00\",\"2018-01-01T01:33:00\",\"2018-01-01T01:34:00\",\"2018-01-01T01:35:00\",\"2018-01-01T01:36:00\",\"2018-01-01T01:37:00\",\"2018-01-01T01:38:00\",\"2018-01-01T01:39:00\",\"2018-01-01T01:40:00\",\"2018-01-01T01:41:00\",\"2018-01-01T01:42:00\",\"2018-01-01T01:43:00\",\"2018-01-01T01:44:00\",\"2018-01-01T01:45:00\",\"2018-01-01T01:46:00\",\"2018-01-01T01:47:00\",\"2018-01-01T01:48:00\",\"2018-01-01T01:49:00\",\"2018-01-01T01:50:00\",\"2018-01-01T01:51:00\",\"2018-01-01T01:52:00\",\"2018-01-01T01:53:00\",\"2018-01-01T01:54:00\",\"2018-01-01T01:55:00\",\"2018-01-01T01:56:00\",\"2018-01-01T01:57:00\",\"2018-01-01T01:58:00\",\"2018-01-01T01:59:00\",\"2018-01-01T02:00:00\",\"2018-01-01T02:01:00\",\"2018-01-01T02:02:00\",\"2018-01-01T02:03:00\",\"2018-01-01T02:04:00\",\"2018-01-01T02:05:00\",\"2018-01-01T02:06:00\",\"2018-01-01T02:07:00\",\"2018-01-01T02:08:00\",\"2018-01-01T02:09:00\",\"2018-01-01T02:10:00\",\"2018-01-01T02:11:00\",\"2018-01-01T02:12:00\",\"2018-01-01T02:13:00\",\"2018-01-01T02:14:00\",\"2018-01-01T02:15:00\",\"2018-01-01T02:16:00\",\"2018-01-01T02:17:00\",\"2018-01-01T02:18:00\",\"2018-01-01T02:19:00\",\"2018-01-01T02:20:00\",\"2018-01-01T02:21:00\",\"2018-01-01T02:22:00\",\"2018-01-01T02:23:00\",\"2018-01-01T02:24:00\",\"2018-01-01T02:25:00\",\"2018-01-01T02:26:00\",\"2018-01-01T02:27:00\",\"2018-01-01T02:28:00\",\"2018-01-01T02:29:00\",\"2018-01-01T02:30:00\",\"2018-01-01T02:31:00\",\"2018-01-01T02:32:00\",\"2018-01-01T02:33:00\",\"2018-01-01T02:34:00\",\"2018-01-01T02:35:00\",\"2018-01-01T02:36:00\",\"2018-01-01T02:37:00\",\"2018-01-01T02:38:00\",\"2018-01-01T02:39:00\",\"2018-01-01T02:40:00\",\"2018-01-01T02:41:00\",\"2018-01-01T02:42:00\",\"2018-01-01T02:43:00\",\"2018-01-01T02:44:00\",\"2018-01-01T02:45:00\",\"2018-01-01T02:46:00\",\"2018-01-01T02:47:00\",\"2018-01-01T02:48:00\",\"2018-01-01T02:49:00\",\"2018-01-01T02:50:00\",\"2018-01-01T02:51:00\",\"2018-01-01T02:52:00\",\"2018-01-01T02:53:00\",\"2018-01-01T02:54:00\",\"2018-01-01T02:55:00\",\"2018-01-01T02:56:00\",\"2018-01-01T02:57:00\",\"2018-01-01T02:58:00\",\"2018-01-01T02:59:00\",\"2018-01-01T03:00:00\",\"2018-01-01T03:01:00\",\"2018-01-01T03:02:00\",\"2018-01-01T03:03:00\",\"2018-01-01T03:04:00\",\"2018-01-01T03:05:00\",\"2018-01-01T03:06:00\",\"2018-01-01T03:07:00\",\"2018-01-01T03:08:00\",\"2018-01-01T03:09:00\",\"2018-01-01T03:10:00\",\"2018-01-01T03:11:00\",\"2018-01-01T03:12:00\",\"2018-01-01T03:13:00\",\"2018-01-01T03:14:00\",\"2018-01-01T03:15:00\",\"2018-01-01T03:16:00\",\"2018-01-01T03:17:00\",\"2018-01-01T03:18:00\",\"2018-01-01T03:19:00\",\"2018-01-01T03:20:00\"],\"type\":\"ohlc\"}],                        {\"template\":{\"data\":{\"barpolar\":[{\"marker\":{\"line\":{\"color\":\"white\",\"width\":0.5},\"pattern\":{\"fillmode\":\"overlay\",\"size\":10,\"solidity\":0.2}},\"type\":\"barpolar\"}],\"bar\":[{\"error_x\":{\"color\":\"#2a3f5f\"},\"error_y\":{\"color\":\"#2a3f5f\"},\"marker\":{\"line\":{\"color\":\"white\",\"width\":0.5},\"pattern\":{\"fillmode\":\"overlay\",\"size\":10,\"solidity\":0.2}},\"type\":\"bar\"}],\"carpet\":[{\"aaxis\":{\"endlinecolor\":\"#2a3f5f\",\"gridcolor\":\"#C8D4E3\",\"linecolor\":\"#C8D4E3\",\"minorgridcolor\":\"#C8D4E3\",\"startlinecolor\":\"#2a3f5f\"},\"baxis\":{\"endlinecolor\":\"#2a3f5f\",\"gridcolor\":\"#C8D4E3\",\"linecolor\":\"#C8D4E3\",\"minorgridcolor\":\"#C8D4E3\",\"startlinecolor\":\"#2a3f5f\"},\"type\":\"carpet\"}],\"choropleth\":[{\"colorbar\":{\"outlinewidth\":0,\"ticks\":\"\"},\"type\":\"choropleth\"}],\"contourcarpet\":[{\"colorbar\":{\"outlinewidth\":0,\"ticks\":\"\"},\"type\":\"contourcarpet\"}],\"contour\":[{\"colorbar\":{\"outlinewidth\":0,\"ticks\":\"\"},\"colorscale\":[[0.0,\"#0d0887\"],[0.1111111111111111,\"#46039f\"],[0.2222222222222222,\"#7201a8\"],[0.3333333333333333,\"#9c179e\"],[0.4444444444444444,\"#bd3786\"],[0.5555555555555556,\"#d8576b\"],[0.6666666666666666,\"#ed7953\"],[0.7777777777777778,\"#fb9f3a\"],[0.8888888888888888,\"#fdca26\"],[1.0,\"#f0f921\"]],\"type\":\"contour\"}],\"heatmapgl\":[{\"colorbar\":{\"outlinewidth\":0,\"ticks\":\"\"},\"colorscale\":[[0.0,\"#0d0887\"],[0.1111111111111111,\"#46039f\"],[0.2222222222222222,\"#7201a8\"],[0.3333333333333333,\"#9c179e\"],[0.4444444444444444,\"#bd3786\"],[0.5555555555555556,\"#d8576b\"],[0.6666666666666666,\"#ed7953\"],[0.7777777777777778,\"#fb9f3a\"],[0.8888888888888888,\"#fdca26\"],[1.0,\"#f0f921\"]],\"type\":\"heatmapgl\"}],\"heatmap\":[{\"colorbar\":{\"outlinewidth\":0,\"ticks\":\"\"},\"colorscale\":[[0.0,\"#0d0887\"],[0.1111111111111111,\"#46039f\"],[0.2222222222222222,\"#7201a8\"],[0.3333333333333333,\"#9c179e\"],[0.4444444444444444,\"#bd3786\"],[0.5555555555555556,\"#d8576b\"],[0.6666666666666666,\"#ed7953\"],[0.7777777777777778,\"#fb9f3a\"],[0.8888888888888888,\"#fdca26\"],[1.0,\"#f0f921\"]],\"type\":\"heatmap\"}],\"histogram2dcontour\":[{\"colorbar\":{\"outlinewidth\":0,\"ticks\":\"\"},\"colorscale\":[[0.0,\"#0d0887\"],[0.1111111111111111,\"#46039f\"],[0.2222222222222222,\"#7201a8\"],[0.3333333333333333,\"#9c179e\"],[0.4444444444444444,\"#bd3786\"],[0.5555555555555556,\"#d8576b\"],[0.6666666666666666,\"#ed7953\"],[0.7777777777777778,\"#fb9f3a\"],[0.8888888888888888,\"#fdca26\"],[1.0,\"#f0f921\"]],\"type\":\"histogram2dcontour\"}],\"histogram2d\":[{\"colorbar\":{\"outlinewidth\":0,\"ticks\":\"\"},\"colorscale\":[[0.0,\"#0d0887\"],[0.1111111111111111,\"#46039f\"],[0.2222222222222222,\"#7201a8\"],[0.3333333333333333,\"#9c179e\"],[0.4444444444444444,\"#bd3786\"],[0.5555555555555556,\"#d8576b\"],[0.6666666666666666,\"#ed7953\"],[0.7777777777777778,\"#fb9f3a\"],[0.8888888888888888,\"#fdca26\"],[1.0,\"#f0f921\"]],\"type\":\"histogram2d\"}],\"histogram\":[{\"marker\":{\"pattern\":{\"fillmode\":\"overlay\",\"size\":10,\"solidity\":0.2}},\"type\":\"histogram\"}],\"mesh3d\":[{\"colorbar\":{\"outlinewidth\":0,\"ticks\":\"\"},\"type\":\"mesh3d\"}],\"parcoords\":[{\"line\":{\"colorbar\":{\"outlinewidth\":0,\"ticks\":\"\"}},\"type\":\"parcoords\"}],\"pie\":[{\"automargin\":true,\"type\":\"pie\"}],\"scatter3d\":[{\"line\":{\"colorbar\":{\"outlinewidth\":0,\"ticks\":\"\"}},\"marker\":{\"colorbar\":{\"outlinewidth\":0,\"ticks\":\"\"}},\"type\":\"scatter3d\"}],\"scattercarpet\":[{\"marker\":{\"colorbar\":{\"outlinewidth\":0,\"ticks\":\"\"}},\"type\":\"scattercarpet\"}],\"scattergeo\":[{\"marker\":{\"colorbar\":{\"outlinewidth\":0,\"ticks\":\"\"}},\"type\":\"scattergeo\"}],\"scattergl\":[{\"marker\":{\"colorbar\":{\"outlinewidth\":0,\"ticks\":\"\"}},\"type\":\"scattergl\"}],\"scattermapbox\":[{\"marker\":{\"colorbar\":{\"outlinewidth\":0,\"ticks\":\"\"}},\"type\":\"scattermapbox\"}],\"scatterpolargl\":[{\"marker\":{\"colorbar\":{\"outlinewidth\":0,\"ticks\":\"\"}},\"type\":\"scatterpolargl\"}],\"scatterpolar\":[{\"marker\":{\"colorbar\":{\"outlinewidth\":0,\"ticks\":\"\"}},\"type\":\"scatterpolar\"}],\"scatter\":[{\"marker\":{\"colorbar\":{\"outlinewidth\":0,\"ticks\":\"\"}},\"type\":\"scatter\"}],\"scatterternary\":[{\"marker\":{\"colorbar\":{\"outlinewidth\":0,\"ticks\":\"\"}},\"type\":\"scatterternary\"}],\"surface\":[{\"colorbar\":{\"outlinewidth\":0,\"ticks\":\"\"},\"colorscale\":[[0.0,\"#0d0887\"],[0.1111111111111111,\"#46039f\"],[0.2222222222222222,\"#7201a8\"],[0.3333333333333333,\"#9c179e\"],[0.4444444444444444,\"#bd3786\"],[0.5555555555555556,\"#d8576b\"],[0.6666666666666666,\"#ed7953\"],[0.7777777777777778,\"#fb9f3a\"],[0.8888888888888888,\"#fdca26\"],[1.0,\"#f0f921\"]],\"type\":\"surface\"}],\"table\":[{\"cells\":{\"fill\":{\"color\":\"#EBF0F8\"},\"line\":{\"color\":\"white\"}},\"header\":{\"fill\":{\"color\":\"#C8D4E3\"},\"line\":{\"color\":\"white\"}},\"type\":\"table\"}]},\"layout\":{\"annotationdefaults\":{\"arrowcolor\":\"#2a3f5f\",\"arrowhead\":0,\"arrowwidth\":1},\"autotypenumbers\":\"strict\",\"coloraxis\":{\"colorbar\":{\"outlinewidth\":0,\"ticks\":\"\"}},\"colorscale\":{\"diverging\":[[0,\"#8e0152\"],[0.1,\"#c51b7d\"],[0.2,\"#de77ae\"],[0.3,\"#f1b6da\"],[0.4,\"#fde0ef\"],[0.5,\"#f7f7f7\"],[0.6,\"#e6f5d0\"],[0.7,\"#b8e186\"],[0.8,\"#7fbc41\"],[0.9,\"#4d9221\"],[1,\"#276419\"]],\"sequential\":[[0.0,\"#0d0887\"],[0.1111111111111111,\"#46039f\"],[0.2222222222222222,\"#7201a8\"],[0.3333333333333333,\"#9c179e\"],[0.4444444444444444,\"#bd3786\"],[0.5555555555555556,\"#d8576b\"],[0.6666666666666666,\"#ed7953\"],[0.7777777777777778,\"#fb9f3a\"],[0.8888888888888888,\"#fdca26\"],[1.0,\"#f0f921\"]],\"sequentialminus\":[[0.0,\"#0d0887\"],[0.1111111111111111,\"#46039f\"],[0.2222222222222222,\"#7201a8\"],[0.3333333333333333,\"#9c179e\"],[0.4444444444444444,\"#bd3786\"],[0.5555555555555556,\"#d8576b\"],[0.6666666666666666,\"#ed7953\"],[0.7777777777777778,\"#fb9f3a\"],[0.8888888888888888,\"#fdca26\"],[1.0,\"#f0f921\"]]},\"colorway\":[\"#636efa\",\"#EF553B\",\"#00cc96\",\"#ab63fa\",\"#FFA15A\",\"#19d3f3\",\"#FF6692\",\"#B6E880\",\"#FF97FF\",\"#FECB52\"],\"font\":{\"color\":\"#2a3f5f\"},\"geo\":{\"bgcolor\":\"white\",\"lakecolor\":\"white\",\"landcolor\":\"white\",\"showlakes\":true,\"showland\":true,\"subunitcolor\":\"#C8D4E3\"},\"hoverlabel\":{\"align\":\"left\"},\"hovermode\":\"closest\",\"mapbox\":{\"style\":\"light\"},\"paper_bgcolor\":\"white\",\"plot_bgcolor\":\"white\",\"polar\":{\"angularaxis\":{\"gridcolor\":\"#EBF0F8\",\"linecolor\":\"#EBF0F8\",\"ticks\":\"\"},\"bgcolor\":\"white\",\"radialaxis\":{\"gridcolor\":\"#EBF0F8\",\"linecolor\":\"#EBF0F8\",\"ticks\":\"\"}},\"scene\":{\"xaxis\":{\"backgroundcolor\":\"white\",\"gridcolor\":\"#DFE8F3\",\"gridwidth\":2,\"linecolor\":\"#EBF0F8\",\"showbackground\":true,\"ticks\":\"\",\"zerolinecolor\":\"#EBF0F8\"},\"yaxis\":{\"backgroundcolor\":\"white\",\"gridcolor\":\"#DFE8F3\",\"gridwidth\":2,\"linecolor\":\"#EBF0F8\",\"showbackground\":true,\"ticks\":\"\",\"zerolinecolor\":\"#EBF0F8\"},\"zaxis\":{\"backgroundcolor\":\"white\",\"gridcolor\":\"#DFE8F3\",\"gridwidth\":2,\"linecolor\":\"#EBF0F8\",\"showbackground\":true,\"ticks\":\"\",\"zerolinecolor\":\"#EBF0F8\"}},\"shapedefaults\":{\"line\":{\"color\":\"#2a3f5f\"}},\"ternary\":{\"aaxis\":{\"gridcolor\":\"#DFE8F3\",\"linecolor\":\"#A2B1C6\",\"ticks\":\"\"},\"baxis\":{\"gridcolor\":\"#DFE8F3\",\"linecolor\":\"#A2B1C6\",\"ticks\":\"\"},\"bgcolor\":\"white\",\"caxis\":{\"gridcolor\":\"#DFE8F3\",\"linecolor\":\"#A2B1C6\",\"ticks\":\"\"}},\"title\":{\"x\":0.05},\"xaxis\":{\"automargin\":true,\"gridcolor\":\"#EBF0F8\",\"linecolor\":\"#EBF0F8\",\"ticks\":\"\",\"title\":{\"standoff\":15},\"zerolinecolor\":\"#EBF0F8\",\"zerolinewidth\":2},\"yaxis\":{\"automargin\":true,\"gridcolor\":\"#EBF0F8\",\"linecolor\":\"#EBF0F8\",\"ticks\":\"\",\"title\":{\"standoff\":15},\"zerolinecolor\":\"#EBF0F8\",\"zerolinewidth\":2}}},\"xaxis\":{\"title\":{\"text\":\"Time\"},\"rangeslider\":{\"visible\":true}},\"title\":{\"text\":\"Bitcoin(BTC) OHLC Chart\",\"y\":0.9,\"x\":0.5,\"xanchor\":\"center\",\"yanchor\":\"top\"},\"yaxis\":{\"title\":{\"text\":\"Price in USD\"},\"ticksuffix\":\"$\"}},                        {\"responsive\": true}                    ).then(function(){\n",
              "                            \n",
              "var gd = document.getElementById('7fa15b5a-2446-493a-9d13-0d1f907dc19f');\n",
              "var x = new MutationObserver(function (mutations, observer) {{\n",
              "        var display = window.getComputedStyle(gd).display;\n",
              "        if (!display || display === 'none') {{\n",
              "            console.log([gd, 'removed!']);\n",
              "            Plotly.purge(gd);\n",
              "            observer.disconnect();\n",
              "        }}\n",
              "}});\n",
              "\n",
              "// Listen for the removal of the full notebook cells\n",
              "var notebookContainer = gd.closest('#notebook-container');\n",
              "if (notebookContainer) {{\n",
              "    x.observe(notebookContainer, {childList: true});\n",
              "}}\n",
              "\n",
              "// Listen for the clearing of the current output cell\n",
              "var outputEl = gd.closest('.output');\n",
              "if (outputEl) {{\n",
              "    x.observe(outputEl, {childList: true});\n",
              "}}\n",
              "\n",
              "                        })                };                            </script>        </div>\n",
              "</body>\n",
              "</html>"
            ]
          },
          "metadata": {}
        }
      ]
    },
    {
      "cell_type": "markdown",
      "source": [
        "### Ethereum OHLC Chart for first 200 rows"
      ],
      "metadata": {
        "id": "IJgPeQAQQeLi"
      }
    },
    {
      "cell_type": "code",
      "source": [
        "ohlc_chart(eth[:200], title = \"Ethereum\")"
      ],
      "metadata": {
        "colab": {
          "base_uri": "https://localhost:8080/",
          "height": 542
        },
        "id": "cafxedWpPu2y",
        "outputId": "d2444b90-d9d7-43fb-f513-5de6ac912907"
      },
      "execution_count": null,
      "outputs": [
        {
          "output_type": "display_data",
          "data": {
            "text/html": [
              "<html>\n",
              "<head><meta charset=\"utf-8\" /></head>\n",
              "<body>\n",
              "    <div>            <script src=\"https://cdnjs.cloudflare.com/ajax/libs/mathjax/2.7.5/MathJax.js?config=TeX-AMS-MML_SVG\"></script><script type=\"text/javascript\">if (window.MathJax) {MathJax.Hub.Config({SVG: {font: \"STIX-Web\"}});}</script>                <script type=\"text/javascript\">window.PlotlyConfig = {MathJaxConfig: 'local'};</script>\n",
              "        <script src=\"https://cdn.plot.ly/plotly-2.8.3.min.js\"></script>                <div id=\"836443db-2971-4157-81e7-313d3814787c\" class=\"plotly-graph-div\" style=\"height:525px; width:100%;\"></div>            <script type=\"text/javascript\">                                    window.PLOTLYENV=window.PLOTLYENV || {};                                    if (document.getElementById(\"836443db-2971-4157-81e7-313d3814787c\")) {                    Plotly.newPlot(                        \"836443db-2971-4157-81e7-313d3814787c\",                        [{\"close\":[8.53,8.5145,8.4848,8.5009,8.456,8.4,8.3958,8.3804,8.38,8.3932,8.3931,8.3726,8.42,8.4114,8.4003,8.4,8.3919,8.3501,8.3699,8.3501,8.3501,8.35,8.375,8.35,8.3477,8.3501,8.3477,8.3478,8.3477,8.35,8.3477,8.3727,8.3477,8.3478,8.3479,8.3599,8.3476,8.33,8.32,8.32,8.32,8.3201,8.3387,8.32,8.32,8.3283,8.36,8.3748,8.3501,8.3743,8.3479,8.3744,8.3479,8.3479,8.3479,8.3408,8.3636,8.259,8.3559,8.3557,8.35,8.36,8.3383,8.2993,8.2695,8.3272,8.3271,8.3272,8.3,8.27,8.2599,8.3142,8.2941,8.2923,8.2887,8.2923,8.3072,8.3328,8.3012,8.3997,8.3995,8.3995,8.3484,8.3485,8.3719,8.372,8.3721,8.372,8.3731,8.3731,8.372,8.3404,8.3346,8.3448,8.357999999999999,8.3447,8.3636,8.3447,8.3447,8.3347,8.3277,8.3272,8.3269,8.3264,8.3068,8.2922,8.2887,8.2713,8.2929,8.2922,8.2711,8.23,8.2598,8.2162,8.247,8.2019,8.2019,8.2199,8.2528,8.2616,8.2888,8.2884,8.2883,8.2883,8.257,8.2572,8.258,8.3273,8.3274,8.3273,8.3447,8.3488,8.3447,8.3273,8.3272,8.2922,8.292,8.2642,8.2642,8.2642,8.285,8.2912,8.2845,8.2856,8.2896,8.2706,8.2636,8.2312,8.2633,8.2321,8.2635,8.2899,8.2556,8.2374,8.2431,8.236,8.236,8.2243,8.2243,8.2466,8.247,8.2884,8.292,8.2991,8.29,8.296,8.2991,8.3328,8.3098,8.3,8.2947,8.3128,8.2683,8.263,8.27,8.2814,8.2972,8.2972,8.2804,8.292,8.2789,8.2877,8.28,8.2791,8.2791,8.2889,8.2818,8.2889,8.296,8.3221,8.3351,8.3352,8.3488,8.3644,8.3732,8.36,8.3701,8.3654,8.369,8.3902],\"high\":[8.53,8.53,8.5299,8.5066,8.5007,8.456,8.4,8.4544,8.4519,8.3932,8.4199,8.3821,8.4559,8.456,8.4499,8.4297,8.422,8.4497,8.3699,8.39,8.3899,8.39,8.3818,8.3749,8.3501,8.3501,8.3737,8.3737,8.3735,8.3733,8.3729,8.3727,8.3727,8.3478,8.3719,8.3599,8.36,8.3475,8.347000000000001,8.32,8.32,8.3408,8.34,8.3385,8.3377,8.3291,8.36,8.375,8.3748,8.3748,8.3743,8.3745,8.3744,8.3743,8.3737,8.3723,8.3647,8.3399,8.3559,8.3558,8.3557,8.36,8.36,8.3326,8.3272,8.3272,8.3272,8.3272,8.3272,8.3271,8.27,8.3142,8.3033,8.2931,8.2923,8.2923,8.3072,8.3328,8.375,8.3997,8.3997,8.3995,8.3671,8.3888,8.372,8.372,8.3721,8.372,8.3731,8.3731,8.372,8.363999999999999,8.3346,8.3579,8.357999999999999,8.363999999999999,8.3636,8.3447,8.3447,8.3639,8.3346,8.3277,8.3272,8.3266,8.3261,8.3259,8.2922,8.2921,8.3,8.2924,8.2922,8.2888,8.2609,8.2598,8.2516,8.208,8.2019,8.22,8.2528,8.2893,8.2888,8.2884,8.2883,8.2928,8.2929,8.2983,8.3,8.3273,8.3447,8.3399,8.3447,8.3488,8.3488,8.3273,8.3273,8.2991,8.2922,8.292,8.2642,8.2642,8.2917,8.2914,8.2845,8.2909,8.2909,8.2894,8.2894,8.2636,8.2634,8.2376,8.2635,8.2899,8.264,8.2556,8.2431,8.269,8.236,8.2585,8.2466,8.2466,8.247,8.2884,8.2921,8.3086,8.3299,8.3299,8.3468,8.3328,8.3439,8.3101,8.32,8.3128,8.2823,8.263,8.2783,8.2981,8.2972,8.2972,8.2805,8.292,8.2891,8.289,8.28,8.2797,8.2791,8.2891,8.2889,8.2889,8.296,8.3221,8.3352,8.3352,8.3488,8.3644,8.3732,8.3902,8.3701,8.387,8.369,8.3902],\"low\":[8.53,8.5145,8.4848,8.4744,8.456,8.3999,8.38,8.38,8.38,8.3932,8.3794,8.3701,8.3573,8.4039,8.392000000000001,8.4,8.3919,8.35,8.3502,8.3501,8.35,8.35,8.35,8.35,8.3477,8.3477,8.3477,8.3477,8.3477,8.3477,8.3477,8.3477,8.3477,8.3477,8.3479,8.3479,8.33,8.33,8.32,8.307,8.32,8.32,8.3387,8.3039,8.3002,8.32,8.3283,8.3479,8.3501,8.3479,8.3479,8.3743,8.3479,8.3479,8.3479,8.3408,8.3203,8.246,8.2591,8.2697,8.3272,8.35,8.3272,8.2993,8.2695,8.3085,8.3271,8.3055,8.3,8.27,8.2599,8.2595,8.2,8.2923,8.2886,8.2887,8.2924,8.2927,8.3007,8.3519,8.3477,8.3594,8.3484,8.3485,8.3484,8.372,8.372,8.372,8.3731,8.372,8.3346,8.3404,8.3346,8.3447,8.3447,8.3447,8.3447,8.3447,8.3447,8.3346,8.3277,8.3,8.3269,8.3264,8.3,8.2922,8.2887,8.2713,8.2714,8.271,8.2711,8.2297,8.2251,8.2162,8.21,8.2,8.1305,8.2,8.202,8.2615,8.2888,8.2536,8.2819,8.2558,8.257,8.2572,8.258,8.2875,8.3274,8.3273,8.3274,8.3447,8.3273,8.3273,8.3272,8.2922,8.2571,8.2642,8.2642,8.2571,8.2641,8.2572,8.2845,8.2646,8.2572,8.257,8.2636,8.2312,8.2312,8.2234,8.2556,8.264,8.2556,8.2374,8.2431,8.2359,8.2235,8.2243,8.224,8.2466,8.247,8.2683,8.2884,8.292,8.29,8.29,8.2973,8.3048,8.3048,8.3,8.2947,8.2769,8.2683,8.263,8.27,8.2234,8.2805,8.2972,8.2804,8.292,8.2566,8.2877,8.2591,8.2282,8.2791,8.2818,8.2818,8.2791,8.2889,8.296,8.3034,8.3035,8.3351,8.35,8.372,8.36,8.36,8.3654,8.3601,8.3691],\"open\":[8.53,8.53,8.5065,8.5009,8.5007,8.456,8.4,8.38,8.3999,8.3932,8.3932,8.3821,8.3991,8.4559,8.4315,8.4297,8.404,8.4,8.3502,8.3699,8.3899,8.3832,8.35,8.3749,8.35,8.3499,8.3501,8.3737,8.3477,8.3733,8.3729,8.3478,8.3727,8.3478,8.3719,8.3479,8.36,8.3473,8.347000000000001,8.32,8.32,8.3408,8.34,8.3385,8.32,8.32,8.3283,8.36,8.3748,8.3748,8.3743,8.3743,8.3744,8.3743,8.3479,8.3723,8.3647,8.3203,8.3399,8.3558,8.3272,8.36,8.36,8.3326,8.3272,8.3085,8.3272,8.3055,8.3272,8.3,8.27,8.2595,8.3033,8.2931,8.2903,8.2887,8.2924,8.3072,8.3007,8.3519,8.3477,8.3594,8.3599,8.3888,8.3547,8.372,8.372,8.372,8.3731,8.372,8.372,8.363999999999999,8.3346,8.3579,8.3579,8.363999999999999,8.3447,8.3447,8.3447,8.3639,8.3346,8.3277,8.3272,8.3266,8.326,8.3259,8.2922,8.2921,8.2714,8.2726,8.2922,8.271,8.2609,8.2598,8.22,8.2019,8.2019,8.2019,8.22,8.2718,8.2888,8.2716,8.2883,8.2819,8.2929,8.282,8.2957,8.2875,8.3346,8.3274,8.3274,8.3447,8.3488,8.3273,8.3273,8.2957,8.2745,8.292,8.2642,8.2641,8.2641,8.2697,8.2845,8.2845,8.2909,8.2574,8.2827,8.2636,8.2312,8.2376,8.2557,8.2899,8.264,8.2556,8.2431,8.2493,8.2359,8.2585,8.2241,8.2466,8.247,8.2683,8.29,8.292,8.3107,8.29,8.2973,8.3051,8.3318,8.3018,8.3,8.2884,8.2823,8.263,8.2783,8.2575,8.2972,8.2972,8.2805,8.292,8.2566,8.2881,8.2591,8.2797,8.2791,8.2818,8.2889,8.2889,8.2889,8.296,8.3352,8.3351,8.3351,8.35,8.372,8.3732,8.36,8.3701,8.3654,8.3814],\"x\":[\"2018-01-01T00:01:00\",\"2018-01-01T00:02:00\",\"2018-01-01T00:03:00\",\"2018-01-01T00:04:00\",\"2018-01-01T00:05:00\",\"2018-01-01T00:06:00\",\"2018-01-01T00:07:00\",\"2018-01-01T00:08:00\",\"2018-01-01T00:09:00\",\"2018-01-01T00:10:00\",\"2018-01-01T00:11:00\",\"2018-01-01T00:12:00\",\"2018-01-01T00:13:00\",\"2018-01-01T00:14:00\",\"2018-01-01T00:15:00\",\"2018-01-01T00:16:00\",\"2018-01-01T00:17:00\",\"2018-01-01T00:18:00\",\"2018-01-01T00:19:00\",\"2018-01-01T00:20:00\",\"2018-01-01T00:21:00\",\"2018-01-01T00:22:00\",\"2018-01-01T00:23:00\",\"2018-01-01T00:24:00\",\"2018-01-01T00:25:00\",\"2018-01-01T00:26:00\",\"2018-01-01T00:27:00\",\"2018-01-01T00:28:00\",\"2018-01-01T00:29:00\",\"2018-01-01T00:30:00\",\"2018-01-01T00:31:00\",\"2018-01-01T00:32:00\",\"2018-01-01T00:33:00\",\"2018-01-01T00:34:00\",\"2018-01-01T00:35:00\",\"2018-01-01T00:36:00\",\"2018-01-01T00:37:00\",\"2018-01-01T00:38:00\",\"2018-01-01T00:39:00\",\"2018-01-01T00:40:00\",\"2018-01-01T00:41:00\",\"2018-01-01T00:42:00\",\"2018-01-01T00:43:00\",\"2018-01-01T00:44:00\",\"2018-01-01T00:45:00\",\"2018-01-01T00:46:00\",\"2018-01-01T00:47:00\",\"2018-01-01T00:48:00\",\"2018-01-01T00:49:00\",\"2018-01-01T00:50:00\",\"2018-01-01T00:51:00\",\"2018-01-01T00:52:00\",\"2018-01-01T00:53:00\",\"2018-01-01T00:54:00\",\"2018-01-01T00:55:00\",\"2018-01-01T00:56:00\",\"2018-01-01T00:57:00\",\"2018-01-01T00:58:00\",\"2018-01-01T00:59:00\",\"2018-01-01T01:00:00\",\"2018-01-01T01:01:00\",\"2018-01-01T01:02:00\",\"2018-01-01T01:03:00\",\"2018-01-01T01:04:00\",\"2018-01-01T01:05:00\",\"2018-01-01T01:06:00\",\"2018-01-01T01:07:00\",\"2018-01-01T01:08:00\",\"2018-01-01T01:09:00\",\"2018-01-01T01:10:00\",\"2018-01-01T01:11:00\",\"2018-01-01T01:12:00\",\"2018-01-01T01:13:00\",\"2018-01-01T01:14:00\",\"2018-01-01T01:15:00\",\"2018-01-01T01:16:00\",\"2018-01-01T01:17:00\",\"2018-01-01T01:18:00\",\"2018-01-01T01:19:00\",\"2018-01-01T01:21:00\",\"2018-01-01T01:22:00\",\"2018-01-01T01:23:00\",\"2018-01-01T01:24:00\",\"2018-01-01T01:25:00\",\"2018-01-01T01:26:00\",\"2018-01-01T01:27:00\",\"2018-01-01T01:28:00\",\"2018-01-01T01:29:00\",\"2018-01-01T01:30:00\",\"2018-01-01T01:31:00\",\"2018-01-01T01:32:00\",\"2018-01-01T01:33:00\",\"2018-01-01T01:34:00\",\"2018-01-01T01:35:00\",\"2018-01-01T01:36:00\",\"2018-01-01T01:37:00\",\"2018-01-01T01:38:00\",\"2018-01-01T01:39:00\",\"2018-01-01T01:40:00\",\"2018-01-01T01:41:00\",\"2018-01-01T01:42:00\",\"2018-01-01T01:43:00\",\"2018-01-01T01:44:00\",\"2018-01-01T01:45:00\",\"2018-01-01T01:46:00\",\"2018-01-01T01:47:00\",\"2018-01-01T01:48:00\",\"2018-01-01T01:49:00\",\"2018-01-01T01:50:00\",\"2018-01-01T01:51:00\",\"2018-01-01T01:52:00\",\"2018-01-01T01:53:00\",\"2018-01-01T01:54:00\",\"2018-01-01T01:55:00\",\"2018-01-01T01:56:00\",\"2018-01-01T01:57:00\",\"2018-01-01T01:58:00\",\"2018-01-01T01:59:00\",\"2018-01-01T02:00:00\",\"2018-01-01T02:01:00\",\"2018-01-01T02:02:00\",\"2018-01-01T02:04:00\",\"2018-01-01T02:05:00\",\"2018-01-01T02:06:00\",\"2018-01-01T02:07:00\",\"2018-01-01T02:08:00\",\"2018-01-01T02:09:00\",\"2018-01-01T02:10:00\",\"2018-01-01T02:11:00\",\"2018-01-01T02:12:00\",\"2018-01-01T02:13:00\",\"2018-01-01T02:14:00\",\"2018-01-01T02:15:00\",\"2018-01-01T02:16:00\",\"2018-01-01T02:17:00\",\"2018-01-01T02:18:00\",\"2018-01-01T02:19:00\",\"2018-01-01T02:20:00\",\"2018-01-01T02:21:00\",\"2018-01-01T02:22:00\",\"2018-01-01T02:23:00\",\"2018-01-01T02:24:00\",\"2018-01-01T02:25:00\",\"2018-01-01T02:26:00\",\"2018-01-01T02:27:00\",\"2018-01-01T02:28:00\",\"2018-01-01T02:29:00\",\"2018-01-01T02:30:00\",\"2018-01-01T02:31:00\",\"2018-01-01T02:32:00\",\"2018-01-01T02:33:00\",\"2018-01-01T02:34:00\",\"2018-01-01T02:35:00\",\"2018-01-01T02:36:00\",\"2018-01-01T02:37:00\",\"2018-01-01T02:38:00\",\"2018-01-01T02:39:00\",\"2018-01-01T02:40:00\",\"2018-01-01T02:41:00\",\"2018-01-01T02:42:00\",\"2018-01-01T02:43:00\",\"2018-01-01T02:44:00\",\"2018-01-01T02:45:00\",\"2018-01-01T02:46:00\",\"2018-01-01T02:47:00\",\"2018-01-01T02:48:00\",\"2018-01-01T02:49:00\",\"2018-01-01T02:51:00\",\"2018-01-01T02:52:00\",\"2018-01-01T02:53:00\",\"2018-01-01T02:54:00\",\"2018-01-01T02:55:00\",\"2018-01-01T02:56:00\",\"2018-01-01T02:57:00\",\"2018-01-01T02:58:00\",\"2018-01-01T02:59:00\",\"2018-01-01T03:00:00\",\"2018-01-01T03:01:00\",\"2018-01-01T03:02:00\",\"2018-01-01T03:03:00\",\"2018-01-01T03:04:00\",\"2018-01-01T03:05:00\",\"2018-01-01T03:06:00\",\"2018-01-01T03:07:00\",\"2018-01-01T03:08:00\",\"2018-01-01T03:09:00\",\"2018-01-01T03:10:00\",\"2018-01-01T03:11:00\",\"2018-01-01T03:12:00\",\"2018-01-01T03:13:00\",\"2018-01-01T03:14:00\",\"2018-01-01T03:15:00\",\"2018-01-01T03:16:00\",\"2018-01-01T03:17:00\",\"2018-01-01T03:18:00\",\"2018-01-01T03:19:00\",\"2018-01-01T03:20:00\",\"2018-01-01T03:21:00\",\"2018-01-01T03:22:00\",\"2018-01-01T03:23:00\"],\"type\":\"ohlc\"}],                        {\"template\":{\"data\":{\"barpolar\":[{\"marker\":{\"line\":{\"color\":\"white\",\"width\":0.5},\"pattern\":{\"fillmode\":\"overlay\",\"size\":10,\"solidity\":0.2}},\"type\":\"barpolar\"}],\"bar\":[{\"error_x\":{\"color\":\"#2a3f5f\"},\"error_y\":{\"color\":\"#2a3f5f\"},\"marker\":{\"line\":{\"color\":\"white\",\"width\":0.5},\"pattern\":{\"fillmode\":\"overlay\",\"size\":10,\"solidity\":0.2}},\"type\":\"bar\"}],\"carpet\":[{\"aaxis\":{\"endlinecolor\":\"#2a3f5f\",\"gridcolor\":\"#C8D4E3\",\"linecolor\":\"#C8D4E3\",\"minorgridcolor\":\"#C8D4E3\",\"startlinecolor\":\"#2a3f5f\"},\"baxis\":{\"endlinecolor\":\"#2a3f5f\",\"gridcolor\":\"#C8D4E3\",\"linecolor\":\"#C8D4E3\",\"minorgridcolor\":\"#C8D4E3\",\"startlinecolor\":\"#2a3f5f\"},\"type\":\"carpet\"}],\"choropleth\":[{\"colorbar\":{\"outlinewidth\":0,\"ticks\":\"\"},\"type\":\"choropleth\"}],\"contourcarpet\":[{\"colorbar\":{\"outlinewidth\":0,\"ticks\":\"\"},\"type\":\"contourcarpet\"}],\"contour\":[{\"colorbar\":{\"outlinewidth\":0,\"ticks\":\"\"},\"colorscale\":[[0.0,\"#0d0887\"],[0.1111111111111111,\"#46039f\"],[0.2222222222222222,\"#7201a8\"],[0.3333333333333333,\"#9c179e\"],[0.4444444444444444,\"#bd3786\"],[0.5555555555555556,\"#d8576b\"],[0.6666666666666666,\"#ed7953\"],[0.7777777777777778,\"#fb9f3a\"],[0.8888888888888888,\"#fdca26\"],[1.0,\"#f0f921\"]],\"type\":\"contour\"}],\"heatmapgl\":[{\"colorbar\":{\"outlinewidth\":0,\"ticks\":\"\"},\"colorscale\":[[0.0,\"#0d0887\"],[0.1111111111111111,\"#46039f\"],[0.2222222222222222,\"#7201a8\"],[0.3333333333333333,\"#9c179e\"],[0.4444444444444444,\"#bd3786\"],[0.5555555555555556,\"#d8576b\"],[0.6666666666666666,\"#ed7953\"],[0.7777777777777778,\"#fb9f3a\"],[0.8888888888888888,\"#fdca26\"],[1.0,\"#f0f921\"]],\"type\":\"heatmapgl\"}],\"heatmap\":[{\"colorbar\":{\"outlinewidth\":0,\"ticks\":\"\"},\"colorscale\":[[0.0,\"#0d0887\"],[0.1111111111111111,\"#46039f\"],[0.2222222222222222,\"#7201a8\"],[0.3333333333333333,\"#9c179e\"],[0.4444444444444444,\"#bd3786\"],[0.5555555555555556,\"#d8576b\"],[0.6666666666666666,\"#ed7953\"],[0.7777777777777778,\"#fb9f3a\"],[0.8888888888888888,\"#fdca26\"],[1.0,\"#f0f921\"]],\"type\":\"heatmap\"}],\"histogram2dcontour\":[{\"colorbar\":{\"outlinewidth\":0,\"ticks\":\"\"},\"colorscale\":[[0.0,\"#0d0887\"],[0.1111111111111111,\"#46039f\"],[0.2222222222222222,\"#7201a8\"],[0.3333333333333333,\"#9c179e\"],[0.4444444444444444,\"#bd3786\"],[0.5555555555555556,\"#d8576b\"],[0.6666666666666666,\"#ed7953\"],[0.7777777777777778,\"#fb9f3a\"],[0.8888888888888888,\"#fdca26\"],[1.0,\"#f0f921\"]],\"type\":\"histogram2dcontour\"}],\"histogram2d\":[{\"colorbar\":{\"outlinewidth\":0,\"ticks\":\"\"},\"colorscale\":[[0.0,\"#0d0887\"],[0.1111111111111111,\"#46039f\"],[0.2222222222222222,\"#7201a8\"],[0.3333333333333333,\"#9c179e\"],[0.4444444444444444,\"#bd3786\"],[0.5555555555555556,\"#d8576b\"],[0.6666666666666666,\"#ed7953\"],[0.7777777777777778,\"#fb9f3a\"],[0.8888888888888888,\"#fdca26\"],[1.0,\"#f0f921\"]],\"type\":\"histogram2d\"}],\"histogram\":[{\"marker\":{\"pattern\":{\"fillmode\":\"overlay\",\"size\":10,\"solidity\":0.2}},\"type\":\"histogram\"}],\"mesh3d\":[{\"colorbar\":{\"outlinewidth\":0,\"ticks\":\"\"},\"type\":\"mesh3d\"}],\"parcoords\":[{\"line\":{\"colorbar\":{\"outlinewidth\":0,\"ticks\":\"\"}},\"type\":\"parcoords\"}],\"pie\":[{\"automargin\":true,\"type\":\"pie\"}],\"scatter3d\":[{\"line\":{\"colorbar\":{\"outlinewidth\":0,\"ticks\":\"\"}},\"marker\":{\"colorbar\":{\"outlinewidth\":0,\"ticks\":\"\"}},\"type\":\"scatter3d\"}],\"scattercarpet\":[{\"marker\":{\"colorbar\":{\"outlinewidth\":0,\"ticks\":\"\"}},\"type\":\"scattercarpet\"}],\"scattergeo\":[{\"marker\":{\"colorbar\":{\"outlinewidth\":0,\"ticks\":\"\"}},\"type\":\"scattergeo\"}],\"scattergl\":[{\"marker\":{\"colorbar\":{\"outlinewidth\":0,\"ticks\":\"\"}},\"type\":\"scattergl\"}],\"scattermapbox\":[{\"marker\":{\"colorbar\":{\"outlinewidth\":0,\"ticks\":\"\"}},\"type\":\"scattermapbox\"}],\"scatterpolargl\":[{\"marker\":{\"colorbar\":{\"outlinewidth\":0,\"ticks\":\"\"}},\"type\":\"scatterpolargl\"}],\"scatterpolar\":[{\"marker\":{\"colorbar\":{\"outlinewidth\":0,\"ticks\":\"\"}},\"type\":\"scatterpolar\"}],\"scatter\":[{\"marker\":{\"colorbar\":{\"outlinewidth\":0,\"ticks\":\"\"}},\"type\":\"scatter\"}],\"scatterternary\":[{\"marker\":{\"colorbar\":{\"outlinewidth\":0,\"ticks\":\"\"}},\"type\":\"scatterternary\"}],\"surface\":[{\"colorbar\":{\"outlinewidth\":0,\"ticks\":\"\"},\"colorscale\":[[0.0,\"#0d0887\"],[0.1111111111111111,\"#46039f\"],[0.2222222222222222,\"#7201a8\"],[0.3333333333333333,\"#9c179e\"],[0.4444444444444444,\"#bd3786\"],[0.5555555555555556,\"#d8576b\"],[0.6666666666666666,\"#ed7953\"],[0.7777777777777778,\"#fb9f3a\"],[0.8888888888888888,\"#fdca26\"],[1.0,\"#f0f921\"]],\"type\":\"surface\"}],\"table\":[{\"cells\":{\"fill\":{\"color\":\"#EBF0F8\"},\"line\":{\"color\":\"white\"}},\"header\":{\"fill\":{\"color\":\"#C8D4E3\"},\"line\":{\"color\":\"white\"}},\"type\":\"table\"}]},\"layout\":{\"annotationdefaults\":{\"arrowcolor\":\"#2a3f5f\",\"arrowhead\":0,\"arrowwidth\":1},\"autotypenumbers\":\"strict\",\"coloraxis\":{\"colorbar\":{\"outlinewidth\":0,\"ticks\":\"\"}},\"colorscale\":{\"diverging\":[[0,\"#8e0152\"],[0.1,\"#c51b7d\"],[0.2,\"#de77ae\"],[0.3,\"#f1b6da\"],[0.4,\"#fde0ef\"],[0.5,\"#f7f7f7\"],[0.6,\"#e6f5d0\"],[0.7,\"#b8e186\"],[0.8,\"#7fbc41\"],[0.9,\"#4d9221\"],[1,\"#276419\"]],\"sequential\":[[0.0,\"#0d0887\"],[0.1111111111111111,\"#46039f\"],[0.2222222222222222,\"#7201a8\"],[0.3333333333333333,\"#9c179e\"],[0.4444444444444444,\"#bd3786\"],[0.5555555555555556,\"#d8576b\"],[0.6666666666666666,\"#ed7953\"],[0.7777777777777778,\"#fb9f3a\"],[0.8888888888888888,\"#fdca26\"],[1.0,\"#f0f921\"]],\"sequentialminus\":[[0.0,\"#0d0887\"],[0.1111111111111111,\"#46039f\"],[0.2222222222222222,\"#7201a8\"],[0.3333333333333333,\"#9c179e\"],[0.4444444444444444,\"#bd3786\"],[0.5555555555555556,\"#d8576b\"],[0.6666666666666666,\"#ed7953\"],[0.7777777777777778,\"#fb9f3a\"],[0.8888888888888888,\"#fdca26\"],[1.0,\"#f0f921\"]]},\"colorway\":[\"#636efa\",\"#EF553B\",\"#00cc96\",\"#ab63fa\",\"#FFA15A\",\"#19d3f3\",\"#FF6692\",\"#B6E880\",\"#FF97FF\",\"#FECB52\"],\"font\":{\"color\":\"#2a3f5f\"},\"geo\":{\"bgcolor\":\"white\",\"lakecolor\":\"white\",\"landcolor\":\"white\",\"showlakes\":true,\"showland\":true,\"subunitcolor\":\"#C8D4E3\"},\"hoverlabel\":{\"align\":\"left\"},\"hovermode\":\"closest\",\"mapbox\":{\"style\":\"light\"},\"paper_bgcolor\":\"white\",\"plot_bgcolor\":\"white\",\"polar\":{\"angularaxis\":{\"gridcolor\":\"#EBF0F8\",\"linecolor\":\"#EBF0F8\",\"ticks\":\"\"},\"bgcolor\":\"white\",\"radialaxis\":{\"gridcolor\":\"#EBF0F8\",\"linecolor\":\"#EBF0F8\",\"ticks\":\"\"}},\"scene\":{\"xaxis\":{\"backgroundcolor\":\"white\",\"gridcolor\":\"#DFE8F3\",\"gridwidth\":2,\"linecolor\":\"#EBF0F8\",\"showbackground\":true,\"ticks\":\"\",\"zerolinecolor\":\"#EBF0F8\"},\"yaxis\":{\"backgroundcolor\":\"white\",\"gridcolor\":\"#DFE8F3\",\"gridwidth\":2,\"linecolor\":\"#EBF0F8\",\"showbackground\":true,\"ticks\":\"\",\"zerolinecolor\":\"#EBF0F8\"},\"zaxis\":{\"backgroundcolor\":\"white\",\"gridcolor\":\"#DFE8F3\",\"gridwidth\":2,\"linecolor\":\"#EBF0F8\",\"showbackground\":true,\"ticks\":\"\",\"zerolinecolor\":\"#EBF0F8\"}},\"shapedefaults\":{\"line\":{\"color\":\"#2a3f5f\"}},\"ternary\":{\"aaxis\":{\"gridcolor\":\"#DFE8F3\",\"linecolor\":\"#A2B1C6\",\"ticks\":\"\"},\"baxis\":{\"gridcolor\":\"#DFE8F3\",\"linecolor\":\"#A2B1C6\",\"ticks\":\"\"},\"bgcolor\":\"white\",\"caxis\":{\"gridcolor\":\"#DFE8F3\",\"linecolor\":\"#A2B1C6\",\"ticks\":\"\"}},\"title\":{\"x\":0.05},\"xaxis\":{\"automargin\":true,\"gridcolor\":\"#EBF0F8\",\"linecolor\":\"#EBF0F8\",\"ticks\":\"\",\"title\":{\"standoff\":15},\"zerolinecolor\":\"#EBF0F8\",\"zerolinewidth\":2},\"yaxis\":{\"automargin\":true,\"gridcolor\":\"#EBF0F8\",\"linecolor\":\"#EBF0F8\",\"ticks\":\"\",\"title\":{\"standoff\":15},\"zerolinecolor\":\"#EBF0F8\",\"zerolinewidth\":2}}},\"xaxis\":{\"title\":{\"text\":\"Time\"},\"rangeslider\":{\"visible\":true}},\"title\":{\"text\":\"Binance Coin OHLC Chart\",\"y\":0.9,\"x\":0.5,\"xanchor\":\"center\",\"yanchor\":\"top\"},\"yaxis\":{\"title\":{\"text\":\"Price in USD\"},\"ticksuffix\":\"$\"}},                        {\"responsive\": true}                    ).then(function(){\n",
              "                            \n",
              "var gd = document.getElementById('836443db-2971-4157-81e7-313d3814787c');\n",
              "var x = new MutationObserver(function (mutations, observer) {{\n",
              "        var display = window.getComputedStyle(gd).display;\n",
              "        if (!display || display === 'none') {{\n",
              "            console.log([gd, 'removed!']);\n",
              "            Plotly.purge(gd);\n",
              "            observer.disconnect();\n",
              "        }}\n",
              "}});\n",
              "\n",
              "// Listen for the removal of the full notebook cells\n",
              "var notebookContainer = gd.closest('#notebook-container');\n",
              "if (notebookContainer) {{\n",
              "    x.observe(notebookContainer, {childList: true});\n",
              "}}\n",
              "\n",
              "// Listen for the clearing of the current output cell\n",
              "var outputEl = gd.closest('.output');\n",
              "if (outputEl) {{\n",
              "    x.observe(outputEl, {childList: true});\n",
              "}}\n",
              "\n",
              "                        })                };                            </script>        </div>\n",
              "</body>\n",
              "</html>"
            ]
          },
          "metadata": {}
        }
      ]
    },
    {
      "cell_type": "markdown",
      "source": [
        "### Monero OHLC Chart for first 150 rows"
      ],
      "metadata": {
        "id": "TCpaq9ZXQlUa"
      }
    },
    {
      "cell_type": "code",
      "source": [
        "ohlc_chart(mon[:150], title = \"Monero\")"
      ],
      "metadata": {
        "id": "cadlZ9npQW6R"
      },
      "execution_count": null,
      "outputs": []
    },
    {
      "cell_type": "markdown",
      "source": [
        "### Dogecoin OHLC Chart for first 300 rows"
      ],
      "metadata": {
        "id": "n2MjapzERMjp"
      }
    },
    {
      "cell_type": "code",
      "source": [
        "ohlc_chart(dog[:200], title = \"Dogecoin\")"
      ],
      "metadata": {
        "id": "t-OYaWtFQX9R"
      },
      "execution_count": null,
      "outputs": []
    },
    {
      "cell_type": "markdown",
      "source": [
        "### Binance Coin OHLC Chart for first 200 rows"
      ],
      "metadata": {
        "id": "ZWgaKrWcRRiK"
      }
    },
    {
      "cell_type": "code",
      "source": [
        "ohlc_chart(bin[:200], title = \"Binance Coin\")"
      ],
      "metadata": {
        "id": "3-PGmM5zQZx6"
      },
      "execution_count": null,
      "outputs": []
    },
    {
      "cell_type": "markdown",
      "source": [
        "# <center>AREA PLOTS</center> "
      ],
      "metadata": {
        "id": "Kt-MEPktA99y"
      }
    },
    {
      "cell_type": "code",
      "source": [
        "def vol_traded(data ,title,color):\n",
        "    area = px.area(data_frame=data,\n",
        "               x = data.index ,\n",
        "               y = \"Volume\",\n",
        "               markers = True)\n",
        "    area.update_traces(line_color=color)\n",
        "    area.update_xaxes(\n",
        "        title_text = 'Time',\n",
        "        rangeslider_visible = True)\n",
        "    area.update_yaxes(title_text = 'Number of trades every minute')\n",
        "    area.update_layout(showlegend = True,\n",
        "        title = {\n",
        "            'text': '{:} Volume Traded'.format(title),\n",
        "            'y':0.94,\n",
        "            'x':0.5,\n",
        "            'xanchor': 'center',\n",
        "            'yanchor': 'top'},\n",
        "        template=\"plotly_white\")\n",
        "    return area"
      ],
      "metadata": {
        "_kg_hide-input": true,
        "execution": {
          "iopub.status.busy": "2022-01-29T17:45:10.832875Z",
          "iopub.execute_input": "2022-01-29T17:45:10.833150Z",
          "iopub.status.idle": "2022-01-29T17:45:10.839970Z",
          "shell.execute_reply.started": "2022-01-29T17:45:10.833122Z",
          "shell.execute_reply": "2022-01-29T17:45:10.839115Z"
        },
        "trusted": true,
        "id": "5LtbIwuMA990"
      },
      "execution_count": null,
      "outputs": []
    },
    {
      "cell_type": "markdown",
      "source": [
        "### Ethereum(ETH) Volume Traded for last 50 rows"
      ],
      "metadata": {
        "id": "FsOWnyeMA990"
      }
    },
    {
      "cell_type": "code",
      "source": [
        "vol_traded(eth[-50:], \"Ethereum (ETH)\",color = \"Red\")"
      ],
      "metadata": {
        "_kg_hide-input": true,
        "execution": {
          "iopub.status.busy": "2022-01-29T17:45:17.951272Z",
          "iopub.execute_input": "2022-01-29T17:45:17.951623Z",
          "iopub.status.idle": "2022-01-29T17:45:18.064985Z",
          "shell.execute_reply.started": "2022-01-29T17:45:17.951561Z",
          "shell.execute_reply": "2022-01-29T17:45:18.064162Z"
        },
        "trusted": true,
        "colab": {
          "base_uri": "https://localhost:8080/",
          "height": 542
        },
        "id": "Rh4-V4IuA991",
        "outputId": "0d584e2d-a31a-4903-971c-177ddabc2a27"
      },
      "execution_count": null,
      "outputs": [
        {
          "output_type": "display_data",
          "data": {
            "text/html": [
              "<html>\n",
              "<head><meta charset=\"utf-8\" /></head>\n",
              "<body>\n",
              "    <div>            <script src=\"https://cdnjs.cloudflare.com/ajax/libs/mathjax/2.7.5/MathJax.js?config=TeX-AMS-MML_SVG\"></script><script type=\"text/javascript\">if (window.MathJax) {MathJax.Hub.Config({SVG: {font: \"STIX-Web\"}});}</script>                <script type=\"text/javascript\">window.PlotlyConfig = {MathJaxConfig: 'local'};</script>\n",
              "        <script src=\"https://cdn.plot.ly/plotly-2.8.3.min.js\"></script>                <div id=\"abe6e9e3-ab10-453d-ad22-376caf218288\" class=\"plotly-graph-div\" style=\"height:525px; width:100%;\"></div>            <script type=\"text/javascript\">                                    window.PLOTLYENV=window.PLOTLYENV || {};                                    if (document.getElementById(\"abe6e9e3-ab10-453d-ad22-376caf218288\")) {                    Plotly.newPlot(                        \"abe6e9e3-ab10-453d-ad22-376caf218288\",                        [{\"hovertemplate\":\"timestamp=%{x}<br>Volume=%{y}<extra></extra>\",\"legendgroup\":\"\",\"line\":{\"color\":\"Red\"},\"marker\":{\"symbol\":\"circle\"},\"mode\":\"lines+markers\",\"name\":\"\",\"orientation\":\"v\",\"showlegend\":false,\"stackgroup\":\"1\",\"x\":[\"2021-09-20T23:11:00\",\"2021-09-20T23:12:00\",\"2021-09-20T23:13:00\",\"2021-09-20T23:14:00\",\"2021-09-20T23:15:00\",\"2021-09-20T23:16:00\",\"2021-09-20T23:17:00\",\"2021-09-20T23:18:00\",\"2021-09-20T23:19:00\",\"2021-09-20T23:20:00\",\"2021-09-20T23:21:00\",\"2021-09-20T23:22:00\",\"2021-09-20T23:23:00\",\"2021-09-20T23:24:00\",\"2021-09-20T23:25:00\",\"2021-09-20T23:26:00\",\"2021-09-20T23:27:00\",\"2021-09-20T23:28:00\",\"2021-09-20T23:29:00\",\"2021-09-20T23:30:00\",\"2021-09-20T23:31:00\",\"2021-09-20T23:32:00\",\"2021-09-20T23:33:00\",\"2021-09-20T23:34:00\",\"2021-09-20T23:35:00\",\"2021-09-20T23:36:00\",\"2021-09-20T23:37:00\",\"2021-09-20T23:38:00\",\"2021-09-20T23:39:00\",\"2021-09-20T23:40:00\",\"2021-09-20T23:41:00\",\"2021-09-20T23:42:00\",\"2021-09-20T23:43:00\",\"2021-09-20T23:44:00\",\"2021-09-20T23:45:00\",\"2021-09-20T23:46:00\",\"2021-09-20T23:47:00\",\"2021-09-20T23:48:00\",\"2021-09-20T23:49:00\",\"2021-09-20T23:50:00\",\"2021-09-20T23:51:00\",\"2021-09-20T23:52:00\",\"2021-09-20T23:53:00\",\"2021-09-20T23:54:00\",\"2021-09-20T23:55:00\",\"2021-09-20T23:56:00\",\"2021-09-20T23:57:00\",\"2021-09-20T23:58:00\",\"2021-09-20T23:59:00\",\"2021-09-21T00:00:00\"],\"xaxis\":\"x\",\"y\":[2272.5596013462673,2332.067304385693,1640.8717429189646,2089.034180303053,1502.8608435270996,1298.3827784208695,1447.6415681258004,953.7171458342293,814.0497187953184,742.5661065713181,1750.855043047854,1686.412036820315,3309.7972289180816,1694.160476310738,2400.2065711950995,1883.5628854540728,1641.910235712105,1689.1885418156312,1253.8069793978582,3042.072736878426,1743.072589310844,2633.631954149645,3032.5371312279995,2290.2316100094117,1967.1290651830163,1452.6837534896786,870.599076894354,957.0700367990623,1021.9135279622501,717.6168631949298,776.638910924822,976.7249949179726,674.08797346884,738.2909066057988,1039.8198020759785,988.4953831303565,543.6374166495217,616.7354694331458,1157.4381957022854,1909.66606562536,1214.4500278385106,897.9108758963063,627.4366279555973,652.4299451623929,847.132620073185,751.2569064168766,729.1136723663451,807.9353619467278,1723.4739793871258,1204.8257101701554],\"yaxis\":\"y\",\"type\":\"scatter\"}],                        {\"template\":{\"data\":{\"barpolar\":[{\"marker\":{\"line\":{\"color\":\"white\",\"width\":0.5},\"pattern\":{\"fillmode\":\"overlay\",\"size\":10,\"solidity\":0.2}},\"type\":\"barpolar\"}],\"bar\":[{\"error_x\":{\"color\":\"#2a3f5f\"},\"error_y\":{\"color\":\"#2a3f5f\"},\"marker\":{\"line\":{\"color\":\"white\",\"width\":0.5},\"pattern\":{\"fillmode\":\"overlay\",\"size\":10,\"solidity\":0.2}},\"type\":\"bar\"}],\"carpet\":[{\"aaxis\":{\"endlinecolor\":\"#2a3f5f\",\"gridcolor\":\"#C8D4E3\",\"linecolor\":\"#C8D4E3\",\"minorgridcolor\":\"#C8D4E3\",\"startlinecolor\":\"#2a3f5f\"},\"baxis\":{\"endlinecolor\":\"#2a3f5f\",\"gridcolor\":\"#C8D4E3\",\"linecolor\":\"#C8D4E3\",\"minorgridcolor\":\"#C8D4E3\",\"startlinecolor\":\"#2a3f5f\"},\"type\":\"carpet\"}],\"choropleth\":[{\"colorbar\":{\"outlinewidth\":0,\"ticks\":\"\"},\"type\":\"choropleth\"}],\"contourcarpet\":[{\"colorbar\":{\"outlinewidth\":0,\"ticks\":\"\"},\"type\":\"contourcarpet\"}],\"contour\":[{\"colorbar\":{\"outlinewidth\":0,\"ticks\":\"\"},\"colorscale\":[[0.0,\"#0d0887\"],[0.1111111111111111,\"#46039f\"],[0.2222222222222222,\"#7201a8\"],[0.3333333333333333,\"#9c179e\"],[0.4444444444444444,\"#bd3786\"],[0.5555555555555556,\"#d8576b\"],[0.6666666666666666,\"#ed7953\"],[0.7777777777777778,\"#fb9f3a\"],[0.8888888888888888,\"#fdca26\"],[1.0,\"#f0f921\"]],\"type\":\"contour\"}],\"heatmapgl\":[{\"colorbar\":{\"outlinewidth\":0,\"ticks\":\"\"},\"colorscale\":[[0.0,\"#0d0887\"],[0.1111111111111111,\"#46039f\"],[0.2222222222222222,\"#7201a8\"],[0.3333333333333333,\"#9c179e\"],[0.4444444444444444,\"#bd3786\"],[0.5555555555555556,\"#d8576b\"],[0.6666666666666666,\"#ed7953\"],[0.7777777777777778,\"#fb9f3a\"],[0.8888888888888888,\"#fdca26\"],[1.0,\"#f0f921\"]],\"type\":\"heatmapgl\"}],\"heatmap\":[{\"colorbar\":{\"outlinewidth\":0,\"ticks\":\"\"},\"colorscale\":[[0.0,\"#0d0887\"],[0.1111111111111111,\"#46039f\"],[0.2222222222222222,\"#7201a8\"],[0.3333333333333333,\"#9c179e\"],[0.4444444444444444,\"#bd3786\"],[0.5555555555555556,\"#d8576b\"],[0.6666666666666666,\"#ed7953\"],[0.7777777777777778,\"#fb9f3a\"],[0.8888888888888888,\"#fdca26\"],[1.0,\"#f0f921\"]],\"type\":\"heatmap\"}],\"histogram2dcontour\":[{\"colorbar\":{\"outlinewidth\":0,\"ticks\":\"\"},\"colorscale\":[[0.0,\"#0d0887\"],[0.1111111111111111,\"#46039f\"],[0.2222222222222222,\"#7201a8\"],[0.3333333333333333,\"#9c179e\"],[0.4444444444444444,\"#bd3786\"],[0.5555555555555556,\"#d8576b\"],[0.6666666666666666,\"#ed7953\"],[0.7777777777777778,\"#fb9f3a\"],[0.8888888888888888,\"#fdca26\"],[1.0,\"#f0f921\"]],\"type\":\"histogram2dcontour\"}],\"histogram2d\":[{\"colorbar\":{\"outlinewidth\":0,\"ticks\":\"\"},\"colorscale\":[[0.0,\"#0d0887\"],[0.1111111111111111,\"#46039f\"],[0.2222222222222222,\"#7201a8\"],[0.3333333333333333,\"#9c179e\"],[0.4444444444444444,\"#bd3786\"],[0.5555555555555556,\"#d8576b\"],[0.6666666666666666,\"#ed7953\"],[0.7777777777777778,\"#fb9f3a\"],[0.8888888888888888,\"#fdca26\"],[1.0,\"#f0f921\"]],\"type\":\"histogram2d\"}],\"histogram\":[{\"marker\":{\"pattern\":{\"fillmode\":\"overlay\",\"size\":10,\"solidity\":0.2}},\"type\":\"histogram\"}],\"mesh3d\":[{\"colorbar\":{\"outlinewidth\":0,\"ticks\":\"\"},\"type\":\"mesh3d\"}],\"parcoords\":[{\"line\":{\"colorbar\":{\"outlinewidth\":0,\"ticks\":\"\"}},\"type\":\"parcoords\"}],\"pie\":[{\"automargin\":true,\"type\":\"pie\"}],\"scatter3d\":[{\"line\":{\"colorbar\":{\"outlinewidth\":0,\"ticks\":\"\"}},\"marker\":{\"colorbar\":{\"outlinewidth\":0,\"ticks\":\"\"}},\"type\":\"scatter3d\"}],\"scattercarpet\":[{\"marker\":{\"colorbar\":{\"outlinewidth\":0,\"ticks\":\"\"}},\"type\":\"scattercarpet\"}],\"scattergeo\":[{\"marker\":{\"colorbar\":{\"outlinewidth\":0,\"ticks\":\"\"}},\"type\":\"scattergeo\"}],\"scattergl\":[{\"marker\":{\"colorbar\":{\"outlinewidth\":0,\"ticks\":\"\"}},\"type\":\"scattergl\"}],\"scattermapbox\":[{\"marker\":{\"colorbar\":{\"outlinewidth\":0,\"ticks\":\"\"}},\"type\":\"scattermapbox\"}],\"scatterpolargl\":[{\"marker\":{\"colorbar\":{\"outlinewidth\":0,\"ticks\":\"\"}},\"type\":\"scatterpolargl\"}],\"scatterpolar\":[{\"marker\":{\"colorbar\":{\"outlinewidth\":0,\"ticks\":\"\"}},\"type\":\"scatterpolar\"}],\"scatter\":[{\"marker\":{\"colorbar\":{\"outlinewidth\":0,\"ticks\":\"\"}},\"type\":\"scatter\"}],\"scatterternary\":[{\"marker\":{\"colorbar\":{\"outlinewidth\":0,\"ticks\":\"\"}},\"type\":\"scatterternary\"}],\"surface\":[{\"colorbar\":{\"outlinewidth\":0,\"ticks\":\"\"},\"colorscale\":[[0.0,\"#0d0887\"],[0.1111111111111111,\"#46039f\"],[0.2222222222222222,\"#7201a8\"],[0.3333333333333333,\"#9c179e\"],[0.4444444444444444,\"#bd3786\"],[0.5555555555555556,\"#d8576b\"],[0.6666666666666666,\"#ed7953\"],[0.7777777777777778,\"#fb9f3a\"],[0.8888888888888888,\"#fdca26\"],[1.0,\"#f0f921\"]],\"type\":\"surface\"}],\"table\":[{\"cells\":{\"fill\":{\"color\":\"#EBF0F8\"},\"line\":{\"color\":\"white\"}},\"header\":{\"fill\":{\"color\":\"#C8D4E3\"},\"line\":{\"color\":\"white\"}},\"type\":\"table\"}]},\"layout\":{\"annotationdefaults\":{\"arrowcolor\":\"#2a3f5f\",\"arrowhead\":0,\"arrowwidth\":1},\"autotypenumbers\":\"strict\",\"coloraxis\":{\"colorbar\":{\"outlinewidth\":0,\"ticks\":\"\"}},\"colorscale\":{\"diverging\":[[0,\"#8e0152\"],[0.1,\"#c51b7d\"],[0.2,\"#de77ae\"],[0.3,\"#f1b6da\"],[0.4,\"#fde0ef\"],[0.5,\"#f7f7f7\"],[0.6,\"#e6f5d0\"],[0.7,\"#b8e186\"],[0.8,\"#7fbc41\"],[0.9,\"#4d9221\"],[1,\"#276419\"]],\"sequential\":[[0.0,\"#0d0887\"],[0.1111111111111111,\"#46039f\"],[0.2222222222222222,\"#7201a8\"],[0.3333333333333333,\"#9c179e\"],[0.4444444444444444,\"#bd3786\"],[0.5555555555555556,\"#d8576b\"],[0.6666666666666666,\"#ed7953\"],[0.7777777777777778,\"#fb9f3a\"],[0.8888888888888888,\"#fdca26\"],[1.0,\"#f0f921\"]],\"sequentialminus\":[[0.0,\"#0d0887\"],[0.1111111111111111,\"#46039f\"],[0.2222222222222222,\"#7201a8\"],[0.3333333333333333,\"#9c179e\"],[0.4444444444444444,\"#bd3786\"],[0.5555555555555556,\"#d8576b\"],[0.6666666666666666,\"#ed7953\"],[0.7777777777777778,\"#fb9f3a\"],[0.8888888888888888,\"#fdca26\"],[1.0,\"#f0f921\"]]},\"colorway\":[\"#636efa\",\"#EF553B\",\"#00cc96\",\"#ab63fa\",\"#FFA15A\",\"#19d3f3\",\"#FF6692\",\"#B6E880\",\"#FF97FF\",\"#FECB52\"],\"font\":{\"color\":\"#2a3f5f\"},\"geo\":{\"bgcolor\":\"white\",\"lakecolor\":\"white\",\"landcolor\":\"white\",\"showlakes\":true,\"showland\":true,\"subunitcolor\":\"#C8D4E3\"},\"hoverlabel\":{\"align\":\"left\"},\"hovermode\":\"closest\",\"mapbox\":{\"style\":\"light\"},\"paper_bgcolor\":\"white\",\"plot_bgcolor\":\"white\",\"polar\":{\"angularaxis\":{\"gridcolor\":\"#EBF0F8\",\"linecolor\":\"#EBF0F8\",\"ticks\":\"\"},\"bgcolor\":\"white\",\"radialaxis\":{\"gridcolor\":\"#EBF0F8\",\"linecolor\":\"#EBF0F8\",\"ticks\":\"\"}},\"scene\":{\"xaxis\":{\"backgroundcolor\":\"white\",\"gridcolor\":\"#DFE8F3\",\"gridwidth\":2,\"linecolor\":\"#EBF0F8\",\"showbackground\":true,\"ticks\":\"\",\"zerolinecolor\":\"#EBF0F8\"},\"yaxis\":{\"backgroundcolor\":\"white\",\"gridcolor\":\"#DFE8F3\",\"gridwidth\":2,\"linecolor\":\"#EBF0F8\",\"showbackground\":true,\"ticks\":\"\",\"zerolinecolor\":\"#EBF0F8\"},\"zaxis\":{\"backgroundcolor\":\"white\",\"gridcolor\":\"#DFE8F3\",\"gridwidth\":2,\"linecolor\":\"#EBF0F8\",\"showbackground\":true,\"ticks\":\"\",\"zerolinecolor\":\"#EBF0F8\"}},\"shapedefaults\":{\"line\":{\"color\":\"#2a3f5f\"}},\"ternary\":{\"aaxis\":{\"gridcolor\":\"#DFE8F3\",\"linecolor\":\"#A2B1C6\",\"ticks\":\"\"},\"baxis\":{\"gridcolor\":\"#DFE8F3\",\"linecolor\":\"#A2B1C6\",\"ticks\":\"\"},\"bgcolor\":\"white\",\"caxis\":{\"gridcolor\":\"#DFE8F3\",\"linecolor\":\"#A2B1C6\",\"ticks\":\"\"}},\"title\":{\"x\":0.05},\"xaxis\":{\"automargin\":true,\"gridcolor\":\"#EBF0F8\",\"linecolor\":\"#EBF0F8\",\"ticks\":\"\",\"title\":{\"standoff\":15},\"zerolinecolor\":\"#EBF0F8\",\"zerolinewidth\":2},\"yaxis\":{\"automargin\":true,\"gridcolor\":\"#EBF0F8\",\"linecolor\":\"#EBF0F8\",\"ticks\":\"\",\"title\":{\"standoff\":15},\"zerolinecolor\":\"#EBF0F8\",\"zerolinewidth\":2}}},\"xaxis\":{\"anchor\":\"y\",\"domain\":[0.0,1.0],\"title\":{\"text\":\"Time\"},\"rangeslider\":{\"visible\":true}},\"yaxis\":{\"anchor\":\"x\",\"domain\":[0.0,1.0],\"title\":{\"text\":\"Number of trades every minute\"}},\"legend\":{\"tracegroupgap\":0},\"margin\":{\"t\":60},\"title\":{\"text\":\"Ethereum (ETH) Volume Traded\",\"y\":0.94,\"x\":0.5,\"xanchor\":\"center\",\"yanchor\":\"top\"},\"showlegend\":true},                        {\"responsive\": true}                    ).then(function(){\n",
              "                            \n",
              "var gd = document.getElementById('abe6e9e3-ab10-453d-ad22-376caf218288');\n",
              "var x = new MutationObserver(function (mutations, observer) {{\n",
              "        var display = window.getComputedStyle(gd).display;\n",
              "        if (!display || display === 'none') {{\n",
              "            console.log([gd, 'removed!']);\n",
              "            Plotly.purge(gd);\n",
              "            observer.disconnect();\n",
              "        }}\n",
              "}});\n",
              "\n",
              "// Listen for the removal of the full notebook cells\n",
              "var notebookContainer = gd.closest('#notebook-container');\n",
              "if (notebookContainer) {{\n",
              "    x.observe(notebookContainer, {childList: true});\n",
              "}}\n",
              "\n",
              "// Listen for the clearing of the current output cell\n",
              "var outputEl = gd.closest('.output');\n",
              "if (outputEl) {{\n",
              "    x.observe(outputEl, {childList: true});\n",
              "}}\n",
              "\n",
              "                        })                };                            </script>        </div>\n",
              "</body>\n",
              "</html>"
            ]
          },
          "metadata": {}
        }
      ]
    },
    {
      "cell_type": "markdown",
      "source": [
        "### Ethereum Volume Traded for last 300 rows"
      ],
      "metadata": {
        "id": "vxZQngtxA992"
      }
    },
    {
      "cell_type": "code",
      "source": [
        "vol_traded(eth[-300:], \"Ethereum\",color = \"Blue\")"
      ],
      "metadata": {
        "_kg_hide-input": true,
        "execution": {
          "iopub.status.busy": "2022-01-29T17:46:02.691750Z",
          "iopub.execute_input": "2022-01-29T17:46:02.692224Z",
          "iopub.status.idle": "2022-01-29T17:46:02.794376Z",
          "shell.execute_reply.started": "2022-01-29T17:46:02.692173Z",
          "shell.execute_reply": "2022-01-29T17:46:02.793580Z"
        },
        "trusted": true,
        "colab": {
          "base_uri": "https://localhost:8080/",
          "height": 542
        },
        "id": "IuOwluWRA992",
        "outputId": "c7cd3d53-aee7-45f9-9dd8-505b9330a5b0"
      },
      "execution_count": null,
      "outputs": [
        {
          "output_type": "display_data",
          "data": {
            "text/html": [
              "<html>\n",
              "<head><meta charset=\"utf-8\" /></head>\n",
              "<body>\n",
              "    <div>            <script src=\"https://cdnjs.cloudflare.com/ajax/libs/mathjax/2.7.5/MathJax.js?config=TeX-AMS-MML_SVG\"></script><script type=\"text/javascript\">if (window.MathJax) {MathJax.Hub.Config({SVG: {font: \"STIX-Web\"}});}</script>                <script type=\"text/javascript\">window.PlotlyConfig = {MathJaxConfig: 'local'};</script>\n",
              "        <script src=\"https://cdn.plot.ly/plotly-2.8.3.min.js\"></script>                <div id=\"9560084e-9103-4688-83b0-8b5a6dbaacba\" class=\"plotly-graph-div\" style=\"height:525px; width:100%;\"></div>            <script type=\"text/javascript\">                                    window.PLOTLYENV=window.PLOTLYENV || {};                                    if (document.getElementById(\"9560084e-9103-4688-83b0-8b5a6dbaacba\")) {                    Plotly.newPlot(                        \"9560084e-9103-4688-83b0-8b5a6dbaacba\",                        [{\"hovertemplate\":\"timestamp=%{x}<br>Volume=%{y}<extra></extra>\",\"legendgroup\":\"\",\"line\":{\"color\":\"Blue\"},\"marker\":{\"symbol\":\"circle\"},\"mode\":\"lines+markers\",\"name\":\"\",\"orientation\":\"v\",\"showlegend\":false,\"stackgroup\":\"1\",\"x\":[\"2021-09-20T19:01:00\",\"2021-09-20T19:02:00\",\"2021-09-20T19:03:00\",\"2021-09-20T19:04:00\",\"2021-09-20T19:05:00\",\"2021-09-20T19:06:00\",\"2021-09-20T19:07:00\",\"2021-09-20T19:08:00\",\"2021-09-20T19:09:00\",\"2021-09-20T19:10:00\",\"2021-09-20T19:11:00\",\"2021-09-20T19:12:00\",\"2021-09-20T19:13:00\",\"2021-09-20T19:14:00\",\"2021-09-20T19:15:00\",\"2021-09-20T19:16:00\",\"2021-09-20T19:17:00\",\"2021-09-20T19:18:00\",\"2021-09-20T19:19:00\",\"2021-09-20T19:20:00\",\"2021-09-20T19:21:00\",\"2021-09-20T19:22:00\",\"2021-09-20T19:23:00\",\"2021-09-20T19:24:00\",\"2021-09-20T19:25:00\",\"2021-09-20T19:26:00\",\"2021-09-20T19:27:00\",\"2021-09-20T19:28:00\",\"2021-09-20T19:29:00\",\"2021-09-20T19:30:00\",\"2021-09-20T19:31:00\",\"2021-09-20T19:32:00\",\"2021-09-20T19:33:00\",\"2021-09-20T19:34:00\",\"2021-09-20T19:35:00\",\"2021-09-20T19:36:00\",\"2021-09-20T19:37:00\",\"2021-09-20T19:38:00\",\"2021-09-20T19:39:00\",\"2021-09-20T19:40:00\",\"2021-09-20T19:41:00\",\"2021-09-20T19:42:00\",\"2021-09-20T19:43:00\",\"2021-09-20T19:44:00\",\"2021-09-20T19:45:00\",\"2021-09-20T19:46:00\",\"2021-09-20T19:47:00\",\"2021-09-20T19:48:00\",\"2021-09-20T19:49:00\",\"2021-09-20T19:50:00\",\"2021-09-20T19:51:00\",\"2021-09-20T19:52:00\",\"2021-09-20T19:53:00\",\"2021-09-20T19:54:00\",\"2021-09-20T19:55:00\",\"2021-09-20T19:56:00\",\"2021-09-20T19:57:00\",\"2021-09-20T19:58:00\",\"2021-09-20T19:59:00\",\"2021-09-20T20:00:00\",\"2021-09-20T20:01:00\",\"2021-09-20T20:02:00\",\"2021-09-20T20:03:00\",\"2021-09-20T20:04:00\",\"2021-09-20T20:05:00\",\"2021-09-20T20:06:00\",\"2021-09-20T20:07:00\",\"2021-09-20T20:08:00\",\"2021-09-20T20:09:00\",\"2021-09-20T20:10:00\",\"2021-09-20T20:11:00\",\"2021-09-20T20:12:00\",\"2021-09-20T20:13:00\",\"2021-09-20T20:14:00\",\"2021-09-20T20:15:00\",\"2021-09-20T20:16:00\",\"2021-09-20T20:17:00\",\"2021-09-20T20:18:00\",\"2021-09-20T20:19:00\",\"2021-09-20T20:20:00\",\"2021-09-20T20:21:00\",\"2021-09-20T20:22:00\",\"2021-09-20T20:23:00\",\"2021-09-20T20:24:00\",\"2021-09-20T20:25:00\",\"2021-09-20T20:26:00\",\"2021-09-20T20:27:00\",\"2021-09-20T20:28:00\",\"2021-09-20T20:29:00\",\"2021-09-20T20:30:00\",\"2021-09-20T20:31:00\",\"2021-09-20T20:32:00\",\"2021-09-20T20:33:00\",\"2021-09-20T20:34:00\",\"2021-09-20T20:35:00\",\"2021-09-20T20:36:00\",\"2021-09-20T20:37:00\",\"2021-09-20T20:38:00\",\"2021-09-20T20:39:00\",\"2021-09-20T20:40:00\",\"2021-09-20T20:41:00\",\"2021-09-20T20:42:00\",\"2021-09-20T20:43:00\",\"2021-09-20T20:44:00\",\"2021-09-20T20:45:00\",\"2021-09-20T20:46:00\",\"2021-09-20T20:47:00\",\"2021-09-20T20:48:00\",\"2021-09-20T20:49:00\",\"2021-09-20T20:50:00\",\"2021-09-20T20:51:00\",\"2021-09-20T20:52:00\",\"2021-09-20T20:53:00\",\"2021-09-20T20:54:00\",\"2021-09-20T20:55:00\",\"2021-09-20T20:56:00\",\"2021-09-20T20:57:00\",\"2021-09-20T20:58:00\",\"2021-09-20T20:59:00\",\"2021-09-20T21:00:00\",\"2021-09-20T21:01:00\",\"2021-09-20T21:02:00\",\"2021-09-20T21:03:00\",\"2021-09-20T21:04:00\",\"2021-09-20T21:05:00\",\"2021-09-20T21:06:00\",\"2021-09-20T21:07:00\",\"2021-09-20T21:08:00\",\"2021-09-20T21:09:00\",\"2021-09-20T21:10:00\",\"2021-09-20T21:11:00\",\"2021-09-20T21:12:00\",\"2021-09-20T21:13:00\",\"2021-09-20T21:14:00\",\"2021-09-20T21:15:00\",\"2021-09-20T21:16:00\",\"2021-09-20T21:17:00\",\"2021-09-20T21:18:00\",\"2021-09-20T21:19:00\",\"2021-09-20T21:20:00\",\"2021-09-20T21:21:00\",\"2021-09-20T21:22:00\",\"2021-09-20T21:23:00\",\"2021-09-20T21:24:00\",\"2021-09-20T21:25:00\",\"2021-09-20T21:26:00\",\"2021-09-20T21:27:00\",\"2021-09-20T21:28:00\",\"2021-09-20T21:29:00\",\"2021-09-20T21:30:00\",\"2021-09-20T21:31:00\",\"2021-09-20T21:32:00\",\"2021-09-20T21:33:00\",\"2021-09-20T21:34:00\",\"2021-09-20T21:35:00\",\"2021-09-20T21:36:00\",\"2021-09-20T21:37:00\",\"2021-09-20T21:38:00\",\"2021-09-20T21:39:00\",\"2021-09-20T21:40:00\",\"2021-09-20T21:41:00\",\"2021-09-20T21:42:00\",\"2021-09-20T21:43:00\",\"2021-09-20T21:44:00\",\"2021-09-20T21:45:00\",\"2021-09-20T21:46:00\",\"2021-09-20T21:47:00\",\"2021-09-20T21:48:00\",\"2021-09-20T21:49:00\",\"2021-09-20T21:50:00\",\"2021-09-20T21:51:00\",\"2021-09-20T21:52:00\",\"2021-09-20T21:53:00\",\"2021-09-20T21:54:00\",\"2021-09-20T21:55:00\",\"2021-09-20T21:56:00\",\"2021-09-20T21:57:00\",\"2021-09-20T21:58:00\",\"2021-09-20T21:59:00\",\"2021-09-20T22:00:00\",\"2021-09-20T22:01:00\",\"2021-09-20T22:02:00\",\"2021-09-20T22:03:00\",\"2021-09-20T22:04:00\",\"2021-09-20T22:05:00\",\"2021-09-20T22:06:00\",\"2021-09-20T22:07:00\",\"2021-09-20T22:08:00\",\"2021-09-20T22:09:00\",\"2021-09-20T22:10:00\",\"2021-09-20T22:11:00\",\"2021-09-20T22:12:00\",\"2021-09-20T22:13:00\",\"2021-09-20T22:14:00\",\"2021-09-20T22:15:00\",\"2021-09-20T22:16:00\",\"2021-09-20T22:17:00\",\"2021-09-20T22:18:00\",\"2021-09-20T22:19:00\",\"2021-09-20T22:20:00\",\"2021-09-20T22:21:00\",\"2021-09-20T22:22:00\",\"2021-09-20T22:23:00\",\"2021-09-20T22:24:00\",\"2021-09-20T22:25:00\",\"2021-09-20T22:26:00\",\"2021-09-20T22:27:00\",\"2021-09-20T22:28:00\",\"2021-09-20T22:29:00\",\"2021-09-20T22:30:00\",\"2021-09-20T22:31:00\",\"2021-09-20T22:32:00\",\"2021-09-20T22:33:00\",\"2021-09-20T22:34:00\",\"2021-09-20T22:35:00\",\"2021-09-20T22:36:00\",\"2021-09-20T22:37:00\",\"2021-09-20T22:38:00\",\"2021-09-20T22:39:00\",\"2021-09-20T22:40:00\",\"2021-09-20T22:41:00\",\"2021-09-20T22:42:00\",\"2021-09-20T22:43:00\",\"2021-09-20T22:44:00\",\"2021-09-20T22:45:00\",\"2021-09-20T22:46:00\",\"2021-09-20T22:47:00\",\"2021-09-20T22:48:00\",\"2021-09-20T22:49:00\",\"2021-09-20T22:50:00\",\"2021-09-20T22:51:00\",\"2021-09-20T22:52:00\",\"2021-09-20T22:53:00\",\"2021-09-20T22:54:00\",\"2021-09-20T22:55:00\",\"2021-09-20T22:56:00\",\"2021-09-20T22:57:00\",\"2021-09-20T22:58:00\",\"2021-09-20T22:59:00\",\"2021-09-20T23:00:00\",\"2021-09-20T23:01:00\",\"2021-09-20T23:02:00\",\"2021-09-20T23:03:00\",\"2021-09-20T23:04:00\",\"2021-09-20T23:05:00\",\"2021-09-20T23:06:00\",\"2021-09-20T23:07:00\",\"2021-09-20T23:08:00\",\"2021-09-20T23:09:00\",\"2021-09-20T23:10:00\",\"2021-09-20T23:11:00\",\"2021-09-20T23:12:00\",\"2021-09-20T23:13:00\",\"2021-09-20T23:14:00\",\"2021-09-20T23:15:00\",\"2021-09-20T23:16:00\",\"2021-09-20T23:17:00\",\"2021-09-20T23:18:00\",\"2021-09-20T23:19:00\",\"2021-09-20T23:20:00\",\"2021-09-20T23:21:00\",\"2021-09-20T23:22:00\",\"2021-09-20T23:23:00\",\"2021-09-20T23:24:00\",\"2021-09-20T23:25:00\",\"2021-09-20T23:26:00\",\"2021-09-20T23:27:00\",\"2021-09-20T23:28:00\",\"2021-09-20T23:29:00\",\"2021-09-20T23:30:00\",\"2021-09-20T23:31:00\",\"2021-09-20T23:32:00\",\"2021-09-20T23:33:00\",\"2021-09-20T23:34:00\",\"2021-09-20T23:35:00\",\"2021-09-20T23:36:00\",\"2021-09-20T23:37:00\",\"2021-09-20T23:38:00\",\"2021-09-20T23:39:00\",\"2021-09-20T23:40:00\",\"2021-09-20T23:41:00\",\"2021-09-20T23:42:00\",\"2021-09-20T23:43:00\",\"2021-09-20T23:44:00\",\"2021-09-20T23:45:00\",\"2021-09-20T23:46:00\",\"2021-09-20T23:47:00\",\"2021-09-20T23:48:00\",\"2021-09-20T23:49:00\",\"2021-09-20T23:50:00\",\"2021-09-20T23:51:00\",\"2021-09-20T23:52:00\",\"2021-09-20T23:53:00\",\"2021-09-20T23:54:00\",\"2021-09-20T23:55:00\",\"2021-09-20T23:56:00\",\"2021-09-20T23:57:00\",\"2021-09-20T23:58:00\",\"2021-09-20T23:59:00\",\"2021-09-21T00:00:00\"],\"xaxis\":\"x\",\"y\":[788.447971463084,1938.8945083,1442.6868414713415,1215.7864726871526,1889.980530438616,2953.397107766321,2304.2251529429186,2238.055063280763,7291.355878227699,2880.1563558052558,2209.0347692165037,1637.4482854571827,5580.866784445663,4699.100811830416,2932.9040834303432,2334.5412712501848,2447.5590078237633,2760.2490137172313,3048.6183425773634,2936.7614699033106,2222.5502363002743,1990.3085269936896,2422.4253451046634,2539.6812570662687,1125.1089629633984,1242.2129914688778,1713.9883241444345,1375.8980847409516,2417.692149579802,1801.3348244955182,4954.573455356609,3601.617840298892,2081.541865253695,2716.4234523073465,1753.2909277421136,2431.54155209,1010.7402460716472,1243.7587466632185,743.29461797,1087.6339801568768,812.8631061899997,1080.856614196597,3975.0898577785547,3883.1298346030485,2890.5266457811767,1300.0774024868774,2545.1938248446804,1918.976787990176,775.0204669114078,1319.0753458658894,1374.8736521952255,2183.2392469583388,2688.133865455289,1482.3647275447095,1638.5572199619953,875.6107092325806,1124.63496029,1461.8554102802073,1389.617685293441,2136.0026367137148,1834.309905640018,1314.7133607038395,1729.4137357800007,785.1593206370676,1679.2870277943744,766.1151297299997,1666.742338430075,619.6380254799222,724.2189411303673,939.918827685436,415.5963297090001,1364.22468971,568.9733132895598,674.2568429967242,683.3834167850491,606.66128777,1345.6909648100002,355.77614657671216,581.3722595000003,657.69547025,506.2085467346814,1670.7608190986225,1523.2674671630327,1236.6789860605534,1000.4632880830096,760.5874401135737,627.58864114,780.6984601222052,1245.69571948,744.5900368838509,494.73948579,1229.621571581019,449.33183585000006,311.7213678533184,1268.412199412438,892.3087694187873,449.73479813518907,661.1722932399998,1012.668481802242,2275.077068854241,3057.7808585085954,1561.3210224877037,1562.4981735355198,1771.050590634343,1364.850498269952,2477.675901532677,1506.9682852288558,744.4792873498133,1796.2041586491705,838.0920763893782,1365.8677853173656,1523.5570220457737,1112.251023390965,919.7118651637796,659.7912187001715,638.6316728582783,810.548814241413,1391.601927233619,1928.5423341547685,3144.7375545012237,1427.5478658442291,655.5287235406832,1437.9231483869671,1262.1169170736828,958.2901277910637,741.4871229094623,2108.426751265502,629.4685188200001,528.1017644700001,935.99616355,641.0752522245002,835.6164251500003,1006.39367711,709.7426732000001,468.4501747927722,610.9725593275045,555.176260638194,474.00076125384425,806.002684318836,576.2410148505533,670.3530341215036,381.54931601,418.07181035093697,286.23027776569666,336.4639063229232,436.0754372239425,352.15245490358336,174.78388661,1013.7468033913265,430.6598681799999,1530.98029834,176.70909020000005,250.49926699,180.75301755136024,421.4505250469384,168.03078185999996,185.22573625000004,474.7716040504887,257.95023146,172.69334128420846,147.9320727335059,535.0625853769901,262.17598699545755,244.77687375,963.5142282408888,553.764722935942,314.25069279000013,423.33956555,263.65719948660853,402.87876369,734.68801178,548.0186960026181,481.8687324554477,354.26318201083023,304.2896684624031,1049.473179040417,526.5526704930606,376.77147090000005,271.6088119413687,657.5797272410326,868.769393106434,350.44781705152013,547.6023000263066,997.3366515122827,898.4663935199999,802.5212786445226,683.6724851099998,724.8056861425235,350.0734330628119,517.6160717000001,804.1201564407216,546.5281521678112,1002.98302162,1029.8825311164044,830.2011780833293,793.7541280118762,1505.8223448568797,941.6951138665227,774.5543145238654,900.2323010511743,831.8996681027958,638.637394545606,463.30967746046736,564.2552830458934,343.00891768351346,448.1998671998296,807.6679105541925,1047.199667650229,305.04219914,492.79974038157735,201.9259219389336,1078.686912942302,483.60743484831823,356.4898538204219,976.1923354062187,711.571186375917,500.3941187940758,253.92743965,385.6939157884332,590.03492829,367.6277069338517,503.78588256054655,278.8886880168815,1134.255436631591,720.6121849283368,907.1580772562347,1645.1747351796485,1536.124941227688,1930.0738315006365,3569.8993238682287,2228.2455504120126,2397.702873658668,2758.5002214958313,7277.943182617727,4192.1580791972465,2092.526665008308,1826.9722431542987,1843.543796045905,1600.7259895689144,964.8850828478922,1163.1938360723952,1960.3069952362005,2590.2308515936247,1595.5761763488324,2290.831620857708,2186.8807291912435,1524.8082599264008,972.4297566559213,1601.2009503146521,1300.9461564623748,2272.5596013462673,2332.067304385693,1640.8717429189646,2089.034180303053,1502.8608435270996,1298.3827784208695,1447.6415681258004,953.7171458342293,814.0497187953184,742.5661065713181,1750.855043047854,1686.412036820315,3309.7972289180816,1694.160476310738,2400.2065711950995,1883.5628854540728,1641.910235712105,1689.1885418156312,1253.8069793978582,3042.072736878426,1743.072589310844,2633.631954149645,3032.5371312279995,2290.2316100094117,1967.1290651830163,1452.6837534896786,870.599076894354,957.0700367990623,1021.9135279622501,717.6168631949298,776.638910924822,976.7249949179726,674.08797346884,738.2909066057988,1039.8198020759785,988.4953831303565,543.6374166495217,616.7354694331458,1157.4381957022854,1909.66606562536,1214.4500278385106,897.9108758963063,627.4366279555973,652.4299451623929,847.132620073185,751.2569064168766,729.1136723663451,807.9353619467278,1723.4739793871258,1204.8257101701554],\"yaxis\":\"y\",\"type\":\"scatter\"}],                        {\"template\":{\"data\":{\"barpolar\":[{\"marker\":{\"line\":{\"color\":\"white\",\"width\":0.5},\"pattern\":{\"fillmode\":\"overlay\",\"size\":10,\"solidity\":0.2}},\"type\":\"barpolar\"}],\"bar\":[{\"error_x\":{\"color\":\"#2a3f5f\"},\"error_y\":{\"color\":\"#2a3f5f\"},\"marker\":{\"line\":{\"color\":\"white\",\"width\":0.5},\"pattern\":{\"fillmode\":\"overlay\",\"size\":10,\"solidity\":0.2}},\"type\":\"bar\"}],\"carpet\":[{\"aaxis\":{\"endlinecolor\":\"#2a3f5f\",\"gridcolor\":\"#C8D4E3\",\"linecolor\":\"#C8D4E3\",\"minorgridcolor\":\"#C8D4E3\",\"startlinecolor\":\"#2a3f5f\"},\"baxis\":{\"endlinecolor\":\"#2a3f5f\",\"gridcolor\":\"#C8D4E3\",\"linecolor\":\"#C8D4E3\",\"minorgridcolor\":\"#C8D4E3\",\"startlinecolor\":\"#2a3f5f\"},\"type\":\"carpet\"}],\"choropleth\":[{\"colorbar\":{\"outlinewidth\":0,\"ticks\":\"\"},\"type\":\"choropleth\"}],\"contourcarpet\":[{\"colorbar\":{\"outlinewidth\":0,\"ticks\":\"\"},\"type\":\"contourcarpet\"}],\"contour\":[{\"colorbar\":{\"outlinewidth\":0,\"ticks\":\"\"},\"colorscale\":[[0.0,\"#0d0887\"],[0.1111111111111111,\"#46039f\"],[0.2222222222222222,\"#7201a8\"],[0.3333333333333333,\"#9c179e\"],[0.4444444444444444,\"#bd3786\"],[0.5555555555555556,\"#d8576b\"],[0.6666666666666666,\"#ed7953\"],[0.7777777777777778,\"#fb9f3a\"],[0.8888888888888888,\"#fdca26\"],[1.0,\"#f0f921\"]],\"type\":\"contour\"}],\"heatmapgl\":[{\"colorbar\":{\"outlinewidth\":0,\"ticks\":\"\"},\"colorscale\":[[0.0,\"#0d0887\"],[0.1111111111111111,\"#46039f\"],[0.2222222222222222,\"#7201a8\"],[0.3333333333333333,\"#9c179e\"],[0.4444444444444444,\"#bd3786\"],[0.5555555555555556,\"#d8576b\"],[0.6666666666666666,\"#ed7953\"],[0.7777777777777778,\"#fb9f3a\"],[0.8888888888888888,\"#fdca26\"],[1.0,\"#f0f921\"]],\"type\":\"heatmapgl\"}],\"heatmap\":[{\"colorbar\":{\"outlinewidth\":0,\"ticks\":\"\"},\"colorscale\":[[0.0,\"#0d0887\"],[0.1111111111111111,\"#46039f\"],[0.2222222222222222,\"#7201a8\"],[0.3333333333333333,\"#9c179e\"],[0.4444444444444444,\"#bd3786\"],[0.5555555555555556,\"#d8576b\"],[0.6666666666666666,\"#ed7953\"],[0.7777777777777778,\"#fb9f3a\"],[0.8888888888888888,\"#fdca26\"],[1.0,\"#f0f921\"]],\"type\":\"heatmap\"}],\"histogram2dcontour\":[{\"colorbar\":{\"outlinewidth\":0,\"ticks\":\"\"},\"colorscale\":[[0.0,\"#0d0887\"],[0.1111111111111111,\"#46039f\"],[0.2222222222222222,\"#7201a8\"],[0.3333333333333333,\"#9c179e\"],[0.4444444444444444,\"#bd3786\"],[0.5555555555555556,\"#d8576b\"],[0.6666666666666666,\"#ed7953\"],[0.7777777777777778,\"#fb9f3a\"],[0.8888888888888888,\"#fdca26\"],[1.0,\"#f0f921\"]],\"type\":\"histogram2dcontour\"}],\"histogram2d\":[{\"colorbar\":{\"outlinewidth\":0,\"ticks\":\"\"},\"colorscale\":[[0.0,\"#0d0887\"],[0.1111111111111111,\"#46039f\"],[0.2222222222222222,\"#7201a8\"],[0.3333333333333333,\"#9c179e\"],[0.4444444444444444,\"#bd3786\"],[0.5555555555555556,\"#d8576b\"],[0.6666666666666666,\"#ed7953\"],[0.7777777777777778,\"#fb9f3a\"],[0.8888888888888888,\"#fdca26\"],[1.0,\"#f0f921\"]],\"type\":\"histogram2d\"}],\"histogram\":[{\"marker\":{\"pattern\":{\"fillmode\":\"overlay\",\"size\":10,\"solidity\":0.2}},\"type\":\"histogram\"}],\"mesh3d\":[{\"colorbar\":{\"outlinewidth\":0,\"ticks\":\"\"},\"type\":\"mesh3d\"}],\"parcoords\":[{\"line\":{\"colorbar\":{\"outlinewidth\":0,\"ticks\":\"\"}},\"type\":\"parcoords\"}],\"pie\":[{\"automargin\":true,\"type\":\"pie\"}],\"scatter3d\":[{\"line\":{\"colorbar\":{\"outlinewidth\":0,\"ticks\":\"\"}},\"marker\":{\"colorbar\":{\"outlinewidth\":0,\"ticks\":\"\"}},\"type\":\"scatter3d\"}],\"scattercarpet\":[{\"marker\":{\"colorbar\":{\"outlinewidth\":0,\"ticks\":\"\"}},\"type\":\"scattercarpet\"}],\"scattergeo\":[{\"marker\":{\"colorbar\":{\"outlinewidth\":0,\"ticks\":\"\"}},\"type\":\"scattergeo\"}],\"scattergl\":[{\"marker\":{\"colorbar\":{\"outlinewidth\":0,\"ticks\":\"\"}},\"type\":\"scattergl\"}],\"scattermapbox\":[{\"marker\":{\"colorbar\":{\"outlinewidth\":0,\"ticks\":\"\"}},\"type\":\"scattermapbox\"}],\"scatterpolargl\":[{\"marker\":{\"colorbar\":{\"outlinewidth\":0,\"ticks\":\"\"}},\"type\":\"scatterpolargl\"}],\"scatterpolar\":[{\"marker\":{\"colorbar\":{\"outlinewidth\":0,\"ticks\":\"\"}},\"type\":\"scatterpolar\"}],\"scatter\":[{\"marker\":{\"colorbar\":{\"outlinewidth\":0,\"ticks\":\"\"}},\"type\":\"scatter\"}],\"scatterternary\":[{\"marker\":{\"colorbar\":{\"outlinewidth\":0,\"ticks\":\"\"}},\"type\":\"scatterternary\"}],\"surface\":[{\"colorbar\":{\"outlinewidth\":0,\"ticks\":\"\"},\"colorscale\":[[0.0,\"#0d0887\"],[0.1111111111111111,\"#46039f\"],[0.2222222222222222,\"#7201a8\"],[0.3333333333333333,\"#9c179e\"],[0.4444444444444444,\"#bd3786\"],[0.5555555555555556,\"#d8576b\"],[0.6666666666666666,\"#ed7953\"],[0.7777777777777778,\"#fb9f3a\"],[0.8888888888888888,\"#fdca26\"],[1.0,\"#f0f921\"]],\"type\":\"surface\"}],\"table\":[{\"cells\":{\"fill\":{\"color\":\"#EBF0F8\"},\"line\":{\"color\":\"white\"}},\"header\":{\"fill\":{\"color\":\"#C8D4E3\"},\"line\":{\"color\":\"white\"}},\"type\":\"table\"}]},\"layout\":{\"annotationdefaults\":{\"arrowcolor\":\"#2a3f5f\",\"arrowhead\":0,\"arrowwidth\":1},\"autotypenumbers\":\"strict\",\"coloraxis\":{\"colorbar\":{\"outlinewidth\":0,\"ticks\":\"\"}},\"colorscale\":{\"diverging\":[[0,\"#8e0152\"],[0.1,\"#c51b7d\"],[0.2,\"#de77ae\"],[0.3,\"#f1b6da\"],[0.4,\"#fde0ef\"],[0.5,\"#f7f7f7\"],[0.6,\"#e6f5d0\"],[0.7,\"#b8e186\"],[0.8,\"#7fbc41\"],[0.9,\"#4d9221\"],[1,\"#276419\"]],\"sequential\":[[0.0,\"#0d0887\"],[0.1111111111111111,\"#46039f\"],[0.2222222222222222,\"#7201a8\"],[0.3333333333333333,\"#9c179e\"],[0.4444444444444444,\"#bd3786\"],[0.5555555555555556,\"#d8576b\"],[0.6666666666666666,\"#ed7953\"],[0.7777777777777778,\"#fb9f3a\"],[0.8888888888888888,\"#fdca26\"],[1.0,\"#f0f921\"]],\"sequentialminus\":[[0.0,\"#0d0887\"],[0.1111111111111111,\"#46039f\"],[0.2222222222222222,\"#7201a8\"],[0.3333333333333333,\"#9c179e\"],[0.4444444444444444,\"#bd3786\"],[0.5555555555555556,\"#d8576b\"],[0.6666666666666666,\"#ed7953\"],[0.7777777777777778,\"#fb9f3a\"],[0.8888888888888888,\"#fdca26\"],[1.0,\"#f0f921\"]]},\"colorway\":[\"#636efa\",\"#EF553B\",\"#00cc96\",\"#ab63fa\",\"#FFA15A\",\"#19d3f3\",\"#FF6692\",\"#B6E880\",\"#FF97FF\",\"#FECB52\"],\"font\":{\"color\":\"#2a3f5f\"},\"geo\":{\"bgcolor\":\"white\",\"lakecolor\":\"white\",\"landcolor\":\"white\",\"showlakes\":true,\"showland\":true,\"subunitcolor\":\"#C8D4E3\"},\"hoverlabel\":{\"align\":\"left\"},\"hovermode\":\"closest\",\"mapbox\":{\"style\":\"light\"},\"paper_bgcolor\":\"white\",\"plot_bgcolor\":\"white\",\"polar\":{\"angularaxis\":{\"gridcolor\":\"#EBF0F8\",\"linecolor\":\"#EBF0F8\",\"ticks\":\"\"},\"bgcolor\":\"white\",\"radialaxis\":{\"gridcolor\":\"#EBF0F8\",\"linecolor\":\"#EBF0F8\",\"ticks\":\"\"}},\"scene\":{\"xaxis\":{\"backgroundcolor\":\"white\",\"gridcolor\":\"#DFE8F3\",\"gridwidth\":2,\"linecolor\":\"#EBF0F8\",\"showbackground\":true,\"ticks\":\"\",\"zerolinecolor\":\"#EBF0F8\"},\"yaxis\":{\"backgroundcolor\":\"white\",\"gridcolor\":\"#DFE8F3\",\"gridwidth\":2,\"linecolor\":\"#EBF0F8\",\"showbackground\":true,\"ticks\":\"\",\"zerolinecolor\":\"#EBF0F8\"},\"zaxis\":{\"backgroundcolor\":\"white\",\"gridcolor\":\"#DFE8F3\",\"gridwidth\":2,\"linecolor\":\"#EBF0F8\",\"showbackground\":true,\"ticks\":\"\",\"zerolinecolor\":\"#EBF0F8\"}},\"shapedefaults\":{\"line\":{\"color\":\"#2a3f5f\"}},\"ternary\":{\"aaxis\":{\"gridcolor\":\"#DFE8F3\",\"linecolor\":\"#A2B1C6\",\"ticks\":\"\"},\"baxis\":{\"gridcolor\":\"#DFE8F3\",\"linecolor\":\"#A2B1C6\",\"ticks\":\"\"},\"bgcolor\":\"white\",\"caxis\":{\"gridcolor\":\"#DFE8F3\",\"linecolor\":\"#A2B1C6\",\"ticks\":\"\"}},\"title\":{\"x\":0.05},\"xaxis\":{\"automargin\":true,\"gridcolor\":\"#EBF0F8\",\"linecolor\":\"#EBF0F8\",\"ticks\":\"\",\"title\":{\"standoff\":15},\"zerolinecolor\":\"#EBF0F8\",\"zerolinewidth\":2},\"yaxis\":{\"automargin\":true,\"gridcolor\":\"#EBF0F8\",\"linecolor\":\"#EBF0F8\",\"ticks\":\"\",\"title\":{\"standoff\":15},\"zerolinecolor\":\"#EBF0F8\",\"zerolinewidth\":2}}},\"xaxis\":{\"anchor\":\"y\",\"domain\":[0.0,1.0],\"title\":{\"text\":\"Time\"},\"rangeslider\":{\"visible\":true}},\"yaxis\":{\"anchor\":\"x\",\"domain\":[0.0,1.0],\"title\":{\"text\":\"Number of trades every minute\"}},\"legend\":{\"tracegroupgap\":0},\"margin\":{\"t\":60},\"title\":{\"text\":\"Ethereum Volume Traded\",\"y\":0.94,\"x\":0.5,\"xanchor\":\"center\",\"yanchor\":\"top\"},\"showlegend\":true},                        {\"responsive\": true}                    ).then(function(){\n",
              "                            \n",
              "var gd = document.getElementById('9560084e-9103-4688-83b0-8b5a6dbaacba');\n",
              "var x = new MutationObserver(function (mutations, observer) {{\n",
              "        var display = window.getComputedStyle(gd).display;\n",
              "        if (!display || display === 'none') {{\n",
              "            console.log([gd, 'removed!']);\n",
              "            Plotly.purge(gd);\n",
              "            observer.disconnect();\n",
              "        }}\n",
              "}});\n",
              "\n",
              "// Listen for the removal of the full notebook cells\n",
              "var notebookContainer = gd.closest('#notebook-container');\n",
              "if (notebookContainer) {{\n",
              "    x.observe(notebookContainer, {childList: true});\n",
              "}}\n",
              "\n",
              "// Listen for the clearing of the current output cell\n",
              "var outputEl = gd.closest('.output');\n",
              "if (outputEl) {{\n",
              "    x.observe(outputEl, {childList: true});\n",
              "}}\n",
              "\n",
              "                        })                };                            </script>        </div>\n",
              "</body>\n",
              "</html>"
            ]
          },
          "metadata": {}
        }
      ]
    },
    {
      "cell_type": "markdown",
      "source": [
        "### Monero Volume Traded for last 200 rows"
      ],
      "metadata": {
        "id": "311ozlT6TWDL"
      }
    },
    {
      "cell_type": "code",
      "source": [
        "vol_traded(mon[-200:], \"Monero\",color = \"Orange\")"
      ],
      "metadata": {
        "colab": {
          "base_uri": "https://localhost:8080/",
          "height": 542
        },
        "id": "uYU_2fo2Tjh6",
        "outputId": "c0bc32b3-e27c-4cc9-fa27-d633f6db1986"
      },
      "execution_count": null,
      "outputs": [
        {
          "output_type": "display_data",
          "data": {
            "text/html": [
              "<html>\n",
              "<head><meta charset=\"utf-8\" /></head>\n",
              "<body>\n",
              "    <div>            <script src=\"https://cdnjs.cloudflare.com/ajax/libs/mathjax/2.7.5/MathJax.js?config=TeX-AMS-MML_SVG\"></script><script type=\"text/javascript\">if (window.MathJax) {MathJax.Hub.Config({SVG: {font: \"STIX-Web\"}});}</script>                <script type=\"text/javascript\">window.PlotlyConfig = {MathJaxConfig: 'local'};</script>\n",
              "        <script src=\"https://cdn.plot.ly/plotly-2.8.3.min.js\"></script>                <div id=\"edac3e0f-1b93-417e-b4b8-36914f3458b9\" class=\"plotly-graph-div\" style=\"height:525px; width:100%;\"></div>            <script type=\"text/javascript\">                                    window.PLOTLYENV=window.PLOTLYENV || {};                                    if (document.getElementById(\"edac3e0f-1b93-417e-b4b8-36914f3458b9\")) {                    Plotly.newPlot(                        \"edac3e0f-1b93-417e-b4b8-36914f3458b9\",                        [{\"hovertemplate\":\"timestamp=%{x}<br>Volume=%{y}<extra></extra>\",\"legendgroup\":\"\",\"line\":{\"color\":\"Orange\"},\"marker\":{\"symbol\":\"circle\"},\"mode\":\"lines+markers\",\"name\":\"\",\"orientation\":\"v\",\"showlegend\":false,\"stackgroup\":\"1\",\"x\":[\"2021-09-20T20:41:00\",\"2021-09-20T20:42:00\",\"2021-09-20T20:43:00\",\"2021-09-20T20:44:00\",\"2021-09-20T20:45:00\",\"2021-09-20T20:46:00\",\"2021-09-20T20:47:00\",\"2021-09-20T20:48:00\",\"2021-09-20T20:49:00\",\"2021-09-20T20:50:00\",\"2021-09-20T20:51:00\",\"2021-09-20T20:52:00\",\"2021-09-20T20:53:00\",\"2021-09-20T20:54:00\",\"2021-09-20T20:55:00\",\"2021-09-20T20:56:00\",\"2021-09-20T20:57:00\",\"2021-09-20T20:58:00\",\"2021-09-20T20:59:00\",\"2021-09-20T21:00:00\",\"2021-09-20T21:01:00\",\"2021-09-20T21:02:00\",\"2021-09-20T21:03:00\",\"2021-09-20T21:04:00\",\"2021-09-20T21:05:00\",\"2021-09-20T21:06:00\",\"2021-09-20T21:07:00\",\"2021-09-20T21:08:00\",\"2021-09-20T21:09:00\",\"2021-09-20T21:10:00\",\"2021-09-20T21:11:00\",\"2021-09-20T21:12:00\",\"2021-09-20T21:13:00\",\"2021-09-20T21:14:00\",\"2021-09-20T21:15:00\",\"2021-09-20T21:16:00\",\"2021-09-20T21:17:00\",\"2021-09-20T21:18:00\",\"2021-09-20T21:19:00\",\"2021-09-20T21:20:00\",\"2021-09-20T21:21:00\",\"2021-09-20T21:22:00\",\"2021-09-20T21:23:00\",\"2021-09-20T21:24:00\",\"2021-09-20T21:25:00\",\"2021-09-20T21:26:00\",\"2021-09-20T21:27:00\",\"2021-09-20T21:28:00\",\"2021-09-20T21:29:00\",\"2021-09-20T21:30:00\",\"2021-09-20T21:31:00\",\"2021-09-20T21:32:00\",\"2021-09-20T21:33:00\",\"2021-09-20T21:34:00\",\"2021-09-20T21:35:00\",\"2021-09-20T21:36:00\",\"2021-09-20T21:37:00\",\"2021-09-20T21:38:00\",\"2021-09-20T21:39:00\",\"2021-09-20T21:40:00\",\"2021-09-20T21:41:00\",\"2021-09-20T21:42:00\",\"2021-09-20T21:43:00\",\"2021-09-20T21:44:00\",\"2021-09-20T21:45:00\",\"2021-09-20T21:46:00\",\"2021-09-20T21:47:00\",\"2021-09-20T21:48:00\",\"2021-09-20T21:49:00\",\"2021-09-20T21:50:00\",\"2021-09-20T21:51:00\",\"2021-09-20T21:52:00\",\"2021-09-20T21:53:00\",\"2021-09-20T21:54:00\",\"2021-09-20T21:55:00\",\"2021-09-20T21:56:00\",\"2021-09-20T21:57:00\",\"2021-09-20T21:58:00\",\"2021-09-20T21:59:00\",\"2021-09-20T22:00:00\",\"2021-09-20T22:01:00\",\"2021-09-20T22:02:00\",\"2021-09-20T22:03:00\",\"2021-09-20T22:04:00\",\"2021-09-20T22:05:00\",\"2021-09-20T22:06:00\",\"2021-09-20T22:07:00\",\"2021-09-20T22:08:00\",\"2021-09-20T22:09:00\",\"2021-09-20T22:10:00\",\"2021-09-20T22:11:00\",\"2021-09-20T22:12:00\",\"2021-09-20T22:13:00\",\"2021-09-20T22:14:00\",\"2021-09-20T22:15:00\",\"2021-09-20T22:16:00\",\"2021-09-20T22:17:00\",\"2021-09-20T22:18:00\",\"2021-09-20T22:19:00\",\"2021-09-20T22:20:00\",\"2021-09-20T22:21:00\",\"2021-09-20T22:22:00\",\"2021-09-20T22:23:00\",\"2021-09-20T22:24:00\",\"2021-09-20T22:25:00\",\"2021-09-20T22:26:00\",\"2021-09-20T22:27:00\",\"2021-09-20T22:28:00\",\"2021-09-20T22:29:00\",\"2021-09-20T22:30:00\",\"2021-09-20T22:31:00\",\"2021-09-20T22:32:00\",\"2021-09-20T22:33:00\",\"2021-09-20T22:34:00\",\"2021-09-20T22:35:00\",\"2021-09-20T22:36:00\",\"2021-09-20T22:37:00\",\"2021-09-20T22:38:00\",\"2021-09-20T22:39:00\",\"2021-09-20T22:40:00\",\"2021-09-20T22:41:00\",\"2021-09-20T22:42:00\",\"2021-09-20T22:43:00\",\"2021-09-20T22:44:00\",\"2021-09-20T22:45:00\",\"2021-09-20T22:46:00\",\"2021-09-20T22:47:00\",\"2021-09-20T22:48:00\",\"2021-09-20T22:49:00\",\"2021-09-20T22:50:00\",\"2021-09-20T22:51:00\",\"2021-09-20T22:52:00\",\"2021-09-20T22:53:00\",\"2021-09-20T22:54:00\",\"2021-09-20T22:55:00\",\"2021-09-20T22:56:00\",\"2021-09-20T22:57:00\",\"2021-09-20T22:58:00\",\"2021-09-20T22:59:00\",\"2021-09-20T23:00:00\",\"2021-09-20T23:01:00\",\"2021-09-20T23:02:00\",\"2021-09-20T23:03:00\",\"2021-09-20T23:04:00\",\"2021-09-20T23:05:00\",\"2021-09-20T23:06:00\",\"2021-09-20T23:07:00\",\"2021-09-20T23:08:00\",\"2021-09-20T23:09:00\",\"2021-09-20T23:10:00\",\"2021-09-20T23:11:00\",\"2021-09-20T23:12:00\",\"2021-09-20T23:13:00\",\"2021-09-20T23:14:00\",\"2021-09-20T23:15:00\",\"2021-09-20T23:16:00\",\"2021-09-20T23:17:00\",\"2021-09-20T23:18:00\",\"2021-09-20T23:19:00\",\"2021-09-20T23:20:00\",\"2021-09-20T23:21:00\",\"2021-09-20T23:22:00\",\"2021-09-20T23:23:00\",\"2021-09-20T23:24:00\",\"2021-09-20T23:25:00\",\"2021-09-20T23:26:00\",\"2021-09-20T23:27:00\",\"2021-09-20T23:28:00\",\"2021-09-20T23:29:00\",\"2021-09-20T23:30:00\",\"2021-09-20T23:31:00\",\"2021-09-20T23:32:00\",\"2021-09-20T23:33:00\",\"2021-09-20T23:34:00\",\"2021-09-20T23:35:00\",\"2021-09-20T23:36:00\",\"2021-09-20T23:37:00\",\"2021-09-20T23:38:00\",\"2021-09-20T23:39:00\",\"2021-09-20T23:40:00\",\"2021-09-20T23:41:00\",\"2021-09-20T23:42:00\",\"2021-09-20T23:43:00\",\"2021-09-20T23:44:00\",\"2021-09-20T23:45:00\",\"2021-09-20T23:46:00\",\"2021-09-20T23:47:00\",\"2021-09-20T23:48:00\",\"2021-09-20T23:49:00\",\"2021-09-20T23:50:00\",\"2021-09-20T23:51:00\",\"2021-09-20T23:52:00\",\"2021-09-20T23:53:00\",\"2021-09-20T23:54:00\",\"2021-09-20T23:55:00\",\"2021-09-20T23:56:00\",\"2021-09-20T23:57:00\",\"2021-09-20T23:58:00\",\"2021-09-20T23:59:00\",\"2021-09-21T00:00:00\"],\"xaxis\":\"x\",\"y\":[476.10039261657687,81.94725310000003,68.83269999999999,101.9188281526676,105.06343182,84.74119367355493,124.09508020000001,45.4595,192.3921457608276,54.19153234999999,158.46853698300131,60.33702645066038,8.422356670000001,56.31470767012432,40.90970101,107.91165,108.42240104999998,32.14304832809743,48.89341013000001,623.7751403700001,143.80938634187018,119.75277696,243.33997669,217.67986189,139.90924522,430.06200000000007,77.34386971,126.69493534,70.07515377000001,56.98340000000001,38.83232,784.5177665099999,572.61316628,135.81233999999995,16.179431100000002,1211.2043208582738,188.4889,18.2521,37.72018666,108.2758,170.5277967099999,63.92996600000001,59.65114000000001,104.09191,59.38281801000002,35.7261,6.43956,29.87860854,10.7,2.254781575362864,2.49948361,21.2036,30.95732374,83.77616166000001,54.1869,30.15705,9.4669,8.2201,104.31077581,23.752,27.55998499,9.75653,37.57533239999999,47.3999,118.3167,33.0513,5.74834583,37.03980000000001,18.00172065,4.82099,22.31964858,24.54089672,28.76450575,142.38080460368946,9.82398219,173.7132,60.7353,21.40581095,8.45674679,58.96055000000001,59.33650000000002,11.3399,91.47584009,37.10591074000001,25.060143220000004,21.1818,67.2861,30.73397000000001,19.87116201,24.07451016,91.65137000999997,11.118199999999998,0.79998519,87.1387,72.30674884,171.85212119999997,81.8704488,67.7984,243.7643,34.2042,101.4352,14.6155,38.92100000000001,6.213831420000001,7.67711195,36.6904,3.6476,36.12727912,12.15764179,1.157,6.334799999999999,30.79872883,20.36709,19.5365,39.83337423,6.2111792400000025,27.62132755,5.01872,28.6428352,28.832500000000003,29.2609,7.85786232,3.2361181925976115,39.84976303,44.1974151,50.70738,43.41112095,37.64963853,157.58888788,102.64020535,292.18785480283975,209.00090072,1939.731044685756,537.9418327200002,316.2499741298353,296.63147309,184.6133725,177.35661473999997,36.02683121,93.13938482,251.30112791000005,264.60638391000003,277.74680819,184.71810585,333.54514344,306.80836674000005,97.21031326,272.88839464000006,120.61696576291729,112.48922431374667,38.48345662,84.07827042,76.39896047559436,231.0504531408152,169.90075369,67.54382747957828,128.54811,73.1298905187681,96.82983940000004,46.82269581999999,239.43511976049587,159.66130888138494,207.55291871,231.88838679650902,121.76149071378524,218.6920945,138.2268,170.8962,210.9845,221.21144575,147.30906668000003,42.08043284000001,55.38370710715961,167.06549453999997,128.17711813,58.65406319,91.39264407000002,58.17112549,82.8403714178938,63.2843693569629,77.23056684000002,37.42910573,19.1806,49.14804318,38.4741,38.09270383,18.90139,31.392133630000004,81.7775,69.06830926,21.3678,14.54802,452.9088249800001,60.93836,40.66409,114.31082,19.75176279,123.4183,115.24236543,103.5123],\"yaxis\":\"y\",\"type\":\"scatter\"}],                        {\"template\":{\"data\":{\"barpolar\":[{\"marker\":{\"line\":{\"color\":\"white\",\"width\":0.5},\"pattern\":{\"fillmode\":\"overlay\",\"size\":10,\"solidity\":0.2}},\"type\":\"barpolar\"}],\"bar\":[{\"error_x\":{\"color\":\"#2a3f5f\"},\"error_y\":{\"color\":\"#2a3f5f\"},\"marker\":{\"line\":{\"color\":\"white\",\"width\":0.5},\"pattern\":{\"fillmode\":\"overlay\",\"size\":10,\"solidity\":0.2}},\"type\":\"bar\"}],\"carpet\":[{\"aaxis\":{\"endlinecolor\":\"#2a3f5f\",\"gridcolor\":\"#C8D4E3\",\"linecolor\":\"#C8D4E3\",\"minorgridcolor\":\"#C8D4E3\",\"startlinecolor\":\"#2a3f5f\"},\"baxis\":{\"endlinecolor\":\"#2a3f5f\",\"gridcolor\":\"#C8D4E3\",\"linecolor\":\"#C8D4E3\",\"minorgridcolor\":\"#C8D4E3\",\"startlinecolor\":\"#2a3f5f\"},\"type\":\"carpet\"}],\"choropleth\":[{\"colorbar\":{\"outlinewidth\":0,\"ticks\":\"\"},\"type\":\"choropleth\"}],\"contourcarpet\":[{\"colorbar\":{\"outlinewidth\":0,\"ticks\":\"\"},\"type\":\"contourcarpet\"}],\"contour\":[{\"colorbar\":{\"outlinewidth\":0,\"ticks\":\"\"},\"colorscale\":[[0.0,\"#0d0887\"],[0.1111111111111111,\"#46039f\"],[0.2222222222222222,\"#7201a8\"],[0.3333333333333333,\"#9c179e\"],[0.4444444444444444,\"#bd3786\"],[0.5555555555555556,\"#d8576b\"],[0.6666666666666666,\"#ed7953\"],[0.7777777777777778,\"#fb9f3a\"],[0.8888888888888888,\"#fdca26\"],[1.0,\"#f0f921\"]],\"type\":\"contour\"}],\"heatmapgl\":[{\"colorbar\":{\"outlinewidth\":0,\"ticks\":\"\"},\"colorscale\":[[0.0,\"#0d0887\"],[0.1111111111111111,\"#46039f\"],[0.2222222222222222,\"#7201a8\"],[0.3333333333333333,\"#9c179e\"],[0.4444444444444444,\"#bd3786\"],[0.5555555555555556,\"#d8576b\"],[0.6666666666666666,\"#ed7953\"],[0.7777777777777778,\"#fb9f3a\"],[0.8888888888888888,\"#fdca26\"],[1.0,\"#f0f921\"]],\"type\":\"heatmapgl\"}],\"heatmap\":[{\"colorbar\":{\"outlinewidth\":0,\"ticks\":\"\"},\"colorscale\":[[0.0,\"#0d0887\"],[0.1111111111111111,\"#46039f\"],[0.2222222222222222,\"#7201a8\"],[0.3333333333333333,\"#9c179e\"],[0.4444444444444444,\"#bd3786\"],[0.5555555555555556,\"#d8576b\"],[0.6666666666666666,\"#ed7953\"],[0.7777777777777778,\"#fb9f3a\"],[0.8888888888888888,\"#fdca26\"],[1.0,\"#f0f921\"]],\"type\":\"heatmap\"}],\"histogram2dcontour\":[{\"colorbar\":{\"outlinewidth\":0,\"ticks\":\"\"},\"colorscale\":[[0.0,\"#0d0887\"],[0.1111111111111111,\"#46039f\"],[0.2222222222222222,\"#7201a8\"],[0.3333333333333333,\"#9c179e\"],[0.4444444444444444,\"#bd3786\"],[0.5555555555555556,\"#d8576b\"],[0.6666666666666666,\"#ed7953\"],[0.7777777777777778,\"#fb9f3a\"],[0.8888888888888888,\"#fdca26\"],[1.0,\"#f0f921\"]],\"type\":\"histogram2dcontour\"}],\"histogram2d\":[{\"colorbar\":{\"outlinewidth\":0,\"ticks\":\"\"},\"colorscale\":[[0.0,\"#0d0887\"],[0.1111111111111111,\"#46039f\"],[0.2222222222222222,\"#7201a8\"],[0.3333333333333333,\"#9c179e\"],[0.4444444444444444,\"#bd3786\"],[0.5555555555555556,\"#d8576b\"],[0.6666666666666666,\"#ed7953\"],[0.7777777777777778,\"#fb9f3a\"],[0.8888888888888888,\"#fdca26\"],[1.0,\"#f0f921\"]],\"type\":\"histogram2d\"}],\"histogram\":[{\"marker\":{\"pattern\":{\"fillmode\":\"overlay\",\"size\":10,\"solidity\":0.2}},\"type\":\"histogram\"}],\"mesh3d\":[{\"colorbar\":{\"outlinewidth\":0,\"ticks\":\"\"},\"type\":\"mesh3d\"}],\"parcoords\":[{\"line\":{\"colorbar\":{\"outlinewidth\":0,\"ticks\":\"\"}},\"type\":\"parcoords\"}],\"pie\":[{\"automargin\":true,\"type\":\"pie\"}],\"scatter3d\":[{\"line\":{\"colorbar\":{\"outlinewidth\":0,\"ticks\":\"\"}},\"marker\":{\"colorbar\":{\"outlinewidth\":0,\"ticks\":\"\"}},\"type\":\"scatter3d\"}],\"scattercarpet\":[{\"marker\":{\"colorbar\":{\"outlinewidth\":0,\"ticks\":\"\"}},\"type\":\"scattercarpet\"}],\"scattergeo\":[{\"marker\":{\"colorbar\":{\"outlinewidth\":0,\"ticks\":\"\"}},\"type\":\"scattergeo\"}],\"scattergl\":[{\"marker\":{\"colorbar\":{\"outlinewidth\":0,\"ticks\":\"\"}},\"type\":\"scattergl\"}],\"scattermapbox\":[{\"marker\":{\"colorbar\":{\"outlinewidth\":0,\"ticks\":\"\"}},\"type\":\"scattermapbox\"}],\"scatterpolargl\":[{\"marker\":{\"colorbar\":{\"outlinewidth\":0,\"ticks\":\"\"}},\"type\":\"scatterpolargl\"}],\"scatterpolar\":[{\"marker\":{\"colorbar\":{\"outlinewidth\":0,\"ticks\":\"\"}},\"type\":\"scatterpolar\"}],\"scatter\":[{\"marker\":{\"colorbar\":{\"outlinewidth\":0,\"ticks\":\"\"}},\"type\":\"scatter\"}],\"scatterternary\":[{\"marker\":{\"colorbar\":{\"outlinewidth\":0,\"ticks\":\"\"}},\"type\":\"scatterternary\"}],\"surface\":[{\"colorbar\":{\"outlinewidth\":0,\"ticks\":\"\"},\"colorscale\":[[0.0,\"#0d0887\"],[0.1111111111111111,\"#46039f\"],[0.2222222222222222,\"#7201a8\"],[0.3333333333333333,\"#9c179e\"],[0.4444444444444444,\"#bd3786\"],[0.5555555555555556,\"#d8576b\"],[0.6666666666666666,\"#ed7953\"],[0.7777777777777778,\"#fb9f3a\"],[0.8888888888888888,\"#fdca26\"],[1.0,\"#f0f921\"]],\"type\":\"surface\"}],\"table\":[{\"cells\":{\"fill\":{\"color\":\"#EBF0F8\"},\"line\":{\"color\":\"white\"}},\"header\":{\"fill\":{\"color\":\"#C8D4E3\"},\"line\":{\"color\":\"white\"}},\"type\":\"table\"}]},\"layout\":{\"annotationdefaults\":{\"arrowcolor\":\"#2a3f5f\",\"arrowhead\":0,\"arrowwidth\":1},\"autotypenumbers\":\"strict\",\"coloraxis\":{\"colorbar\":{\"outlinewidth\":0,\"ticks\":\"\"}},\"colorscale\":{\"diverging\":[[0,\"#8e0152\"],[0.1,\"#c51b7d\"],[0.2,\"#de77ae\"],[0.3,\"#f1b6da\"],[0.4,\"#fde0ef\"],[0.5,\"#f7f7f7\"],[0.6,\"#e6f5d0\"],[0.7,\"#b8e186\"],[0.8,\"#7fbc41\"],[0.9,\"#4d9221\"],[1,\"#276419\"]],\"sequential\":[[0.0,\"#0d0887\"],[0.1111111111111111,\"#46039f\"],[0.2222222222222222,\"#7201a8\"],[0.3333333333333333,\"#9c179e\"],[0.4444444444444444,\"#bd3786\"],[0.5555555555555556,\"#d8576b\"],[0.6666666666666666,\"#ed7953\"],[0.7777777777777778,\"#fb9f3a\"],[0.8888888888888888,\"#fdca26\"],[1.0,\"#f0f921\"]],\"sequentialminus\":[[0.0,\"#0d0887\"],[0.1111111111111111,\"#46039f\"],[0.2222222222222222,\"#7201a8\"],[0.3333333333333333,\"#9c179e\"],[0.4444444444444444,\"#bd3786\"],[0.5555555555555556,\"#d8576b\"],[0.6666666666666666,\"#ed7953\"],[0.7777777777777778,\"#fb9f3a\"],[0.8888888888888888,\"#fdca26\"],[1.0,\"#f0f921\"]]},\"colorway\":[\"#636efa\",\"#EF553B\",\"#00cc96\",\"#ab63fa\",\"#FFA15A\",\"#19d3f3\",\"#FF6692\",\"#B6E880\",\"#FF97FF\",\"#FECB52\"],\"font\":{\"color\":\"#2a3f5f\"},\"geo\":{\"bgcolor\":\"white\",\"lakecolor\":\"white\",\"landcolor\":\"white\",\"showlakes\":true,\"showland\":true,\"subunitcolor\":\"#C8D4E3\"},\"hoverlabel\":{\"align\":\"left\"},\"hovermode\":\"closest\",\"mapbox\":{\"style\":\"light\"},\"paper_bgcolor\":\"white\",\"plot_bgcolor\":\"white\",\"polar\":{\"angularaxis\":{\"gridcolor\":\"#EBF0F8\",\"linecolor\":\"#EBF0F8\",\"ticks\":\"\"},\"bgcolor\":\"white\",\"radialaxis\":{\"gridcolor\":\"#EBF0F8\",\"linecolor\":\"#EBF0F8\",\"ticks\":\"\"}},\"scene\":{\"xaxis\":{\"backgroundcolor\":\"white\",\"gridcolor\":\"#DFE8F3\",\"gridwidth\":2,\"linecolor\":\"#EBF0F8\",\"showbackground\":true,\"ticks\":\"\",\"zerolinecolor\":\"#EBF0F8\"},\"yaxis\":{\"backgroundcolor\":\"white\",\"gridcolor\":\"#DFE8F3\",\"gridwidth\":2,\"linecolor\":\"#EBF0F8\",\"showbackground\":true,\"ticks\":\"\",\"zerolinecolor\":\"#EBF0F8\"},\"zaxis\":{\"backgroundcolor\":\"white\",\"gridcolor\":\"#DFE8F3\",\"gridwidth\":2,\"linecolor\":\"#EBF0F8\",\"showbackground\":true,\"ticks\":\"\",\"zerolinecolor\":\"#EBF0F8\"}},\"shapedefaults\":{\"line\":{\"color\":\"#2a3f5f\"}},\"ternary\":{\"aaxis\":{\"gridcolor\":\"#DFE8F3\",\"linecolor\":\"#A2B1C6\",\"ticks\":\"\"},\"baxis\":{\"gridcolor\":\"#DFE8F3\",\"linecolor\":\"#A2B1C6\",\"ticks\":\"\"},\"bgcolor\":\"white\",\"caxis\":{\"gridcolor\":\"#DFE8F3\",\"linecolor\":\"#A2B1C6\",\"ticks\":\"\"}},\"title\":{\"x\":0.05},\"xaxis\":{\"automargin\":true,\"gridcolor\":\"#EBF0F8\",\"linecolor\":\"#EBF0F8\",\"ticks\":\"\",\"title\":{\"standoff\":15},\"zerolinecolor\":\"#EBF0F8\",\"zerolinewidth\":2},\"yaxis\":{\"automargin\":true,\"gridcolor\":\"#EBF0F8\",\"linecolor\":\"#EBF0F8\",\"ticks\":\"\",\"title\":{\"standoff\":15},\"zerolinecolor\":\"#EBF0F8\",\"zerolinewidth\":2}}},\"xaxis\":{\"anchor\":\"y\",\"domain\":[0.0,1.0],\"title\":{\"text\":\"Time\"},\"rangeslider\":{\"visible\":true}},\"yaxis\":{\"anchor\":\"x\",\"domain\":[0.0,1.0],\"title\":{\"text\":\"Number of trades every minute\"}},\"legend\":{\"tracegroupgap\":0},\"margin\":{\"t\":60},\"title\":{\"text\":\"Monero Volume Traded\",\"y\":0.94,\"x\":0.5,\"xanchor\":\"center\",\"yanchor\":\"top\"},\"showlegend\":true},                        {\"responsive\": true}                    ).then(function(){\n",
              "                            \n",
              "var gd = document.getElementById('edac3e0f-1b93-417e-b4b8-36914f3458b9');\n",
              "var x = new MutationObserver(function (mutations, observer) {{\n",
              "        var display = window.getComputedStyle(gd).display;\n",
              "        if (!display || display === 'none') {{\n",
              "            console.log([gd, 'removed!']);\n",
              "            Plotly.purge(gd);\n",
              "            observer.disconnect();\n",
              "        }}\n",
              "}});\n",
              "\n",
              "// Listen for the removal of the full notebook cells\n",
              "var notebookContainer = gd.closest('#notebook-container');\n",
              "if (notebookContainer) {{\n",
              "    x.observe(notebookContainer, {childList: true});\n",
              "}}\n",
              "\n",
              "// Listen for the clearing of the current output cell\n",
              "var outputEl = gd.closest('.output');\n",
              "if (outputEl) {{\n",
              "    x.observe(outputEl, {childList: true});\n",
              "}}\n",
              "\n",
              "                        })                };                            </script>        </div>\n",
              "</body>\n",
              "</html>"
            ]
          },
          "metadata": {}
        }
      ]
    },
    {
      "cell_type": "markdown",
      "source": [
        "### Dogecoin Volume Traded for last 250 rows\n"
      ],
      "metadata": {
        "id": "DRImd0bQTvA3"
      }
    },
    {
      "cell_type": "code",
      "source": [
        "vol_traded(dog[-250:], \"Dogecoin\",color = \"Purple\")"
      ],
      "metadata": {
        "colab": {
          "base_uri": "https://localhost:8080/",
          "height": 542
        },
        "id": "04bKsm5HT96y",
        "outputId": "5090a678-86cd-485c-9ccb-631bc42f801b"
      },
      "execution_count": null,
      "outputs": [
        {
          "output_type": "display_data",
          "data": {
            "text/html": [
              "<html>\n",
              "<head><meta charset=\"utf-8\" /></head>\n",
              "<body>\n",
              "    <div>            <script src=\"https://cdnjs.cloudflare.com/ajax/libs/mathjax/2.7.5/MathJax.js?config=TeX-AMS-MML_SVG\"></script><script type=\"text/javascript\">if (window.MathJax) {MathJax.Hub.Config({SVG: {font: \"STIX-Web\"}});}</script>                <script type=\"text/javascript\">window.PlotlyConfig = {MathJaxConfig: 'local'};</script>\n",
              "        <script src=\"https://cdn.plot.ly/plotly-2.8.3.min.js\"></script>                <div id=\"598fb738-d9ca-4d12-bd34-ba5e552b3c66\" class=\"plotly-graph-div\" style=\"height:525px; width:100%;\"></div>            <script type=\"text/javascript\">                                    window.PLOTLYENV=window.PLOTLYENV || {};                                    if (document.getElementById(\"598fb738-d9ca-4d12-bd34-ba5e552b3c66\")) {                    Plotly.newPlot(                        \"598fb738-d9ca-4d12-bd34-ba5e552b3c66\",                        [{\"hovertemplate\":\"timestamp=%{x}<br>Volume=%{y}<extra></extra>\",\"legendgroup\":\"\",\"line\":{\"color\":\"Purple\"},\"marker\":{\"symbol\":\"circle\"},\"mode\":\"lines+markers\",\"name\":\"\",\"orientation\":\"v\",\"showlegend\":false,\"stackgroup\":\"1\",\"x\":[\"2021-09-20T19:51:00\",\"2021-09-20T19:52:00\",\"2021-09-20T19:53:00\",\"2021-09-20T19:54:00\",\"2021-09-20T19:55:00\",\"2021-09-20T19:56:00\",\"2021-09-20T19:57:00\",\"2021-09-20T19:58:00\",\"2021-09-20T19:59:00\",\"2021-09-20T20:00:00\",\"2021-09-20T20:01:00\",\"2021-09-20T20:02:00\",\"2021-09-20T20:03:00\",\"2021-09-20T20:04:00\",\"2021-09-20T20:05:00\",\"2021-09-20T20:06:00\",\"2021-09-20T20:07:00\",\"2021-09-20T20:08:00\",\"2021-09-20T20:09:00\",\"2021-09-20T20:10:00\",\"2021-09-20T20:11:00\",\"2021-09-20T20:12:00\",\"2021-09-20T20:13:00\",\"2021-09-20T20:14:00\",\"2021-09-20T20:15:00\",\"2021-09-20T20:16:00\",\"2021-09-20T20:17:00\",\"2021-09-20T20:18:00\",\"2021-09-20T20:19:00\",\"2021-09-20T20:20:00\",\"2021-09-20T20:21:00\",\"2021-09-20T20:22:00\",\"2021-09-20T20:23:00\",\"2021-09-20T20:24:00\",\"2021-09-20T20:25:00\",\"2021-09-20T20:26:00\",\"2021-09-20T20:27:00\",\"2021-09-20T20:28:00\",\"2021-09-20T20:29:00\",\"2021-09-20T20:30:00\",\"2021-09-20T20:31:00\",\"2021-09-20T20:32:00\",\"2021-09-20T20:33:00\",\"2021-09-20T20:34:00\",\"2021-09-20T20:35:00\",\"2021-09-20T20:36:00\",\"2021-09-20T20:37:00\",\"2021-09-20T20:38:00\",\"2021-09-20T20:39:00\",\"2021-09-20T20:40:00\",\"2021-09-20T20:41:00\",\"2021-09-20T20:42:00\",\"2021-09-20T20:43:00\",\"2021-09-20T20:44:00\",\"2021-09-20T20:45:00\",\"2021-09-20T20:46:00\",\"2021-09-20T20:47:00\",\"2021-09-20T20:48:00\",\"2021-09-20T20:49:00\",\"2021-09-20T20:50:00\",\"2021-09-20T20:51:00\",\"2021-09-20T20:52:00\",\"2021-09-20T20:53:00\",\"2021-09-20T20:54:00\",\"2021-09-20T20:55:00\",\"2021-09-20T20:56:00\",\"2021-09-20T20:57:00\",\"2021-09-20T20:58:00\",\"2021-09-20T20:59:00\",\"2021-09-20T21:00:00\",\"2021-09-20T21:01:00\",\"2021-09-20T21:02:00\",\"2021-09-20T21:03:00\",\"2021-09-20T21:04:00\",\"2021-09-20T21:05:00\",\"2021-09-20T21:06:00\",\"2021-09-20T21:07:00\",\"2021-09-20T21:08:00\",\"2021-09-20T21:09:00\",\"2021-09-20T21:10:00\",\"2021-09-20T21:11:00\",\"2021-09-20T21:12:00\",\"2021-09-20T21:13:00\",\"2021-09-20T21:14:00\",\"2021-09-20T21:15:00\",\"2021-09-20T21:16:00\",\"2021-09-20T21:17:00\",\"2021-09-20T21:18:00\",\"2021-09-20T21:19:00\",\"2021-09-20T21:20:00\",\"2021-09-20T21:21:00\",\"2021-09-20T21:22:00\",\"2021-09-20T21:23:00\",\"2021-09-20T21:24:00\",\"2021-09-20T21:25:00\",\"2021-09-20T21:26:00\",\"2021-09-20T21:27:00\",\"2021-09-20T21:28:00\",\"2021-09-20T21:29:00\",\"2021-09-20T21:30:00\",\"2021-09-20T21:31:00\",\"2021-09-20T21:32:00\",\"2021-09-20T21:33:00\",\"2021-09-20T21:34:00\",\"2021-09-20T21:35:00\",\"2021-09-20T21:36:00\",\"2021-09-20T21:37:00\",\"2021-09-20T21:38:00\",\"2021-09-20T21:39:00\",\"2021-09-20T21:40:00\",\"2021-09-20T21:41:00\",\"2021-09-20T21:42:00\",\"2021-09-20T21:43:00\",\"2021-09-20T21:44:00\",\"2021-09-20T21:45:00\",\"2021-09-20T21:46:00\",\"2021-09-20T21:47:00\",\"2021-09-20T21:48:00\",\"2021-09-20T21:49:00\",\"2021-09-20T21:50:00\",\"2021-09-20T21:51:00\",\"2021-09-20T21:52:00\",\"2021-09-20T21:53:00\",\"2021-09-20T21:54:00\",\"2021-09-20T21:55:00\",\"2021-09-20T21:56:00\",\"2021-09-20T21:57:00\",\"2021-09-20T21:58:00\",\"2021-09-20T21:59:00\",\"2021-09-20T22:00:00\",\"2021-09-20T22:01:00\",\"2021-09-20T22:02:00\",\"2021-09-20T22:03:00\",\"2021-09-20T22:04:00\",\"2021-09-20T22:05:00\",\"2021-09-20T22:06:00\",\"2021-09-20T22:07:00\",\"2021-09-20T22:08:00\",\"2021-09-20T22:09:00\",\"2021-09-20T22:10:00\",\"2021-09-20T22:11:00\",\"2021-09-20T22:12:00\",\"2021-09-20T22:13:00\",\"2021-09-20T22:14:00\",\"2021-09-20T22:15:00\",\"2021-09-20T22:16:00\",\"2021-09-20T22:17:00\",\"2021-09-20T22:18:00\",\"2021-09-20T22:19:00\",\"2021-09-20T22:20:00\",\"2021-09-20T22:21:00\",\"2021-09-20T22:22:00\",\"2021-09-20T22:23:00\",\"2021-09-20T22:24:00\",\"2021-09-20T22:25:00\",\"2021-09-20T22:26:00\",\"2021-09-20T22:27:00\",\"2021-09-20T22:28:00\",\"2021-09-20T22:29:00\",\"2021-09-20T22:30:00\",\"2021-09-20T22:31:00\",\"2021-09-20T22:32:00\",\"2021-09-20T22:33:00\",\"2021-09-20T22:34:00\",\"2021-09-20T22:35:00\",\"2021-09-20T22:36:00\",\"2021-09-20T22:37:00\",\"2021-09-20T22:38:00\",\"2021-09-20T22:39:00\",\"2021-09-20T22:40:00\",\"2021-09-20T22:41:00\",\"2021-09-20T22:42:00\",\"2021-09-20T22:43:00\",\"2021-09-20T22:44:00\",\"2021-09-20T22:45:00\",\"2021-09-20T22:46:00\",\"2021-09-20T22:47:00\",\"2021-09-20T22:48:00\",\"2021-09-20T22:49:00\",\"2021-09-20T22:50:00\",\"2021-09-20T22:51:00\",\"2021-09-20T22:52:00\",\"2021-09-20T22:53:00\",\"2021-09-20T22:54:00\",\"2021-09-20T22:55:00\",\"2021-09-20T22:56:00\",\"2021-09-20T22:57:00\",\"2021-09-20T22:58:00\",\"2021-09-20T22:59:00\",\"2021-09-20T23:00:00\",\"2021-09-20T23:01:00\",\"2021-09-20T23:02:00\",\"2021-09-20T23:03:00\",\"2021-09-20T23:04:00\",\"2021-09-20T23:05:00\",\"2021-09-20T23:06:00\",\"2021-09-20T23:07:00\",\"2021-09-20T23:08:00\",\"2021-09-20T23:09:00\",\"2021-09-20T23:10:00\",\"2021-09-20T23:11:00\",\"2021-09-20T23:12:00\",\"2021-09-20T23:13:00\",\"2021-09-20T23:14:00\",\"2021-09-20T23:15:00\",\"2021-09-20T23:16:00\",\"2021-09-20T23:17:00\",\"2021-09-20T23:18:00\",\"2021-09-20T23:19:00\",\"2021-09-20T23:20:00\",\"2021-09-20T23:21:00\",\"2021-09-20T23:22:00\",\"2021-09-20T23:23:00\",\"2021-09-20T23:24:00\",\"2021-09-20T23:25:00\",\"2021-09-20T23:26:00\",\"2021-09-20T23:27:00\",\"2021-09-20T23:28:00\",\"2021-09-20T23:29:00\",\"2021-09-20T23:30:00\",\"2021-09-20T23:31:00\",\"2021-09-20T23:32:00\",\"2021-09-20T23:33:00\",\"2021-09-20T23:34:00\",\"2021-09-20T23:35:00\",\"2021-09-20T23:36:00\",\"2021-09-20T23:37:00\",\"2021-09-20T23:38:00\",\"2021-09-20T23:39:00\",\"2021-09-20T23:40:00\",\"2021-09-20T23:41:00\",\"2021-09-20T23:42:00\",\"2021-09-20T23:43:00\",\"2021-09-20T23:44:00\",\"2021-09-20T23:45:00\",\"2021-09-20T23:46:00\",\"2021-09-20T23:47:00\",\"2021-09-20T23:48:00\",\"2021-09-20T23:49:00\",\"2021-09-20T23:50:00\",\"2021-09-20T23:51:00\",\"2021-09-20T23:52:00\",\"2021-09-20T23:53:00\",\"2021-09-20T23:54:00\",\"2021-09-20T23:55:00\",\"2021-09-20T23:56:00\",\"2021-09-20T23:57:00\",\"2021-09-20T23:58:00\",\"2021-09-20T23:59:00\",\"2021-09-21T00:00:00\"],\"xaxis\":\"x\",\"y\":[645195.9588393386,1392908.3245889898,3507774.660602004,1761130.5955239753,2208452.02450569,1041988.41848122,1105910.19459994,732724.3371794494,1038736.11108136,2157376.752352016,2510160.447715486,16741641.802824976,2345695.5691024708,3796832.5584538686,1119319.37334295,2332848.2627000003,1183416.5615280992,2037531.63775168,449216.51080790994,1287143.29041271,786228.6387370796,984950.9708269414,1052418.4837999998,569886.5842656606,561817.1552022719,626272.61811972,7018010.584311151,358906.83191427524,406163.96411392,1527046.9858941424,621331.7108834,944474.5909854398,774101.9029,364455.53895462,394144.80049222,578916.110724401,660627.6028454901,251506.5302645,1540560.6642224204,812934.63405572,760487.6455,434459.4479,353370.66789999994,1347756.76899882,3066879.82060696,413066.01599478046,564436.4113196899,388661.72327300225,703525.6192035702,5996670.06104885,3982659.6232598964,1994219.5046379687,2345448.827477098,682957.3596,1965935.42342912,2363294.137658173,1433882.1696731106,1411961.92386571,1558180.00865976,1593029.154343241,1382385.9011609624,1377145.791941446,890560.60111077,668403.52013303,390376.38750000007,1795417.209258901,1261457.91269834,1499703.05428555,1183578.1582655644,2889309.5082848133,2217323.539487804,1461510.1231211547,1169443.3393066085,1155095.0934403716,1564504.09991614,1182123.3808000002,1640415.7922,941844.466,356554.73299999995,596638.52531829,907313.95464424,314594.80427511944,492969.37111838,618712.1936,440851.55909138854,433338.0286523573,673630.4758,500147.2445677057,569291.1149426902,1966894.9829207102,965431.2955316298,662616.3114444701,658953.1309,522859.5919363,941562.3968,832920.7809900256,1165722.37185488,377437.6903,774527.2157939059,51236.9404,98087.73760000002,53656.8458,132727.7880167388,197567.5055,100868.3938,173109.44004857,311409.65430000005,265315.3200000001,104103.83687988,235902.4591059349,104424.1827,146038.38646737006,75884.25490000001,178483.68880000003,729878.6519783499,715364.3304989891,128196.6592,1174829.264466,363961.69870365,396379.969701849,1568769.1307,964416.9430571262,872389.23683935,219683.56316302,99530.80779999998,709656.478439309,547410.7633233218,200186.1839002198,1652085.6296391,795173.0380522416,1179241.7527141669,492416.1627778696,478158.5189226343,532801.5171613634,1122983.0689785948,1006349.4992636044,163452.9895,494940.0255,490750.8519449586,237861.24865905,578921.2505155699,251741.62582460113,178695.92897473,1507416.4798501737,1023553.4935873076,1256964.9874733577,1563175.8252799944,1231534.0350248478,484275.05342796975,843863.9101114038,1681591.6878084217,1114582.27127117,863378.2250149023,346240.4568809955,482396.68702011,740361.78862307,445649.40456811,260721.4043472,664073.23062121,231944.59067736,537206.8982,1061376.30658798,1168484.09736949,366190.85066258116,501217.3581079585,534698.435737316,743742.2405082445,614899.0590097801,778720.1202914001,630036.797,384492.2875026242,387463.8112343917,343536.9557804314,672624.5793393487,501142.1923,1057892.5736729454,1138607.45407263,809578.2697,2827660.917654772,3886105.25521448,1919968.822,2036199.747398376,3407635.9934651973,6335994.360716187,8080741.986395196,4071509.99404916,2065798.1113818674,2839180.9675170183,2541384.298316083,1086847.6560490974,1235257.3094408498,3286445.0576475007,2834758.58693488,2268915.765104855,2960989.5276008192,2885867.655696972,2640643.7186136283,3765709.7245602338,1907317.6519645527,1258589.915118394,4024663.4116317024,1927861.351689499,1597408.9057135088,3615155.1257723495,2037641.04177203,2167767.0980691165,3526387.52652437,3728992.733573714,2076114.829378631,1142213.602354287,1677282.0840980168,3255073.9538082667,2338010.581627875,1801839.8456877428,2922175.6705392767,1857476.1472804581,2379226.6361571443,2387982.79138712,1220536.6905669593,2613096.5943021565,1678552.3552499546,1276049.2009919016,1370802.3350511931,1402437.2784110424,2541797.007712188,1220218.92972804,1040098.55589447,603092.2494534097,1565926.6740164969,1138011.9243548017,926539.9777554849,1257670.2469483973,793682.5534436844,856799.6511363523,835833.4600115407,1240642.6325948224,649896.2150832401,2017259.716765684,1120575.2025328428,1337674.0897001529,576901.0812105065,414758.1869,610894.4999233393,320047.7362191332,918059.894679338,1895145.891879191,1059219.41883269,420172.52342578786,2583980.509321019,1140945.9875558473],\"yaxis\":\"y\",\"type\":\"scatter\"}],                        {\"template\":{\"data\":{\"barpolar\":[{\"marker\":{\"line\":{\"color\":\"white\",\"width\":0.5},\"pattern\":{\"fillmode\":\"overlay\",\"size\":10,\"solidity\":0.2}},\"type\":\"barpolar\"}],\"bar\":[{\"error_x\":{\"color\":\"#2a3f5f\"},\"error_y\":{\"color\":\"#2a3f5f\"},\"marker\":{\"line\":{\"color\":\"white\",\"width\":0.5},\"pattern\":{\"fillmode\":\"overlay\",\"size\":10,\"solidity\":0.2}},\"type\":\"bar\"}],\"carpet\":[{\"aaxis\":{\"endlinecolor\":\"#2a3f5f\",\"gridcolor\":\"#C8D4E3\",\"linecolor\":\"#C8D4E3\",\"minorgridcolor\":\"#C8D4E3\",\"startlinecolor\":\"#2a3f5f\"},\"baxis\":{\"endlinecolor\":\"#2a3f5f\",\"gridcolor\":\"#C8D4E3\",\"linecolor\":\"#C8D4E3\",\"minorgridcolor\":\"#C8D4E3\",\"startlinecolor\":\"#2a3f5f\"},\"type\":\"carpet\"}],\"choropleth\":[{\"colorbar\":{\"outlinewidth\":0,\"ticks\":\"\"},\"type\":\"choropleth\"}],\"contourcarpet\":[{\"colorbar\":{\"outlinewidth\":0,\"ticks\":\"\"},\"type\":\"contourcarpet\"}],\"contour\":[{\"colorbar\":{\"outlinewidth\":0,\"ticks\":\"\"},\"colorscale\":[[0.0,\"#0d0887\"],[0.1111111111111111,\"#46039f\"],[0.2222222222222222,\"#7201a8\"],[0.3333333333333333,\"#9c179e\"],[0.4444444444444444,\"#bd3786\"],[0.5555555555555556,\"#d8576b\"],[0.6666666666666666,\"#ed7953\"],[0.7777777777777778,\"#fb9f3a\"],[0.8888888888888888,\"#fdca26\"],[1.0,\"#f0f921\"]],\"type\":\"contour\"}],\"heatmapgl\":[{\"colorbar\":{\"outlinewidth\":0,\"ticks\":\"\"},\"colorscale\":[[0.0,\"#0d0887\"],[0.1111111111111111,\"#46039f\"],[0.2222222222222222,\"#7201a8\"],[0.3333333333333333,\"#9c179e\"],[0.4444444444444444,\"#bd3786\"],[0.5555555555555556,\"#d8576b\"],[0.6666666666666666,\"#ed7953\"],[0.7777777777777778,\"#fb9f3a\"],[0.8888888888888888,\"#fdca26\"],[1.0,\"#f0f921\"]],\"type\":\"heatmapgl\"}],\"heatmap\":[{\"colorbar\":{\"outlinewidth\":0,\"ticks\":\"\"},\"colorscale\":[[0.0,\"#0d0887\"],[0.1111111111111111,\"#46039f\"],[0.2222222222222222,\"#7201a8\"],[0.3333333333333333,\"#9c179e\"],[0.4444444444444444,\"#bd3786\"],[0.5555555555555556,\"#d8576b\"],[0.6666666666666666,\"#ed7953\"],[0.7777777777777778,\"#fb9f3a\"],[0.8888888888888888,\"#fdca26\"],[1.0,\"#f0f921\"]],\"type\":\"heatmap\"}],\"histogram2dcontour\":[{\"colorbar\":{\"outlinewidth\":0,\"ticks\":\"\"},\"colorscale\":[[0.0,\"#0d0887\"],[0.1111111111111111,\"#46039f\"],[0.2222222222222222,\"#7201a8\"],[0.3333333333333333,\"#9c179e\"],[0.4444444444444444,\"#bd3786\"],[0.5555555555555556,\"#d8576b\"],[0.6666666666666666,\"#ed7953\"],[0.7777777777777778,\"#fb9f3a\"],[0.8888888888888888,\"#fdca26\"],[1.0,\"#f0f921\"]],\"type\":\"histogram2dcontour\"}],\"histogram2d\":[{\"colorbar\":{\"outlinewidth\":0,\"ticks\":\"\"},\"colorscale\":[[0.0,\"#0d0887\"],[0.1111111111111111,\"#46039f\"],[0.2222222222222222,\"#7201a8\"],[0.3333333333333333,\"#9c179e\"],[0.4444444444444444,\"#bd3786\"],[0.5555555555555556,\"#d8576b\"],[0.6666666666666666,\"#ed7953\"],[0.7777777777777778,\"#fb9f3a\"],[0.8888888888888888,\"#fdca26\"],[1.0,\"#f0f921\"]],\"type\":\"histogram2d\"}],\"histogram\":[{\"marker\":{\"pattern\":{\"fillmode\":\"overlay\",\"size\":10,\"solidity\":0.2}},\"type\":\"histogram\"}],\"mesh3d\":[{\"colorbar\":{\"outlinewidth\":0,\"ticks\":\"\"},\"type\":\"mesh3d\"}],\"parcoords\":[{\"line\":{\"colorbar\":{\"outlinewidth\":0,\"ticks\":\"\"}},\"type\":\"parcoords\"}],\"pie\":[{\"automargin\":true,\"type\":\"pie\"}],\"scatter3d\":[{\"line\":{\"colorbar\":{\"outlinewidth\":0,\"ticks\":\"\"}},\"marker\":{\"colorbar\":{\"outlinewidth\":0,\"ticks\":\"\"}},\"type\":\"scatter3d\"}],\"scattercarpet\":[{\"marker\":{\"colorbar\":{\"outlinewidth\":0,\"ticks\":\"\"}},\"type\":\"scattercarpet\"}],\"scattergeo\":[{\"marker\":{\"colorbar\":{\"outlinewidth\":0,\"ticks\":\"\"}},\"type\":\"scattergeo\"}],\"scattergl\":[{\"marker\":{\"colorbar\":{\"outlinewidth\":0,\"ticks\":\"\"}},\"type\":\"scattergl\"}],\"scattermapbox\":[{\"marker\":{\"colorbar\":{\"outlinewidth\":0,\"ticks\":\"\"}},\"type\":\"scattermapbox\"}],\"scatterpolargl\":[{\"marker\":{\"colorbar\":{\"outlinewidth\":0,\"ticks\":\"\"}},\"type\":\"scatterpolargl\"}],\"scatterpolar\":[{\"marker\":{\"colorbar\":{\"outlinewidth\":0,\"ticks\":\"\"}},\"type\":\"scatterpolar\"}],\"scatter\":[{\"marker\":{\"colorbar\":{\"outlinewidth\":0,\"ticks\":\"\"}},\"type\":\"scatter\"}],\"scatterternary\":[{\"marker\":{\"colorbar\":{\"outlinewidth\":0,\"ticks\":\"\"}},\"type\":\"scatterternary\"}],\"surface\":[{\"colorbar\":{\"outlinewidth\":0,\"ticks\":\"\"},\"colorscale\":[[0.0,\"#0d0887\"],[0.1111111111111111,\"#46039f\"],[0.2222222222222222,\"#7201a8\"],[0.3333333333333333,\"#9c179e\"],[0.4444444444444444,\"#bd3786\"],[0.5555555555555556,\"#d8576b\"],[0.6666666666666666,\"#ed7953\"],[0.7777777777777778,\"#fb9f3a\"],[0.8888888888888888,\"#fdca26\"],[1.0,\"#f0f921\"]],\"type\":\"surface\"}],\"table\":[{\"cells\":{\"fill\":{\"color\":\"#EBF0F8\"},\"line\":{\"color\":\"white\"}},\"header\":{\"fill\":{\"color\":\"#C8D4E3\"},\"line\":{\"color\":\"white\"}},\"type\":\"table\"}]},\"layout\":{\"annotationdefaults\":{\"arrowcolor\":\"#2a3f5f\",\"arrowhead\":0,\"arrowwidth\":1},\"autotypenumbers\":\"strict\",\"coloraxis\":{\"colorbar\":{\"outlinewidth\":0,\"ticks\":\"\"}},\"colorscale\":{\"diverging\":[[0,\"#8e0152\"],[0.1,\"#c51b7d\"],[0.2,\"#de77ae\"],[0.3,\"#f1b6da\"],[0.4,\"#fde0ef\"],[0.5,\"#f7f7f7\"],[0.6,\"#e6f5d0\"],[0.7,\"#b8e186\"],[0.8,\"#7fbc41\"],[0.9,\"#4d9221\"],[1,\"#276419\"]],\"sequential\":[[0.0,\"#0d0887\"],[0.1111111111111111,\"#46039f\"],[0.2222222222222222,\"#7201a8\"],[0.3333333333333333,\"#9c179e\"],[0.4444444444444444,\"#bd3786\"],[0.5555555555555556,\"#d8576b\"],[0.6666666666666666,\"#ed7953\"],[0.7777777777777778,\"#fb9f3a\"],[0.8888888888888888,\"#fdca26\"],[1.0,\"#f0f921\"]],\"sequentialminus\":[[0.0,\"#0d0887\"],[0.1111111111111111,\"#46039f\"],[0.2222222222222222,\"#7201a8\"],[0.3333333333333333,\"#9c179e\"],[0.4444444444444444,\"#bd3786\"],[0.5555555555555556,\"#d8576b\"],[0.6666666666666666,\"#ed7953\"],[0.7777777777777778,\"#fb9f3a\"],[0.8888888888888888,\"#fdca26\"],[1.0,\"#f0f921\"]]},\"colorway\":[\"#636efa\",\"#EF553B\",\"#00cc96\",\"#ab63fa\",\"#FFA15A\",\"#19d3f3\",\"#FF6692\",\"#B6E880\",\"#FF97FF\",\"#FECB52\"],\"font\":{\"color\":\"#2a3f5f\"},\"geo\":{\"bgcolor\":\"white\",\"lakecolor\":\"white\",\"landcolor\":\"white\",\"showlakes\":true,\"showland\":true,\"subunitcolor\":\"#C8D4E3\"},\"hoverlabel\":{\"align\":\"left\"},\"hovermode\":\"closest\",\"mapbox\":{\"style\":\"light\"},\"paper_bgcolor\":\"white\",\"plot_bgcolor\":\"white\",\"polar\":{\"angularaxis\":{\"gridcolor\":\"#EBF0F8\",\"linecolor\":\"#EBF0F8\",\"ticks\":\"\"},\"bgcolor\":\"white\",\"radialaxis\":{\"gridcolor\":\"#EBF0F8\",\"linecolor\":\"#EBF0F8\",\"ticks\":\"\"}},\"scene\":{\"xaxis\":{\"backgroundcolor\":\"white\",\"gridcolor\":\"#DFE8F3\",\"gridwidth\":2,\"linecolor\":\"#EBF0F8\",\"showbackground\":true,\"ticks\":\"\",\"zerolinecolor\":\"#EBF0F8\"},\"yaxis\":{\"backgroundcolor\":\"white\",\"gridcolor\":\"#DFE8F3\",\"gridwidth\":2,\"linecolor\":\"#EBF0F8\",\"showbackground\":true,\"ticks\":\"\",\"zerolinecolor\":\"#EBF0F8\"},\"zaxis\":{\"backgroundcolor\":\"white\",\"gridcolor\":\"#DFE8F3\",\"gridwidth\":2,\"linecolor\":\"#EBF0F8\",\"showbackground\":true,\"ticks\":\"\",\"zerolinecolor\":\"#EBF0F8\"}},\"shapedefaults\":{\"line\":{\"color\":\"#2a3f5f\"}},\"ternary\":{\"aaxis\":{\"gridcolor\":\"#DFE8F3\",\"linecolor\":\"#A2B1C6\",\"ticks\":\"\"},\"baxis\":{\"gridcolor\":\"#DFE8F3\",\"linecolor\":\"#A2B1C6\",\"ticks\":\"\"},\"bgcolor\":\"white\",\"caxis\":{\"gridcolor\":\"#DFE8F3\",\"linecolor\":\"#A2B1C6\",\"ticks\":\"\"}},\"title\":{\"x\":0.05},\"xaxis\":{\"automargin\":true,\"gridcolor\":\"#EBF0F8\",\"linecolor\":\"#EBF0F8\",\"ticks\":\"\",\"title\":{\"standoff\":15},\"zerolinecolor\":\"#EBF0F8\",\"zerolinewidth\":2},\"yaxis\":{\"automargin\":true,\"gridcolor\":\"#EBF0F8\",\"linecolor\":\"#EBF0F8\",\"ticks\":\"\",\"title\":{\"standoff\":15},\"zerolinecolor\":\"#EBF0F8\",\"zerolinewidth\":2}}},\"xaxis\":{\"anchor\":\"y\",\"domain\":[0.0,1.0],\"title\":{\"text\":\"Time\"},\"rangeslider\":{\"visible\":true}},\"yaxis\":{\"anchor\":\"x\",\"domain\":[0.0,1.0],\"title\":{\"text\":\"Number of trades every minute\"}},\"legend\":{\"tracegroupgap\":0},\"margin\":{\"t\":60},\"title\":{\"text\":\"Dogecoin Volume Traded\",\"y\":0.94,\"x\":0.5,\"xanchor\":\"center\",\"yanchor\":\"top\"},\"showlegend\":true},                        {\"responsive\": true}                    ).then(function(){\n",
              "                            \n",
              "var gd = document.getElementById('598fb738-d9ca-4d12-bd34-ba5e552b3c66');\n",
              "var x = new MutationObserver(function (mutations, observer) {{\n",
              "        var display = window.getComputedStyle(gd).display;\n",
              "        if (!display || display === 'none') {{\n",
              "            console.log([gd, 'removed!']);\n",
              "            Plotly.purge(gd);\n",
              "            observer.disconnect();\n",
              "        }}\n",
              "}});\n",
              "\n",
              "// Listen for the removal of the full notebook cells\n",
              "var notebookContainer = gd.closest('#notebook-container');\n",
              "if (notebookContainer) {{\n",
              "    x.observe(notebookContainer, {childList: true});\n",
              "}}\n",
              "\n",
              "// Listen for the clearing of the current output cell\n",
              "var outputEl = gd.closest('.output');\n",
              "if (outputEl) {{\n",
              "    x.observe(outputEl, {childList: true});\n",
              "}}\n",
              "\n",
              "                        })                };                            </script>        </div>\n",
              "</body>\n",
              "</html>"
            ]
          },
          "metadata": {}
        }
      ]
    },
    {
      "cell_type": "markdown",
      "source": [
        "### Binance Coin Volume Traded for last 300 rows"
      ],
      "metadata": {
        "id": "E-BolFEuUFux"
      }
    },
    {
      "cell_type": "code",
      "source": [
        "vol_traded(dog[-350:], \"bin\",color = \"Red\")"
      ],
      "metadata": {
        "colab": {
          "base_uri": "https://localhost:8080/",
          "height": 542
        },
        "id": "GmFT4F7HUMuh",
        "outputId": "9765e1ab-a3e0-4023-ea7c-50a49481d1d9"
      },
      "execution_count": null,
      "outputs": [
        {
          "output_type": "display_data",
          "data": {
            "text/html": [
              "<html>\n",
              "<head><meta charset=\"utf-8\" /></head>\n",
              "<body>\n",
              "    <div>            <script src=\"https://cdnjs.cloudflare.com/ajax/libs/mathjax/2.7.5/MathJax.js?config=TeX-AMS-MML_SVG\"></script><script type=\"text/javascript\">if (window.MathJax) {MathJax.Hub.Config({SVG: {font: \"STIX-Web\"}});}</script>                <script type=\"text/javascript\">window.PlotlyConfig = {MathJaxConfig: 'local'};</script>\n",
              "        <script src=\"https://cdn.plot.ly/plotly-2.8.3.min.js\"></script>                <div id=\"05a195d0-1db6-42a0-8916-20316d906cde\" class=\"plotly-graph-div\" style=\"height:525px; width:100%;\"></div>            <script type=\"text/javascript\">                                    window.PLOTLYENV=window.PLOTLYENV || {};                                    if (document.getElementById(\"05a195d0-1db6-42a0-8916-20316d906cde\")) {                    Plotly.newPlot(                        \"05a195d0-1db6-42a0-8916-20316d906cde\",                        [{\"hovertemplate\":\"timestamp=%{x}<br>Volume=%{y}<extra></extra>\",\"legendgroup\":\"\",\"line\":{\"color\":\"Red\"},\"marker\":{\"symbol\":\"circle\"},\"mode\":\"lines+markers\",\"name\":\"\",\"orientation\":\"v\",\"showlegend\":false,\"stackgroup\":\"1\",\"x\":[\"2021-09-20T18:11:00\",\"2021-09-20T18:12:00\",\"2021-09-20T18:13:00\",\"2021-09-20T18:14:00\",\"2021-09-20T18:15:00\",\"2021-09-20T18:16:00\",\"2021-09-20T18:17:00\",\"2021-09-20T18:18:00\",\"2021-09-20T18:19:00\",\"2021-09-20T18:20:00\",\"2021-09-20T18:21:00\",\"2021-09-20T18:22:00\",\"2021-09-20T18:23:00\",\"2021-09-20T18:24:00\",\"2021-09-20T18:25:00\",\"2021-09-20T18:26:00\",\"2021-09-20T18:27:00\",\"2021-09-20T18:28:00\",\"2021-09-20T18:29:00\",\"2021-09-20T18:30:00\",\"2021-09-20T18:31:00\",\"2021-09-20T18:32:00\",\"2021-09-20T18:33:00\",\"2021-09-20T18:34:00\",\"2021-09-20T18:35:00\",\"2021-09-20T18:36:00\",\"2021-09-20T18:37:00\",\"2021-09-20T18:38:00\",\"2021-09-20T18:39:00\",\"2021-09-20T18:40:00\",\"2021-09-20T18:41:00\",\"2021-09-20T18:42:00\",\"2021-09-20T18:43:00\",\"2021-09-20T18:44:00\",\"2021-09-20T18:45:00\",\"2021-09-20T18:46:00\",\"2021-09-20T18:47:00\",\"2021-09-20T18:48:00\",\"2021-09-20T18:49:00\",\"2021-09-20T18:50:00\",\"2021-09-20T18:51:00\",\"2021-09-20T18:52:00\",\"2021-09-20T18:53:00\",\"2021-09-20T18:54:00\",\"2021-09-20T18:55:00\",\"2021-09-20T18:56:00\",\"2021-09-20T18:57:00\",\"2021-09-20T18:58:00\",\"2021-09-20T18:59:00\",\"2021-09-20T19:00:00\",\"2021-09-20T19:01:00\",\"2021-09-20T19:02:00\",\"2021-09-20T19:03:00\",\"2021-09-20T19:04:00\",\"2021-09-20T19:05:00\",\"2021-09-20T19:06:00\",\"2021-09-20T19:07:00\",\"2021-09-20T19:08:00\",\"2021-09-20T19:09:00\",\"2021-09-20T19:10:00\",\"2021-09-20T19:11:00\",\"2021-09-20T19:12:00\",\"2021-09-20T19:13:00\",\"2021-09-20T19:14:00\",\"2021-09-20T19:15:00\",\"2021-09-20T19:16:00\",\"2021-09-20T19:17:00\",\"2021-09-20T19:18:00\",\"2021-09-20T19:19:00\",\"2021-09-20T19:20:00\",\"2021-09-20T19:21:00\",\"2021-09-20T19:22:00\",\"2021-09-20T19:23:00\",\"2021-09-20T19:24:00\",\"2021-09-20T19:25:00\",\"2021-09-20T19:26:00\",\"2021-09-20T19:27:00\",\"2021-09-20T19:28:00\",\"2021-09-20T19:29:00\",\"2021-09-20T19:30:00\",\"2021-09-20T19:31:00\",\"2021-09-20T19:32:00\",\"2021-09-20T19:33:00\",\"2021-09-20T19:34:00\",\"2021-09-20T19:35:00\",\"2021-09-20T19:36:00\",\"2021-09-20T19:37:00\",\"2021-09-20T19:38:00\",\"2021-09-20T19:39:00\",\"2021-09-20T19:40:00\",\"2021-09-20T19:41:00\",\"2021-09-20T19:42:00\",\"2021-09-20T19:43:00\",\"2021-09-20T19:44:00\",\"2021-09-20T19:45:00\",\"2021-09-20T19:46:00\",\"2021-09-20T19:47:00\",\"2021-09-20T19:48:00\",\"2021-09-20T19:49:00\",\"2021-09-20T19:50:00\",\"2021-09-20T19:51:00\",\"2021-09-20T19:52:00\",\"2021-09-20T19:53:00\",\"2021-09-20T19:54:00\",\"2021-09-20T19:55:00\",\"2021-09-20T19:56:00\",\"2021-09-20T19:57:00\",\"2021-09-20T19:58:00\",\"2021-09-20T19:59:00\",\"2021-09-20T20:00:00\",\"2021-09-20T20:01:00\",\"2021-09-20T20:02:00\",\"2021-09-20T20:03:00\",\"2021-09-20T20:04:00\",\"2021-09-20T20:05:00\",\"2021-09-20T20:06:00\",\"2021-09-20T20:07:00\",\"2021-09-20T20:08:00\",\"2021-09-20T20:09:00\",\"2021-09-20T20:10:00\",\"2021-09-20T20:11:00\",\"2021-09-20T20:12:00\",\"2021-09-20T20:13:00\",\"2021-09-20T20:14:00\",\"2021-09-20T20:15:00\",\"2021-09-20T20:16:00\",\"2021-09-20T20:17:00\",\"2021-09-20T20:18:00\",\"2021-09-20T20:19:00\",\"2021-09-20T20:20:00\",\"2021-09-20T20:21:00\",\"2021-09-20T20:22:00\",\"2021-09-20T20:23:00\",\"2021-09-20T20:24:00\",\"2021-09-20T20:25:00\",\"2021-09-20T20:26:00\",\"2021-09-20T20:27:00\",\"2021-09-20T20:28:00\",\"2021-09-20T20:29:00\",\"2021-09-20T20:30:00\",\"2021-09-20T20:31:00\",\"2021-09-20T20:32:00\",\"2021-09-20T20:33:00\",\"2021-09-20T20:34:00\",\"2021-09-20T20:35:00\",\"2021-09-20T20:36:00\",\"2021-09-20T20:37:00\",\"2021-09-20T20:38:00\",\"2021-09-20T20:39:00\",\"2021-09-20T20:40:00\",\"2021-09-20T20:41:00\",\"2021-09-20T20:42:00\",\"2021-09-20T20:43:00\",\"2021-09-20T20:44:00\",\"2021-09-20T20:45:00\",\"2021-09-20T20:46:00\",\"2021-09-20T20:47:00\",\"2021-09-20T20:48:00\",\"2021-09-20T20:49:00\",\"2021-09-20T20:50:00\",\"2021-09-20T20:51:00\",\"2021-09-20T20:52:00\",\"2021-09-20T20:53:00\",\"2021-09-20T20:54:00\",\"2021-09-20T20:55:00\",\"2021-09-20T20:56:00\",\"2021-09-20T20:57:00\",\"2021-09-20T20:58:00\",\"2021-09-20T20:59:00\",\"2021-09-20T21:00:00\",\"2021-09-20T21:01:00\",\"2021-09-20T21:02:00\",\"2021-09-20T21:03:00\",\"2021-09-20T21:04:00\",\"2021-09-20T21:05:00\",\"2021-09-20T21:06:00\",\"2021-09-20T21:07:00\",\"2021-09-20T21:08:00\",\"2021-09-20T21:09:00\",\"2021-09-20T21:10:00\",\"2021-09-20T21:11:00\",\"2021-09-20T21:12:00\",\"2021-09-20T21:13:00\",\"2021-09-20T21:14:00\",\"2021-09-20T21:15:00\",\"2021-09-20T21:16:00\",\"2021-09-20T21:17:00\",\"2021-09-20T21:18:00\",\"2021-09-20T21:19:00\",\"2021-09-20T21:20:00\",\"2021-09-20T21:21:00\",\"2021-09-20T21:22:00\",\"2021-09-20T21:23:00\",\"2021-09-20T21:24:00\",\"2021-09-20T21:25:00\",\"2021-09-20T21:26:00\",\"2021-09-20T21:27:00\",\"2021-09-20T21:28:00\",\"2021-09-20T21:29:00\",\"2021-09-20T21:30:00\",\"2021-09-20T21:31:00\",\"2021-09-20T21:32:00\",\"2021-09-20T21:33:00\",\"2021-09-20T21:34:00\",\"2021-09-20T21:35:00\",\"2021-09-20T21:36:00\",\"2021-09-20T21:37:00\",\"2021-09-20T21:38:00\",\"2021-09-20T21:39:00\",\"2021-09-20T21:40:00\",\"2021-09-20T21:41:00\",\"2021-09-20T21:42:00\",\"2021-09-20T21:43:00\",\"2021-09-20T21:44:00\",\"2021-09-20T21:45:00\",\"2021-09-20T21:46:00\",\"2021-09-20T21:47:00\",\"2021-09-20T21:48:00\",\"2021-09-20T21:49:00\",\"2021-09-20T21:50:00\",\"2021-09-20T21:51:00\",\"2021-09-20T21:52:00\",\"2021-09-20T21:53:00\",\"2021-09-20T21:54:00\",\"2021-09-20T21:55:00\",\"2021-09-20T21:56:00\",\"2021-09-20T21:57:00\",\"2021-09-20T21:58:00\",\"2021-09-20T21:59:00\",\"2021-09-20T22:00:00\",\"2021-09-20T22:01:00\",\"2021-09-20T22:02:00\",\"2021-09-20T22:03:00\",\"2021-09-20T22:04:00\",\"2021-09-20T22:05:00\",\"2021-09-20T22:06:00\",\"2021-09-20T22:07:00\",\"2021-09-20T22:08:00\",\"2021-09-20T22:09:00\",\"2021-09-20T22:10:00\",\"2021-09-20T22:11:00\",\"2021-09-20T22:12:00\",\"2021-09-20T22:13:00\",\"2021-09-20T22:14:00\",\"2021-09-20T22:15:00\",\"2021-09-20T22:16:00\",\"2021-09-20T22:17:00\",\"2021-09-20T22:18:00\",\"2021-09-20T22:19:00\",\"2021-09-20T22:20:00\",\"2021-09-20T22:21:00\",\"2021-09-20T22:22:00\",\"2021-09-20T22:23:00\",\"2021-09-20T22:24:00\",\"2021-09-20T22:25:00\",\"2021-09-20T22:26:00\",\"2021-09-20T22:27:00\",\"2021-09-20T22:28:00\",\"2021-09-20T22:29:00\",\"2021-09-20T22:30:00\",\"2021-09-20T22:31:00\",\"2021-09-20T22:32:00\",\"2021-09-20T22:33:00\",\"2021-09-20T22:34:00\",\"2021-09-20T22:35:00\",\"2021-09-20T22:36:00\",\"2021-09-20T22:37:00\",\"2021-09-20T22:38:00\",\"2021-09-20T22:39:00\",\"2021-09-20T22:40:00\",\"2021-09-20T22:41:00\",\"2021-09-20T22:42:00\",\"2021-09-20T22:43:00\",\"2021-09-20T22:44:00\",\"2021-09-20T22:45:00\",\"2021-09-20T22:46:00\",\"2021-09-20T22:47:00\",\"2021-09-20T22:48:00\",\"2021-09-20T22:49:00\",\"2021-09-20T22:50:00\",\"2021-09-20T22:51:00\",\"2021-09-20T22:52:00\",\"2021-09-20T22:53:00\",\"2021-09-20T22:54:00\",\"2021-09-20T22:55:00\",\"2021-09-20T22:56:00\",\"2021-09-20T22:57:00\",\"2021-09-20T22:58:00\",\"2021-09-20T22:59:00\",\"2021-09-20T23:00:00\",\"2021-09-20T23:01:00\",\"2021-09-20T23:02:00\",\"2021-09-20T23:03:00\",\"2021-09-20T23:04:00\",\"2021-09-20T23:05:00\",\"2021-09-20T23:06:00\",\"2021-09-20T23:07:00\",\"2021-09-20T23:08:00\",\"2021-09-20T23:09:00\",\"2021-09-20T23:10:00\",\"2021-09-20T23:11:00\",\"2021-09-20T23:12:00\",\"2021-09-20T23:13:00\",\"2021-09-20T23:14:00\",\"2021-09-20T23:15:00\",\"2021-09-20T23:16:00\",\"2021-09-20T23:17:00\",\"2021-09-20T23:18:00\",\"2021-09-20T23:19:00\",\"2021-09-20T23:20:00\",\"2021-09-20T23:21:00\",\"2021-09-20T23:22:00\",\"2021-09-20T23:23:00\",\"2021-09-20T23:24:00\",\"2021-09-20T23:25:00\",\"2021-09-20T23:26:00\",\"2021-09-20T23:27:00\",\"2021-09-20T23:28:00\",\"2021-09-20T23:29:00\",\"2021-09-20T23:30:00\",\"2021-09-20T23:31:00\",\"2021-09-20T23:32:00\",\"2021-09-20T23:33:00\",\"2021-09-20T23:34:00\",\"2021-09-20T23:35:00\",\"2021-09-20T23:36:00\",\"2021-09-20T23:37:00\",\"2021-09-20T23:38:00\",\"2021-09-20T23:39:00\",\"2021-09-20T23:40:00\",\"2021-09-20T23:41:00\",\"2021-09-20T23:42:00\",\"2021-09-20T23:43:00\",\"2021-09-20T23:44:00\",\"2021-09-20T23:45:00\",\"2021-09-20T23:46:00\",\"2021-09-20T23:47:00\",\"2021-09-20T23:48:00\",\"2021-09-20T23:49:00\",\"2021-09-20T23:50:00\",\"2021-09-20T23:51:00\",\"2021-09-20T23:52:00\",\"2021-09-20T23:53:00\",\"2021-09-20T23:54:00\",\"2021-09-20T23:55:00\",\"2021-09-20T23:56:00\",\"2021-09-20T23:57:00\",\"2021-09-20T23:58:00\",\"2021-09-20T23:59:00\",\"2021-09-21T00:00:00\"],\"xaxis\":\"x\",\"y\":[1520103.96576022,1017311.8070154102,596126.97104142,619233.4183478814,648532.3277148579,243594.84092347,621435.77790431,949552.4764,1044921.695833679,590942.2251178207,1752530.7335592809,1328709.860851117,3934890.177876728,4310171.349403855,1544453.597556869,667192.6363296154,2640746.9595,3996340.34866804,827732.8180527568,4005241.8416441707,6531683.231552288,747092.9568,7511820.464650534,3300405.18716323,1525591.7465132724,5177139.439234523,3403459.31002639,4291542.900836531,4432816.508706391,880296.6477048111,921916.212675368,1077455.211811597,1119367.88688635,1158302.9020891846,522535.2257613968,1601067.48086016,1465255.7671974746,989689.2027390684,1132093.0927765137,967405.31068758,460028.91455903,335222.96064733004,2022405.7688430918,2323647.0116872527,6235780.511548484,1868585.6579198525,1687196.6392214056,1896300.0384098159,1346152.8533066509,1216363.4591301652,1445541.3399158588,1291741.455553508,871344.9273646113,740543.9987267698,856460.8318214762,1531826.7088809926,2197674.779755986,1888023.8591311432,5164811.100928137,3525920.7062880923,3291964.6825300287,2607914.15196423,3834812.052069525,6401281.21052011,3149416.5842449823,2639883.1659000004,1938183.079909421,1499830.5779996,4805053.956785128,7199500.489457005,3954737.797599767,2764534.5552453967,2624076.3510639057,3708158.874388408,1179077.2241312268,1898894.6563701641,1272057.722869526,2140559.2921401258,2104036.710656229,3932711.92485722,3928943.407287757,5431378.436814718,2400355.181011639,2021501.5126465082,1159783.3846959108,5743233.904630002,1828573.2409801504,1106095.15680386,964453.6951784472,1296855.2192804113,740449.7160771082,1910667.5220159069,8424762.999620471,4293754.0429456895,2977944.0526255,1444164.2246047163,1867637.49066471,1167373.93251439,852260.6944815902,1861654.6080155356,645195.9588393386,1392908.3245889898,3507774.660602004,1761130.5955239753,2208452.02450569,1041988.41848122,1105910.19459994,732724.3371794494,1038736.11108136,2157376.752352016,2510160.447715486,16741641.802824976,2345695.5691024708,3796832.5584538686,1119319.37334295,2332848.2627000003,1183416.5615280992,2037531.63775168,449216.51080790994,1287143.29041271,786228.6387370796,984950.9708269414,1052418.4837999998,569886.5842656606,561817.1552022719,626272.61811972,7018010.584311151,358906.83191427524,406163.96411392,1527046.9858941424,621331.7108834,944474.5909854398,774101.9029,364455.53895462,394144.80049222,578916.110724401,660627.6028454901,251506.5302645,1540560.6642224204,812934.63405572,760487.6455,434459.4479,353370.66789999994,1347756.76899882,3066879.82060696,413066.01599478046,564436.4113196899,388661.72327300225,703525.6192035702,5996670.06104885,3982659.6232598964,1994219.5046379687,2345448.827477098,682957.3596,1965935.42342912,2363294.137658173,1433882.1696731106,1411961.92386571,1558180.00865976,1593029.154343241,1382385.9011609624,1377145.791941446,890560.60111077,668403.52013303,390376.38750000007,1795417.209258901,1261457.91269834,1499703.05428555,1183578.1582655644,2889309.5082848133,2217323.539487804,1461510.1231211547,1169443.3393066085,1155095.0934403716,1564504.09991614,1182123.3808000002,1640415.7922,941844.466,356554.73299999995,596638.52531829,907313.95464424,314594.80427511944,492969.37111838,618712.1936,440851.55909138854,433338.0286523573,673630.4758,500147.2445677057,569291.1149426902,1966894.9829207102,965431.2955316298,662616.3114444701,658953.1309,522859.5919363,941562.3968,832920.7809900256,1165722.37185488,377437.6903,774527.2157939059,51236.9404,98087.73760000002,53656.8458,132727.7880167388,197567.5055,100868.3938,173109.44004857,311409.65430000005,265315.3200000001,104103.83687988,235902.4591059349,104424.1827,146038.38646737006,75884.25490000001,178483.68880000003,729878.6519783499,715364.3304989891,128196.6592,1174829.264466,363961.69870365,396379.969701849,1568769.1307,964416.9430571262,872389.23683935,219683.56316302,99530.80779999998,709656.478439309,547410.7633233218,200186.1839002198,1652085.6296391,795173.0380522416,1179241.7527141669,492416.1627778696,478158.5189226343,532801.5171613634,1122983.0689785948,1006349.4992636044,163452.9895,494940.0255,490750.8519449586,237861.24865905,578921.2505155699,251741.62582460113,178695.92897473,1507416.4798501737,1023553.4935873076,1256964.9874733577,1563175.8252799944,1231534.0350248478,484275.05342796975,843863.9101114038,1681591.6878084217,1114582.27127117,863378.2250149023,346240.4568809955,482396.68702011,740361.78862307,445649.40456811,260721.4043472,664073.23062121,231944.59067736,537206.8982,1061376.30658798,1168484.09736949,366190.85066258116,501217.3581079585,534698.435737316,743742.2405082445,614899.0590097801,778720.1202914001,630036.797,384492.2875026242,387463.8112343917,343536.9557804314,672624.5793393487,501142.1923,1057892.5736729454,1138607.45407263,809578.2697,2827660.917654772,3886105.25521448,1919968.822,2036199.747398376,3407635.9934651973,6335994.360716187,8080741.986395196,4071509.99404916,2065798.1113818674,2839180.9675170183,2541384.298316083,1086847.6560490974,1235257.3094408498,3286445.0576475007,2834758.58693488,2268915.765104855,2960989.5276008192,2885867.655696972,2640643.7186136283,3765709.7245602338,1907317.6519645527,1258589.915118394,4024663.4116317024,1927861.351689499,1597408.9057135088,3615155.1257723495,2037641.04177203,2167767.0980691165,3526387.52652437,3728992.733573714,2076114.829378631,1142213.602354287,1677282.0840980168,3255073.9538082667,2338010.581627875,1801839.8456877428,2922175.6705392767,1857476.1472804581,2379226.6361571443,2387982.79138712,1220536.6905669593,2613096.5943021565,1678552.3552499546,1276049.2009919016,1370802.3350511931,1402437.2784110424,2541797.007712188,1220218.92972804,1040098.55589447,603092.2494534097,1565926.6740164969,1138011.9243548017,926539.9777554849,1257670.2469483973,793682.5534436844,856799.6511363523,835833.4600115407,1240642.6325948224,649896.2150832401,2017259.716765684,1120575.2025328428,1337674.0897001529,576901.0812105065,414758.1869,610894.4999233393,320047.7362191332,918059.894679338,1895145.891879191,1059219.41883269,420172.52342578786,2583980.509321019,1140945.9875558473],\"yaxis\":\"y\",\"type\":\"scatter\"}],                        {\"template\":{\"data\":{\"barpolar\":[{\"marker\":{\"line\":{\"color\":\"white\",\"width\":0.5},\"pattern\":{\"fillmode\":\"overlay\",\"size\":10,\"solidity\":0.2}},\"type\":\"barpolar\"}],\"bar\":[{\"error_x\":{\"color\":\"#2a3f5f\"},\"error_y\":{\"color\":\"#2a3f5f\"},\"marker\":{\"line\":{\"color\":\"white\",\"width\":0.5},\"pattern\":{\"fillmode\":\"overlay\",\"size\":10,\"solidity\":0.2}},\"type\":\"bar\"}],\"carpet\":[{\"aaxis\":{\"endlinecolor\":\"#2a3f5f\",\"gridcolor\":\"#C8D4E3\",\"linecolor\":\"#C8D4E3\",\"minorgridcolor\":\"#C8D4E3\",\"startlinecolor\":\"#2a3f5f\"},\"baxis\":{\"endlinecolor\":\"#2a3f5f\",\"gridcolor\":\"#C8D4E3\",\"linecolor\":\"#C8D4E3\",\"minorgridcolor\":\"#C8D4E3\",\"startlinecolor\":\"#2a3f5f\"},\"type\":\"carpet\"}],\"choropleth\":[{\"colorbar\":{\"outlinewidth\":0,\"ticks\":\"\"},\"type\":\"choropleth\"}],\"contourcarpet\":[{\"colorbar\":{\"outlinewidth\":0,\"ticks\":\"\"},\"type\":\"contourcarpet\"}],\"contour\":[{\"colorbar\":{\"outlinewidth\":0,\"ticks\":\"\"},\"colorscale\":[[0.0,\"#0d0887\"],[0.1111111111111111,\"#46039f\"],[0.2222222222222222,\"#7201a8\"],[0.3333333333333333,\"#9c179e\"],[0.4444444444444444,\"#bd3786\"],[0.5555555555555556,\"#d8576b\"],[0.6666666666666666,\"#ed7953\"],[0.7777777777777778,\"#fb9f3a\"],[0.8888888888888888,\"#fdca26\"],[1.0,\"#f0f921\"]],\"type\":\"contour\"}],\"heatmapgl\":[{\"colorbar\":{\"outlinewidth\":0,\"ticks\":\"\"},\"colorscale\":[[0.0,\"#0d0887\"],[0.1111111111111111,\"#46039f\"],[0.2222222222222222,\"#7201a8\"],[0.3333333333333333,\"#9c179e\"],[0.4444444444444444,\"#bd3786\"],[0.5555555555555556,\"#d8576b\"],[0.6666666666666666,\"#ed7953\"],[0.7777777777777778,\"#fb9f3a\"],[0.8888888888888888,\"#fdca26\"],[1.0,\"#f0f921\"]],\"type\":\"heatmapgl\"}],\"heatmap\":[{\"colorbar\":{\"outlinewidth\":0,\"ticks\":\"\"},\"colorscale\":[[0.0,\"#0d0887\"],[0.1111111111111111,\"#46039f\"],[0.2222222222222222,\"#7201a8\"],[0.3333333333333333,\"#9c179e\"],[0.4444444444444444,\"#bd3786\"],[0.5555555555555556,\"#d8576b\"],[0.6666666666666666,\"#ed7953\"],[0.7777777777777778,\"#fb9f3a\"],[0.8888888888888888,\"#fdca26\"],[1.0,\"#f0f921\"]],\"type\":\"heatmap\"}],\"histogram2dcontour\":[{\"colorbar\":{\"outlinewidth\":0,\"ticks\":\"\"},\"colorscale\":[[0.0,\"#0d0887\"],[0.1111111111111111,\"#46039f\"],[0.2222222222222222,\"#7201a8\"],[0.3333333333333333,\"#9c179e\"],[0.4444444444444444,\"#bd3786\"],[0.5555555555555556,\"#d8576b\"],[0.6666666666666666,\"#ed7953\"],[0.7777777777777778,\"#fb9f3a\"],[0.8888888888888888,\"#fdca26\"],[1.0,\"#f0f921\"]],\"type\":\"histogram2dcontour\"}],\"histogram2d\":[{\"colorbar\":{\"outlinewidth\":0,\"ticks\":\"\"},\"colorscale\":[[0.0,\"#0d0887\"],[0.1111111111111111,\"#46039f\"],[0.2222222222222222,\"#7201a8\"],[0.3333333333333333,\"#9c179e\"],[0.4444444444444444,\"#bd3786\"],[0.5555555555555556,\"#d8576b\"],[0.6666666666666666,\"#ed7953\"],[0.7777777777777778,\"#fb9f3a\"],[0.8888888888888888,\"#fdca26\"],[1.0,\"#f0f921\"]],\"type\":\"histogram2d\"}],\"histogram\":[{\"marker\":{\"pattern\":{\"fillmode\":\"overlay\",\"size\":10,\"solidity\":0.2}},\"type\":\"histogram\"}],\"mesh3d\":[{\"colorbar\":{\"outlinewidth\":0,\"ticks\":\"\"},\"type\":\"mesh3d\"}],\"parcoords\":[{\"line\":{\"colorbar\":{\"outlinewidth\":0,\"ticks\":\"\"}},\"type\":\"parcoords\"}],\"pie\":[{\"automargin\":true,\"type\":\"pie\"}],\"scatter3d\":[{\"line\":{\"colorbar\":{\"outlinewidth\":0,\"ticks\":\"\"}},\"marker\":{\"colorbar\":{\"outlinewidth\":0,\"ticks\":\"\"}},\"type\":\"scatter3d\"}],\"scattercarpet\":[{\"marker\":{\"colorbar\":{\"outlinewidth\":0,\"ticks\":\"\"}},\"type\":\"scattercarpet\"}],\"scattergeo\":[{\"marker\":{\"colorbar\":{\"outlinewidth\":0,\"ticks\":\"\"}},\"type\":\"scattergeo\"}],\"scattergl\":[{\"marker\":{\"colorbar\":{\"outlinewidth\":0,\"ticks\":\"\"}},\"type\":\"scattergl\"}],\"scattermapbox\":[{\"marker\":{\"colorbar\":{\"outlinewidth\":0,\"ticks\":\"\"}},\"type\":\"scattermapbox\"}],\"scatterpolargl\":[{\"marker\":{\"colorbar\":{\"outlinewidth\":0,\"ticks\":\"\"}},\"type\":\"scatterpolargl\"}],\"scatterpolar\":[{\"marker\":{\"colorbar\":{\"outlinewidth\":0,\"ticks\":\"\"}},\"type\":\"scatterpolar\"}],\"scatter\":[{\"marker\":{\"colorbar\":{\"outlinewidth\":0,\"ticks\":\"\"}},\"type\":\"scatter\"}],\"scatterternary\":[{\"marker\":{\"colorbar\":{\"outlinewidth\":0,\"ticks\":\"\"}},\"type\":\"scatterternary\"}],\"surface\":[{\"colorbar\":{\"outlinewidth\":0,\"ticks\":\"\"},\"colorscale\":[[0.0,\"#0d0887\"],[0.1111111111111111,\"#46039f\"],[0.2222222222222222,\"#7201a8\"],[0.3333333333333333,\"#9c179e\"],[0.4444444444444444,\"#bd3786\"],[0.5555555555555556,\"#d8576b\"],[0.6666666666666666,\"#ed7953\"],[0.7777777777777778,\"#fb9f3a\"],[0.8888888888888888,\"#fdca26\"],[1.0,\"#f0f921\"]],\"type\":\"surface\"}],\"table\":[{\"cells\":{\"fill\":{\"color\":\"#EBF0F8\"},\"line\":{\"color\":\"white\"}},\"header\":{\"fill\":{\"color\":\"#C8D4E3\"},\"line\":{\"color\":\"white\"}},\"type\":\"table\"}]},\"layout\":{\"annotationdefaults\":{\"arrowcolor\":\"#2a3f5f\",\"arrowhead\":0,\"arrowwidth\":1},\"autotypenumbers\":\"strict\",\"coloraxis\":{\"colorbar\":{\"outlinewidth\":0,\"ticks\":\"\"}},\"colorscale\":{\"diverging\":[[0,\"#8e0152\"],[0.1,\"#c51b7d\"],[0.2,\"#de77ae\"],[0.3,\"#f1b6da\"],[0.4,\"#fde0ef\"],[0.5,\"#f7f7f7\"],[0.6,\"#e6f5d0\"],[0.7,\"#b8e186\"],[0.8,\"#7fbc41\"],[0.9,\"#4d9221\"],[1,\"#276419\"]],\"sequential\":[[0.0,\"#0d0887\"],[0.1111111111111111,\"#46039f\"],[0.2222222222222222,\"#7201a8\"],[0.3333333333333333,\"#9c179e\"],[0.4444444444444444,\"#bd3786\"],[0.5555555555555556,\"#d8576b\"],[0.6666666666666666,\"#ed7953\"],[0.7777777777777778,\"#fb9f3a\"],[0.8888888888888888,\"#fdca26\"],[1.0,\"#f0f921\"]],\"sequentialminus\":[[0.0,\"#0d0887\"],[0.1111111111111111,\"#46039f\"],[0.2222222222222222,\"#7201a8\"],[0.3333333333333333,\"#9c179e\"],[0.4444444444444444,\"#bd3786\"],[0.5555555555555556,\"#d8576b\"],[0.6666666666666666,\"#ed7953\"],[0.7777777777777778,\"#fb9f3a\"],[0.8888888888888888,\"#fdca26\"],[1.0,\"#f0f921\"]]},\"colorway\":[\"#636efa\",\"#EF553B\",\"#00cc96\",\"#ab63fa\",\"#FFA15A\",\"#19d3f3\",\"#FF6692\",\"#B6E880\",\"#FF97FF\",\"#FECB52\"],\"font\":{\"color\":\"#2a3f5f\"},\"geo\":{\"bgcolor\":\"white\",\"lakecolor\":\"white\",\"landcolor\":\"white\",\"showlakes\":true,\"showland\":true,\"subunitcolor\":\"#C8D4E3\"},\"hoverlabel\":{\"align\":\"left\"},\"hovermode\":\"closest\",\"mapbox\":{\"style\":\"light\"},\"paper_bgcolor\":\"white\",\"plot_bgcolor\":\"white\",\"polar\":{\"angularaxis\":{\"gridcolor\":\"#EBF0F8\",\"linecolor\":\"#EBF0F8\",\"ticks\":\"\"},\"bgcolor\":\"white\",\"radialaxis\":{\"gridcolor\":\"#EBF0F8\",\"linecolor\":\"#EBF0F8\",\"ticks\":\"\"}},\"scene\":{\"xaxis\":{\"backgroundcolor\":\"white\",\"gridcolor\":\"#DFE8F3\",\"gridwidth\":2,\"linecolor\":\"#EBF0F8\",\"showbackground\":true,\"ticks\":\"\",\"zerolinecolor\":\"#EBF0F8\"},\"yaxis\":{\"backgroundcolor\":\"white\",\"gridcolor\":\"#DFE8F3\",\"gridwidth\":2,\"linecolor\":\"#EBF0F8\",\"showbackground\":true,\"ticks\":\"\",\"zerolinecolor\":\"#EBF0F8\"},\"zaxis\":{\"backgroundcolor\":\"white\",\"gridcolor\":\"#DFE8F3\",\"gridwidth\":2,\"linecolor\":\"#EBF0F8\",\"showbackground\":true,\"ticks\":\"\",\"zerolinecolor\":\"#EBF0F8\"}},\"shapedefaults\":{\"line\":{\"color\":\"#2a3f5f\"}},\"ternary\":{\"aaxis\":{\"gridcolor\":\"#DFE8F3\",\"linecolor\":\"#A2B1C6\",\"ticks\":\"\"},\"baxis\":{\"gridcolor\":\"#DFE8F3\",\"linecolor\":\"#A2B1C6\",\"ticks\":\"\"},\"bgcolor\":\"white\",\"caxis\":{\"gridcolor\":\"#DFE8F3\",\"linecolor\":\"#A2B1C6\",\"ticks\":\"\"}},\"title\":{\"x\":0.05},\"xaxis\":{\"automargin\":true,\"gridcolor\":\"#EBF0F8\",\"linecolor\":\"#EBF0F8\",\"ticks\":\"\",\"title\":{\"standoff\":15},\"zerolinecolor\":\"#EBF0F8\",\"zerolinewidth\":2},\"yaxis\":{\"automargin\":true,\"gridcolor\":\"#EBF0F8\",\"linecolor\":\"#EBF0F8\",\"ticks\":\"\",\"title\":{\"standoff\":15},\"zerolinecolor\":\"#EBF0F8\",\"zerolinewidth\":2}}},\"xaxis\":{\"anchor\":\"y\",\"domain\":[0.0,1.0],\"title\":{\"text\":\"Time\"},\"rangeslider\":{\"visible\":true}},\"yaxis\":{\"anchor\":\"x\",\"domain\":[0.0,1.0],\"title\":{\"text\":\"Number of trades every minute\"}},\"legend\":{\"tracegroupgap\":0},\"margin\":{\"t\":60},\"title\":{\"text\":\"bin Volume Traded\",\"y\":0.94,\"x\":0.5,\"xanchor\":\"center\",\"yanchor\":\"top\"},\"showlegend\":true},                        {\"responsive\": true}                    ).then(function(){\n",
              "                            \n",
              "var gd = document.getElementById('05a195d0-1db6-42a0-8916-20316d906cde');\n",
              "var x = new MutationObserver(function (mutations, observer) {{\n",
              "        var display = window.getComputedStyle(gd).display;\n",
              "        if (!display || display === 'none') {{\n",
              "            console.log([gd, 'removed!']);\n",
              "            Plotly.purge(gd);\n",
              "            observer.disconnect();\n",
              "        }}\n",
              "}});\n",
              "\n",
              "// Listen for the removal of the full notebook cells\n",
              "var notebookContainer = gd.closest('#notebook-container');\n",
              "if (notebookContainer) {{\n",
              "    x.observe(notebookContainer, {childList: true});\n",
              "}}\n",
              "\n",
              "// Listen for the clearing of the current output cell\n",
              "var outputEl = gd.closest('.output');\n",
              "if (outputEl) {{\n",
              "    x.observe(outputEl, {childList: true});\n",
              "}}\n",
              "\n",
              "                        })                };                            </script>        </div>\n",
              "</body>\n",
              "</html>"
            ]
          },
          "metadata": {}
        }
      ]
    },
    {
      "cell_type": "markdown",
      "source": [
        "**For Ethereum**"
      ],
      "metadata": {
        "id": "ziMVwDy_HHXf"
      }
    },
    {
      "cell_type": "code",
      "source": [
        "ethereum_df['Close_diff'] = ethereum_df['Close'].diff()\n",
        "ethereum_df['Range'] = (ethereum_df['High'] - ethereum_df['Low'])\n",
        "ethereum_df['Volume_diff'] = ethereum_df['Volume'].diff()\n",
        "ethereum_df['Count_diff'] = ethereum_df['Count'].diff()\n",
        "ethereum_df = ethereum_df[1:]\n",
        "ethereum_df.head(10)"
      ],
      "metadata": {
        "colab": {
          "base_uri": "https://localhost:8080/",
          "height": 865
        },
        "id": "QJTmvFuF9FMp",
        "outputId": "d598f3d4-9cce-4e7c-ef4c-5734331304b6"
      },
      "execution_count": null,
      "outputs": [
        {
          "output_type": "stream",
          "name": "stderr",
          "text": [
            "/usr/local/lib/python3.7/dist-packages/ipykernel_launcher.py:1: SettingWithCopyWarning: \n",
            "A value is trying to be set on a copy of a slice from a DataFrame.\n",
            "Try using .loc[row_indexer,col_indexer] = value instead\n",
            "\n",
            "See the caveats in the documentation: https://pandas.pydata.org/pandas-docs/stable/user_guide/indexing.html#returning-a-view-versus-a-copy\n",
            "  \"\"\"Entry point for launching an IPython kernel.\n",
            "/usr/local/lib/python3.7/dist-packages/ipykernel_launcher.py:2: SettingWithCopyWarning: \n",
            "A value is trying to be set on a copy of a slice from a DataFrame.\n",
            "Try using .loc[row_indexer,col_indexer] = value instead\n",
            "\n",
            "See the caveats in the documentation: https://pandas.pydata.org/pandas-docs/stable/user_guide/indexing.html#returning-a-view-versus-a-copy\n",
            "  \n",
            "/usr/local/lib/python3.7/dist-packages/ipykernel_launcher.py:3: SettingWithCopyWarning: \n",
            "A value is trying to be set on a copy of a slice from a DataFrame.\n",
            "Try using .loc[row_indexer,col_indexer] = value instead\n",
            "\n",
            "See the caveats in the documentation: https://pandas.pydata.org/pandas-docs/stable/user_guide/indexing.html#returning-a-view-versus-a-copy\n",
            "  This is separate from the ipykernel package so we can avoid doing imports until\n",
            "/usr/local/lib/python3.7/dist-packages/ipykernel_launcher.py:4: SettingWithCopyWarning: \n",
            "A value is trying to be set on a copy of a slice from a DataFrame.\n",
            "Try using .loc[row_indexer,col_indexer] = value instead\n",
            "\n",
            "See the caveats in the documentation: https://pandas.pydata.org/pandas-docs/stable/user_guide/indexing.html#returning-a-view-versus-a-copy\n",
            "  after removing the cwd from sys.path.\n"
          ]
        },
        {
          "output_type": "execute_result",
          "data": {
            "text/html": [
              "\n",
              "  <div id=\"df-0bb433f6-c077-40ec-92c7-ba111393392a\">\n",
              "    <div class=\"colab-df-container\">\n",
              "      <div>\n",
              "<style scoped>\n",
              "    .dataframe tbody tr th:only-of-type {\n",
              "        vertical-align: middle;\n",
              "    }\n",
              "\n",
              "    .dataframe tbody tr th {\n",
              "        vertical-align: top;\n",
              "    }\n",
              "\n",
              "    .dataframe thead th {\n",
              "        text-align: right;\n",
              "    }\n",
              "</style>\n",
              "<table border=\"1\" class=\"dataframe\">\n",
              "  <thead>\n",
              "    <tr style=\"text-align: right;\">\n",
              "      <th></th>\n",
              "      <th>timestamp</th>\n",
              "      <th>Asset_ID</th>\n",
              "      <th>Count</th>\n",
              "      <th>Open</th>\n",
              "      <th>High</th>\n",
              "      <th>Low</th>\n",
              "      <th>Close</th>\n",
              "      <th>Volume</th>\n",
              "      <th>VWAP</th>\n",
              "      <th>Target</th>\n",
              "      <th>Close_diff</th>\n",
              "      <th>Range</th>\n",
              "      <th>Volume_diff</th>\n",
              "      <th>Count_diff</th>\n",
              "    </tr>\n",
              "  </thead>\n",
              "  <tbody>\n",
              "    <tr>\n",
              "      <th>13</th>\n",
              "      <td>1514764920</td>\n",
              "      <td>6</td>\n",
              "      <td>192.0</td>\n",
              "      <td>738.5075</td>\n",
              "      <td>745.14</td>\n",
              "      <td>732.49</td>\n",
              "      <td>738.2600</td>\n",
              "      <td>232.793141</td>\n",
              "      <td>738.268967</td>\n",
              "      <td>-0.004441</td>\n",
              "      <td>-0.2475</td>\n",
              "      <td>12.65</td>\n",
              "      <td>-103.194715</td>\n",
              "      <td>19.0</td>\n",
              "    </tr>\n",
              "    <tr>\n",
              "      <th>21</th>\n",
              "      <td>1514764980</td>\n",
              "      <td>6</td>\n",
              "      <td>120.0</td>\n",
              "      <td>738.3325</td>\n",
              "      <td>745.12</td>\n",
              "      <td>730.00</td>\n",
              "      <td>737.5025</td>\n",
              "      <td>174.138031</td>\n",
              "      <td>737.994457</td>\n",
              "      <td>-0.004206</td>\n",
              "      <td>-0.7575</td>\n",
              "      <td>15.12</td>\n",
              "      <td>-58.655110</td>\n",
              "      <td>-72.0</td>\n",
              "    </tr>\n",
              "    <tr>\n",
              "      <th>29</th>\n",
              "      <td>1514765040</td>\n",
              "      <td>6</td>\n",
              "      <td>156.0</td>\n",
              "      <td>737.2225</td>\n",
              "      <td>744.69</td>\n",
              "      <td>728.93</td>\n",
              "      <td>737.1025</td>\n",
              "      <td>165.383926</td>\n",
              "      <td>737.303631</td>\n",
              "      <td>-0.002205</td>\n",
              "      <td>-0.4000</td>\n",
              "      <td>15.76</td>\n",
              "      <td>-8.754106</td>\n",
              "      <td>36.0</td>\n",
              "    </tr>\n",
              "    <tr>\n",
              "      <th>37</th>\n",
              "      <td>1514765100</td>\n",
              "      <td>6</td>\n",
              "      <td>118.0</td>\n",
              "      <td>736.5300</td>\n",
              "      <td>743.80</td>\n",
              "      <td>727.11</td>\n",
              "      <td>735.7050</td>\n",
              "      <td>193.078039</td>\n",
              "      <td>736.163026</td>\n",
              "      <td>-0.001744</td>\n",
              "      <td>-1.3975</td>\n",
              "      <td>16.69</td>\n",
              "      <td>27.694113</td>\n",
              "      <td>-38.0</td>\n",
              "    </tr>\n",
              "    <tr>\n",
              "      <th>45</th>\n",
              "      <td>1514765160</td>\n",
              "      <td>6</td>\n",
              "      <td>119.0</td>\n",
              "      <td>735.8425</td>\n",
              "      <td>743.80</td>\n",
              "      <td>725.00</td>\n",
              "      <td>735.2000</td>\n",
              "      <td>366.585886</td>\n",
              "      <td>734.816231</td>\n",
              "      <td>-0.001331</td>\n",
              "      <td>-0.5050</td>\n",
              "      <td>18.80</td>\n",
              "      <td>173.507847</td>\n",
              "      <td>1.0</td>\n",
              "    </tr>\n",
              "    <tr>\n",
              "      <th>53</th>\n",
              "      <td>1514765220</td>\n",
              "      <td>6</td>\n",
              "      <td>162.0</td>\n",
              "      <td>735.0600</td>\n",
              "      <td>744.73</td>\n",
              "      <td>725.00</td>\n",
              "      <td>734.4050</td>\n",
              "      <td>366.900033</td>\n",
              "      <td>734.549952</td>\n",
              "      <td>-0.002983</td>\n",
              "      <td>-0.7950</td>\n",
              "      <td>19.73</td>\n",
              "      <td>0.314147</td>\n",
              "      <td>43.0</td>\n",
              "    </tr>\n",
              "    <tr>\n",
              "      <th>61</th>\n",
              "      <td>1514765280</td>\n",
              "      <td>6</td>\n",
              "      <td>111.0</td>\n",
              "      <td>734.2300</td>\n",
              "      <td>744.03</td>\n",
              "      <td>724.43</td>\n",
              "      <td>735.0900</td>\n",
              "      <td>125.164340</td>\n",
              "      <td>734.399631</td>\n",
              "      <td>-0.004800</td>\n",
              "      <td>0.6850</td>\n",
              "      <td>19.60</td>\n",
              "      <td>-241.735693</td>\n",
              "      <td>-51.0</td>\n",
              "    </tr>\n",
              "    <tr>\n",
              "      <th>69</th>\n",
              "      <td>1514765340</td>\n",
              "      <td>6</td>\n",
              "      <td>96.0</td>\n",
              "      <td>735.1800</td>\n",
              "      <td>744.65</td>\n",
              "      <td>725.16</td>\n",
              "      <td>735.3500</td>\n",
              "      <td>153.346749</td>\n",
              "      <td>734.995656</td>\n",
              "      <td>-0.003183</td>\n",
              "      <td>0.2600</td>\n",
              "      <td>19.49</td>\n",
              "      <td>28.182409</td>\n",
              "      <td>-15.0</td>\n",
              "    </tr>\n",
              "    <tr>\n",
              "      <th>77</th>\n",
              "      <td>1514765400</td>\n",
              "      <td>6</td>\n",
              "      <td>61.0</td>\n",
              "      <td>734.9500</td>\n",
              "      <td>744.38</td>\n",
              "      <td>725.00</td>\n",
              "      <td>734.4000</td>\n",
              "      <td>98.426401</td>\n",
              "      <td>734.494907</td>\n",
              "      <td>-0.004437</td>\n",
              "      <td>-0.9500</td>\n",
              "      <td>19.38</td>\n",
              "      <td>-54.920348</td>\n",
              "      <td>-35.0</td>\n",
              "    </tr>\n",
              "    <tr>\n",
              "      <th>85</th>\n",
              "      <td>1514765460</td>\n",
              "      <td>6</td>\n",
              "      <td>153.0</td>\n",
              "      <td>734.6550</td>\n",
              "      <td>745.32</td>\n",
              "      <td>722.91</td>\n",
              "      <td>734.6950</td>\n",
              "      <td>180.253636</td>\n",
              "      <td>734.805637</td>\n",
              "      <td>-0.003481</td>\n",
              "      <td>0.2950</td>\n",
              "      <td>22.41</td>\n",
              "      <td>81.827236</td>\n",
              "      <td>92.0</td>\n",
              "    </tr>\n",
              "  </tbody>\n",
              "</table>\n",
              "</div>\n",
              "      <button class=\"colab-df-convert\" onclick=\"convertToInteractive('df-0bb433f6-c077-40ec-92c7-ba111393392a')\"\n",
              "              title=\"Convert this dataframe to an interactive table.\"\n",
              "              style=\"display:none;\">\n",
              "        \n",
              "  <svg xmlns=\"http://www.w3.org/2000/svg\" height=\"24px\"viewBox=\"0 0 24 24\"\n",
              "       width=\"24px\">\n",
              "    <path d=\"M0 0h24v24H0V0z\" fill=\"none\"/>\n",
              "    <path d=\"M18.56 5.44l.94 2.06.94-2.06 2.06-.94-2.06-.94-.94-2.06-.94 2.06-2.06.94zm-11 1L8.5 8.5l.94-2.06 2.06-.94-2.06-.94L8.5 2.5l-.94 2.06-2.06.94zm10 10l.94 2.06.94-2.06 2.06-.94-2.06-.94-.94-2.06-.94 2.06-2.06.94z\"/><path d=\"M17.41 7.96l-1.37-1.37c-.4-.4-.92-.59-1.43-.59-.52 0-1.04.2-1.43.59L10.3 9.45l-7.72 7.72c-.78.78-.78 2.05 0 2.83L4 21.41c.39.39.9.59 1.41.59.51 0 1.02-.2 1.41-.59l7.78-7.78 2.81-2.81c.8-.78.8-2.07 0-2.86zM5.41 20L4 18.59l7.72-7.72 1.47 1.35L5.41 20z\"/>\n",
              "  </svg>\n",
              "      </button>\n",
              "      \n",
              "  <style>\n",
              "    .colab-df-container {\n",
              "      display:flex;\n",
              "      flex-wrap:wrap;\n",
              "      gap: 12px;\n",
              "    }\n",
              "\n",
              "    .colab-df-convert {\n",
              "      background-color: #E8F0FE;\n",
              "      border: none;\n",
              "      border-radius: 50%;\n",
              "      cursor: pointer;\n",
              "      display: none;\n",
              "      fill: #1967D2;\n",
              "      height: 32px;\n",
              "      padding: 0 0 0 0;\n",
              "      width: 32px;\n",
              "    }\n",
              "\n",
              "    .colab-df-convert:hover {\n",
              "      background-color: #E2EBFA;\n",
              "      box-shadow: 0px 1px 2px rgba(60, 64, 67, 0.3), 0px 1px 3px 1px rgba(60, 64, 67, 0.15);\n",
              "      fill: #174EA6;\n",
              "    }\n",
              "\n",
              "    [theme=dark] .colab-df-convert {\n",
              "      background-color: #3B4455;\n",
              "      fill: #D2E3FC;\n",
              "    }\n",
              "\n",
              "    [theme=dark] .colab-df-convert:hover {\n",
              "      background-color: #434B5C;\n",
              "      box-shadow: 0px 1px 3px 1px rgba(0, 0, 0, 0.15);\n",
              "      filter: drop-shadow(0px 1px 2px rgba(0, 0, 0, 0.3));\n",
              "      fill: #FFFFFF;\n",
              "    }\n",
              "  </style>\n",
              "\n",
              "      <script>\n",
              "        const buttonEl =\n",
              "          document.querySelector('#df-0bb433f6-c077-40ec-92c7-ba111393392a button.colab-df-convert');\n",
              "        buttonEl.style.display =\n",
              "          google.colab.kernel.accessAllowed ? 'block' : 'none';\n",
              "\n",
              "        async function convertToInteractive(key) {\n",
              "          const element = document.querySelector('#df-0bb433f6-c077-40ec-92c7-ba111393392a');\n",
              "          const dataTable =\n",
              "            await google.colab.kernel.invokeFunction('convertToInteractive',\n",
              "                                                     [key], {});\n",
              "          if (!dataTable) return;\n",
              "\n",
              "          const docLinkHtml = 'Like what you see? Visit the ' +\n",
              "            '<a target=\"_blank\" href=https://colab.research.google.com/notebooks/data_table.ipynb>data table notebook</a>'\n",
              "            + ' to learn more about interactive tables.';\n",
              "          element.innerHTML = '';\n",
              "          dataTable['output_type'] = 'display_data';\n",
              "          await google.colab.output.renderOutput(dataTable, element);\n",
              "          const docLink = document.createElement('div');\n",
              "          docLink.innerHTML = docLinkHtml;\n",
              "          element.appendChild(docLink);\n",
              "        }\n",
              "      </script>\n",
              "    </div>\n",
              "  </div>\n",
              "  "
            ],
            "text/plain": [
              "     timestamp  Asset_ID  Count  ...  Range  Volume_diff  Count_diff\n",
              "13  1514764920         6  192.0  ...  12.65  -103.194715        19.0\n",
              "21  1514764980         6  120.0  ...  15.12   -58.655110       -72.0\n",
              "29  1514765040         6  156.0  ...  15.76    -8.754106        36.0\n",
              "37  1514765100         6  118.0  ...  16.69    27.694113       -38.0\n",
              "45  1514765160         6  119.0  ...  18.80   173.507847         1.0\n",
              "53  1514765220         6  162.0  ...  19.73     0.314147        43.0\n",
              "61  1514765280         6  111.0  ...  19.60  -241.735693       -51.0\n",
              "69  1514765340         6   96.0  ...  19.49    28.182409       -15.0\n",
              "77  1514765400         6   61.0  ...  19.38   -54.920348       -35.0\n",
              "85  1514765460         6  153.0  ...  22.41    81.827236        92.0\n",
              "\n",
              "[10 rows x 14 columns]"
            ]
          },
          "metadata": {},
          "execution_count": 14
        }
      ]
    },
    {
      "cell_type": "markdown",
      "source": [
        "## **Ethereum**"
      ],
      "metadata": {
        "id": "j2Et0fNroMCp"
      }
    },
    {
      "cell_type": "markdown",
      "metadata": {
        "id": "jv3Q7SJp323I"
      },
      "source": [
        "**ETHEREUM**\n",
        "\n",
        "\n",
        "\n"
      ]
    },
    {
      "cell_type": "markdown",
      "source": [
        "**The ethereum dataset is divided into train and test dataset to further investigate the data. As there are many null values present in Target variable, we use linear interpolation method to fill them. To create a heatmap, we remove all the irrelevant columns.**"
      ],
      "metadata": {
        "id": "WdL1tcZPw7qg"
      }
    },
    {
      "cell_type": "code",
      "execution_count": null,
      "metadata": {
        "colab": {
          "base_uri": "https://localhost:8080/",
          "height": 504
        },
        "id": "Irfn3may3zNj",
        "outputId": "c273fcad-0467-4bab-b9d9-78d9df25db6e"
      },
      "outputs": [
        {
          "output_type": "stream",
          "name": "stderr",
          "text": [
            "/usr/local/lib/python3.7/dist-packages/ipykernel_launcher.py:6: FutureWarning: In a future version of pandas all arguments of DataFrame.drop except for the argument 'labels' will be keyword-only\n",
            "  \n",
            "/usr/local/lib/python3.7/dist-packages/pandas/core/frame.py:4913: SettingWithCopyWarning: \n",
            "A value is trying to be set on a copy of a slice from a DataFrame\n",
            "\n",
            "See the caveats in the documentation: https://pandas.pydata.org/pandas-docs/stable/user_guide/indexing.html#returning-a-view-versus-a-copy\n",
            "  errors=errors,\n",
            "/usr/local/lib/python3.7/dist-packages/ipykernel_launcher.py:7: FutureWarning: In a future version of pandas all arguments of DataFrame.drop except for the argument 'labels' will be keyword-only\n",
            "  import sys\n"
          ]
        },
        {
          "output_type": "display_data",
          "data": {
            "image/png": "[encoded data removed]",
            "text/plain": [
              "<Figure size 432x288 with 2 Axes>"
            ]
          },
          "metadata": {
            "needs_background": "light"
          }
        }
      ],
      "source": [
        "#for Ethereum\n",
        "ethereum_df['Target'] = ethereum_df['Target'].interpolate(method = 'linear')  # this function fills the null values on the basis of the linearity of values\n",
        "# bitcoin_df['Target']\n",
        "eth_train = ethereum_df[ethereum_df.timestamp <= 1622505660]\n",
        "eth_test = ethereum_df[ethereum_df.timestamp > 1622505660]\n",
        "eth_train.drop(['timestamp','Asset_ID','Count','Open','High','Low','Close','Volume'], 1, inplace = True)\n",
        "eth_test.drop(['timestamp','Asset_ID','Count','Open','High','Low','Close','Volume'], 1, inplace = True)\n",
        "sns.heatmap(eth_train.corr().values, xticklabels = eth_train.columns, yticklabels = eth_train.columns, cmap = 'Reds')\n",
        "plt.show()"
      ]
    },
    {
      "cell_type": "markdown",
      "source": [
        "**As we can infer from the heatmap, Target variable is not much related to other variables**.\n",
        "\n",
        "**Our target variable is Target variable. We need to predict it using the other 5 independent variables**."
      ],
      "metadata": {
        "id": "HILYI3k-yDU4"
      }
    },
    {
      "cell_type": "code",
      "execution_count": null,
      "metadata": {
        "colab": {
          "base_uri": "https://localhost:8080/"
        },
        "id": "3wg1VUpA5u-1",
        "outputId": "a4103851-b1fa-4d8c-d7e0-329283324aab"
      },
      "outputs": [
        {
          "output_type": "stream",
          "name": "stderr",
          "text": [
            "/usr/local/lib/python3.7/dist-packages/ipykernel_launcher.py:1: FutureWarning: In a future version of pandas all arguments of DataFrame.drop except for the argument 'labels' will be keyword-only\n",
            "  \"\"\"Entry point for launching an IPython kernel.\n"
          ]
        },
        {
          "output_type": "execute_result",
          "data": {
            "text/plain": [
              "((1794923, 5), (1794923,))"
            ]
          },
          "metadata": {},
          "execution_count": 13
        }
      ],
      "source": [
        "X_train_eth = eth_train.drop(['Target'],1)\n",
        "y_train_eth = eth_train.Target\n",
        "X_train_eth.shape, y_train_eth.shape"
      ]
    },
    {
      "cell_type": "code",
      "execution_count": null,
      "metadata": {
        "colab": {
          "base_uri": "https://localhost:8080/"
        },
        "id": "oir1SaJL579O",
        "outputId": "e38b49e5-4384-4057-95ca-16d9af5ae018"
      },
      "outputs": [
        {
          "output_type": "stream",
          "name": "stderr",
          "text": [
            "/usr/local/lib/python3.7/dist-packages/ipykernel_launcher.py:1: FutureWarning: In a future version of pandas all arguments of DataFrame.drop except for the argument 'labels' will be keyword-only\n",
            "  \"\"\"Entry point for launching an IPython kernel.\n"
          ]
        },
        {
          "output_type": "execute_result",
          "data": {
            "text/plain": [
              "((161276, 5), (161276,))"
            ]
          },
          "metadata": {},
          "execution_count": 14
        }
      ],
      "source": [
        "X_test_eth = eth_test.drop(['Target'],1)\n",
        "y_test_eth = eth_test.Target\n",
        "X_test_eth.shape, y_test_eth.shape"
      ]
    },
    {
      "cell_type": "code",
      "source": [
        "X_train_eth.head()"
      ],
      "metadata": {
        "colab": {
          "base_uri": "https://localhost:8080/",
          "height": 206
        },
        "id": "uUaoPVIHXUGN",
        "outputId": "2bb82298-159c-4125-9055-6681dc551ba7"
      },
      "execution_count": null,
      "outputs": [
        {
          "output_type": "execute_result",
          "data": {
            "text/html": [
              "\n",
              "  <div id=\"df-29744fd8-b955-487e-848e-c4190b31ae7a\">\n",
              "    <div class=\"colab-df-container\">\n",
              "      <div>\n",
              "<style scoped>\n",
              "    .dataframe tbody tr th:only-of-type {\n",
              "        vertical-align: middle;\n",
              "    }\n",
              "\n",
              "    .dataframe tbody tr th {\n",
              "        vertical-align: top;\n",
              "    }\n",
              "\n",
              "    .dataframe thead th {\n",
              "        text-align: right;\n",
              "    }\n",
              "</style>\n",
              "<table border=\"1\" class=\"dataframe\">\n",
              "  <thead>\n",
              "    <tr style=\"text-align: right;\">\n",
              "      <th></th>\n",
              "      <th>VWAP</th>\n",
              "      <th>Close_diff</th>\n",
              "      <th>Range</th>\n",
              "      <th>Volume_diff</th>\n",
              "      <th>Count_diff</th>\n",
              "    </tr>\n",
              "  </thead>\n",
              "  <tbody>\n",
              "    <tr>\n",
              "      <th>13</th>\n",
              "      <td>738.268967</td>\n",
              "      <td>-0.2475</td>\n",
              "      <td>12.65</td>\n",
              "      <td>-103.194715</td>\n",
              "      <td>19.0</td>\n",
              "    </tr>\n",
              "    <tr>\n",
              "      <th>21</th>\n",
              "      <td>737.994457</td>\n",
              "      <td>-0.7575</td>\n",
              "      <td>15.12</td>\n",
              "      <td>-58.655110</td>\n",
              "      <td>-72.0</td>\n",
              "    </tr>\n",
              "    <tr>\n",
              "      <th>29</th>\n",
              "      <td>737.303631</td>\n",
              "      <td>-0.4000</td>\n",
              "      <td>15.76</td>\n",
              "      <td>-8.754106</td>\n",
              "      <td>36.0</td>\n",
              "    </tr>\n",
              "    <tr>\n",
              "      <th>37</th>\n",
              "      <td>736.163026</td>\n",
              "      <td>-1.3975</td>\n",
              "      <td>16.69</td>\n",
              "      <td>27.694113</td>\n",
              "      <td>-38.0</td>\n",
              "    </tr>\n",
              "    <tr>\n",
              "      <th>45</th>\n",
              "      <td>734.816231</td>\n",
              "      <td>-0.5050</td>\n",
              "      <td>18.80</td>\n",
              "      <td>173.507847</td>\n",
              "      <td>1.0</td>\n",
              "    </tr>\n",
              "  </tbody>\n",
              "</table>\n",
              "</div>\n",
              "      <button class=\"colab-df-convert\" onclick=\"convertToInteractive('df-29744fd8-b955-487e-848e-c4190b31ae7a')\"\n",
              "              title=\"Convert this dataframe to an interactive table.\"\n",
              "              style=\"display:none;\">\n",
              "        \n",
              "  <svg xmlns=\"http://www.w3.org/2000/svg\" height=\"24px\"viewBox=\"0 0 24 24\"\n",
              "       width=\"24px\">\n",
              "    <path d=\"M0 0h24v24H0V0z\" fill=\"none\"/>\n",
              "    <path d=\"M18.56 5.44l.94 2.06.94-2.06 2.06-.94-2.06-.94-.94-2.06-.94 2.06-2.06.94zm-11 1L8.5 8.5l.94-2.06 2.06-.94-2.06-.94L8.5 2.5l-.94 2.06-2.06.94zm10 10l.94 2.06.94-2.06 2.06-.94-2.06-.94-.94-2.06-.94 2.06-2.06.94z\"/><path d=\"M17.41 7.96l-1.37-1.37c-.4-.4-.92-.59-1.43-.59-.52 0-1.04.2-1.43.59L10.3 9.45l-7.72 7.72c-.78.78-.78 2.05 0 2.83L4 21.41c.39.39.9.59 1.41.59.51 0 1.02-.2 1.41-.59l7.78-7.78 2.81-2.81c.8-.78.8-2.07 0-2.86zM5.41 20L4 18.59l7.72-7.72 1.47 1.35L5.41 20z\"/>\n",
              "  </svg>\n",
              "      </button>\n",
              "      \n",
              "  <style>\n",
              "    .colab-df-container {\n",
              "      display:flex;\n",
              "      flex-wrap:wrap;\n",
              "      gap: 12px;\n",
              "    }\n",
              "\n",
              "    .colab-df-convert {\n",
              "      background-color: #E8F0FE;\n",
              "      border: none;\n",
              "      border-radius: 50%;\n",
              "      cursor: pointer;\n",
              "      display: none;\n",
              "      fill: #1967D2;\n",
              "      height: 32px;\n",
              "      padding: 0 0 0 0;\n",
              "      width: 32px;\n",
              "    }\n",
              "\n",
              "    .colab-df-convert:hover {\n",
              "      background-color: #E2EBFA;\n",
              "      box-shadow: 0px 1px 2px rgba(60, 64, 67, 0.3), 0px 1px 3px 1px rgba(60, 64, 67, 0.15);\n",
              "      fill: #174EA6;\n",
              "    }\n",
              "\n",
              "    [theme=dark] .colab-df-convert {\n",
              "      background-color: #3B4455;\n",
              "      fill: #D2E3FC;\n",
              "    }\n",
              "\n",
              "    [theme=dark] .colab-df-convert:hover {\n",
              "      background-color: #434B5C;\n",
              "      box-shadow: 0px 1px 3px 1px rgba(0, 0, 0, 0.15);\n",
              "      filter: drop-shadow(0px 1px 2px rgba(0, 0, 0, 0.3));\n",
              "      fill: #FFFFFF;\n",
              "    }\n",
              "  </style>\n",
              "\n",
              "      <script>\n",
              "        const buttonEl =\n",
              "          document.querySelector('#df-29744fd8-b955-487e-848e-c4190b31ae7a button.colab-df-convert');\n",
              "        buttonEl.style.display =\n",
              "          google.colab.kernel.accessAllowed ? 'block' : 'none';\n",
              "\n",
              "        async function convertToInteractive(key) {\n",
              "          const element = document.querySelector('#df-29744fd8-b955-487e-848e-c4190b31ae7a');\n",
              "          const dataTable =\n",
              "            await google.colab.kernel.invokeFunction('convertToInteractive',\n",
              "                                                     [key], {});\n",
              "          if (!dataTable) return;\n",
              "\n",
              "          const docLinkHtml = 'Like what you see? Visit the ' +\n",
              "            '<a target=\"_blank\" href=https://colab.research.google.com/notebooks/data_table.ipynb>data table notebook</a>'\n",
              "            + ' to learn more about interactive tables.';\n",
              "          element.innerHTML = '';\n",
              "          dataTable['output_type'] = 'display_data';\n",
              "          await google.colab.output.renderOutput(dataTable, element);\n",
              "          const docLink = document.createElement('div');\n",
              "          docLink.innerHTML = docLinkHtml;\n",
              "          element.appendChild(docLink);\n",
              "        }\n",
              "      </script>\n",
              "    </div>\n",
              "  </div>\n",
              "  "
            ],
            "text/plain": [
              "          VWAP  Close_diff  Range  Volume_diff  Count_diff\n",
              "13  738.268967     -0.2475  12.65  -103.194715        19.0\n",
              "21  737.994457     -0.7575  15.12   -58.655110       -72.0\n",
              "29  737.303631     -0.4000  15.76    -8.754106        36.0\n",
              "37  736.163026     -1.3975  16.69    27.694113       -38.0\n",
              "45  734.816231     -0.5050  18.80   173.507847         1.0"
            ]
          },
          "metadata": {},
          "execution_count": 15
        }
      ]
    },
    {
      "cell_type": "markdown",
      "source": [
        "**The values of each column differ a lot from one another. In order to bring them into similar scaling we use Min Max Scaler. It scales all the independent variables in the range from 0 to 1**.\n",
        "\n",
        "\n",
        "**Standard scalar standardizes features of the data set by scaling to unit variance and removing the mean (optionally) using column summary statistics on the samples in the training set.In this case we use the MinMaxScaler for better results**."
      ],
      "metadata": {
        "id": "9P8i885uySKA"
      }
    },
    {
      "cell_type": "code",
      "execution_count": null,
      "metadata": {
        "colab": {
          "base_uri": "https://localhost:8080/"
        },
        "id": "k5VMuH976RkQ",
        "outputId": "1218f7ca-4539-4010-e0af-90e0ae2aec74"
      },
      "outputs": [
        {
          "output_type": "stream",
          "name": "stdout",
          "text": [
            "False\n",
            "True\n",
            "[[0.6145411  0.63077004 0.02589583 0.46084331 0.60087977]\n",
            " [0.61627987 0.54638664 0.01617708 0.45741755 0.57612558]\n",
            " [0.61566527 0.5413729  0.01077083 0.42743086 0.4199931 ]\n",
            " ...\n",
            " [0.67056487 0.52837655 0.0088125  0.45116549 0.5402622 ]\n",
            " [0.67345602 0.6216424  0.022875   0.4557686  0.55830602]\n",
            " [0.67446913 0.52380318 0.00986458 0.44787857 0.51136795]]\n"
          ]
        }
      ],
      "source": [
        "from sklearn.preprocessing import MinMaxScaler\n",
        "\n",
        "X_scaler = MinMaxScaler(feature_range = (0, 1))\n",
        "X_train_eth1 = X_scaler.fit_transform(X_train_eth)\n",
        "X_test_eth1 = X_scaler.transform(X_test_eth)\n",
        "print((X_train_eth1 < 0).any().any())\n",
        "print((X_test_eth1 < 0).any().any())\n",
        "print(X_test_eth1)"
      ]
    },
    {
      "cell_type": "markdown",
      "source": [
        "**The first model we look at is a simple feed forward neural network where we have a single hidden layer between the input and the output layer**. \n",
        "\n",
        "**The input shape is the number of columns of the training dataset. The hidden layers are chosen arbitrarily by expirementing with different numbers and the number that fits well is chosen for final output. As the problem in hand is a regression problem, we have only 1 output layer. Initially, the model was built using ReLU, but the results were not that great. As soon as ReLU was replaced with ELU, the results turned out to be better. Therefore we can infer that negative weight values are very important to predict our target variable and hence ELU considers some of these for the final output. Mean absolute error is the standard loss function used for regression problems. We ran the model with different optimizers such as SGD and Adam , where the Adam optimizer gave the best results. 10 epochs are enough to predict the model.The trade off between the training loss and the validation loss is a slight margin which we will try to improve using dropout in the next model**."
      ],
      "metadata": {
        "id": "WVU8rp6rzfjz"
      }
    },
    {
      "cell_type": "code",
      "execution_count": null,
      "metadata": {
        "colab": {
          "base_uri": "https://localhost:8080/",
          "height": 690
        },
        "id": "pKMZmSJf6eqe",
        "outputId": "00dc6827-4524-40ab-d37b-ebd825e42429"
      },
      "outputs": [
        {
          "output_type": "stream",
          "name": "stdout",
          "text": [
            "Epoch 1/10\n",
            "18/18 [==============================] - 1s 32ms/step - loss: 0.0416 - val_loss: 0.1605\n",
            "Epoch 2/10\n",
            "18/18 [==============================] - 0s 23ms/step - loss: 0.0221 - val_loss: 0.1208\n",
            "Epoch 3/10\n",
            "18/18 [==============================] - 0s 23ms/step - loss: 0.0170 - val_loss: 0.0969\n",
            "Epoch 4/10\n",
            "18/18 [==============================] - 0s 24ms/step - loss: 0.0132 - val_loss: 0.0729\n",
            "Epoch 5/10\n",
            "18/18 [==============================] - 0s 24ms/step - loss: 0.0095 - val_loss: 0.0481\n",
            "Epoch 6/10\n",
            "18/18 [==============================] - 0s 23ms/step - loss: 0.0062 - val_loss: 0.0238\n",
            "Epoch 7/10\n",
            "18/18 [==============================] - 1s 31ms/step - loss: 0.0040 - val_loss: 0.0089\n",
            "Epoch 8/10\n",
            "18/18 [==============================] - 1s 42ms/step - loss: 0.0035 - val_loss: 0.0081\n",
            "Epoch 9/10\n",
            "18/18 [==============================] - 0s 24ms/step - loss: 0.0034 - val_loss: 0.0081\n",
            "Epoch 10/10\n",
            "18/18 [==============================] - 1s 41ms/step - loss: 0.0034 - val_loss: 0.0082\n"
          ]
        },
        {
          "output_type": "display_data",
          "data": {
            "image/png": "[encoded data removed]",
            "text/plain": [
              "<Figure size 432x288 with 1 Axes>"
            ]
          },
          "metadata": {
            "needs_background": "light"
          }
        },
        {
          "output_type": "stream",
          "name": "stdout",
          "text": [
            "Evaluate on test data\n",
            "1260/1260 [==============================] - 2s 1ms/step - loss: 0.0082\n",
            "test loss, test acc: 0.00820318702608347\n"
          ]
        }
      ],
      "source": [
        "import tensorflow as tf\n",
        "from numpy.random import seed\n",
        "seed(1)\n",
        "tf.random.set_seed(2)\n",
        "\n",
        "model = tf.keras.Sequential([\n",
        "    tf.keras.layers.InputLayer(input_shape = (X_train_eth1.shape[1])),\n",
        "    tf.keras.layers.Dense(5, activation='elu'),\n",
        "    tf.keras.layers.Dense(1)\n",
        "])\n",
        "\n",
        "model.compile(loss = 'mean_absolute_error', optimizer = 'adam')\n",
        "history = model.fit(X_train_eth1, y_train_eth, epochs = 10,batch_size = 100000, validation_data = (X_test_eth1, y_test_eth))\n",
        "plt.plot(history.history['loss'], label = 'training')\n",
        "plt.plot(history.history['val_loss'], label = 'test')\n",
        "plt.show()\n",
        "print(\"Evaluate on test data\")\n",
        "results = model.evaluate(X_test_eth1, y_test_eth, batch_size=128)\n",
        "print(\"test loss, test acc:\", results)"
      ]
    },
    {
      "cell_type": "code",
      "source": [
        "plt.scatter(model.predict(X_train_eth1).flatten(), y_train_eth, color = 'green')\n",
        "plt.scatter(model.predict(X_test_eth1).flatten(), y_test_eth, color = 'blue')\n",
        "plt.show()"
      ],
      "metadata": {
        "colab": {
          "base_uri": "https://localhost:8080/",
          "height": 264
        },
        "id": "nTd23kQfwV7u",
        "outputId": "e1c7509a-3c3d-4468-b6d0-745fb54eb50b"
      },
      "execution_count": null,
      "outputs": [
        {
          "output_type": "display_data",
          "data": {
            "image/png": "[encoded data removed]",
            "text/plain": [
              "<Figure size 432x288 with 1 Axes>"
            ]
          },
          "metadata": {
            "needs_background": "light"
          }
        }
      ]
    },
    {
      "cell_type": "markdown",
      "source": [
        "**The predicted values and the observed values are mostly spread from -0.2 to 0.2 in the x-axis , From the plots above we can infer that the model works decently but still there is room for improvement.**."
      ],
      "metadata": {
        "id": "HHqNNwT908QE"
      }
    },
    {
      "cell_type": "code",
      "source": [
        "fig, axs = plt.subplots(1, 2, figsize = (12,8))\n",
        "axs[0].scatter(model.predict(X_train_eth1).flatten(), y_train_eth, color = 'green')\n",
        "axs[1].scatter(model.predict(X_test_eth1).flatten(), y_test_eth, color = 'grey')\n",
        "plt.show()"
      ],
      "metadata": {
        "colab": {
          "base_uri": "https://localhost:8080/",
          "height": 483
        },
        "id": "oEa0ujojaWlt",
        "outputId": "1c0db17b-54d9-4920-95a7-82310679761d"
      },
      "execution_count": null,
      "outputs": [
        {
          "output_type": "display_data",
          "data": {
            "image/png": "[encoded data removed]",
            "text/plain": [
              "<Figure size 864x576 with 2 Axes>"
            ]
          },
          "metadata": {
            "needs_background": "light"
          }
        }
      ]
    },
    {
      "cell_type": "markdown",
      "source": [
        "**Lets look at the price differences**."
      ],
      "metadata": {
        "id": "R-fxn6sN1hwF"
      }
    },
    {
      "cell_type": "code",
      "source": [
        "print(model.predict(X_test_eth1))\n",
        "print(\"###############\")\n",
        "print(y_test_eth)"
      ],
      "metadata": {
        "colab": {
          "base_uri": "https://localhost:8080/"
        },
        "id": "iblYMeGQ0Ik7",
        "outputId": "5350f893-942f-4550-dbcd-99a6fdd833d7"
      },
      "execution_count": null,
      "outputs": [
        {
          "output_type": "stream",
          "name": "stdout",
          "text": [
            "[[ 0.02487801]\n",
            " [-0.01681594]\n",
            " [ 0.06340929]\n",
            " ...\n",
            " [-0.0123047 ]\n",
            " [ 0.04049016]\n",
            " [ 0.00098652]]\n",
            "###############\n",
            "[[-0.00132811]\n",
            " [-0.00089612]\n",
            " [ 0.00024389]\n",
            " ...\n",
            " [-0.0003459 ]\n",
            " [-0.0003459 ]\n",
            " [-0.0003459 ]]\n"
          ]
        }
      ]
    },
    {
      "cell_type": "markdown",
      "source": [
        "**In the next model we try to see if the results improve if we incorporate the mechanism of regularization and check if the model avoids overfitting**.\n",
        "\n",
        "**The result seems to be same as the previous model even after incorporating the dropout method with more epochs but the gap between the training and validation loss gets closer **\n",
        "\n",
        "**We can stop the training by methods such as early stopping to prevent overfitting** "
      ],
      "metadata": {
        "id": "a3-AqNk11ugQ"
      }
    },
    {
      "cell_type": "code",
      "source": [
        "import tensorflow as tf\n",
        "from numpy.random import seed\n",
        "seed(1)\n",
        "tf.random.set_seed(2)\n",
        "\n",
        "model_2 = tf.keras.Sequential([\n",
        "    tf.keras.layers.InputLayer(input_shape = (X_train_eth1.shape[1])),\n",
        "    tf.keras.layers.Dense(5, activation='elu'),\n",
        "    tf.keras.layers.Dropout(0.30),\n",
        "    tf.keras.layers.Dense(1)\n",
        "])\n",
        "\n",
        "model_2.compile(loss = 'mean_absolute_error', optimizer = 'adam')\n",
        "history = model_2.fit(X_train_eth1, y_train_eth, epochs = 20,batch_size = 100000, validation_data = (X_test_eth1, y_test_eth))\n",
        "plt.plot(history.history['loss'], label = 'training')\n",
        "plt.plot(history.history['val_loss'], label = 'test')\n",
        "plt.show()\n",
        "print(\"Evaluate on test data\")\n",
        "results = model.evaluate(X_test_eth1, y_test_eth, batch_size=128)\n",
        "print(\"test loss, test acc:\", results)"
      ],
      "metadata": {
        "colab": {
          "base_uri": "https://localhost:8080/",
          "height": 1000
        },
        "id": "9a6WYMS7w2M-",
        "outputId": "82d4a387-7800-4ba9-cd90-708bcbf734ff"
      },
      "execution_count": null,
      "outputs": [
        {
          "output_type": "stream",
          "name": "stdout",
          "text": [
            "Epoch 1/20\n",
            "18/18 [==============================] - 1s 39ms/step - loss: 0.1483 - val_loss: 0.1546\n",
            "Epoch 2/20\n",
            "18/18 [==============================] - 1s 32ms/step - loss: 0.1282 - val_loss: 0.1124\n",
            "Epoch 3/20\n",
            "18/18 [==============================] - 1s 34ms/step - loss: 0.1136 - val_loss: 0.0918\n",
            "Epoch 4/20\n",
            "18/18 [==============================] - 1s 32ms/step - loss: 0.0996 - val_loss: 0.0701\n",
            "Epoch 5/20\n",
            "18/18 [==============================] - 1s 32ms/step - loss: 0.0857 - val_loss: 0.0487\n",
            "Epoch 6/20\n",
            "18/18 [==============================] - 1s 31ms/step - loss: 0.0727 - val_loss: 0.0303\n",
            "Epoch 7/20\n",
            "18/18 [==============================] - 1s 33ms/step - loss: 0.0608 - val_loss: 0.0176\n",
            "Epoch 8/20\n",
            "18/18 [==============================] - 1s 33ms/step - loss: 0.0505 - val_loss: 0.0139\n",
            "Epoch 9/20\n",
            "18/18 [==============================] - 1s 32ms/step - loss: 0.0416 - val_loss: 0.0145\n",
            "Epoch 10/20\n",
            "18/18 [==============================] - 1s 32ms/step - loss: 0.0339 - val_loss: 0.0157\n",
            "Epoch 11/20\n",
            "18/18 [==============================] - 1s 33ms/step - loss: 0.0280 - val_loss: 0.0148\n",
            "Epoch 12/20\n",
            "18/18 [==============================] - 1s 32ms/step - loss: 0.0244 - val_loss: 0.0122\n",
            "Epoch 13/20\n",
            "18/18 [==============================] - 1s 32ms/step - loss: 0.0215 - val_loss: 0.0106\n",
            "Epoch 14/20\n",
            "18/18 [==============================] - 1s 32ms/step - loss: 0.0189 - val_loss: 0.0095\n",
            "Epoch 15/20\n",
            "18/18 [==============================] - 1s 32ms/step - loss: 0.0164 - val_loss: 0.0091\n",
            "Epoch 16/20\n",
            "18/18 [==============================] - 1s 32ms/step - loss: 0.0141 - val_loss: 0.0088\n",
            "Epoch 17/20\n",
            "18/18 [==============================] - 1s 32ms/step - loss: 0.0119 - val_loss: 0.0087\n",
            "Epoch 18/20\n",
            "18/18 [==============================] - 1s 31ms/step - loss: 0.0098 - val_loss: 0.0085\n",
            "Epoch 19/20\n",
            "18/18 [==============================] - 1s 31ms/step - loss: 0.0079 - val_loss: 0.0084\n",
            "Epoch 20/20\n",
            "18/18 [==============================] - 1s 30ms/step - loss: 0.0061 - val_loss: 0.0083\n"
          ]
        },
        {
          "output_type": "display_data",
          "data": {
            "image/png": "[encoded data removed]",
            "text/plain": [
              "<Figure size 432x288 with 1 Axes>"
            ]
          },
          "metadata": {
            "needs_background": "light"
          }
        },
        {
          "output_type": "stream",
          "name": "stdout",
          "text": [
            "Evaluate on test data\n",
            "1260/1260 [==============================] - 2s 2ms/step - loss: 0.0082\n",
            "test loss, test acc: 0.00820318702608347\n"
          ]
        }
      ]
    },
    {
      "cell_type": "code",
      "source": [
        "#fig, axs = plt.subplots(1, 2, figsize = (12,8))\n",
        "plt.scatter(model_2.predict(X_train_eth1).flatten(), y_train_eth, color = 'green')\n",
        "plt.scatter(model_2.predict(X_test_eth1).flatten(), y_test_eth, color = 'blue')\n",
        "plt.show()"
      ],
      "metadata": {
        "colab": {
          "base_uri": "https://localhost:8080/",
          "height": 264
        },
        "id": "C5FlMBj8Jb1w",
        "outputId": "e7a86737-b1dc-47ce-d447-0073f0527b6f"
      },
      "execution_count": null,
      "outputs": [
        {
          "output_type": "display_data",
          "data": {
            "image/png": "[encoded data removed]",
            "text/plain": [
              "<Figure size 432x288 with 1 Axes>"
            ]
          },
          "metadata": {
            "needs_background": "light"
          }
        }
      ]
    },
    {
      "cell_type": "markdown",
      "source": [
        "**The results are much similar to the previous model**."
      ],
      "metadata": {
        "id": "rmUhXgSf6Pu_"
      }
    },
    {
      "cell_type": "code",
      "source": [
        "fig, axs = plt.subplots(1, 2, figsize = (12,8))\n",
        "axs[0].scatter(model_2.predict(X_train_eth1).flatten(), y_train_eth, color = 'green')\n",
        "axs[1].scatter(model_2.predict(X_test_eth1).flatten(), y_test_eth, color = 'grey')\n",
        "plt.show()\n"
      ],
      "metadata": {
        "colab": {
          "base_uri": "https://localhost:8080/",
          "height": 483
        },
        "id": "H8nwypPsJfm0",
        "outputId": "35132885-dc3a-4bca-9f3d-8a73fbc057ca"
      },
      "execution_count": null,
      "outputs": [
        {
          "output_type": "display_data",
          "data": {
            "image/png": "[encoded data removed]",
            "text/plain": [
              "<Figure size 864x576 with 2 Axes>"
            ]
          },
          "metadata": {
            "needs_background": "light"
          }
        }
      ]
    },
    {
      "cell_type": "code",
      "source": [
        "print(model_2.predict(X_test_eth1))\n",
        "print(\"####################\")\n",
        "print(y_test_eth)"
      ],
      "metadata": {
        "id": "g3zML38leGWS",
        "colab": {
          "base_uri": "https://localhost:8080/"
        },
        "outputId": "982f09b7-d06e-41bb-d01f-e727c34ab2ff"
      },
      "execution_count": null,
      "outputs": [
        {
          "output_type": "stream",
          "name": "stdout",
          "text": [
            "[[-3.4649856e-05]\n",
            " [-2.4133561e-02]\n",
            " [ 7.6405972e-02]\n",
            " ...\n",
            " [-1.0647654e-02]\n",
            " [ 2.3895321e-02]\n",
            " [ 7.3541291e-03]]\n",
            "####################\n",
            "[[-0.00132811]\n",
            " [-0.00089612]\n",
            " [ 0.00024389]\n",
            " ...\n",
            " [-0.0003459 ]\n",
            " [-0.0003459 ]\n",
            " [-0.0003459 ]]\n"
          ]
        }
      ]
    },
    {
      "cell_type": "markdown",
      "source": [
        "**Now we try going to a deeper model , with more hidden layers . But the results are very different as the model reaches saturation and stops learning with a constant value for losses. The prediction are also very centered around 0. From this we infer that a deeper model doesnt guarantee better results**."
      ],
      "metadata": {
        "id": "xPy4sZcH636t"
      }
    },
    {
      "cell_type": "code",
      "source": [
        "from numpy.random import seed\n",
        "seed(1)\n",
        "import tensorflow as tf\n",
        "tf.random.set_seed(2)\n",
        "import matplotlib.pyplot as plt\n",
        "\n",
        "model_4 = tf.keras.Sequential([\n",
        "    tf.keras.layers.InputLayer(input_shape = (X_train_eth1.shape[1])),\n",
        "    \n",
        "    tf.keras.layers.Dense(64, activation = 'swish'),\n",
        "    tf.keras.layers.Dropout(0.25),\n",
        "\n",
        "    tf.keras.layers.Dense(32, activation = 'swish'),\n",
        "    tf.keras.layers.Dropout(0.25),\n",
        "\n",
        "    tf.keras.layers.Dense(16, activation = 'relu'),\n",
        "    tf.keras.layers.Dropout(0.25),\n",
        "\n",
        "    tf.keras.layers.Dense(8, activation = 'relu'),\n",
        "    tf.keras.layers.Dropout(0.25),\n",
        "\n",
        "    tf.keras.layers.Dense(1)\n",
        "])\n",
        "\n",
        "model_4.compile(loss = 'mean_absolute_error', optimizer = 'adam')\n",
        "history = model_4.fit(X_train_eth1, y_train_eth, epochs = 10,batch_size = 100000, validation_data = (X_test_eth1, y_test_eth))\n",
        "plt.plot(history.history['loss'], label = 'training')\n",
        "plt.plot(history.history['val_loss'], label = 'test')\n",
        "plt.show()"
      ],
      "metadata": {
        "colab": {
          "base_uri": "https://localhost:8080/",
          "height": 635
        },
        "id": "ME5jMgMSVL83",
        "outputId": "fc3a2381-57a3-4e23-ccf3-fa2643019b53"
      },
      "execution_count": null,
      "outputs": [
        {
          "output_type": "stream",
          "name": "stdout",
          "text": [
            "Epoch 1/10\n",
            "18/18 [==============================] - 6s 281ms/step - loss: 0.0241 - val_loss: 0.0014\n",
            "Epoch 2/10\n",
            "18/18 [==============================] - 5s 277ms/step - loss: 0.0031 - val_loss: 0.0013\n",
            "Epoch 3/10\n",
            "18/18 [==============================] - 5s 278ms/step - loss: 0.0018 - val_loss: 0.0013\n",
            "Epoch 4/10\n",
            "18/18 [==============================] - 5s 281ms/step - loss: 0.0017 - val_loss: 0.0013\n",
            "Epoch 5/10\n",
            "18/18 [==============================] - 5s 280ms/step - loss: 0.0017 - val_loss: 0.0013\n",
            "Epoch 6/10\n",
            "18/18 [==============================] - 5s 281ms/step - loss: 0.0017 - val_loss: 0.0013\n",
            "Epoch 7/10\n",
            "18/18 [==============================] - 5s 278ms/step - loss: 0.0017 - val_loss: 0.0013\n",
            "Epoch 8/10\n",
            "18/18 [==============================] - 5s 279ms/step - loss: 0.0017 - val_loss: 0.0013\n",
            "Epoch 9/10\n",
            "18/18 [==============================] - 5s 274ms/step - loss: 0.0017 - val_loss: 0.0013\n",
            "Epoch 10/10\n",
            "18/18 [==============================] - 5s 274ms/step - loss: 0.0017 - val_loss: 0.0013\n"
          ]
        },
        {
          "output_type": "display_data",
          "data": {
            "image/png": "[encoded data removed]",
            "text/plain": [
              "<Figure size 432x288 with 1 Axes>"
            ]
          },
          "metadata": {
            "needs_background": "light"
          }
        }
      ]
    },
    {
      "cell_type": "code",
      "source": [
        "plt.scatter(model_4.predict(X_train_eth1).flatten(), y_train_eth, color = 'grey')\n",
        "plt.scatter(model_4.predict(X_test_eth1).flatten(), y_test_eth, color = 'blue')\n",
        "plt.show()"
      ],
      "metadata": {
        "id": "J6O1wykwqdhF",
        "colab": {
          "base_uri": "https://localhost:8080/",
          "height": 277
        },
        "outputId": "6f00eb05-f5e7-446f-8844-e089cc393b6b"
      },
      "execution_count": null,
      "outputs": [
        {
          "output_type": "display_data",
          "data": {
            "image/png": "[encoded data removed]",
            "text/plain": [
              "<Figure size 432x288 with 1 Axes>"
            ]
          },
          "metadata": {
            "needs_background": "light"
          }
        }
      ]
    },
    {
      "cell_type": "code",
      "source": [
        "print(model_4.predict(X_test_eth1))\n",
        "print(y_test_eth)"
      ],
      "metadata": {
        "id": "ypQug78JedYu",
        "colab": {
          "base_uri": "https://localhost:8080/"
        },
        "outputId": "c66c9360-c52f-4a94-a66d-517c6f60568b"
      },
      "execution_count": null,
      "outputs": [
        {
          "output_type": "stream",
          "name": "stdout",
          "text": [
            "[[-1.5297011e-05]\n",
            " [-1.5297011e-05]\n",
            " [-1.5297011e-05]\n",
            " ...\n",
            " [-1.5297011e-05]\n",
            " [-1.5297011e-05]\n",
            " [-1.5297011e-05]]\n",
            "21979840   -0.001328\n",
            "21979854   -0.000896\n",
            "21979868    0.000244\n",
            "21979882   -0.000737\n",
            "21979896   -0.002467\n",
            "              ...   \n",
            "24236743   -0.000346\n",
            "24236757   -0.000346\n",
            "24236771   -0.000346\n",
            "24236785   -0.000346\n",
            "24236799   -0.000346\n",
            "Name: Target, Length: 161276, dtype: float64\n"
          ]
        }
      ]
    },
    {
      "cell_type": "markdown",
      "source": [
        "**Now we move on to the Gated Recurrent Unit (GRU) RNNs and LSTM where we need 3D data as input and hence we add 1 more dimension to our existing training dataset**."
      ],
      "metadata": {
        "id": "xaJl_P1m7sE_"
      }
    },
    {
      "cell_type": "code",
      "execution_count": null,
      "metadata": {
        "colab": {
          "base_uri": "https://localhost:8080/"
        },
        "id": "lytWreGD7clf",
        "outputId": "290c14c9-6833-42bc-be7f-79baabaac41b"
      },
      "outputs": [
        {
          "output_type": "execute_result",
          "data": {
            "text/plain": [
              "((1794923, 5, 1), (161276, 5, 1))"
            ]
          },
          "metadata": {},
          "execution_count": 33
        }
      ],
      "source": [
        "X_train_eth1 = np.array(X_train_eth1)\n",
        "X_train_eth1 = X_train_eth1.reshape(X_train_eth1.shape[0], X_train_eth1.shape[1], 1)\n",
        "X_test_eth1 = np.array(X_test_eth1)\n",
        "X_test_eth1 = X_test_eth1.reshape(X_test_eth1.shape[0], X_test_eth1.shape[1], 1)\n",
        "X_train_eth1.shape, X_test_eth1.shape"
      ]
    },
    {
      "cell_type": "code",
      "execution_count": null,
      "metadata": {
        "id": "RqLo2uwD7nRR",
        "colab": {
          "base_uri": "https://localhost:8080/"
        },
        "outputId": "78090440-6c7b-4a8c-cb38-78ca1b1fc544"
      },
      "outputs": [
        {
          "output_type": "execute_result",
          "data": {
            "text/plain": [
              "((1794923, 1), (161276, 1))"
            ]
          },
          "metadata": {},
          "execution_count": 34
        }
      ],
      "source": [
        "y_train_eth = np.array(y_train_eth)\n",
        "y_train_eth = y_train_eth.reshape(-1,1)\n",
        "y_test_eth = np.array(y_test_eth)\n",
        "y_test_eth = y_test_eth.reshape(-1,1)\n",
        "y_train_eth.shape, y_test_eth.shape"
      ]
    },
    {
      "cell_type": "markdown",
      "source": [
        "**Using Tensorflow we build a sequential GRU model. The input layer consists of 2D input data with the the number of columns and batch size as 1. The hidden layer consists of 5 GRUs with 25% dropout rate as the results seem to be converging with more epochs. The output of these GRU units is passed from an ELU function and then into a single output neuron. The loss function and the optimizer are same that of model used before**."
      ],
      "metadata": {
        "id": "cu5DC9I476Tl"
      }
    },
    {
      "cell_type": "code",
      "execution_count": null,
      "metadata": {
        "id": "LvNN40lL7sG5",
        "colab": {
          "base_uri": "https://localhost:8080/",
          "height": 1000
        },
        "outputId": "2fd5ddd1-650a-4190-c9fd-709dd9e9729e"
      },
      "outputs": [
        {
          "output_type": "stream",
          "name": "stdout",
          "text": [
            "Model: \"sequential_12\"\n",
            "_________________________________________________________________\n",
            " Layer (type)                Output Shape              Param #   \n",
            "=================================================================\n",
            " gru_2 (GRU)                 (None, 5)                 120       \n",
            "                                                                 \n",
            " elu_5 (ELU)                 (None, 5)                 0         \n",
            "                                                                 \n",
            " dense_23 (Dense)            (None, 1)                 6         \n",
            "                                                                 \n",
            "=================================================================\n",
            "Total params: 126\n",
            "Trainable params: 126\n",
            "Non-trainable params: 0\n",
            "_________________________________________________________________\n",
            "Epoch 1/20\n",
            "18/18 [==============================] - 10s 316ms/step - loss: 0.0372 - val_loss: 0.0107\n",
            "Epoch 2/20\n",
            "18/18 [==============================] - 4s 201ms/step - loss: 0.0107 - val_loss: 1.7600e-04\n",
            "Epoch 3/20\n",
            "18/18 [==============================] - 4s 201ms/step - loss: 0.0052 - val_loss: 5.8093e-04\n",
            "Epoch 4/20\n",
            "18/18 [==============================] - 4s 201ms/step - loss: 0.0048 - val_loss: 3.5315e-04\n",
            "Epoch 5/20\n",
            "18/18 [==============================] - 4s 200ms/step - loss: 0.0043 - val_loss: 1.3325e-04\n",
            "Epoch 6/20\n",
            "18/18 [==============================] - 4s 200ms/step - loss: 0.0039 - val_loss: 1.2478e-04\n",
            "Epoch 7/20\n",
            "18/18 [==============================] - 4s 201ms/step - loss: 0.0035 - val_loss: 1.3910e-04\n",
            "Epoch 8/20\n",
            "18/18 [==============================] - 4s 200ms/step - loss: 0.0031 - val_loss: 1.2930e-04\n",
            "Epoch 9/20\n",
            "18/18 [==============================] - 4s 202ms/step - loss: 0.0027 - val_loss: 1.1513e-04\n",
            "Epoch 10/20\n",
            "18/18 [==============================] - 4s 202ms/step - loss: 0.0024 - val_loss: 1.0760e-04\n",
            "Epoch 11/20\n",
            "18/18 [==============================] - 4s 200ms/step - loss: 0.0021 - val_loss: 9.9090e-05\n",
            "Epoch 12/20\n",
            "18/18 [==============================] - 4s 200ms/step - loss: 0.0018 - val_loss: 9.0908e-05\n",
            "Epoch 13/20\n",
            "18/18 [==============================] - 4s 200ms/step - loss: 0.0015 - val_loss: 8.3743e-05\n",
            "Epoch 14/20\n",
            "18/18 [==============================] - 4s 204ms/step - loss: 0.0013 - val_loss: 7.9930e-05\n",
            "Epoch 15/20\n",
            "18/18 [==============================] - 4s 202ms/step - loss: 0.0011 - val_loss: 7.3275e-05\n",
            "Epoch 16/20\n",
            "18/18 [==============================] - 4s 200ms/step - loss: 9.0384e-04 - val_loss: 6.8224e-05\n",
            "Epoch 17/20\n",
            "18/18 [==============================] - 4s 202ms/step - loss: 7.4903e-04 - val_loss: 6.3808e-05\n",
            "Epoch 18/20\n",
            "18/18 [==============================] - 4s 202ms/step - loss: 6.1587e-04 - val_loss: 5.8824e-05\n",
            "Epoch 19/20\n",
            "18/18 [==============================] - 4s 200ms/step - loss: 5.0092e-04 - val_loss: 5.5913e-05\n",
            "Epoch 20/20\n",
            "18/18 [==============================] - 4s 200ms/step - loss: 4.0446e-04 - val_loss: 5.2392e-05\n"
          ]
        },
        {
          "output_type": "display_data",
          "data": {
            "image/png": "[encoded data removed]",
            "text/plain": [
              "<Figure size 432x288 with 1 Axes>"
            ]
          },
          "metadata": {
            "needs_background": "light"
          }
        },
        {
          "output_type": "stream",
          "name": "stdout",
          "text": [
            "1260/1260 [==============================] - 2s 2ms/step - loss: 5.2392e-05\n",
            "test loss, test acc: 5.239233360043727e-05\n"
          ]
        }
      ],
      "source": [
        "from numpy.random import seed\n",
        "seed(1)\n",
        "import tensorflow as tf\n",
        "tf.random.set_seed(2)\n",
        "\n",
        "\n",
        "# define a recurrent network with Gated Recurrent Units\n",
        "model_gru = tf.keras.Sequential([\n",
        "    tf.keras.layers.Input(shape = (X_train_eth1.shape[1], 1)),\n",
        "    tf.keras.layers.GRU(5, dropout = 0.25), \n",
        "    tf.keras.layers.ELU(),\n",
        "    tf.keras.layers. Dense(1)\n",
        "])\n",
        "\n",
        "model_gru.compile(loss = 'mean_squared_error', optimizer = 'adam')\n",
        "model_gru.summary()\n",
        "history = model_gru.fit(X_train_eth1, y_train_eth, epochs = 20,batch_size = 100000, validation_data = (X_test_eth1, y_test_eth))\n",
        "plt.plot(history.history['loss'], label = 'training')\n",
        "plt.plot(history.history['val_loss'], label = 'test')\n",
        "plt.show()\n",
        "results = model_gru.evaluate(X_test_eth1, y_test_eth, batch_size=128)\n",
        "print(\"test loss, test acc:\", results)"
      ]
    },
    {
      "cell_type": "code",
      "source": [
        "#fig, axs = plt.subplots(1, 2, figsize = (12,8))\n",
        "plt.scatter(model_gru.predict(X_train_eth1).flatten(), y_train_eth, color = 'green')\n",
        "plt.scatter(model_gru.predict(X_test_eth1).flatten(), y_test_eth, color = 'blue')\n",
        "plt.show()"
      ],
      "metadata": {
        "colab": {
          "base_uri": "https://localhost:8080/",
          "height": 264
        },
        "id": "N9GWljo21uy3",
        "outputId": "1375566a-15a0-4a13-e0d1-0e764278af6a"
      },
      "execution_count": null,
      "outputs": [
        {
          "output_type": "display_data",
          "data": {
            "image/png": "[encoded data removed]",
            "text/plain": [
              "<Figure size 432x288 with 1 Axes>"
            ]
          },
          "metadata": {
            "needs_background": "light"
          }
        }
      ]
    },
    {
      "cell_type": "markdown",
      "source": [
        "**The prices prediction for GRU are better when compared to both models of the feedforward neural networks , the predicted prices are much closer to the orignal prices and when comapred to the NN**"
      ],
      "metadata": {
        "id": "TaOfR_BSAco7"
      }
    },
    {
      "cell_type": "code",
      "source": [
        "fig, axs = plt.subplots(1, 2, figsize = (12,8))\n",
        "axs[0].scatter(model_gru.predict(X_train_eth1).flatten(), y_train_eth, color = 'green')\n",
        "axs[1].scatter(model_gru.predict(X_test_eth1).flatten(), y_test_eth, color = 'grey')\n",
        "plt.show()"
      ],
      "metadata": {
        "id": "DbMrrdSAbby_",
        "colab": {
          "base_uri": "https://localhost:8080/",
          "height": 483
        },
        "outputId": "6c598462-eb2d-4aab-eeb4-724120d5c041"
      },
      "execution_count": null,
      "outputs": [
        {
          "output_type": "display_data",
          "data": {
            "image/png": "[encoded data removed]",
            "text/plain": [
              "<Figure size 864x576 with 2 Axes>"
            ]
          },
          "metadata": {
            "needs_background": "light"
          }
        }
      ]
    },
    {
      "cell_type": "code",
      "source": [
        "predicted_prices = model_gru.predict(X_test_eth1)"
      ],
      "metadata": {
        "id": "fw_Rlzw07SVb"
      },
      "execution_count": null,
      "outputs": []
    },
    {
      "cell_type": "code",
      "source": [
        "print(predicted_prices) \n",
        "print(\"######################\")\n",
        "print(y_test_eth)"
      ],
      "metadata": {
        "colab": {
          "base_uri": "https://localhost:8080/"
        },
        "id": "I-lwiU617gFA",
        "outputId": "2217fbaf-9acb-47bc-c0c9-fd301a2d0147"
      },
      "execution_count": null,
      "outputs": [
        {
          "output_type": "stream",
          "name": "stdout",
          "text": [
            "[[0.00131303]\n",
            " [0.00385143]\n",
            " [0.0149858 ]\n",
            " ...\n",
            " [0.00613474]\n",
            " [0.00403272]\n",
            " [0.00822078]]\n",
            "######################\n",
            "[[-0.00132811]\n",
            " [-0.00089612]\n",
            " [ 0.00024389]\n",
            " ...\n",
            " [-0.0003459 ]\n",
            " [-0.0003459 ]\n",
            " [-0.0003459 ]]\n"
          ]
        }
      ]
    },
    {
      "cell_type": "markdown",
      "source": [
        "**Next we explore the LSTM method for prediction of prices. The model was expiremented with different dropouts and hidden layer units but the model seems to be suffer from overfitting where there is a huge difference between the training and validation loss.The prediction prices are not bad as the overfitted Feedforward neural network model**."
      ],
      "metadata": {
        "id": "x9RxSwhfFi8z"
      }
    },
    {
      "cell_type": "code",
      "source": [
        "# define a recurrent network with Gated Recurrent Units\n",
        "from numpy.random import seed\n",
        "seed(1)\n",
        "import tensorflow as tf\n",
        "tf.random.set_seed(2)\n",
        "\n",
        "model_lstm = tf.keras.Sequential([\n",
        "    tf.keras.layers.Input(shape = (X_train_eth1.shape[1], 1)),\n",
        "    tf.keras.layers.LSTM(5,return_sequences = True, dropout = 0.50), \n",
        "    tf.keras.layers.ELU(),\n",
        "    tf.keras.layers. Dense(1),\n",
        "    \n",
        "])\n",
        "\n",
        "model_lstm.compile(loss = 'mean_squared_error', optimizer = 'adam')\n",
        "model_lstm.summary()\n",
        "history = model_gru.fit(X_train_eth1, y_train_eth, epochs = 10,batch_size = 100000, validation_data = (X_test_eth1, y_test_eth))\n",
        "plt.plot(history.history['loss'], label = 'training')\n",
        "plt.plot(history.history['val_loss'], label = 'test')\n",
        "plt.show()"
      ],
      "metadata": {
        "colab": {
          "base_uri": "https://localhost:8080/",
          "height": 922
        },
        "id": "8q_swJNb6pUZ",
        "outputId": "96fc0b78-f949-477d-b324-c3a21b62b324"
      },
      "execution_count": null,
      "outputs": [
        {
          "output_type": "stream",
          "name": "stdout",
          "text": [
            "Model: \"sequential_21\"\n",
            "_________________________________________________________________\n",
            " Layer (type)                Output Shape              Param #   \n",
            "=================================================================\n",
            " lstm_11 (LSTM)              (None, 5, 5)              140       \n",
            "                                                                 \n",
            " elu_14 (ELU)                (None, 5, 5)              0         \n",
            "                                                                 \n",
            " dense_32 (Dense)            (None, 5, 1)              6         \n",
            "                                                                 \n",
            "=================================================================\n",
            "Total params: 146\n",
            "Trainable params: 146\n",
            "Non-trainable params: 0\n",
            "_________________________________________________________________\n",
            "Epoch 1/10\n",
            "18/18 [==============================] - 5s 223ms/step - loss: 1.1126e-05 - val_loss: 1.8520e-05\n",
            "Epoch 2/10\n",
            "18/18 [==============================] - 4s 209ms/step - loss: 1.1000e-05 - val_loss: 1.8472e-05\n",
            "Epoch 3/10\n",
            "18/18 [==============================] - 4s 213ms/step - loss: 1.0885e-05 - val_loss: 1.8431e-05\n",
            "Epoch 4/10\n",
            "18/18 [==============================] - 4s 212ms/step - loss: 1.0754e-05 - val_loss: 1.8319e-05\n",
            "Epoch 5/10\n",
            "18/18 [==============================] - 4s 211ms/step - loss: 1.0632e-05 - val_loss: 1.8198e-05\n",
            "Epoch 6/10\n",
            "18/18 [==============================] - 4s 211ms/step - loss: 1.0506e-05 - val_loss: 1.8220e-05\n",
            "Epoch 7/10\n",
            "18/18 [==============================] - 4s 215ms/step - loss: 1.0404e-05 - val_loss: 1.8084e-05\n",
            "Epoch 8/10\n",
            "18/18 [==============================] - 4s 216ms/step - loss: 1.0303e-05 - val_loss: 1.8033e-05\n",
            "Epoch 9/10\n",
            "18/18 [==============================] - 4s 212ms/step - loss: 1.0179e-05 - val_loss: 1.7948e-05\n",
            "Epoch 10/10\n",
            "18/18 [==============================] - 4s 215ms/step - loss: 1.0071e-05 - val_loss: 1.7828e-05\n"
          ]
        },
        {
          "output_type": "display_data",
          "data": {
            "image/png": "[encoded data removed]",
            "text/plain": [
              "<Figure size 432x288 with 1 Axes>"
            ]
          },
          "metadata": {
            "needs_background": "light"
          }
        }
      ]
    },
    {
      "cell_type": "code",
      "source": [
        "print(model_lstm.predict(X_test_eth1))\n",
        "print(\"########################### \")\n",
        "print(y_test_eth)"
      ],
      "metadata": {
        "colab": {
          "base_uri": "https://localhost:8080/"
        },
        "id": "-reN6W58MZFS",
        "outputId": "24748bf3-02bc-4cc7-d14e-db56f3655239"
      },
      "execution_count": null,
      "outputs": [
        {
          "output_type": "stream",
          "name": "stdout",
          "text": [
            "[[[-0.06514208]\n",
            "  [-0.10491305]\n",
            "  [-0.07158277]\n",
            "  [-0.09177459]\n",
            "  [-0.11548001]]\n",
            "\n",
            " [[-0.06529168]\n",
            "  [-0.0982012 ]\n",
            "  [-0.06575699]\n",
            "  [-0.08804561]\n",
            "  [-0.11149547]]\n",
            "\n",
            " [[-0.06523884]\n",
            "  [-0.09774973]\n",
            "  [-0.06483463]\n",
            "  [-0.08481547]\n",
            "  [-0.09647215]]\n",
            "\n",
            " ...\n",
            "\n",
            " [[-0.06986573]\n",
            "  [-0.09960615]\n",
            "  [-0.06576943]\n",
            "  [-0.08748015]\n",
            "  [-0.10828038]]\n",
            "\n",
            " [[-0.07010414]\n",
            "  [-0.10730661]\n",
            "  [-0.07276336]\n",
            "  [-0.09199634]\n",
            "  [-0.11223149]]\n",
            "\n",
            " [[-0.07018755]\n",
            "  [-0.09942853]\n",
            "  [-0.0657536 ]\n",
            "  [-0.08717702]\n",
            "  [-0.10572791]]]\n",
            "########################### \n",
            "[[-0.00132811]\n",
            " [-0.00089612]\n",
            " [ 0.00024389]\n",
            " ...\n",
            " [-0.0003459 ]\n",
            " [-0.0003459 ]\n",
            " [-0.0003459 ]]\n"
          ]
        }
      ]
    },
    {
      "cell_type": "markdown",
      "source": [
        "**Automatic HyperParameter Optimization using Keras Tuner** "
      ],
      "metadata": {
        "id": "RIm1PWYL7TCe"
      }
    },
    {
      "cell_type": "markdown",
      "source": [
        "First we install the package required for Auto tuning of parameters"
      ],
      "metadata": {
        "id": "ITxEiQA9LA4D"
      }
    },
    {
      "cell_type": "code",
      "source": [
        "pip install keras-tuner"
      ],
      "metadata": {
        "colab": {
          "base_uri": "https://localhost:8080/"
        },
        "id": "q80BE6KSRG1x",
        "outputId": "7827d959-ab1c-4370-f62d-86aea5fc6982"
      },
      "execution_count": null,
      "outputs": [
        {
          "output_type": "stream",
          "name": "stdout",
          "text": [
            "Collecting keras-tuner\n",
            "  Downloading keras_tuner-1.1.0-py3-none-any.whl (98 kB)\n",
            "\u001b[?25l\r\u001b[K     |███▍                            | 10 kB 28.9 MB/s eta 0:00:01\r\u001b[K     |██████▊                         | 20 kB 15.3 MB/s eta 0:00:01\r\u001b[K     |██████████                      | 30 kB 19.1 MB/s eta 0:00:01\r\u001b[K     |█████████████▍                  | 40 kB 22.8 MB/s eta 0:00:01\r\u001b[K     |████████████████▊               | 51 kB 26.3 MB/s eta 0:00:01\r\u001b[K     |████████████████████            | 61 kB 28.2 MB/s eta 0:00:01\r\u001b[K     |███████████████████████▍        | 71 kB 26.2 MB/s eta 0:00:01\r\u001b[K     |██████████████████████████▊     | 81 kB 27.1 MB/s eta 0:00:01\r\u001b[K     |██████████████████████████████  | 92 kB 25.9 MB/s eta 0:00:01\r\u001b[K     |████████████████████████████████| 98 kB 6.3 MB/s \n",
            "\u001b[?25hRequirement already satisfied: numpy in /usr/local/lib/python3.7/dist-packages (from keras-tuner) (1.19.5)\n",
            "Requirement already satisfied: packaging in /usr/local/lib/python3.7/dist-packages (from keras-tuner) (21.3)\n",
            "Requirement already satisfied: tensorboard in /usr/local/lib/python3.7/dist-packages (from keras-tuner) (2.7.0)\n",
            "Requirement already satisfied: scipy in /usr/local/lib/python3.7/dist-packages (from keras-tuner) (1.4.1)\n",
            "Requirement already satisfied: requests in /usr/local/lib/python3.7/dist-packages (from keras-tuner) (2.23.0)\n",
            "Requirement already satisfied: ipython in /usr/local/lib/python3.7/dist-packages (from keras-tuner) (5.5.0)\n",
            "Collecting kt-legacy\n",
            "  Downloading kt_legacy-1.0.4-py3-none-any.whl (9.6 kB)\n",
            "Requirement already satisfied: simplegeneric>0.8 in /usr/local/lib/python3.7/dist-packages (from ipython->keras-tuner) (0.8.1)\n",
            "Requirement already satisfied: setuptools>=18.5 in /usr/local/lib/python3.7/dist-packages (from ipython->keras-tuner) (57.4.0)\n",
            "Requirement already satisfied: prompt-toolkit<2.0.0,>=1.0.4 in /usr/local/lib/python3.7/dist-packages (from ipython->keras-tuner) (1.0.18)\n",
            "Requirement already satisfied: decorator in /usr/local/lib/python3.7/dist-packages (from ipython->keras-tuner) (4.4.2)\n",
            "Requirement already satisfied: pickleshare in /usr/local/lib/python3.7/dist-packages (from ipython->keras-tuner) (0.7.5)\n",
            "Requirement already satisfied: pexpect in /usr/local/lib/python3.7/dist-packages (from ipython->keras-tuner) (4.8.0)\n",
            "Requirement already satisfied: traitlets>=4.2 in /usr/local/lib/python3.7/dist-packages (from ipython->keras-tuner) (5.1.1)\n",
            "Requirement already satisfied: pygments in /usr/local/lib/python3.7/dist-packages (from ipython->keras-tuner) (2.6.1)\n",
            "Requirement already satisfied: wcwidth in /usr/local/lib/python3.7/dist-packages (from prompt-toolkit<2.0.0,>=1.0.4->ipython->keras-tuner) (0.2.5)\n",
            "Requirement already satisfied: six>=1.9.0 in /usr/local/lib/python3.7/dist-packages (from prompt-toolkit<2.0.0,>=1.0.4->ipython->keras-tuner) (1.15.0)\n",
            "Requirement already satisfied: pyparsing!=3.0.5,>=2.0.2 in /usr/local/lib/python3.7/dist-packages (from packaging->keras-tuner) (3.0.7)\n",
            "Requirement already satisfied: ptyprocess>=0.5 in /usr/local/lib/python3.7/dist-packages (from pexpect->ipython->keras-tuner) (0.7.0)\n",
            "Requirement already satisfied: chardet<4,>=3.0.2 in /usr/local/lib/python3.7/dist-packages (from requests->keras-tuner) (3.0.4)\n",
            "Requirement already satisfied: certifi>=2017.4.17 in /usr/local/lib/python3.7/dist-packages (from requests->keras-tuner) (2021.10.8)\n",
            "Requirement already satisfied: urllib3!=1.25.0,!=1.25.1,<1.26,>=1.21.1 in /usr/local/lib/python3.7/dist-packages (from requests->keras-tuner) (1.24.3)\n",
            "Requirement already satisfied: idna<3,>=2.5 in /usr/local/lib/python3.7/dist-packages (from requests->keras-tuner) (2.10)\n",
            "Requirement already satisfied: protobuf>=3.6.0 in /usr/local/lib/python3.7/dist-packages (from tensorboard->keras-tuner) (3.17.3)\n",
            "Requirement already satisfied: wheel>=0.26 in /usr/local/lib/python3.7/dist-packages (from tensorboard->keras-tuner) (0.37.1)\n",
            "Requirement already satisfied: google-auth-oauthlib<0.5,>=0.4.1 in /usr/local/lib/python3.7/dist-packages (from tensorboard->keras-tuner) (0.4.6)\n",
            "Requirement already satisfied: google-auth<3,>=1.6.3 in /usr/local/lib/python3.7/dist-packages (from tensorboard->keras-tuner) (1.35.0)\n",
            "Requirement already satisfied: tensorboard-plugin-wit>=1.6.0 in /usr/local/lib/python3.7/dist-packages (from tensorboard->keras-tuner) (1.8.1)\n",
            "Requirement already satisfied: werkzeug>=0.11.15 in /usr/local/lib/python3.7/dist-packages (from tensorboard->keras-tuner) (1.0.1)\n",
            "Requirement already satisfied: markdown>=2.6.8 in /usr/local/lib/python3.7/dist-packages (from tensorboard->keras-tuner) (3.3.6)\n",
            "Requirement already satisfied: grpcio>=1.24.3 in /usr/local/lib/python3.7/dist-packages (from tensorboard->keras-tuner) (1.43.0)\n",
            "Requirement already satisfied: tensorboard-data-server<0.7.0,>=0.6.0 in /usr/local/lib/python3.7/dist-packages (from tensorboard->keras-tuner) (0.6.1)\n",
            "Requirement already satisfied: absl-py>=0.4 in /usr/local/lib/python3.7/dist-packages (from tensorboard->keras-tuner) (1.0.0)\n",
            "Requirement already satisfied: rsa<5,>=3.1.4 in /usr/local/lib/python3.7/dist-packages (from google-auth<3,>=1.6.3->tensorboard->keras-tuner) (4.8)\n",
            "Requirement already satisfied: cachetools<5.0,>=2.0.0 in /usr/local/lib/python3.7/dist-packages (from google-auth<3,>=1.6.3->tensorboard->keras-tuner) (4.2.4)\n",
            "Requirement already satisfied: pyasn1-modules>=0.2.1 in /usr/local/lib/python3.7/dist-packages (from google-auth<3,>=1.6.3->tensorboard->keras-tuner) (0.2.8)\n",
            "Requirement already satisfied: requests-oauthlib>=0.7.0 in /usr/local/lib/python3.7/dist-packages (from google-auth-oauthlib<0.5,>=0.4.1->tensorboard->keras-tuner) (1.3.0)\n",
            "Requirement already satisfied: importlib-metadata>=4.4 in /usr/local/lib/python3.7/dist-packages (from markdown>=2.6.8->tensorboard->keras-tuner) (4.10.1)\n",
            "Requirement already satisfied: zipp>=0.5 in /usr/local/lib/python3.7/dist-packages (from importlib-metadata>=4.4->markdown>=2.6.8->tensorboard->keras-tuner) (3.7.0)\n",
            "Requirement already satisfied: typing-extensions>=3.6.4 in /usr/local/lib/python3.7/dist-packages (from importlib-metadata>=4.4->markdown>=2.6.8->tensorboard->keras-tuner) (3.10.0.2)\n",
            "Requirement already satisfied: pyasn1<0.5.0,>=0.4.6 in /usr/local/lib/python3.7/dist-packages (from pyasn1-modules>=0.2.1->google-auth<3,>=1.6.3->tensorboard->keras-tuner) (0.4.8)\n",
            "Requirement already satisfied: oauthlib>=3.0.0 in /usr/local/lib/python3.7/dist-packages (from requests-oauthlib>=0.7.0->google-auth-oauthlib<0.5,>=0.4.1->tensorboard->keras-tuner) (3.1.1)\n",
            "Installing collected packages: kt-legacy, keras-tuner\n",
            "Successfully installed keras-tuner-1.1.0 kt-legacy-1.0.4\n"
          ]
        }
      ]
    },
    {
      "cell_type": "code",
      "source": [
        "import tensorflow as tf\n",
        "import kerastuner as kt\n",
        "from tensorflow import keras"
      ],
      "metadata": {
        "id": "JR3c0pu1RWlX"
      },
      "execution_count": null,
      "outputs": []
    },
    {
      "cell_type": "markdown",
      "source": [
        "**Here we create a model , where in we select a predefine set of values for our model and ask the keras-tuner to run through different values and it gives the best values for the parameters**."
      ],
      "metadata": {
        "id": "Z_ZxV9K37fGp"
      }
    },
    {
      "cell_type": "code",
      "source": [
        "def model_builder(hp):\n",
        "  '''\n",
        "  Args:\n",
        "    hp - Keras tuner object\n",
        "  '''\n",
        "  # Initialize the Sequential API and start stacking the layers\n",
        "  model = keras.Sequential()\n",
        "  model.add(keras.layers.InputLayer(input_shape=((X_train_eth1.shape[1]))))\n",
        "  # Tune the number of units in the first Dense layer\n",
        "  # Choose an optimal value between 5-10\n",
        "  hp_units = hp.Int('units', min_value=5, max_value=10, step=1)\n",
        "  model.add(keras.layers.Dense(units=hp_units, activation='relu', name='dense2'))\n",
        "  # Add next layers\n",
        "  model.add(keras.layers.Dropout(0.2))\n",
        "  model.add(keras.layers.Dense(1 , name='dense_last_1'))\n",
        "  # Tune the learning rate for the optimizer\n",
        "  # Choose an optimal value from 0.01, 0.001, or 0.0001\n",
        "  hp_learning_rate = hp.Choice('learning_rate', values=[1e-2, 1e-3, 1e-4])\n",
        "  model.compile(optimizer=keras.optimizers.Adam(learning_rate=hp_learning_rate),\n",
        "                loss=keras.losses.MeanSquaredError()\n",
        "                )\n",
        "  return model"
      ],
      "metadata": {
        "id": "SHjxllFYSGP-"
      },
      "execution_count": null,
      "outputs": []
    },
    {
      "cell_type": "code",
      "source": [
        "# Instantiate the tuner\n",
        "tuner = kt.Hyperband(model_builder, # the hypermodel\n",
        "                     objective='val_loss', # objective to optimize\n",
        "max_epochs=10,\n",
        "factor=3) # factor which you have seen above  "
      ],
      "metadata": {
        "colab": {
          "base_uri": "https://localhost:8080/"
        },
        "id": "AvG9FKsoSoW1",
        "outputId": "f11fbbff-e625-4aa7-8526-66f1392f0d00"
      },
      "execution_count": null,
      "outputs": [
        {
          "output_type": "stream",
          "name": "stdout",
          "text": [
            "INFO:tensorflow:Reloading Oracle from existing project ./untitled_project/oracle.json\n"
          ]
        }
      ]
    },
    {
      "cell_type": "code",
      "source": [
        "tuner.search_space_summary() "
      ],
      "metadata": {
        "colab": {
          "base_uri": "https://localhost:8080/"
        },
        "id": "dusI1gTBSvER",
        "outputId": "5283fac2-c632-402b-98f9-eec3ed0a92d4"
      },
      "execution_count": null,
      "outputs": [
        {
          "output_type": "stream",
          "name": "stdout",
          "text": [
            "Search space summary\n",
            "Default search space size: 2\n",
            "units (Int)\n",
            "{'default': None, 'conditions': [], 'min_value': 5, 'max_value': 10, 'step': 1, 'sampling': None}\n",
            "learning_rate (Choice)\n",
            "{'default': 0.01, 'conditions': [], 'values': [0.01, 0.001, 0.0001], 'ordered': True}\n"
          ]
        }
      ]
    },
    {
      "cell_type": "code",
      "source": [
        "stop_early = tf.keras.callbacks.EarlyStopping(monitor='val_loss', patience=5)"
      ],
      "metadata": {
        "id": "_HkmbPJ6S4ES"
      },
      "execution_count": null,
      "outputs": []
    },
    {
      "cell_type": "markdown",
      "source": [
        "**The following peace of code gives us the best fit of parameters where in the val_loss was minimal**."
      ],
      "metadata": {
        "id": "1iVSPQ-FXN_K"
      }
    },
    {
      "cell_type": "code",
      "source": [
        "tuner.search(X_train_eth1, y_train_eth, epochs=3, validation_split=0.2 , callbacks=[stop_early])"
      ],
      "metadata": {
        "colab": {
          "base_uri": "https://localhost:8080/"
        },
        "id": "y9DN8istTBUm",
        "outputId": "00f3854c-623a-4306-eeed-861f56c17a2f"
      },
      "execution_count": null,
      "outputs": [
        {
          "output_type": "stream",
          "name": "stdout",
          "text": [
            "Trial 27 Complete [00h 07m 41s]\n",
            "val_loss: 0.00011162061127834022\n",
            "\n",
            "Best val_loss So Far: 8.901878572942223e-06\n",
            "Total elapsed time: 01h 47m 33s\n",
            "INFO:tensorflow:Oracle triggered exit\n"
          ]
        }
      ]
    },
    {
      "cell_type": "markdown",
      "source": [
        "**Now we create a model with the best parameters determined**."
      ],
      "metadata": {
        "id": "Y7oEIGBE8L3M"
      }
    },
    {
      "cell_type": "code",
      "source": [
        "best_hp=tuner.get_best_hyperparameters()[0]\n",
        "h_model = tuner.hypermodel.build(best_hp)\n",
        "h_model.summary()\n",
        "history = h_model.fit(X_train_eth1, y_train_eth, epochs = 20,batch_size = 100000, validation_data = (X_test_eth1, y_test_eth))\n",
        "plt.plot(history.history['loss'], label = 'training')\n",
        "plt.plot(history.history['val_loss'], label = 'test')\n",
        "plt.show()"
      ],
      "metadata": {
        "colab": {
          "base_uri": "https://localhost:8080/",
          "height": 1000
        },
        "id": "NSXNnTBq4AUq",
        "outputId": "a332ed4f-b39c-4b2d-cc86-1d8d9b04c04a"
      },
      "execution_count": null,
      "outputs": [
        {
          "output_type": "stream",
          "name": "stdout",
          "text": [
            "Model: \"sequential_2\"\n",
            "_________________________________________________________________\n",
            " Layer (type)                Output Shape              Param #   \n",
            "=================================================================\n",
            " dense2 (Dense)              (None, 5)                 30        \n",
            "                                                                 \n",
            " dropout_2 (Dropout)         (None, 5)                 0         \n",
            "                                                                 \n",
            " dense_last_1 (Dense)        (None, 1)                 6         \n",
            "                                                                 \n",
            "=================================================================\n",
            "Total params: 36\n",
            "Trainable params: 36\n",
            "Non-trainable params: 0\n",
            "_________________________________________________________________\n",
            "Epoch 1/20\n",
            "18/18 [==============================] - 1s 36ms/step - loss: 1.6002 - val_loss: 1.7319\n",
            "Epoch 2/20\n",
            "18/18 [==============================] - 0s 27ms/step - loss: 1.2286 - val_loss: 1.3378\n",
            "Epoch 3/20\n",
            "18/18 [==============================] - 1s 30ms/step - loss: 0.9538 - val_loss: 1.0303\n",
            "Epoch 4/20\n",
            "18/18 [==============================] - 1s 33ms/step - loss: 0.7374 - val_loss: 0.7906\n",
            "Epoch 5/20\n",
            "18/18 [==============================] - 1s 35ms/step - loss: 0.5686 - val_loss: 0.6048\n",
            "Epoch 6/20\n",
            "18/18 [==============================] - 1s 38ms/step - loss: 0.4374 - val_loss: 0.4610\n",
            "Epoch 7/20\n",
            "18/18 [==============================] - 1s 38ms/step - loss: 0.3355 - val_loss: 0.3499\n",
            "Epoch 8/20\n",
            "18/18 [==============================] - 1s 37ms/step - loss: 0.2568 - val_loss: 0.2643\n",
            "Epoch 9/20\n",
            "18/18 [==============================] - 1s 36ms/step - loss: 0.1959 - val_loss: 0.1984\n",
            "Epoch 10/20\n",
            "18/18 [==============================] - 1s 37ms/step - loss: 0.1489 - val_loss: 0.1480\n",
            "Epoch 11/20\n",
            "18/18 [==============================] - 1s 36ms/step - loss: 0.1129 - val_loss: 0.1096\n",
            "Epoch 12/20\n",
            "18/18 [==============================] - 1s 37ms/step - loss: 0.0854 - val_loss: 0.0804\n",
            "Epoch 13/20\n",
            "18/18 [==============================] - 1s 32ms/step - loss: 0.0644 - val_loss: 0.0585\n",
            "Epoch 14/20\n",
            "18/18 [==============================] - 0s 27ms/step - loss: 0.0487 - val_loss: 0.0421\n",
            "Epoch 15/20\n",
            "18/18 [==============================] - 0s 26ms/step - loss: 0.0368 - val_loss: 0.0300\n",
            "Epoch 16/20\n",
            "18/18 [==============================] - 0s 27ms/step - loss: 0.0279 - val_loss: 0.0211\n",
            "Epoch 17/20\n",
            "18/18 [==============================] - 0s 28ms/step - loss: 0.0214 - val_loss: 0.0148\n",
            "Epoch 18/20\n",
            "18/18 [==============================] - 0s 26ms/step - loss: 0.0166 - val_loss: 0.0104\n",
            "Epoch 19/20\n",
            "18/18 [==============================] - 0s 26ms/step - loss: 0.0132 - val_loss: 0.0075\n",
            "Epoch 20/20\n",
            "18/18 [==============================] - 0s 24ms/step - loss: 0.0107 - val_loss: 0.0054\n"
          ]
        },
        {
          "output_type": "display_data",
          "data": {
            "image/png": "[encoded data removed]",
            "text/plain": [
              "<Figure size 432x288 with 1 Axes>"
            ]
          },
          "metadata": {
            "needs_background": "light"
          }
        }
      ]
    },
    {
      "cell_type": "code",
      "source": [
        "plt.scatter(h_model.predict(X_train_eth1).flatten(), y_train_eth, color = 'grey')\n",
        "plt.scatter(h_model.predict(X_test_eth1).flatten(), y_test_eth, color = 'blue')\n",
        "plt.show()"
      ],
      "metadata": {
        "colab": {
          "base_uri": "https://localhost:8080/",
          "height": 264
        },
        "id": "nFxpmNZR5A97",
        "outputId": "8376f4b3-450d-4c8e-87b9-0a5322983da9"
      },
      "execution_count": null,
      "outputs": [
        {
          "output_type": "display_data",
          "data": {
            "image/png": "[encoded data removed]",
            "text/plain": [
              "<Figure size 432x288 with 1 Axes>"
            ]
          },
          "metadata": {
            "needs_background": "light"
          }
        }
      ]
    },
    {
      "cell_type": "markdown",
      "source": [
        "**The predicted values are pretty much similar to the predicted values in the above FeedForward NN**."
      ],
      "metadata": {
        "id": "JOeYNztr8uEQ"
      }
    },
    {
      "cell_type": "code",
      "source": [
        "fig, axs = plt.subplots(1, 2, figsize = (12,8))\n",
        "axs[0].scatter(h_model.predict(X_train_eth1).flatten(), y_train_eth, color = 'green')\n",
        "axs[1].scatter(h_model.predict(X_test_eth1).flatten(), y_test_eth, color = 'grey')\n",
        "plt.show()"
      ],
      "metadata": {
        "colab": {
          "base_uri": "https://localhost:8080/",
          "height": 483
        },
        "id": "d-0r5XEL6p_Y",
        "outputId": "43d73775-49ee-469e-ecb9-e28005de9ece"
      },
      "execution_count": null,
      "outputs": [
        {
          "output_type": "display_data",
          "data": {
            "image/png": "[encoded data removed]",
            "text/plain": [
              "<Figure size 864x576 with 2 Axes>"
            ]
          },
          "metadata": {
            "needs_background": "light"
          }
        }
      ]
    },
    {
      "cell_type": "code",
      "source": [
        "print(h_model.predict(X_test_eth1))\n",
        "print(\"########################### \")\n",
        "print(y_test_eth)"
      ],
      "metadata": {
        "colab": {
          "base_uri": "https://localhost:8080/"
        },
        "id": "gztlXDQs86P7",
        "outputId": "dae17d7e-be2f-4750-be69-f156f00a5b46"
      },
      "execution_count": null,
      "outputs": [
        {
          "output_type": "stream",
          "name": "stdout",
          "text": [
            "[[0.11597961]\n",
            " [0.08796731]\n",
            " [0.04016979]\n",
            " ...\n",
            " [0.07090554]\n",
            " [0.0913783 ]\n",
            " [0.06377657]]\n",
            "########################### \n",
            "[[-0.00132811]\n",
            " [-0.00089612]\n",
            " [ 0.00024389]\n",
            " ...\n",
            " [-0.0003459 ]\n",
            " [-0.0003459 ]\n",
            " [-0.0003459 ]]\n"
          ]
        }
      ]
    },
    {
      "cell_type": "markdown",
      "source": [
        "**Approach 2**:-"
      ],
      "metadata": {
        "id": "0p9L7V6I-Zj6"
      }
    },
    {
      "cell_type": "markdown",
      "source": [
        "**In approach 2 for the prediction , we consider all observations of the coins where it widely deemed that other coin prices also have an impact on one particular coin**."
      ],
      "metadata": {
        "id": "ggKg2b4GXf8U"
      }
    },
    {
      "cell_type": "code",
      "execution_count": null,
      "metadata": {
        "execution": {
          "iopub.execute_input": "2022-02-02T00:12:47.504185Z",
          "iopub.status.busy": "2022-02-02T00:12:47.503376Z",
          "iopub.status.idle": "2022-02-02T00:12:53.771160Z",
          "shell.execute_reply": "2022-02-02T00:12:53.770449Z",
          "shell.execute_reply.started": "2022-02-02T00:06:41.669433Z"
        },
        "papermill": {
          "duration": 6.313178,
          "end_time": "2022-02-02T00:12:53.771321",
          "exception": false,
          "start_time": "2022-02-02T00:12:47.458143",
          "status": "completed"
        },
        "tags": [],
        "id": "e51ede75"
      },
      "outputs": [],
      "source": [
        "import numpy as np \n",
        "import pandas as pd \n",
        "import os\n",
        "import matplotlib.pyplot as plt\n",
        "import tensorflow as tf\n",
        "import time\n",
        "from datetime import datetime\n",
        "from sklearn.preprocessing import MinMaxScaler\n",
        "from keras.preprocessing.sequence import TimeseriesGenerator\n",
        "from tensorflow.keras.optimizers import Adam\n",
        "from keras.models import Sequential\n",
        "from tensorflow.keras.callbacks import EarlyStopping, ModelCheckpoint, TensorBoard\n",
        "from keras.layers import Dropout, CuDNNLSTM, GRU, Masking, Embedding, Dense, Activation, Flatten, LSTM, TimeDistributed, RepeatVector,Input\n",
        "from keras.callbacks import ReduceLROnPlateau\n",
        "from tensorflow.keras.optimizers import RMSprop\n",
        "from tensorflow.keras.layers import Bidirectional"
      ]
    },
    {
      "cell_type": "code",
      "execution_count": null,
      "metadata": {
        "execution": {
          "iopub.execute_input": "2022-02-02T00:12:53.834096Z",
          "iopub.status.busy": "2022-02-02T00:12:53.833424Z",
          "iopub.status.idle": "2022-02-02T00:14:03.873240Z",
          "shell.execute_reply": "2022-02-02T00:14:03.873815Z",
          "shell.execute_reply.started": "2022-02-02T00:06:47.983411Z"
        },
        "papermill": {
          "duration": 70.073947,
          "end_time": "2022-02-02T00:14:03.874075",
          "exception": false,
          "start_time": "2022-02-02T00:12:53.800128",
          "status": "completed"
        },
        "tags": [],
        "id": "60185407"
      },
      "outputs": [],
      "source": [
        "ds_train = pd.read_csv('/content/drive/My Drive/train.csv')\n",
        "ds_asset = pd.read_csv('/content/drive/My Drive/asset_details.csv')"
      ]
    },
    {
      "cell_type": "code",
      "execution_count": null,
      "metadata": {
        "execution": {
          "iopub.execute_input": "2022-02-02T00:14:04.255063Z",
          "iopub.status.busy": "2022-02-02T00:14:04.254413Z",
          "iopub.status.idle": "2022-02-02T00:14:04.785960Z",
          "shell.execute_reply": "2022-02-02T00:14:04.786455Z",
          "shell.execute_reply.started": "2022-02-02T00:07:52.637068Z"
        },
        "papermill": {
          "duration": 0.569243,
          "end_time": "2022-02-02T00:14:04.786618",
          "exception": false,
          "start_time": "2022-02-02T00:14:04.217375",
          "status": "completed"
        },
        "tags": [],
        "id": "17367857",
        "outputId": "2bff584d-6b8e-4270-8ce5-fc21ffa690d1"
      },
      "outputs": [
        {
          "data": {
            "text/plain": [
              "timestamp         0\n",
              "Asset_ID          0\n",
              "Count             0\n",
              "Open              0\n",
              "High              0\n",
              "Low               0\n",
              "Close             0\n",
              "Volume            0\n",
              "VWAP              9\n",
              "Target       750338\n",
              "dtype: int64"
            ]
          },
          "execution_count": 7,
          "metadata": {},
          "output_type": "execute_result"
        }
      ],
      "source": [
        "ds_train[ds_train['Target']==np.nan]\n",
        "ds_train.isna().sum()"
      ]
    },
    {
      "cell_type": "code",
      "source": [
        "ds_train_copy = ds_train\n",
        "ds_train_copy['date'] = pd.to_datetime(ds_train_copy['timestamp'], unit='s')\n",
        "ds_train_copy.head()"
      ],
      "metadata": {
        "id": "-FjcMS87-2-B"
      },
      "execution_count": null,
      "outputs": []
    },
    {
      "cell_type": "markdown",
      "source": [
        "**Now we seperate each coin based on the Asset ID**\n",
        "\n",
        "**Break train dataset into by asset and make timestamp as a index**."
      ],
      "metadata": {
        "id": "s1-GcROuYZYw"
      }
    },
    {
      "cell_type": "code",
      "execution_count": null,
      "metadata": {
        "execution": {
          "iopub.execute_input": "2022-02-02T00:14:06.890278Z",
          "iopub.status.busy": "2022-02-02T00:14:06.889157Z",
          "iopub.status.idle": "2022-02-02T00:14:11.327420Z",
          "shell.execute_reply": "2022-02-02T00:14:11.326769Z",
          "shell.execute_reply.started": "2022-02-02T00:07:55.685317Z"
        },
        "papermill": {
          "duration": 4.493026,
          "end_time": "2022-02-02T00:14:11.327567",
          "exception": false,
          "start_time": "2022-02-02T00:14:06.834541",
          "status": "completed"
        },
        "tags": [],
        "id": "57d2df24",
        "outputId": "cdaa2da7-0935-4b0d-a88c-d79217780dee"
      },
      "outputs": [
        {
          "data": {
            "text/html": [
              "<div>\n",
              "<style scoped>\n",
              "    .dataframe tbody tr th:only-of-type {\n",
              "        vertical-align: middle;\n",
              "    }\n",
              "\n",
              "    .dataframe tbody tr th {\n",
              "        vertical-align: top;\n",
              "    }\n",
              "\n",
              "    .dataframe thead th {\n",
              "        text-align: right;\n",
              "    }\n",
              "</style>\n",
              "<table border=\"1\" class=\"dataframe\">\n",
              "  <thead>\n",
              "    <tr style=\"text-align: right;\">\n",
              "      <th></th>\n",
              "      <th>Asset_ID</th>\n",
              "      <th>Count</th>\n",
              "      <th>Open</th>\n",
              "      <th>High</th>\n",
              "      <th>Low</th>\n",
              "      <th>Close</th>\n",
              "      <th>Volume</th>\n",
              "      <th>VWAP</th>\n",
              "      <th>Target</th>\n",
              "      <th>date</th>\n",
              "    </tr>\n",
              "    <tr>\n",
              "      <th>timestamp</th>\n",
              "      <th></th>\n",
              "      <th></th>\n",
              "      <th></th>\n",
              "      <th></th>\n",
              "      <th></th>\n",
              "      <th></th>\n",
              "      <th></th>\n",
              "      <th></th>\n",
              "      <th></th>\n",
              "      <th></th>\n",
              "    </tr>\n",
              "  </thead>\n",
              "  <tbody>\n",
              "    <tr>\n",
              "      <th>1514764860</th>\n",
              "      <td>6</td>\n",
              "      <td>173.0</td>\n",
              "      <td>738.3025</td>\n",
              "      <td>746.00</td>\n",
              "      <td>732.51</td>\n",
              "      <td>738.5075</td>\n",
              "      <td>335.987856</td>\n",
              "      <td>738.839291</td>\n",
              "      <td>-0.004809</td>\n",
              "      <td>2018-01-01 00:01:00</td>\n",
              "    </tr>\n",
              "    <tr>\n",
              "      <th>1514764920</th>\n",
              "      <td>6</td>\n",
              "      <td>192.0</td>\n",
              "      <td>738.5075</td>\n",
              "      <td>745.14</td>\n",
              "      <td>732.49</td>\n",
              "      <td>738.2600</td>\n",
              "      <td>232.793141</td>\n",
              "      <td>738.268967</td>\n",
              "      <td>-0.004441</td>\n",
              "      <td>2018-01-01 00:02:00</td>\n",
              "    </tr>\n",
              "    <tr>\n",
              "      <th>1514764980</th>\n",
              "      <td>6</td>\n",
              "      <td>120.0</td>\n",
              "      <td>738.3325</td>\n",
              "      <td>745.12</td>\n",
              "      <td>730.00</td>\n",
              "      <td>737.5025</td>\n",
              "      <td>174.138031</td>\n",
              "      <td>737.994457</td>\n",
              "      <td>-0.004206</td>\n",
              "      <td>2018-01-01 00:03:00</td>\n",
              "    </tr>\n",
              "    <tr>\n",
              "      <th>1514765040</th>\n",
              "      <td>6</td>\n",
              "      <td>156.0</td>\n",
              "      <td>737.2225</td>\n",
              "      <td>744.69</td>\n",
              "      <td>728.93</td>\n",
              "      <td>737.1025</td>\n",
              "      <td>165.383926</td>\n",
              "      <td>737.303631</td>\n",
              "      <td>-0.002205</td>\n",
              "      <td>2018-01-01 00:04:00</td>\n",
              "    </tr>\n",
              "    <tr>\n",
              "      <th>1514765100</th>\n",
              "      <td>6</td>\n",
              "      <td>118.0</td>\n",
              "      <td>736.5300</td>\n",
              "      <td>743.80</td>\n",
              "      <td>727.11</td>\n",
              "      <td>735.7050</td>\n",
              "      <td>193.078039</td>\n",
              "      <td>736.163026</td>\n",
              "      <td>-0.001744</td>\n",
              "      <td>2018-01-01 00:05:00</td>\n",
              "    </tr>\n",
              "  </tbody>\n",
              "</table>\n",
              "</div>"
            ],
            "text/plain": [
              "            Asset_ID  Count      Open    High     Low     Close      Volume  \\\n",
              "timestamp                                                                     \n",
              "1514764860         6  173.0  738.3025  746.00  732.51  738.5075  335.987856   \n",
              "1514764920         6  192.0  738.5075  745.14  732.49  738.2600  232.793141   \n",
              "1514764980         6  120.0  738.3325  745.12  730.00  737.5025  174.138031   \n",
              "1514765040         6  156.0  737.2225  744.69  728.93  737.1025  165.383926   \n",
              "1514765100         6  118.0  736.5300  743.80  727.11  735.7050  193.078039   \n",
              "\n",
              "                  VWAP    Target                date  \n",
              "timestamp                                             \n",
              "1514764860  738.839291 -0.004809 2018-01-01 00:01:00  \n",
              "1514764920  738.268967 -0.004441 2018-01-01 00:02:00  \n",
              "1514764980  737.994457 -0.004206 2018-01-01 00:03:00  \n",
              "1514765040  737.303631 -0.002205 2018-01-01 00:04:00  \n",
              "1514765100  736.163026 -0.001744 2018-01-01 00:05:00  "
            ]
          },
          "execution_count": 10,
          "metadata": {},
          "output_type": "execute_result"
        }
      ],
      "source": [
        "bnc = ds_train_copy[ds_train_copy['Asset_ID']==0].set_index('timestamp')\n",
        "btc = ds_train_copy[ds_train_copy['Asset_ID']==1].set_index('timestamp')\n",
        "btcsh = ds_train_copy[ds_train_copy['Asset_ID']==2].set_index('timestamp')\n",
        "car = ds_train_copy[ds_train_copy['Asset_ID']==3].set_index('timestamp')\n",
        "dog = ds_train_copy[ds_train_copy['Asset_ID']==4].set_index('timestamp')\n",
        "eos = ds_train_copy[ds_train_copy['Asset_ID']==5].set_index('timestamp')\n",
        "eth = ds_train_copy[ds_train_copy['Asset_ID']==6].set_index('timestamp')\n",
        "eth_csc = ds_train_copy[ds_train_copy['Asset_ID']==7].set_index('timestamp')\n",
        "iot = ds_train_copy[ds_train_copy['Asset_ID']==8].set_index('timestamp')\n",
        "ltc = ds_train_copy[ds_train_copy['Asset_ID']==9].set_index('timestamp')\n",
        "mak = ds_train_copy[ds_train_copy['Asset_ID']==10].set_index('timestamp')\n",
        "mon = ds_train_copy[ds_train_copy['Asset_ID']==11].set_index('timestamp')\n",
        "ste = ds_train_copy[ds_train_copy['Asset_ID']==12].set_index('timestamp')\n",
        "tro = ds_train_copy[ds_train_copy['Asset_ID']==13].set_index('timestamp')\n",
        "eth.head()"
      ]
    },
    {
      "cell_type": "markdown",
      "source": [
        "**Now we check for the start and end date of each crypto coin**"
      ],
      "metadata": {
        "id": "F_VzqhUDY-ju"
      }
    },
    {
      "cell_type": "code",
      "execution_count": null,
      "metadata": {
        "execution": {
          "iopub.execute_input": "2022-02-02T00:14:11.395336Z",
          "iopub.status.busy": "2022-02-02T00:14:11.394701Z",
          "iopub.status.idle": "2022-02-02T00:14:11.419246Z",
          "shell.execute_reply": "2022-02-02T00:14:11.419772Z",
          "shell.execute_reply.started": "2022-02-02T00:08:01.363712Z"
        },
        "papermill": {
          "duration": 0.059783,
          "end_time": "2022-02-02T00:14:11.419980",
          "exception": false,
          "start_time": "2022-02-02T00:14:11.360197",
          "status": "completed"
        },
        "tags": [],
        "id": "1f241519",
        "outputId": "4714196a-3c6e-4c28-dabc-f1c352b336aa"
      },
      "outputs": [
        {
          "name": "stdout",
          "output_type": "stream",
          "text": [
            "Bitcoin Cash     : 2018-01-01T00:01:00 to 2021-09-21T00:00:00\n",
            "Binance Coin     : 2018-01-01T00:01:00 to 2021-09-21T00:00:00\n",
            "Bitcoin          : 2018-01-01T00:01:00 to 2021-09-21T00:00:00\n",
            "EOS IO           : 2018-01-01T00:01:00 to 2021-09-21T00:00:00\n",
            "Etherium Classic : 2018-01-01T00:01:00 to 2021-09-21T00:00:00\n",
            "Ethereum         : 2018-01-01T00:01:00 to 2021-09-21T00:00:00\n",
            "Lite Coin        : 2018-01-01T00:01:00 to 2021-09-21T00:00:00\n",
            "Monero           : 2018-01-01T00:01:00 to 2021-09-21T00:00:00\n",
            "TRON             : 2018-02-06T21:37:00 to 2021-09-21T00:00:00\n",
            "Stellar          : 2018-02-16T23:53:00 to 2021-09-21T00:00:00\n",
            "Cardano          : 2018-04-17T09:11:00 to 2021-09-21T00:00:00\n",
            "IOTA             : 2018-05-09T08:07:00 to 2021-09-21T00:00:00\n",
            "Maker            : 2018-05-10T15:21:00 to 2021-09-21T00:00:00\n",
            "Dogecoin         : 2019-04-12T14:34:00 to 2021-09-21T00:00:00\n"
          ]
        }
      ],
      "source": [
        "beg_btcsh = btcsh.index[0].astype('datetime64[s]')\n",
        "end_btcsh = btcsh.index[-1].astype('datetime64[s]')\n",
        "beg_bnc = bnc.index[0].astype('datetime64[s]')\n",
        "end_bnc = bnc.index[-1].astype('datetime64[s]')\n",
        "beg_btc = btc.index[0].astype('datetime64[s]')\n",
        "end_btc = btc.index[-1].astype('datetime64[s]')\n",
        "beg_eos = eos.index[0].astype('datetime64[s]')\n",
        "end_eos = eos.index[-1].astype('datetime64[s]')\n",
        "beg_eth_csc = eth_csc.index[0].astype('datetime64[s]')\n",
        "end_eth_csc = eth_csc.index[-1].astype('datetime64[s]')\n",
        "beg_ltc = ltc.index[0].astype('datetime64[s]')\n",
        "end_ltc = ltc.index[-1].astype('datetime64[s]')\n",
        "beg_mon = mon.index[0].astype('datetime64[s]')\n",
        "end_mon = mon.index[-1].astype('datetime64[s]')\n",
        "beg_tro = tro.index[0].astype('datetime64[s]')\n",
        "end_tro = tro.index[-1].astype('datetime64[s]')\n",
        "beg_eth = eth.index[0].astype('datetime64[s]')\n",
        "end_eth = eth.index[-1].astype('datetime64[s]')\n",
        "beg_ste = ste.index[0].astype('datetime64[s]')\n",
        "end_ste = ste.index[-1].astype('datetime64[s]')\n",
        "beg_car = car.index[0].astype('datetime64[s]')\n",
        "end_car = car.index[-1].astype('datetime64[s]')\n",
        "beg_iot = iot.index[0].astype('datetime64[s]')\n",
        "end_iot = iot.index[-1].astype('datetime64[s]')\n",
        "beg_mak = mak.index[0].astype('datetime64[s]')\n",
        "end_mak = mak.index[-1].astype('datetime64[s]')\n",
        "beg_dog = dog.index[0].astype('datetime64[s]')\n",
        "end_dog = dog.index[-1].astype('datetime64[s]')\n",
        "print('Bitcoin Cash     :', beg_btcsh, 'to', end_btcsh)\n",
        "print('Binance Coin     :', beg_bnc, 'to', end_bnc)\n",
        "print('Bitcoin          :', beg_btc, 'to', end_btc)\n",
        "print('EOS IO           :', beg_eos, 'to', end_eos)\n",
        "print('Etherium Classic :', beg_eth_csc, 'to', end_eth_csc)\n",
        "print('Ethereum         :', beg_eth, 'to', end_eth)\n",
        "print('Lite Coin        :', beg_ltc, 'to', end_ltc)\n",
        "print('Monero           :', beg_mon, 'to', end_mon)\n",
        "print('TRON             :', beg_tro, 'to', end_tro)\n",
        "print('Stellar          :', beg_ste, 'to', end_ste)\n",
        "print('Cardano          :', beg_car, 'to', end_car)\n",
        "print('IOTA             :', beg_iot, 'to', end_iot)\n",
        "print('Maker            :', beg_mak, 'to', end_mak)\n",
        "print('Dogecoin         :', beg_dog, 'to', end_dog)"
      ]
    },
    {
      "cell_type": "markdown",
      "source": [
        "**Reindex all asset to remove the missing data in each timestamp**"
      ],
      "metadata": {
        "id": "GUrhhgcsZS-L"
      }
    },
    {
      "cell_type": "code",
      "execution_count": null,
      "metadata": {
        "execution": {
          "iopub.execute_input": "2022-02-02T00:14:11.581688Z",
          "iopub.status.busy": "2022-02-02T00:14:11.581117Z",
          "iopub.status.idle": "2022-02-02T00:14:15.473465Z",
          "shell.execute_reply": "2022-02-02T00:14:15.474219Z",
          "shell.execute_reply.started": "2022-02-02T00:08:01.42727Z"
        },
        "papermill": {
          "duration": 3.929267,
          "end_time": "2022-02-02T00:14:15.474463",
          "exception": false,
          "start_time": "2022-02-02T00:14:11.545196",
          "status": "completed"
        },
        "tags": [],
        "id": "6fa9fae3"
      },
      "outputs": [],
      "source": [
        "eth     = eth.reindex(range(eth.index[0],eth.index[-1]+60,60),method='pad')\n",
        "btc     = btc.reindex(range(btc.index[0],btc.index[-1]+60,60),method='pad')\n",
        "btcsh   = btcsh.reindex(range(btcsh.index[0],btcsh.index[-1]+60,60),method='pad')\n",
        "bnc     = bnc.reindex(range(bnc.index[0],bnc.index[-1]+60,60),method='pad')\n",
        "eos     = eos.reindex(range(eos.index[0],eos.index[-1]+60,60),method='pad')\n",
        "eth_csc = eth_csc.reindex(range(eth_csc.index[0],eth_csc.index[-1]+60,60),method='pad')\n",
        "ltc     = ltc.reindex(range(ltc.index[0],ltc.index[-1]+60,60),method='pad')\n",
        "mon     = mon.reindex(range(mon.index[0],mon.index[-1]+60,60),method='pad')\n",
        "tro     = tro.reindex(range(tro.index[0],tro.index[-1]+60,60),method='pad')\n",
        "ste     = ste.reindex(range(ste.index[0],ste.index[-1]+60,60),method='pad')\n",
        "car     = car.reindex(range(car.index[0],car.index[-1]+60,60),method='pad')\n",
        "iot     = iot.reindex(range(iot.index[0],iot.index[-1]+60,60),method='pad')\n",
        "mak     = mak.reindex(range(mak.index[0],mak.index[-1]+60,60),method='pad')\n",
        "dog     = dog.reindex(range(dog.index[0],dog.index[-1]+60,60),method='pad')"
      ]
    },
    {
      "cell_type": "markdown",
      "source": [
        "**Now we create two functions to computer log returns and to convert datetime to timestamp**."
      ],
      "metadata": {
        "id": "rM1cZh4UZeSl"
      }
    },
    {
      "cell_type": "code",
      "execution_count": null,
      "metadata": {
        "execution": {
          "iopub.execute_input": "2022-02-02T00:14:15.553063Z",
          "iopub.status.busy": "2022-02-02T00:14:15.552080Z",
          "iopub.status.idle": "2022-02-02T00:14:20.119955Z",
          "shell.execute_reply": "2022-02-02T00:14:20.120514Z",
          "shell.execute_reply.started": "2022-02-02T00:08:09.900627Z"
        },
        "papermill": {
          "duration": 4.606129,
          "end_time": "2022-02-02T00:14:20.120700",
          "exception": false,
          "start_time": "2022-02-02T00:14:15.514571",
          "status": "completed"
        },
        "tags": [],
        "id": "df3290c0"
      },
      "outputs": [],
      "source": [
        "# define function to compute log returns\n",
        "def log_return(series, periods=1):\n",
        "    return np.log(series).diff(periods=periods)\n",
        "\n",
        "# auxiliary function, from datetime to timestamp\n",
        "totimestamp = lambda s: np.int32(time.mktime(datetime.strptime(s, \"%d/%m/%Y\").timetuple()))"
      ]
    },
    {
      "cell_type": "markdown",
      "source": [
        " **Now we select some input features from the trading data such as \n",
        "5 min log return, abs(5 min log return), upper shadow, and lower shadow** "
      ],
      "metadata": {
        "id": "7SbcjrmcZy3G"
      }
    },
    {
      "cell_type": "code",
      "execution_count": null,
      "metadata": {
        "execution": {
          "iopub.execute_input": "2022-02-02T00:14:20.831586Z",
          "iopub.status.busy": "2022-02-02T00:14:20.823096Z",
          "iopub.status.idle": "2022-02-02T00:14:22.254264Z",
          "shell.execute_reply": "2022-02-02T00:14:22.253630Z",
          "shell.execute_reply.started": "2022-02-02T00:08:16.425693Z"
        },
        "papermill": {
          "duration": 1.478774,
          "end_time": "2022-02-02T00:14:22.254406",
          "exception": false,
          "start_time": "2022-02-02T00:14:20.775632",
          "status": "completed"
        },
        "tags": [],
        "id": "b2d44435",
        "outputId": "05357385-bee8-449e-f19f-b6b4e256259d"
      },
      "outputs": [
        {
          "name": "stderr",
          "output_type": "stream",
          "text": [
            "/opt/conda/lib/python3.7/site-packages/pandas/core/arraylike.py:364: RuntimeWarning: invalid value encountered in log\n",
            "  result = getattr(ufunc, method)(*inputs, **kwargs)\n"
          ]
        }
      ],
      "source": [
        "upper_shadow = lambda asset: asset.High - np.maximum(asset.Close,asset.Open)\n",
        "lower_shadow = lambda asset: np.minimum(asset.Close,asset.Open)- asset.Low\n",
        "X_bnc = pd.concat([log_return(bnc.VWAP,periods=15), log_return(bnc.VWAP,periods=1).abs(), upper_shadow(bnc), lower_shadow(bnc)], axis=1)\n",
        "y_bnc = bnc.Target\n",
        "X_btc = pd.concat([log_return(btc.VWAP,periods=15), log_return(btc.VWAP,periods=1).abs(), upper_shadow(btc), lower_shadow(btc)], axis=1)\n",
        "y_btc = btc.Target\n",
        "X_btcsh = pd.concat([log_return(btcsh.VWAP,periods=15), log_return(btcsh.VWAP,periods=1).abs(), upper_shadow(btcsh), lower_shadow(btcsh)], axis=1)\n",
        "y_btcsh = btcsh.Target\n",
        "X_car = pd.concat([log_return(car.VWAP,periods=15), log_return(car.VWAP,periods=1).abs(), upper_shadow(car), lower_shadow(car)], axis=1)\n",
        "y_car = car.Target\n",
        "X_dog = pd.concat([log_return(dog.VWAP,periods=15), log_return(dog.VWAP,periods=1).abs(), upper_shadow(dog), lower_shadow(dog)], axis=1)\n",
        "y_dog = dog.Target\n",
        "X_eos = pd.concat([log_return(eos.VWAP,periods=15), log_return(eos.VWAP,periods=1).abs(), upper_shadow(eos), lower_shadow(eos)], axis=1)\n",
        "y_eos = eos.Target\n",
        "X_eth = pd.concat([log_return(eth.VWAP,periods=15), log_return(eth.VWAP,periods=1).abs(), upper_shadow(eth), lower_shadow(eth)], axis=1)\n",
        "y_eth = eth.Target\n",
        "X_eth_csc = pd.concat([log_return(eth_csc.VWAP,periods=15), log_return(eth_csc.VWAP,periods=1).abs(), upper_shadow(eth_csc), lower_shadow(eth_csc)], axis=1)\n",
        "y_eth_csc = eth_csc.Target\n",
        "X_iot = pd.concat([log_return(iot.VWAP,periods=15), log_return(iot.VWAP,periods=1).abs(), upper_shadow(iot), lower_shadow(iot)], axis=1)\n",
        "y_iot = iot.Target\n",
        "X_ltc = pd.concat([log_return(ltc.VWAP,periods=15), log_return(ltc.VWAP,periods=1).abs(), upper_shadow(ltc), lower_shadow(ltc)], axis=1)\n",
        "y_ltc = ltc.Target\n",
        "X_mak = pd.concat([log_return(mak.VWAP,periods=15), log_return(mak.VWAP,periods=1).abs(), upper_shadow(mak), lower_shadow(mak)], axis=1)\n",
        "y_mak = mak.Target\n",
        "X_mon = pd.concat([log_return(mon.VWAP,periods=15), log_return(mon.VWAP,periods=1).abs(), upper_shadow(mon), lower_shadow(mon)], axis=1)\n",
        "y_mon = mon.Target\n",
        "X_ste = pd.concat([log_return(ste.VWAP,periods=15), log_return(ste.VWAP,periods=1).abs(), upper_shadow(ste), lower_shadow(ste)], axis=1)\n",
        "y_ste = ste.Target\n",
        "X_tro = pd.concat([log_return(tro.VWAP,periods=15), log_return(tro.VWAP,periods=1).abs(), upper_shadow(tro), lower_shadow(tro)], axis=1)\n",
        "y_tro = tro.Target"
      ]
    },
    {
      "cell_type": "markdown",
      "source": [
        "**Now we select the training and testing time periods and we build a Simple regression model with window size = 1**"
      ],
      "metadata": {
        "id": "ndROvwq5aTe_"
      }
    },
    {
      "cell_type": "code",
      "execution_count": null,
      "metadata": {
        "execution": {
          "iopub.execute_input": "2022-02-02T00:14:22.411630Z",
          "iopub.status.busy": "2022-02-02T00:14:22.410932Z",
          "iopub.status.idle": "2022-02-02T00:14:22.679629Z",
          "shell.execute_reply": "2022-02-02T00:14:22.679070Z",
          "shell.execute_reply.started": "2022-02-02T00:08:17.964852Z"
        },
        "papermill": {
          "duration": 0.306724,
          "end_time": "2022-02-02T00:14:22.679765",
          "exception": false,
          "start_time": "2022-02-02T00:14:22.373041",
          "status": "completed"
        },
        "tags": [],
        "id": "d6575a22"
      },
      "outputs": [],
      "source": [
        "\n",
        "train_window = [totimestamp(\"01/01/2021\"), totimestamp(\"30/06/2021\")]\n",
        "test_window = [totimestamp(\"01/07/2021\"), totimestamp(\"30/08/2021\")]\n",
        "\n",
        "\n",
        "X_bnc_train = X_bnc.loc[train_window[0]:train_window[1]].ffill().to_numpy()\n",
        "X_bnc_train = X_bnc.loc[train_window[0]:train_window[1]].bfill().to_numpy()\n",
        "y_bnc_train = y_bnc.loc[train_window[0]:train_window[1]].ffill().to_numpy()\n",
        "y_bnc_train = y_bnc.loc[train_window[0]:train_window[1]].bfill().to_numpy()\n",
        "X_bnc_test = X_bnc.loc[test_window[0]:test_window[1]].ffill().to_numpy() \n",
        "X_bnc_test = X_bnc.loc[test_window[0]:test_window[1]].bfill().to_numpy() \n",
        "y_bnc_test = y_bnc.loc[test_window[0]:test_window[1]].ffill().to_numpy() \n",
        "y_bnc_test = y_bnc.loc[test_window[0]:test_window[1]].bfill().to_numpy() \n",
        "\n",
        "X_btc_train = X_btc.loc[train_window[0]:train_window[1]].ffill().to_numpy()\n",
        "X_btc_train = X_btc.loc[train_window[0]:train_window[1]].bfill().to_numpy()\n",
        "y_btc_train = y_btc.loc[train_window[0]:train_window[1]].ffill().to_numpy()  \n",
        "y_btc_train = y_btc.loc[train_window[0]:train_window[1]].bfill().to_numpy() \n",
        "X_btc_test = X_btc.loc[test_window[0]:test_window[1]].ffill().to_numpy() \n",
        "X_btc_test = X_btc.loc[test_window[0]:test_window[1]].bfill().to_numpy()\n",
        "y_btc_test = y_btc.loc[test_window[0]:test_window[1]].ffill().to_numpy() \n",
        "y_btc_test = y_btc.loc[test_window[0]:test_window[1]].bfill().to_numpy() \n",
        "\n",
        "X_btcsh_train = X_btcsh.loc[train_window[0]:train_window[1]].ffill().to_numpy()\n",
        "X_btcsh_train = X_btcsh.loc[train_window[0]:train_window[1]].bfill().to_numpy()\n",
        "y_btcsh_train = y_btcsh.loc[train_window[0]:train_window[1]].ffill().to_numpy()\n",
        "y_btcsh_train = y_btcsh.loc[train_window[0]:train_window[1]].bfill().to_numpy()  \n",
        "X_btcsh_test = X_btcsh.loc[test_window[0]:test_window[1]].ffill().to_numpy()\n",
        "X_btcsh_test = X_btcsh.loc[test_window[0]:test_window[1]].bfill().to_numpy()\n",
        "y_btcsh_test = y_btcsh.loc[test_window[0]:test_window[1]].ffill().to_numpy()\n",
        "y_btcsh_test = y_btcsh.loc[test_window[0]:test_window[1]].bfill().to_numpy() \n",
        "\n",
        "X_car_train = X_car.loc[train_window[0]:train_window[1]].ffill().to_numpy()\n",
        "X_car_train = X_car.loc[train_window[0]:train_window[1]].bfill().to_numpy()\n",
        "y_car_train = y_car.loc[train_window[0]:train_window[1]].ffill().to_numpy()\n",
        "y_car_train = y_car.loc[train_window[0]:train_window[1]].bfill().to_numpy()  \n",
        "X_car_test = X_car.loc[test_window[0]:test_window[1]].ffill().to_numpy()   \n",
        "X_car_test = X_car.loc[test_window[0]:test_window[1]].bfill().to_numpy() \n",
        "y_car_test = y_car.loc[test_window[0]:test_window[1]].ffill().to_numpy() \n",
        "y_car_test = y_car.loc[test_window[0]:test_window[1]].bfill().to_numpy() \n",
        "\n",
        "X_dog_train = X_dog.loc[train_window[0]:train_window[1]].ffill().to_numpy()\n",
        "X_dog_train = X_dog.loc[train_window[0]:train_window[1]].bfill().to_numpy()\n",
        "y_dog_train = y_dog.loc[train_window[0]:train_window[1]].ffill().to_numpy()\n",
        "y_dog_train = y_dog.loc[train_window[0]:train_window[1]].bfill().to_numpy()  \n",
        "X_dog_test = X_dog.loc[test_window[0]:test_window[1]].ffill().to_numpy()   \n",
        "X_dog_test = X_dog.loc[test_window[0]:test_window[1]].bfill().to_numpy() \n",
        "y_dog_test = y_dog.loc[test_window[0]:test_window[1]].ffill().to_numpy() \n",
        "y_dog_test = y_dog.loc[test_window[0]:test_window[1]].bfill().to_numpy() \n",
        "\n",
        "X_eos_train = X_eos.loc[train_window[0]:train_window[1]].ffill().to_numpy() \n",
        "X_eos_train = X_eos.loc[train_window[0]:train_window[1]].bfill().to_numpy()\n",
        "y_eos_train = y_eos.loc[train_window[0]:train_window[1]].ffill().to_numpy()\n",
        "y_eos_train = y_eos.loc[train_window[0]:train_window[1]].bfill().to_numpy()  \n",
        "X_eos_test = X_eos.loc[test_window[0]:test_window[1]].ffill().to_numpy()   \n",
        "X_eos_test = X_eos.loc[test_window[0]:test_window[1]].bfill().to_numpy() \n",
        "y_eos_test = y_eos.loc[test_window[0]:test_window[1]].ffill().to_numpy() \n",
        "y_eos_test = y_eos.loc[test_window[0]:test_window[1]].bfill().to_numpy() \n",
        "\n",
        "X_eth_train = X_eth.loc[train_window[0]:train_window[1]].ffill().to_numpy() \n",
        "X_eth_train = X_eth.loc[train_window[0]:train_window[1]].bfill().to_numpy() \n",
        "y_eth_train = y_eth.loc[train_window[0]:train_window[1]].ffill().to_numpy() \n",
        "y_eth_train = y_eth.loc[train_window[0]:train_window[1]].bfill().to_numpy()  \n",
        "X_eth_test = X_eth.loc[test_window[0]:test_window[1]].ffill().to_numpy()  \n",
        "X_eth_test = X_eth.loc[test_window[0]:test_window[1]].bfill().to_numpy() \n",
        "y_eth_test = y_eth.loc[test_window[0]:test_window[1]].ffill().to_numpy() \n",
        "y_eth_test = y_eth.loc[test_window[0]:test_window[1]].bfill().to_numpy() \n",
        "\n",
        "X_eth_csc_train = X_eth_csc.loc[train_window[0]:train_window[1]].ffill().to_numpy()\n",
        "X_eth_csc_train = X_eth_csc.loc[train_window[0]:train_window[1]].bfill().to_numpy()  \n",
        "y_eth_csc_train = y_eth_csc.loc[train_window[0]:train_window[1]].ffill().to_numpy()  \n",
        "y_eth_csc_train = y_eth_csc.loc[train_window[0]:train_window[1]].bfill().to_numpy()  \n",
        "X_eth_csc_test = X_eth_csc.loc[test_window[0]:test_window[1]].ffill().to_numpy()   \n",
        "X_eth_csc_test = X_eth_csc.loc[test_window[0]:test_window[1]].bfill().to_numpy() \n",
        "y_eth_csc_test = y_eth_csc.loc[test_window[0]:test_window[1]].ffill().to_numpy() \n",
        "y_eth_csc_test = y_eth_csc.loc[test_window[0]:test_window[1]].bfill().to_numpy() \n",
        "\n",
        "X_iot_train = X_iot.loc[train_window[0]:train_window[1]].ffill().to_numpy()\n",
        "X_iot_train = X_iot.loc[train_window[0]:train_window[1]].bfill().to_numpy()  \n",
        "y_iot_train = y_iot.loc[train_window[0]:train_window[1]].ffill().to_numpy()  \n",
        "y_iot_train = y_iot.loc[train_window[0]:train_window[1]].bfill().to_numpy()  \n",
        "X_iot_test = X_iot.loc[test_window[0]:test_window[1]].ffill().to_numpy()   \n",
        "X_iot_test = X_iot.loc[test_window[0]:test_window[1]].bfill().to_numpy() \n",
        "y_iot_test = y_iot.loc[test_window[0]:test_window[1]].ffill().to_numpy() \n",
        "y_iot_test = y_iot.loc[test_window[0]:test_window[1]].bfill().to_numpy() \n",
        "\n",
        "X_ltc_train = X_ltc.loc[train_window[0]:train_window[1]].ffill().to_numpy()  \n",
        "X_ltc_train = X_ltc.loc[train_window[0]:train_window[1]].bfill().to_numpy()\n",
        "y_ltc_train = y_ltc.loc[train_window[0]:train_window[1]].ffill().to_numpy()\n",
        "y_ltc_train = y_ltc.loc[train_window[0]:train_window[1]].bfill().to_numpy()  \n",
        "X_ltc_test = X_ltc.loc[test_window[0]:test_window[1]].ffill().to_numpy()   \n",
        "X_ltc_test = X_ltc.loc[test_window[0]:test_window[1]].bfill().to_numpy() \n",
        "y_ltc_test = y_ltc.loc[test_window[0]:test_window[1]].ffill().to_numpy() \n",
        "y_ltc_test = y_ltc.loc[test_window[0]:test_window[1]].bfill().to_numpy() \n",
        "\n",
        "X_mak_train = X_mak.loc[train_window[0]:train_window[1]].ffill().to_numpy()\n",
        "X_mak_train = X_mak.loc[train_window[0]:train_window[1]].bfill().to_numpy()   \n",
        "y_mak_train = y_mak.loc[train_window[0]:train_window[1]].ffill().to_numpy()   \n",
        "y_mak_train = y_mak.loc[train_window[0]:train_window[1]].bfill().to_numpy()  \n",
        "X_mak_test = X_mak.loc[test_window[0]:test_window[1]].ffill().to_numpy()  \n",
        "X_mak_test = X_mak.loc[test_window[0]:test_window[1]].bfill().to_numpy() \n",
        "y_mak_test = y_mak.loc[test_window[0]:test_window[1]].ffill().to_numpy()\n",
        "y_mak_test = y_mak.loc[test_window[0]:test_window[1]].bfill().to_numpy()\n",
        "\n",
        "X_mak_train = X_mak.loc[train_window[0]:train_window[1]].ffill().to_numpy()\n",
        "X_mak_train = X_mak.loc[train_window[0]:train_window[1]].bfill().to_numpy()  \n",
        "y_mak_train = y_mak.loc[train_window[0]:train_window[1]].ffill().to_numpy()  \n",
        "y_mak_train = y_mak.loc[train_window[0]:train_window[1]].bfill().to_numpy()  \n",
        "X_mak_test = X_mak.loc[test_window[0]:test_window[1]].ffill().to_numpy()   \n",
        "X_mak_test = X_mak.loc[test_window[0]:test_window[1]].bfill().to_numpy() \n",
        "y_mak_test = y_mak.loc[test_window[0]:test_window[1]].ffill().to_numpy()\n",
        "y_mak_test = y_mak.loc[test_window[0]:test_window[1]].bfill().to_numpy()\n",
        "\n",
        "X_mon_train = X_mon.loc[train_window[0]:train_window[1]].fillna(0).to_numpy()\n",
        "X_mon_train = X_mon.loc[train_window[0]:train_window[1]].fillna(0).to_numpy()  \n",
        "y_mon_train = y_mon.loc[train_window[0]:train_window[1]].fillna(0).to_numpy()  \n",
        "y_mon_train = y_mon.loc[train_window[0]:train_window[1]].fillna(0).to_numpy()  \n",
        "X_mon_test = X_mon.loc[test_window[0]:test_window[1]].fillna(0).to_numpy()   \n",
        "X_mon_test = X_mon.loc[test_window[0]:test_window[1]].fillna(0).to_numpy() \n",
        "y_mon_test = y_mon.loc[test_window[0]:test_window[1]].fillna(0).to_numpy()\n",
        "\n",
        "X_ste_train = X_ste.loc[train_window[0]:train_window[1]].fillna(0).to_numpy()  \n",
        "y_ste_train = y_ste.loc[train_window[0]:train_window[1]].fillna(0).to_numpy()  \n",
        "X_ste_test = X_ste.loc[test_window[0]:test_window[1]].fillna(0).to_numpy() \n",
        "y_ste_test = y_ste.loc[test_window[0]:test_window[1]].fillna(0).to_numpy()\n",
        "\n",
        "X_tro_train = X_tro.loc[train_window[0]:train_window[1]].fillna(0).to_numpy()  \n",
        "y_tro_train = y_tro.loc[train_window[0]:train_window[1]].fillna(0).to_numpy()  \n",
        "X_tro_test = X_tro.loc[test_window[0]:test_window[1]].fillna(0).to_numpy() \n",
        "y_tro_test = y_tro.loc[test_window[0]:test_window[1]].fillna(0).to_numpy()"
      ]
    },
    {
      "cell_type": "markdown",
      "source": [
        "**Now we use the Standard Scalar for pre - processing before we feed the model to the NN**."
      ],
      "metadata": {
        "id": "5fc4Ci9LambA"
      }
    },
    {
      "cell_type": "code",
      "execution_count": null,
      "metadata": {
        "execution": {
          "iopub.execute_input": "2022-02-02T00:14:22.838394Z",
          "iopub.status.busy": "2022-02-02T00:14:22.837699Z",
          "iopub.status.idle": "2022-02-02T00:14:23.122178Z",
          "shell.execute_reply": "2022-02-02T00:14:23.122655Z",
          "shell.execute_reply.started": "2022-02-02T00:08:18.245665Z"
        },
        "papermill": {
          "duration": 0.323703,
          "end_time": "2022-02-02T00:14:23.122836",
          "exception": false,
          "start_time": "2022-02-02T00:14:22.799133",
          "status": "completed"
        },
        "tags": [],
        "id": "4f1aa74d"
      },
      "outputs": [],
      "source": [
        "from sklearn.preprocessing import StandardScaler\n",
        "# simple preprocessing of the data \n",
        "scaler = StandardScaler()\n",
        "\n",
        "X_bnc_train_scaled = scaler.fit_transform(X_bnc_train)\n",
        "X_bnc_test_scaled = scaler.transform(X_bnc_test)\n",
        "\n",
        "X_btc_train_scaled = scaler.fit_transform(X_btc_train)\n",
        "X_btc_test_scaled = scaler.transform(X_btc_test)\n",
        "\n",
        "X_btcsh_train_scaled = scaler.fit_transform(X_btcsh_train)\n",
        "X_btcsh_test_scaled = scaler.transform(X_btcsh_test)\n",
        "\n",
        "X_car_train_scaled = scaler.fit_transform(X_car_train)\n",
        "X_car_test_scaled = scaler.transform(X_car_test)\n",
        "\n",
        "X_dog_train_scaled = scaler.fit_transform(X_dog_train)\n",
        "X_dog_test_scaled = scaler.transform(X_dog_test)\n",
        "\n",
        "X_eos_train_scaled = scaler.fit_transform(X_eos_train)\n",
        "X_eos_test_scaled = scaler.transform(X_eos_test)\n",
        "\n",
        "X_eth_train_scaled = scaler.fit_transform(X_eth_train)\n",
        "X_eth_test_scaled = scaler.transform(X_eth_test)\n",
        "\n",
        "X_eth_csc_train_scaled = scaler.fit_transform(X_eth_csc_train)\n",
        "X_eth_csc_test_scaled = scaler.transform(X_eth_csc_test)\n",
        "\n",
        "X_iot_train_scaled = scaler.fit_transform(X_iot_train)\n",
        "X_iot_test_scaled = scaler.transform(X_iot_test)\n",
        "\n",
        "X_ltc_train_scaled = scaler.fit_transform(X_ltc_train)\n",
        "X_ltc_test_scaled = scaler.transform(X_ltc_test)\n",
        "\n",
        "X_mak_train_scaled = scaler.fit_transform(X_mak_train)\n",
        "X_mak_test_scaled = scaler.transform(X_mak_test)\n",
        "\n",
        "X_mon_train_scaled = scaler.fit_transform(X_mon_train)\n",
        "X_mon_test_scaled = scaler.transform(X_mon_test)\n",
        "\n",
        "X_ste_train_scaled = scaler.fit_transform(X_ste_train)\n",
        "X_ste_test_scaled = scaler.transform(X_ste_test)\n",
        "\n",
        "X_tro_train_scaled = scaler.fit_transform(X_tro_train)\n",
        "X_tro_test_scaled = scaler.transform(X_tro_test)"
      ]
    },
    {
      "cell_type": "markdown",
      "source": [
        "**Now , we creat a list of the coins we want to predict prices for where in here we creat a list containing ethereum**."
      ],
      "metadata": {
        "id": "Jg1mckNUa3HH"
      }
    },
    {
      "cell_type": "code",
      "execution_count": null,
      "metadata": {
        "execution": {
          "iopub.execute_input": "2022-02-02T00:14:23.196963Z",
          "iopub.status.busy": "2022-02-02T00:14:23.196312Z",
          "iopub.status.idle": "2022-02-02T00:14:23.199638Z",
          "shell.execute_reply": "2022-02-02T00:14:23.200217Z",
          "shell.execute_reply.started": "2022-02-02T00:08:18.540092Z"
        },
        "papermill": {
          "duration": 0.041844,
          "end_time": "2022-02-02T00:14:23.200403",
          "exception": false,
          "start_time": "2022-02-02T00:14:23.158559",
          "status": "completed"
        },
        "tags": [],
        "id": "e65f9257"
      },
      "outputs": [],
      "source": [
        "list_asset = [['eth',[X_eth_train_scaled,y_eth_train], [X_eth_test_scaled, y_eth_test]]]"
      ]
    },
    {
      "cell_type": "markdown",
      "source": [
        "**Next we reshape the data into 3D as the RNN's require 3D data**."
      ],
      "metadata": {
        "id": "bzuzuia8bJme"
      }
    },
    {
      "cell_type": "code",
      "execution_count": null,
      "metadata": {
        "execution": {
          "iopub.execute_input": "2022-02-02T00:14:23.352707Z",
          "iopub.status.busy": "2022-02-02T00:14:23.352093Z",
          "iopub.status.idle": "2022-02-02T00:14:23.357132Z",
          "shell.execute_reply": "2022-02-02T00:14:23.357677Z",
          "shell.execute_reply.started": "2022-02-02T00:08:18.55996Z"
        },
        "papermill": {
          "duration": 0.04386,
          "end_time": "2022-02-02T00:14:23.357833",
          "exception": false,
          "start_time": "2022-02-02T00:14:23.313973",
          "status": "completed"
        },
        "tags": [],
        "id": "7aa96a6c"
      },
      "outputs": [],
      "source": [
        "def reshape(X_samples, y_samples):\n",
        "    print(X_samples.shape)\n",
        "    X_data = X_samples\n",
        "    y_data = y_samples\n",
        "    X_data=X_data.reshape(X_data.shape[0],1, X_data.shape[1])\n",
        "    y_data=y_data.reshape(y_data.shape[0], 1)\n",
        "    \n",
        "    return X_data, y_data"
      ]
    },
    {
      "cell_type": "markdown",
      "source": [
        "**We create a LSTM model with 3 hidden layers and with a dropout after each hidden layer to avoid overfitting. We also use the ELU activation fucntion which provided with the best results when compared to RELU and swish**."
      ],
      "metadata": {
        "id": "te4X7XN0bafs"
      }
    },
    {
      "cell_type": "code",
      "execution_count": null,
      "metadata": {
        "execution": {
          "iopub.execute_input": "2022-02-02T00:14:23.433069Z",
          "iopub.status.busy": "2022-02-02T00:14:23.432469Z",
          "iopub.status.idle": "2022-02-02T00:14:23.439496Z",
          "shell.execute_reply": "2022-02-02T00:14:23.439985Z",
          "shell.execute_reply.started": "2022-02-02T00:08:18.569819Z"
        },
        "papermill": {
          "duration": 0.046043,
          "end_time": "2022-02-02T00:14:23.440155",
          "exception": false,
          "start_time": "2022-02-02T00:14:23.394112",
          "status": "completed"
        },
        "tags": [],
        "id": "2904a5f8"
      },
      "outputs": [],
      "source": [
        "def get_model_lstm(x_train):\n",
        "    TimeSteps=x_train.shape[0]\n",
        "    TotalFeatures=x_train.shape[2]\n",
        "    model = Sequential()\n",
        "    model.add(LSTM(units = 15, activation = 'elu', input_shape = (TimeSteps, TotalFeatures), return_sequences=True))\n",
        "    model.add(Dropout(0.3))\n",
        "    model.add(LSTM(units = 10, activation = 'elu', input_shape = (TimeSteps, TotalFeatures), return_sequences=True))\n",
        "    model.add(Dropout(0.3))\n",
        "    model.add(LSTM(units = 5, activation = 'elu', return_sequences=False ))\n",
        "    model.add(Dropout(0.3))\n",
        "    model.add(Dense(units = 1))\n",
        "    model.compile(optimizer = 'adam', loss = 'mean_squared_error')\n",
        "    return model"
      ]
    },
    {
      "cell_type": "markdown",
      "source": [
        "**We create a GRU model with 1 hidden layers and with a dropout after the hidden layer to avoid overfitting. We also use the ELU activation fucntion which provided with the best results when compared to RELU and swish.We also modify the learning rate of the Adam optimiser in this model**."
      ],
      "metadata": {
        "id": "NFGgQ1yudU--"
      }
    },
    {
      "cell_type": "code",
      "execution_count": null,
      "metadata": {
        "execution": {
          "iopub.execute_input": "2022-02-02T00:14:23.515442Z",
          "iopub.status.busy": "2022-02-02T00:14:23.514802Z",
          "iopub.status.idle": "2022-02-02T00:14:23.519820Z",
          "shell.execute_reply": "2022-02-02T00:14:23.520404Z",
          "shell.execute_reply.started": "2022-02-02T00:08:18.585796Z"
        },
        "papermill": {
          "duration": 0.044427,
          "end_time": "2022-02-02T00:14:23.520558",
          "exception": false,
          "start_time": "2022-02-02T00:14:23.476131",
          "status": "completed"
        },
        "tags": [],
        "id": "286c1465"
      },
      "outputs": [],
      "source": [
        "def get_model_GRU(x_train):\n",
        "    TimeSteps=x_train.shape[0]\n",
        "    TotalFeatures=x_train.shape[2]\n",
        "    model = Sequential()\n",
        "    model.add(GRU(units = 10, input_shape = (TimeSteps, TotalFeatures)))\n",
        "    model.add(Dropout(0.25))\n",
        "    model.add(Dense(units = 1, activation = 'elu'))\n",
        "    model.compile(optimizer=tf.optimizers.Adam(0.0001), loss = 'mae', metrics=['mse'])\n",
        "    return model"
      ]
    },
    {
      "cell_type": "markdown",
      "source": [
        "**Now we create a more deeper model with GRU where we incorporate more hidden layers and units . Here we use the tanh activation function and gave us better results when expirementing with swish , relu and elu**."
      ],
      "metadata": {
        "id": "6bn7CYyMexHX"
      }
    },
    {
      "cell_type": "code",
      "execution_count": null,
      "metadata": {
        "execution": {
          "iopub.execute_input": "2022-02-02T00:14:23.596383Z",
          "iopub.status.busy": "2022-02-02T00:14:23.595732Z",
          "iopub.status.idle": "2022-02-02T00:14:23.603392Z",
          "shell.execute_reply": "2022-02-02T00:14:23.603850Z",
          "shell.execute_reply.started": "2022-02-02T00:08:18.598157Z"
        },
        "papermill": {
          "duration": 0.047082,
          "end_time": "2022-02-02T00:14:23.604038",
          "exception": false,
          "start_time": "2022-02-02T00:14:23.556956",
          "status": "completed"
        },
        "tags": [],
        "id": "8d7bfe1b"
      },
      "outputs": [],
      "source": [
        "def get_model_GRU2(train_x):\n",
        "    from tensorflow.keras.optimizers import SGD\n",
        "    TimeSteps=x_train.shape[0]\n",
        "    TotalFeatures=x_train.shape[2]\n",
        "    regressorGRU = Sequential()\n",
        "    regressorGRU.add(GRU(units=50, return_sequences=True, input_shape=(TimeSteps, TotalFeatures), activation='tanh'))\n",
        "    regressorGRU.add(Dropout(0.2))\n",
        "    regressorGRU.add(GRU(units=50, return_sequences=True, input_shape=(TimeSteps, TotalFeatures), activation='tanh'))\n",
        "    regressorGRU.add(Dropout(0.2))\n",
        "    regressorGRU.add(GRU(units=50, return_sequences=True, input_shape=(TimeSteps, TotalFeatures), activation='tanh'))\n",
        "    regressorGRU.add(Dropout(0.2))\n",
        "    regressorGRU.add(GRU(units=50, activation='tanh'))\n",
        "    regressorGRU.add(Dropout(0.2))\n",
        "    regressorGRU.add(Dense(units=1))\n",
        "    regressorGRU.compile(optimizer=tf.optimizers.Adam(0.0001), loss = 'mae', metrics=['mse'])\n",
        "    return regressorGRU"
      ]
    },
    {
      "cell_type": "code",
      "execution_count": null,
      "metadata": {
        "execution": {
          "iopub.execute_input": "2022-02-02T00:14:23.686134Z",
          "iopub.status.busy": "2022-02-02T00:14:23.685453Z",
          "iopub.status.idle": "2022-02-02T00:14:35.689933Z",
          "shell.execute_reply": "2022-02-02T00:14:35.689317Z",
          "shell.execute_reply.started": "2022-02-02T00:08:18.611435Z"
        },
        "papermill": {
          "duration": 12.050052,
          "end_time": "2022-02-02T00:14:35.690072",
          "exception": false,
          "start_time": "2022-02-02T00:14:23.640020",
          "status": "completed"
        },
        "tags": [],
        "id": "cd04e5fa",
        "outputId": "96910c76-66e9-407a-df3e-d7219beb86de"
      },
      "outputs": [
        {
          "name": "stdout",
          "output_type": "stream",
          "text": [
            "(259201, 4)\n",
            "(259201, 1, 4)\n",
            "(259201, 1)\n"
          ]
        },
        {
          "name": "stderr",
          "output_type": "stream",
          "text": [
            "\n",
            "User settings:\n",
            "\n",
            "   KMP_AFFINITY=granularity=fine,noverbose,compact,1,0\n",
            "   KMP_BLOCKTIME=0\n",
            "   KMP_DUPLICATE_LIB_OK=True\n",
            "   KMP_INIT_AT_FORK=FALSE\n",
            "   KMP_SETTINGS=1\n",
            "   KMP_WARNINGS=0\n",
            "\n",
            "Effective settings:\n",
            "\n",
            "   KMP_ABORT_DELAY=0\n",
            "   KMP_ADAPTIVE_LOCK_PROPS='1,1024'\n",
            "   KMP_ALIGN_ALLOC=64\n",
            "   KMP_ALL_THREADPRIVATE=128\n",
            "   KMP_ATOMIC_MODE=2\n",
            "   KMP_BLOCKTIME=0\n",
            "   KMP_CPUINFO_FILE: value is not defined\n",
            "   KMP_DETERMINISTIC_REDUCTION=false\n",
            "   KMP_DEVICE_THREAD_LIMIT=2147483647\n",
            "   KMP_DISP_NUM_BUFFERS=7\n",
            "   KMP_DUPLICATE_LIB_OK=true\n",
            "   KMP_ENABLE_TASK_THROTTLING=true\n",
            "   KMP_FORCE_REDUCTION: value is not defined\n",
            "   KMP_FOREIGN_THREADS_THREADPRIVATE=true\n",
            "   KMP_FORKJOIN_BARRIER='2,2'\n",
            "   KMP_FORKJOIN_BARRIER_PATTERN='hyper,hyper'\n",
            "   KMP_GTID_MODE=3\n",
            "   KMP_HANDLE_SIGNALS=false\n",
            "   KMP_HOT_TEAMS_MAX_LEVEL=1\n",
            "   KMP_HOT_TEAMS_MODE=0\n",
            "   KMP_INIT_AT_FORK=true\n",
            "   KMP_LIBRARY=throughput\n",
            "   KMP_LOCK_KIND=queuing\n",
            "   KMP_MALLOC_POOL_INCR=1M\n",
            "   KMP_NUM_LOCKS_IN_BLOCK=1\n",
            "   KMP_PLAIN_BARRIER='2,2'\n",
            "   KMP_PLAIN_BARRIER_PATTERN='hyper,hyper'\n",
            "   KMP_REDUCTION_BARRIER='1,1'\n",
            "   KMP_REDUCTION_BARRIER_PATTERN='hyper,hyper'\n",
            "   KMP_SCHEDULE='static,balanced;guided,iterative'\n",
            "   KMP_SETTINGS=true\n",
            "   KMP_SPIN_BACKOFF_PARAMS='4096,100'\n",
            "   KMP_STACKOFFSET=64\n",
            "   KMP_STACKPAD=0\n",
            "   KMP_STACKSIZE=8M\n",
            "   KMP_STORAGE_MAP=false\n",
            "   KMP_TASKING=2\n",
            "   KMP_TASKLOOP_MIN_TASKS=0\n",
            "   KMP_TASK_STEALING_CONSTRAINT=1\n",
            "   KMP_TEAMS_THREAD_LIMIT=4\n",
            "   KMP_TOPOLOGY_METHOD=all\n",
            "   KMP_USE_YIELD=1\n",
            "   KMP_VERSION=false\n",
            "   KMP_WARNINGS=false\n",
            "   OMP_AFFINITY_FORMAT='OMP: pid %P tid %i thread %n bound to OS proc set {%A}'\n",
            "   OMP_ALLOCATOR=omp_default_mem_alloc\n",
            "   OMP_CANCELLATION=false\n",
            "   OMP_DEFAULT_DEVICE=0\n",
            "   OMP_DISPLAY_AFFINITY=false\n",
            "   OMP_DISPLAY_ENV=false\n",
            "   OMP_DYNAMIC=false\n",
            "   OMP_MAX_ACTIVE_LEVELS=1\n",
            "   OMP_MAX_TASK_PRIORITY=0\n",
            "   OMP_NESTED: deprecated; max-active-levels-var=1\n",
            "   OMP_NUM_THREADS: value is not defined\n",
            "   OMP_PLACES: value is not defined\n",
            "   OMP_PROC_BIND='intel'\n",
            "   OMP_SCHEDULE='static'\n",
            "   OMP_STACKSIZE=8M\n",
            "   OMP_TARGET_OFFLOAD=DEFAULT\n",
            "   OMP_THREAD_LIMIT=2147483647\n",
            "   OMP_WAIT_POLICY=PASSIVE\n",
            "   KMP_AFFINITY='noverbose,warnings,respect,granularity=fine,compact,1,0'\n",
            "\n",
            "2022-02-02 00:14:23.719774: I tensorflow/core/common_runtime/process_util.cc:146] Creating new thread pool with default inter op setting: 2. Tune using inter_op_parallelism_threads for best performance.\n"
          ]
        },
        {
          "name": "stdout",
          "output_type": "stream",
          "text": [
            "Model: \"sequential\"\n",
            "_________________________________________________________________\n",
            "Layer (type)                 Output Shape              Param #   \n",
            "=================================================================\n",
            "lstm (LSTM)                  (None, 259201, 15)        1200      \n",
            "_________________________________________________________________\n",
            "lstm_1 (LSTM)                (None, 259201, 10)        1040      \n",
            "_________________________________________________________________\n",
            "lstm_2 (LSTM)                (None, 5)                 320       \n",
            "_________________________________________________________________\n",
            "dropout (Dropout)            (None, 5)                 0         \n",
            "_________________________________________________________________\n",
            "dense (Dense)                (None, 1)                 6         \n",
            "=================================================================\n",
            "Total params: 2,566\n",
            "Trainable params: 2,566\n",
            "Non-trainable params: 0\n",
            "_________________________________________________________________\n",
            "Train for eth\n",
            "Epoch 1/5\n"
          ]
        },
        {
          "name": "stderr",
          "output_type": "stream",
          "text": [
            "2022-02-02 00:14:24.077614: I tensorflow/compiler/mlir/mlir_graph_optimization_pass.cc:185] None of the MLIR Optimization Passes are enabled (registered 2)\n"
          ]
        },
        {
          "name": "stdout",
          "output_type": "stream",
          "text": [
            "26/26 [==============================] - 6s 55ms/step - loss: 1.5410e-05\n",
            "\n",
            "Epoch 00001: loss improved from inf to 0.00002, saving model to eth_GRU_001.h5\n",
            "Epoch 2/5\n",
            "26/26 [==============================] - 2s 71ms/step - loss: 1.2727e-05\n",
            "\n",
            "Epoch 00002: loss improved from 0.00002 to 0.00001, saving model to eth_GRU_002.h5\n",
            "Epoch 3/5\n",
            "26/26 [==============================] - 1s 50ms/step - loss: 1.1607e-05\n",
            "\n",
            "Epoch 00003: loss improved from 0.00001 to 0.00001, saving model to eth_GRU_003.h5\n",
            "Epoch 4/5\n",
            "26/26 [==============================] - 1s 45ms/step - loss: 1.1468e-05\n",
            "\n",
            "Epoch 00004: loss improved from 0.00001 to 0.00001, saving model to eth_GRU_004.h5\n",
            "Epoch 5/5\n",
            "26/26 [==============================] - 1s 53ms/step - loss: 1.1360e-05\n",
            "\n",
            "Epoch 00005: loss improved from 0.00001 to 0.00001, saving model to eth_GRU_005.h5\n",
            "## Total eth Time Taken:  0 Minutes ##\n"
          ]
        }
      ],
      "source": [
        "import time\n",
        "list_models  = []\n",
        "list_history = []\n",
        "for dataset in list_asset:\n",
        "    asset_name = dataset[0]\n",
        "    x_train = dataset[1][0]\n",
        "    y_train = dataset[1][1]\n",
        "    x_test  = dataset[2][0]\n",
        "    y_test  = dataset[2][1]\n",
        "    x_train, y_train = reshape(x_train, y_train)\n",
        "    print(x_train.shape)\n",
        "    print(y_train.shape)\n",
        "    model = get_model_lstm(x_train)\n",
        "    model.summary()\n",
        "    checkpoint = ModelCheckpoint(asset_name+'_GRU_{epoch:03d}.h5', verbose=1, monitor='loss', save_best_only=True, mode='auto')\n",
        "    StartTime  = time.time()\n",
        "    print('Train for ' + asset_name)\n",
        "    history = model.fit(x_train, \n",
        "              y_train, \n",
        "              batch_size = 10000, \n",
        "              epochs = 5,\n",
        "              callbacks = [checkpoint])\n",
        "    EndTime = time.time()\n",
        "    print(\"## Total \" + asset_name + \" Time Taken: \", round((EndTime-StartTime)/60), 'Minutes ##')\n",
        "    list_models.append(model)\n",
        "    list_history.append(history)"
      ]
    },
    {
      "cell_type": "code",
      "execution_count": null,
      "metadata": {
        "execution": {
          "iopub.execute_input": "2022-02-02T00:14:35.837560Z",
          "iopub.status.busy": "2022-02-02T00:14:35.836899Z",
          "iopub.status.idle": "2022-02-02T00:14:36.027141Z",
          "shell.execute_reply": "2022-02-02T00:14:36.027627Z",
          "shell.execute_reply.started": "2022-02-02T00:08:33.967203Z"
        },
        "papermill": {
          "duration": 0.267861,
          "end_time": "2022-02-02T00:14:36.027789",
          "exception": false,
          "start_time": "2022-02-02T00:14:35.759928",
          "status": "completed"
        },
        "tags": [],
        "outputId": "29d706ad-dfe3-46e4-b247-ea1f61abd608",
        "id": "V-V8JYB8BIYP"
      },
      "outputs": [
        {
          "name": "stdout",
          "output_type": "stream",
          "text": [
            "[1.541031633678358e-05, 1.2726685781672131e-05, 1.1606835869315546e-05, 1.1468425327620935e-05, 1.1359657946741208e-05]\n"
          ]
        },
        {
          "data": {
            "image/png": "[encoded data removed]",
            "text/plain": [
              "<Figure size 432x288 with 1 Axes>"
            ]
          },
          "metadata": {
            "needs_background": "light"
          },
          "output_type": "display_data"
        }
      ],
      "source": [
        "print(list_history[0].history['loss'])\n",
        "label_counter = 0\n",
        "list_label = ['Ethereum']\n",
        "for hist in list_history:\n",
        "    fig, ax = plt.subplots()\n",
        "    e1 = hist.history['loss'][0]\n",
        "    e2 = hist.history['loss'][1]\n",
        "    e3 = hist.history['loss'][2]\n",
        "    e4 = hist.history['loss'][3]\n",
        "    e5 = hist.history['loss'][4]\n",
        "    list_y = [e1, e2, e3, e4, e5]\n",
        "    list_x = ['E1', 'E2', 'E3', 'E4', 'E5']\n",
        "    ax.plot(list_x, list_y, linewidth=2.0)\n",
        "    plt.title(list_label[label_counter]+' Loss Value')\n",
        "    label_counter += 1"
      ]
    },
    {
      "cell_type": "code",
      "execution_count": null,
      "metadata": {
        "execution": {
          "iopub.execute_input": "2022-02-02T00:14:36.172199Z",
          "iopub.status.busy": "2022-02-02T00:14:36.171558Z",
          "iopub.status.idle": "2022-02-02T00:14:41.493170Z",
          "shell.execute_reply": "2022-02-02T00:14:41.492582Z",
          "shell.execute_reply.started": "2022-02-02T00:08:34.207488Z"
        },
        "papermill": {
          "duration": 5.39489,
          "end_time": "2022-02-02T00:14:41.493309",
          "exception": false,
          "start_time": "2022-02-02T00:14:36.098419",
          "status": "completed"
        },
        "tags": [],
        "id": "457c65f3",
        "outputId": "9fe5ca9f-46ed-41fa-937b-e7fecd88ad40"
      },
      "outputs": [
        {
          "name": "stdout",
          "output_type": "stream",
          "text": [
            "(259201, 4)\n",
            "(259201, 1, 4)\n",
            "(259201, 1)\n",
            "Model: \"sequential_1\"\n",
            "_________________________________________________________________\n",
            "Layer (type)                 Output Shape              Param #   \n",
            "=================================================================\n",
            "gru (GRU)                    (None, 10)                480       \n",
            "_________________________________________________________________\n",
            "dropout_1 (Dropout)          (None, 10)                0         \n",
            "_________________________________________________________________\n",
            "dense_1 (Dense)              (None, 1)                 11        \n",
            "=================================================================\n",
            "Total params: 491\n",
            "Trainable params: 491\n",
            "Non-trainable params: 0\n",
            "_________________________________________________________________\n",
            "Train for eth\n",
            "Epoch 1/5\n",
            "26/26 [==============================] - 3s 22ms/step - loss: 0.0740 - mse: 0.0343\n",
            "\n",
            "Epoch 00001: loss improved from inf to 0.07401, saving model to eth_GRU_001.h5\n",
            "Epoch 2/5\n",
            "26/26 [==============================] - 1s 22ms/step - loss: 0.0681 - mse: 0.0307\n",
            "\n",
            "Epoch 00002: loss improved from 0.07401 to 0.06811, saving model to eth_GRU_002.h5\n",
            "Epoch 3/5\n",
            "26/26 [==============================] - 1s 21ms/step - loss: 0.0632 - mse: 0.0276\n",
            "\n",
            "Epoch 00003: loss improved from 0.06811 to 0.06315, saving model to eth_GRU_003.h5\n",
            "Epoch 4/5\n",
            "26/26 [==============================] - 1s 21ms/step - loss: 0.0583 - mse: 0.0249\n",
            "\n",
            "Epoch 00004: loss improved from 0.06315 to 0.05826, saving model to eth_GRU_004.h5\n",
            "Epoch 5/5\n",
            "26/26 [==============================] - 1s 22ms/step - loss: 0.0541 - mse: 0.0224\n",
            "\n",
            "Epoch 00005: loss improved from 0.05826 to 0.05414, saving model to eth_GRU_005.h5\n",
            "## Total eth Time Taken:  0 Minutes ##\n"
          ]
        }
      ],
      "source": [
        "import time\n",
        "list_models  = []\n",
        "list_history = []\n",
        "for dataset in list_asset:\n",
        "    asset_name = dataset[0]\n",
        "    x_train = dataset[1][0]\n",
        "    y_train = dataset[1][1]\n",
        "    x_test  = dataset[2][0]\n",
        "    y_test  = dataset[2][1]\n",
        "    x_train, y_train = reshape(x_train, y_train)\n",
        "    print(x_train.shape)\n",
        "    print(y_train.shape)\n",
        "    model = get_model_GRU(x_train)\n",
        "    model.summary()\n",
        "    checkpoint = ModelCheckpoint(asset_name+'_GRU_{epoch:03d}.h5', verbose=1, monitor='loss', save_best_only=True, mode='auto')\n",
        "    StartTime  = time.time()\n",
        "    print('Train for ' + asset_name)\n",
        "    history = model.fit(x_train, \n",
        "              y_train, \n",
        "              batch_size = 10000, \n",
        "              epochs = 5,\n",
        "              callbacks = [checkpoint])\n",
        "    EndTime = time.time()\n",
        "    print(\"## Total \" + asset_name + \" Time Taken: \", round((EndTime-StartTime)/60), 'Minutes ##')\n",
        "    list_models.append(model)\n",
        "    list_history.append(history)"
      ]
    },
    {
      "cell_type": "code",
      "execution_count": null,
      "metadata": {
        "execution": {
          "iopub.execute_input": "2022-02-02T00:14:41.675781Z",
          "iopub.status.busy": "2022-02-02T00:14:41.675153Z",
          "iopub.status.idle": "2022-02-02T00:14:41.868168Z",
          "shell.execute_reply": "2022-02-02T00:14:41.868721Z",
          "shell.execute_reply.started": "2022-02-02T00:08:40.239947Z"
        },
        "papermill": {
          "duration": 0.286262,
          "end_time": "2022-02-02T00:14:41.868922",
          "exception": false,
          "start_time": "2022-02-02T00:14:41.582660",
          "status": "completed"
        },
        "tags": [],
        "id": "ace16ddd",
        "outputId": "f058040e-33e5-4a6d-b0db-f2a20c7a3869"
      },
      "outputs": [
        {
          "name": "stdout",
          "output_type": "stream",
          "text": [
            "[0.074012391269207, 0.06811191886663437, 0.06315397471189499, 0.05826106667518616, 0.05413563922047615]\n"
          ]
        },
        {
          "data": {
            "image/png": "[encoded data removed]",
            "text/plain": [
              "<Figure size 432x288 with 1 Axes>"
            ]
          },
          "metadata": {
            "needs_background": "light"
          },
          "output_type": "display_data"
        }
      ],
      "source": [
        "print(list_history[0].history['loss'])\n",
        "label_counter = 0\n",
        "list_label = ['Ethereum']\n",
        "for hist in list_history:\n",
        "    fig, ax = plt.subplots()\n",
        "    e1 = hist.history['loss'][0]\n",
        "    e2 = hist.history['loss'][1]\n",
        "    e3 = hist.history['loss'][2]\n",
        "    e4 = hist.history['loss'][3]\n",
        "    e5 = hist.history['loss'][4]\n",
        "    list_y = [e1, e2, e3, e4, e5]\n",
        "    list_x = ['E1', 'E2', 'E3', 'E4', 'E5']\n",
        "    ax.plot(list_x, list_y, linewidth=2.0)\n",
        "    plt.title(list_label[label_counter]+' Loss Value')\n",
        "    label_counter += 1"
      ]
    },
    {
      "cell_type": "code",
      "execution_count": null,
      "metadata": {
        "execution": {
          "iopub.execute_input": "2022-02-02T00:14:42.058251Z",
          "iopub.status.busy": "2022-02-02T00:14:42.056890Z",
          "iopub.status.idle": "2022-02-02T00:15:05.513917Z",
          "shell.execute_reply": "2022-02-02T00:15:05.514427Z",
          "shell.execute_reply.started": "2022-02-02T00:08:40.46968Z"
        },
        "papermill": {
          "duration": 23.556426,
          "end_time": "2022-02-02T00:15:05.514604",
          "exception": false,
          "start_time": "2022-02-02T00:14:41.958178",
          "status": "completed"
        },
        "tags": [],
        "id": "d9a07cbc",
        "outputId": "93f2a066-3818-441d-fb0f-3cb9ad47eb7b"
      },
      "outputs": [
        {
          "name": "stdout",
          "output_type": "stream",
          "text": [
            "(259201, 4)\n",
            "(259201, 1, 4)\n",
            "(259201, 1)\n",
            "Model: \"sequential_2\"\n",
            "_________________________________________________________________\n",
            "Layer (type)                 Output Shape              Param #   \n",
            "=================================================================\n",
            "gru_1 (GRU)                  (None, 259201, 50)        8400      \n",
            "_________________________________________________________________\n",
            "dropout_2 (Dropout)          (None, 259201, 50)        0         \n",
            "_________________________________________________________________\n",
            "gru_2 (GRU)                  (None, 259201, 50)        15300     \n",
            "_________________________________________________________________\n",
            "dropout_3 (Dropout)          (None, 259201, 50)        0         \n",
            "_________________________________________________________________\n",
            "gru_3 (GRU)                  (None, 259201, 50)        15300     \n",
            "_________________________________________________________________\n",
            "dropout_4 (Dropout)          (None, 259201, 50)        0         \n",
            "_________________________________________________________________\n",
            "gru_4 (GRU)                  (None, 50)                15300     \n",
            "_________________________________________________________________\n",
            "dropout_5 (Dropout)          (None, 50)                0         \n",
            "_________________________________________________________________\n",
            "dense_2 (Dense)              (None, 1)                 51        \n",
            "=================================================================\n",
            "Total params: 54,351\n",
            "Trainable params: 54,351\n",
            "Non-trainable params: 0\n",
            "_________________________________________________________________\n",
            "Train for eth\n",
            "Epoch 1/5\n",
            "26/26 [==============================] - 11s 108ms/step - loss: 0.0049 - mse: 5.5755e-05\n",
            "\n",
            "Epoch 00001: loss improved from inf to 0.00494, saving model to eth_GRU_001.h5\n",
            "Epoch 2/5\n",
            "26/26 [==============================] - 3s 106ms/step - loss: 0.0041 - mse: 3.8344e-05\n",
            "\n",
            "Epoch 00002: loss improved from 0.00494 to 0.00411, saving model to eth_GRU_002.h5\n",
            "Epoch 3/5\n",
            "26/26 [==============================] - 3s 106ms/step - loss: 0.0037 - mse: 3.0222e-05\n",
            "\n",
            "Epoch 00003: loss improved from 0.00411 to 0.00366, saving model to eth_GRU_003.h5\n",
            "Epoch 4/5\n",
            "26/26 [==============================] - 3s 125ms/step - loss: 0.0033 - mse: 2.4749e-05\n",
            "\n",
            "Epoch 00004: loss improved from 0.00366 to 0.00333, saving model to eth_GRU_004.h5\n",
            "Epoch 5/5\n",
            "26/26 [==============================] - 3s 107ms/step - loss: 0.0031 - mse: 2.1277e-05\n",
            "\n",
            "Epoch 00005: loss improved from 0.00333 to 0.00310, saving model to eth_GRU_005.h5\n",
            "## Total eth Time Taken:  0 Minutes ##\n"
          ]
        }
      ],
      "source": [
        "import time\n",
        "list_models  = []\n",
        "list_history = []\n",
        "for dataset in list_asset:\n",
        "    asset_name = dataset[0]\n",
        "    x_train = dataset[1][0]\n",
        "    y_train = dataset[1][1]\n",
        "    x_test  = dataset[2][0]\n",
        "    y_test  = dataset[2][1]\n",
        "    x_train, y_train = reshape(x_train, y_train)\n",
        "    print(x_train.shape)\n",
        "    print(y_train.shape)\n",
        "    model = get_model_GRU2(x_train)\n",
        "    model.summary()\n",
        "    checkpoint = ModelCheckpoint(asset_name+'_GRU_{epoch:03d}.h5', verbose=1, monitor='loss', save_best_only=True, mode='auto')\n",
        "    StartTime  = time.time()\n",
        "    print('Train for ' + asset_name)\n",
        "    history = model.fit(x_train, \n",
        "              y_train, \n",
        "              batch_size = 10000, \n",
        "              epochs = 5,\n",
        "              callbacks = [checkpoint])\n",
        "    EndTime = time.time()\n",
        "    print(\"## Total \" + asset_name + \" Time Taken: \", round((EndTime-StartTime)/60), 'Minutes ##')\n",
        "    list_models.append(model)\n",
        "    list_history.append(history)"
      ]
    },
    {
      "cell_type": "code",
      "execution_count": null,
      "metadata": {
        "execution": {
          "iopub.execute_input": "2022-02-02T00:15:05.781999Z",
          "iopub.status.busy": "2022-02-02T00:15:05.781035Z",
          "iopub.status.idle": "2022-02-02T00:15:05.972731Z",
          "shell.execute_reply": "2022-02-02T00:15:05.972221Z",
          "shell.execute_reply.started": "2022-02-02T00:09:08.306553Z"
        },
        "papermill": {
          "duration": 0.325841,
          "end_time": "2022-02-02T00:15:05.972886",
          "exception": false,
          "start_time": "2022-02-02T00:15:05.647045",
          "status": "completed"
        },
        "tags": [],
        "id": "d488757e",
        "outputId": "9ea805ac-d262-433c-aa6f-803b3d76e385"
      },
      "outputs": [
        {
          "name": "stdout",
          "output_type": "stream",
          "text": [
            "[0.004938234109431505, 0.004111995920538902, 0.0036641941405832767, 0.003334056120365858, 0.003101346082985401]\n"
          ]
        },
        {
          "data": {
            "image/png": "[encoded data removed]",
            "text/plain": [
              "<Figure size 432x288 with 1 Axes>"
            ]
          },
          "metadata": {
            "needs_background": "light"
          },
          "output_type": "display_data"
        }
      ],
      "source": [
        "print(list_history[0].history['loss'])\n",
        "label_counter = 0\n",
        "list_label = ['Ethereum']\n",
        "for hist in list_history:\n",
        "    fig, ax = plt.subplots()\n",
        "    e1 = hist.history['loss'][0]\n",
        "    e2 = hist.history['loss'][1]\n",
        "    e3 = hist.history['loss'][2]\n",
        "    e4 = hist.history['loss'][3]\n",
        "    e5 = hist.history['loss'][4]\n",
        "    list_y = [e1, e2, e3, e4, e5]\n",
        "    list_x = ['E1', 'E2', 'E3', 'E4', 'E5']\n",
        "    ax.plot(list_x, list_y, linewidth=2.0)\n",
        "    plt.title(list_label[label_counter]+' Loss Value')\n",
        "    label_counter += 1"
      ]
    }
  ]
}